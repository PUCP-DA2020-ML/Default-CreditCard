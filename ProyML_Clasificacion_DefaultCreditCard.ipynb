{
  "nbformat": 4,
  "nbformat_minor": 0,
  "metadata": {
    "colab": {
      "name": "ProyML-Clasificacion-DefaultCreditCard.ipynb",
      "provenance": [],
      "collapsed_sections": []
    },
    "kernelspec": {
      "display_name": "Python 3",
      "name": "python3"
    }
  },
  "cells": [
    {
      "cell_type": "markdown",
      "metadata": {
        "id": "SnmXk36PQYLL"
      },
      "source": [
        "**GITHUB:** \r\n",
        "\r\n",
        "https://github.com/PUCP-DA2020-ML/Default-CreditCard"
      ]
    },
    {
      "cell_type": "markdown",
      "metadata": {
        "id": "shhcvTIOQitH"
      },
      "source": [
        "###############################################################################\r\n",
        "# **1. COMPRENSIÓN DEL NEGOCIO**\r\n",
        "###############################################################################"
      ]
    },
    {
      "cell_type": "markdown",
      "metadata": {
        "id": "fk9cP1rUQn4y"
      },
      "source": [
        "### Dataset"
      ]
    },
    {
      "cell_type": "markdown",
      "metadata": {
        "id": "OOX7nkDyQoV1"
      },
      "source": [
        "Usaremos el dataset de **DEFAULT CREDIT CARD CLIENTS**, el cual está disponible en:\r\n",
        "<br/>\r\n",
        "<br/>\r\n",
        "https://archive.ics.uci.edu/ml/datasets/default+of+credit+card+clients\r\n",
        "<br/>\r\n",
        "<br/>\r\n",
        "El objetivo será predecir si el crédito de un cliente caerá en incumplimiento de pago."
      ]
    },
    {
      "cell_type": "markdown",
      "metadata": {
        "id": "7jMqVw8vQ311"
      },
      "source": [
        "**Descripción de los datos:**"
      ]
    },
    {
      "cell_type": "markdown",
      "metadata": {
        "id": "MCbA6AqWQ7v7"
      },
      "source": [
        ">Nro | Variable | Tipo_Variable | Descripción | Dominio\r\n",
        ">--- | --- | --- | --- | ---\r\n",
        ">1 | LIMIT_BAL (X1) | Numérica (Continua) | Monto del crédito otorgado (NT dollar) | \r\n",
        ">2 | SEX (X2) | Categórica (Nominal) | Género | (1 = masculino; 2 = femenino)\r\n",
        ">3 | EDUCATION (X3) | Categórica (Ordinal) | Educación | (1 = escuela de posgrado; 2 = universidad; 3 = secundaria; 4 = otros).\r\n",
        ">4 | MARRIAGE (X4) | Categórica (Nominal) | Estado Civil | (1 = casado; 2 = soltero; 3 = otros)\r\n",
        ">5 | AGE (X5) | Numérica (Discreta) | Edad (Años) | \r\n",
        ">6 | PAY_0 (X6) | Categórica (Ordinal) | El estado de reembolso en Setiembre del 2005 | (-1 = pago al día; 1 = 1 mes de retraso en el pago; 2 = 2 meses de retraso en el pago; . . .; 8 = 8 meses de retraso en el pago; 9 = 9 meses o más de retraso en el pago)\r\n",
        ">7 | PAY_2 (X7) | Categórica (Ordinal) | El estado de reembolso en Agosto del 2005 | (-1 = pago al día; 1 = 1 mes de retraso en el pago; 2 = 2 meses de retraso en el pago; . . .; 8 = 8 meses de retraso en el pago; 9 = 9 meses o más de retraso en el pago)\r\n",
        ">8 | PAY_3 (X8) | Categórica (Ordinal) | El estado de reembolso en Julio del 2005 | (-1 = pago al día; 1 = 1 mes de retraso en el pago; 2 = 2 meses de retraso en el pago; . . .; 8 = 8 meses de retraso en el pago; 9 = 9 meses o más de retraso en el pago)\r\n",
        ">9 | PAY_4 (X9) | Categórica (Ordinal) | El estado de reembolso en Junio del 2005 | (-1 = pago al día; 1 = 1 mes de retraso en el pago; 2 = 2 meses de retraso en el pago; . . .; 8 = 8 meses de retraso en el pago; 9 = 9 meses o más de retraso en el pago)\r\n",
        ">10 | PAY_5 (X10) | Categórica (Ordinal) | El estado de reembolso en Mayo del 2005 | (-1 = pago al día; 1 = 1 mes de retraso en el pago; 2 = 2 meses de retraso en el pago; . . .; 8 = 8 meses de retraso en el pago; 9 = 9 meses o más de retraso en el pago)\r\n",
        ">11 | PAY_6 (X11) | Categórica (Ordinal) | El estado de reembolso en Abril del 2005 | (-1 = pago al día; 1 = 1 mes de retraso en el pago; 2 = 2 meses de retraso en el pago; . . .; 8 = 8 meses de retraso en el pago; 9 = 9 meses o más de retraso en el pago)\r\n",
        ">12 | BILL_AMT1 (X12) | Numérica (Continua) | Monto del estado de cuenta en Setiembre del 2005 (NT dollar) | \r\n",
        ">13 | BILL_AMT2 (X13) | Numérica (Continua) | Monto del estado de cuenta en Agosto del 2005 (NT dollar) | \r\n",
        ">14 | BILL_AMT3 (X14) | Numérica (Continua) | Monto del estado de cuenta en Julio del 2005 (NT dollar) | \r\n",
        ">15 | BILL_AMT4 (X15) | Numérica (Continua) | Monto del estado de cuenta en Junio del 2005 (NT dollar) | \r\n",
        ">16 | BILL_AMT5 (X16) | Numérica (Continua) | Monto del estado de cuenta en Mayo del 2005 (NT dollar) | \r\n",
        ">17 | BILL_AMT6 (X17) | Numérica (Continua) | Monto del estado de cuenta en Abril del 2005 (NT dollar) | \r\n",
        ">18 | PAY_AMT1 (X18) | Numérica (Continua) | Monto pagado en Setiembre del 2005 (NT dollar) | \r\n",
        ">19 | PAY_AMT2 (X19) | Numérica (Continua) | Monto pagado en Agosto del 2005 (NT dollar) | \r\n",
        ">20 | PAY_AMT3 (X20) | Numérica (Continua) | Monto pagado en Julio del 2005 (NT dollar) | \r\n",
        ">21 | PAY_AMT4 (X21) | Numérica (Continua) | Monto pagado en Junio del 2005 (NT dollar) | \r\n",
        ">22 | PAY_AMT5 (X22) | Numérica (Continua) | Monto pagado en Mayo del 2005 (NT dollar) | \r\n",
        ">23 | PAY_AMT6 (X23) | Numérica (Continua) | Monto pagado en Abril del 2005 (NT dollar) | \r\n",
        ">24 | DEFAULT_PAYMENT_NEXT_MONTH (Y) | Categórica (Nominal binaria) | Incumplimiento de pago del crédito como variable objetivo o respuesta | (Si = 1, No = 0)"
      ]
    },
    {
      "cell_type": "markdown",
      "metadata": {
        "id": "1FqJkE52W5lw"
      },
      "source": [
        "###############################################################################\r\n",
        "# **2. COMPRENSIÓN DE LOS DATOS**\r\n",
        "###############################################################################"
      ]
    },
    {
      "cell_type": "code",
      "metadata": {
        "colab": {
          "base_uri": "https://localhost:8080/"
        },
        "id": "OPm6pgIfKHGB",
        "outputId": "50ce1d78-7d8d-4d58-cc3a-88a67e55f123"
      },
      "source": [
        "!pip install funpymodeling"
      ],
      "execution_count": 2,
      "outputs": [
        {
          "output_type": "stream",
          "text": [
            "Collecting funpymodeling\n",
            "  Downloading https://files.pythonhosted.org/packages/2c/ab/849bdc74b3323ef11a4c4af86be8c1ddc4ebc118cff4b8b2036fce8f0c77/funpymodeling-0.1.7-py3-none-any.whl\n",
            "Requirement already satisfied: typing-extensions<4.0.0,>=3.7.4; python_version < \"3.8\" in /usr/local/lib/python3.6/dist-packages (from funpymodeling) (3.7.4.3)\n",
            "Collecting seaborn<0.11.0,>=0.10.1\n",
            "\u001b[?25l  Downloading https://files.pythonhosted.org/packages/c7/e6/54aaaafd0b87f51dfba92ba73da94151aa3bc179e5fe88fc5dfb3038e860/seaborn-0.10.1-py3-none-any.whl (215kB)\n",
            "\r\u001b[K     |█▌                              | 10kB 16.2MB/s eta 0:00:01\r\u001b[K     |███                             | 20kB 9.4MB/s eta 0:00:01\r\u001b[K     |████▋                           | 30kB 11.4MB/s eta 0:00:01\r\u001b[K     |██████                          | 40kB 11.0MB/s eta 0:00:01\r\u001b[K     |███████▋                        | 51kB 7.9MB/s eta 0:00:01\r\u001b[K     |█████████▏                      | 61kB 8.1MB/s eta 0:00:01\r\u001b[K     |██████████▋                     | 71kB 8.4MB/s eta 0:00:01\r\u001b[K     |████████████▏                   | 81kB 9.0MB/s eta 0:00:01\r\u001b[K     |█████████████▊                  | 92kB 8.6MB/s eta 0:00:01\r\u001b[K     |███████████████▏                | 102kB 8.7MB/s eta 0:00:01\r\u001b[K     |████████████████▊               | 112kB 8.7MB/s eta 0:00:01\r\u001b[K     |██████████████████▎             | 122kB 8.7MB/s eta 0:00:01\r\u001b[K     |███████████████████▊            | 133kB 8.7MB/s eta 0:00:01\r\u001b[K     |█████████████████████▎          | 143kB 8.7MB/s eta 0:00:01\r\u001b[K     |██████████████████████▉         | 153kB 8.7MB/s eta 0:00:01\r\u001b[K     |████████████████████████▎       | 163kB 8.7MB/s eta 0:00:01\r\u001b[K     |█████████████████████████▉      | 174kB 8.7MB/s eta 0:00:01\r\u001b[K     |███████████████████████████▍    | 184kB 8.7MB/s eta 0:00:01\r\u001b[K     |█████████████████████████████   | 194kB 8.7MB/s eta 0:00:01\r\u001b[K     |██████████████████████████████▍ | 204kB 8.7MB/s eta 0:00:01\r\u001b[K     |████████████████████████████████| 215kB 8.7MB/s eta 0:00:01\r\u001b[K     |████████████████████████████████| 225kB 8.7MB/s \n",
            "\u001b[?25hRequirement already satisfied: sklearn<0.1,>=0.0 in /usr/local/lib/python3.6/dist-packages (from funpymodeling) (0.0)\n",
            "Requirement already satisfied: pandas<2.0.0,>=1.0.5 in /usr/local/lib/python3.6/dist-packages (from funpymodeling) (1.1.5)\n",
            "Requirement already satisfied: matplotlib<4.0.0,>=3.2.2 in /usr/local/lib/python3.6/dist-packages (from funpymodeling) (3.2.2)\n",
            "Requirement already satisfied: numpy<2.0.0,>=1.18.5 in /usr/local/lib/python3.6/dist-packages (from funpymodeling) (1.19.5)\n",
            "Requirement already satisfied: scipy>=1.0.1 in /usr/local/lib/python3.6/dist-packages (from seaborn<0.11.0,>=0.10.1->funpymodeling) (1.4.1)\n",
            "Requirement already satisfied: scikit-learn in /usr/local/lib/python3.6/dist-packages (from sklearn<0.1,>=0.0->funpymodeling) (0.22.2.post1)\n",
            "Requirement already satisfied: python-dateutil>=2.7.3 in /usr/local/lib/python3.6/dist-packages (from pandas<2.0.0,>=1.0.5->funpymodeling) (2.8.1)\n",
            "Requirement already satisfied: pytz>=2017.2 in /usr/local/lib/python3.6/dist-packages (from pandas<2.0.0,>=1.0.5->funpymodeling) (2018.9)\n",
            "Requirement already satisfied: kiwisolver>=1.0.1 in /usr/local/lib/python3.6/dist-packages (from matplotlib<4.0.0,>=3.2.2->funpymodeling) (1.3.1)\n",
            "Requirement already satisfied: cycler>=0.10 in /usr/local/lib/python3.6/dist-packages (from matplotlib<4.0.0,>=3.2.2->funpymodeling) (0.10.0)\n",
            "Requirement already satisfied: pyparsing!=2.0.4,!=2.1.2,!=2.1.6,>=2.0.1 in /usr/local/lib/python3.6/dist-packages (from matplotlib<4.0.0,>=3.2.2->funpymodeling) (2.4.7)\n",
            "Requirement already satisfied: joblib>=0.11 in /usr/local/lib/python3.6/dist-packages (from scikit-learn->sklearn<0.1,>=0.0->funpymodeling) (1.0.0)\n",
            "Requirement already satisfied: six>=1.5 in /usr/local/lib/python3.6/dist-packages (from python-dateutil>=2.7.3->pandas<2.0.0,>=1.0.5->funpymodeling) (1.15.0)\n",
            "Installing collected packages: seaborn, funpymodeling\n",
            "  Found existing installation: seaborn 0.11.1\n",
            "    Uninstalling seaborn-0.11.1:\n",
            "      Successfully uninstalled seaborn-0.11.1\n",
            "Successfully installed funpymodeling-0.1.7 seaborn-0.10.1\n"
          ],
          "name": "stdout"
        }
      ]
    },
    {
      "cell_type": "markdown",
      "metadata": {
        "id": "iisiB4CDW9jE"
      },
      "source": [
        "### Importación de Librerías"
      ]
    },
    {
      "cell_type": "code",
      "metadata": {
        "id": "Sjb2p3ag1u1u"
      },
      "source": [
        "# Importando librerias\n",
        "import pandas as pd\n",
        "#import graphviz\n",
        "import numpy as np\n",
        "from sklearn import tree\n",
        "import matplotlib.pyplot as plt\n",
        "import seaborn as sns; sns.set()\n",
        "from pandas_profiling import ProfileReport\n",
        "from funpymodeling.exploratory import profiling_num, freq_tbl, status, cat_vars, num_vars\n",
        "import pickle\n",
        "from sklearn.model_selection import train_test_split\n",
        "from sklearn.metrics import accuracy_score, f1_score, roc_curve, roc_auc_score\n",
        "from sklearn.model_selection import cross_val_score\n",
        "from sklearn.model_selection import StratifiedKFold\n",
        "from sklearn.metrics import plot_roc_curve\n",
        "from sklearn.metrics import auc\n",
        "from sklearn.model_selection import GridSearchCV\n",
        "from sklearn import metrics\n",
        "from sklearn.metrics import roc_curve, auc\n",
        "from sklearn.model_selection import validation_curve\n",
        "from sklearn.model_selection import learning_curve\n",
        "from pprint import pprint\n",
        "from sklearn.tree import DecisionTreeClassifier\n",
        "from sklearn.naive_bayes import GaussianNB"
      ],
      "execution_count": 185,
      "outputs": []
    },
    {
      "cell_type": "markdown",
      "metadata": {
        "id": "nsQ-EWnSXBrt"
      },
      "source": [
        "## **IMPORTACIÓN DE DATOS** (datasets)"
      ]
    },
    {
      "cell_type": "code",
      "metadata": {
        "id": "DsikYENO6n-N"
      },
      "source": [
        "#from google.colab import files\n",
        "#subido = files.upload()\n",
        "#import io\n",
        "#df = pd.read_excel(io.BytesIO(subido['default_of_credit_card_clients.xls']), header =1)\n",
        "#df = pd.read_excel('default_of_credit_card_clients.xls', header =1)"
      ],
      "execution_count": 4,
      "outputs": []
    },
    {
      "cell_type": "code",
      "metadata": {
        "id": "NLh4BifmXFUT"
      },
      "source": [
        "#Importación del dataset\r\n",
        "df_defcredcard = pd.read_csv('https://raw.githubusercontent.com/PUCP-DA2020-ML/Default-CreditCard/main/default-of-credit-card-clients.csv', sep=';')"
      ],
      "execution_count": 5,
      "outputs": []
    },
    {
      "cell_type": "code",
      "metadata": {
        "colab": {
          "base_uri": "https://localhost:8080/"
        },
        "id": "nq0aUUJAXOzG",
        "outputId": "2f8dba45-c829-4d8a-d869-0f1d1fa6ee05"
      },
      "source": [
        "#Tamaño del dataset (registros, variables)\r\n",
        "df_defcredcard.shape"
      ],
      "execution_count": 6,
      "outputs": [
        {
          "output_type": "execute_result",
          "data": {
            "text/plain": [
              "(30000, 25)"
            ]
          },
          "metadata": {
            "tags": []
          },
          "execution_count": 6
        }
      ]
    },
    {
      "cell_type": "code",
      "metadata": {
        "colab": {
          "base_uri": "https://localhost:8080/",
          "height": 214
        },
        "id": "n83nTy_VXUuj",
        "outputId": "025e6795-7b55-47c3-b367-2e5f2852c36b"
      },
      "source": [
        "#Muestra (5 registros) del dataset\r\n",
        "df_defcredcard.head()"
      ],
      "execution_count": 7,
      "outputs": [
        {
          "output_type": "execute_result",
          "data": {
            "text/html": [
              "<div>\n",
              "<style scoped>\n",
              "    .dataframe tbody tr th:only-of-type {\n",
              "        vertical-align: middle;\n",
              "    }\n",
              "\n",
              "    .dataframe tbody tr th {\n",
              "        vertical-align: top;\n",
              "    }\n",
              "\n",
              "    .dataframe thead th {\n",
              "        text-align: right;\n",
              "    }\n",
              "</style>\n",
              "<table border=\"1\" class=\"dataframe\">\n",
              "  <thead>\n",
              "    <tr style=\"text-align: right;\">\n",
              "      <th></th>\n",
              "      <th>ID</th>\n",
              "      <th>LIMIT_BAL</th>\n",
              "      <th>SEX</th>\n",
              "      <th>EDUCATION</th>\n",
              "      <th>MARRIAGE</th>\n",
              "      <th>AGE</th>\n",
              "      <th>PAY_0</th>\n",
              "      <th>PAY_2</th>\n",
              "      <th>PAY_3</th>\n",
              "      <th>PAY_4</th>\n",
              "      <th>PAY_5</th>\n",
              "      <th>PAY_6</th>\n",
              "      <th>BILL_AMT1</th>\n",
              "      <th>BILL_AMT2</th>\n",
              "      <th>BILL_AMT3</th>\n",
              "      <th>BILL_AMT4</th>\n",
              "      <th>BILL_AMT5</th>\n",
              "      <th>BILL_AMT6</th>\n",
              "      <th>PAY_AMT1</th>\n",
              "      <th>PAY_AMT2</th>\n",
              "      <th>PAY_AMT3</th>\n",
              "      <th>PAY_AMT4</th>\n",
              "      <th>PAY_AMT5</th>\n",
              "      <th>PAY_AMT6</th>\n",
              "      <th>default_payment_next_month</th>\n",
              "    </tr>\n",
              "  </thead>\n",
              "  <tbody>\n",
              "    <tr>\n",
              "      <th>0</th>\n",
              "      <td>1</td>\n",
              "      <td>20000</td>\n",
              "      <td>2</td>\n",
              "      <td>2</td>\n",
              "      <td>1</td>\n",
              "      <td>24</td>\n",
              "      <td>2</td>\n",
              "      <td>2</td>\n",
              "      <td>-1</td>\n",
              "      <td>-1</td>\n",
              "      <td>-2</td>\n",
              "      <td>-2</td>\n",
              "      <td>3913</td>\n",
              "      <td>3102</td>\n",
              "      <td>689</td>\n",
              "      <td>0</td>\n",
              "      <td>0</td>\n",
              "      <td>0</td>\n",
              "      <td>0</td>\n",
              "      <td>689</td>\n",
              "      <td>0</td>\n",
              "      <td>0</td>\n",
              "      <td>0</td>\n",
              "      <td>0</td>\n",
              "      <td>1</td>\n",
              "    </tr>\n",
              "    <tr>\n",
              "      <th>1</th>\n",
              "      <td>2</td>\n",
              "      <td>120000</td>\n",
              "      <td>2</td>\n",
              "      <td>2</td>\n",
              "      <td>2</td>\n",
              "      <td>26</td>\n",
              "      <td>-1</td>\n",
              "      <td>2</td>\n",
              "      <td>0</td>\n",
              "      <td>0</td>\n",
              "      <td>0</td>\n",
              "      <td>2</td>\n",
              "      <td>2682</td>\n",
              "      <td>1725</td>\n",
              "      <td>2682</td>\n",
              "      <td>3272</td>\n",
              "      <td>3455</td>\n",
              "      <td>3261</td>\n",
              "      <td>0</td>\n",
              "      <td>1000</td>\n",
              "      <td>1000</td>\n",
              "      <td>1000</td>\n",
              "      <td>0</td>\n",
              "      <td>2000</td>\n",
              "      <td>1</td>\n",
              "    </tr>\n",
              "    <tr>\n",
              "      <th>2</th>\n",
              "      <td>3</td>\n",
              "      <td>90000</td>\n",
              "      <td>2</td>\n",
              "      <td>2</td>\n",
              "      <td>2</td>\n",
              "      <td>34</td>\n",
              "      <td>0</td>\n",
              "      <td>0</td>\n",
              "      <td>0</td>\n",
              "      <td>0</td>\n",
              "      <td>0</td>\n",
              "      <td>0</td>\n",
              "      <td>29239</td>\n",
              "      <td>14027</td>\n",
              "      <td>13559</td>\n",
              "      <td>14331</td>\n",
              "      <td>14948</td>\n",
              "      <td>15549</td>\n",
              "      <td>1518</td>\n",
              "      <td>1500</td>\n",
              "      <td>1000</td>\n",
              "      <td>1000</td>\n",
              "      <td>1000</td>\n",
              "      <td>5000</td>\n",
              "      <td>0</td>\n",
              "    </tr>\n",
              "    <tr>\n",
              "      <th>3</th>\n",
              "      <td>4</td>\n",
              "      <td>50000</td>\n",
              "      <td>2</td>\n",
              "      <td>2</td>\n",
              "      <td>1</td>\n",
              "      <td>37</td>\n",
              "      <td>0</td>\n",
              "      <td>0</td>\n",
              "      <td>0</td>\n",
              "      <td>0</td>\n",
              "      <td>0</td>\n",
              "      <td>0</td>\n",
              "      <td>46990</td>\n",
              "      <td>48233</td>\n",
              "      <td>49291</td>\n",
              "      <td>28314</td>\n",
              "      <td>28959</td>\n",
              "      <td>29547</td>\n",
              "      <td>2000</td>\n",
              "      <td>2019</td>\n",
              "      <td>1200</td>\n",
              "      <td>1100</td>\n",
              "      <td>1069</td>\n",
              "      <td>1000</td>\n",
              "      <td>0</td>\n",
              "    </tr>\n",
              "    <tr>\n",
              "      <th>4</th>\n",
              "      <td>5</td>\n",
              "      <td>50000</td>\n",
              "      <td>1</td>\n",
              "      <td>2</td>\n",
              "      <td>1</td>\n",
              "      <td>57</td>\n",
              "      <td>-1</td>\n",
              "      <td>0</td>\n",
              "      <td>-1</td>\n",
              "      <td>0</td>\n",
              "      <td>0</td>\n",
              "      <td>0</td>\n",
              "      <td>8617</td>\n",
              "      <td>5670</td>\n",
              "      <td>35835</td>\n",
              "      <td>20940</td>\n",
              "      <td>19146</td>\n",
              "      <td>19131</td>\n",
              "      <td>2000</td>\n",
              "      <td>36681</td>\n",
              "      <td>10000</td>\n",
              "      <td>9000</td>\n",
              "      <td>689</td>\n",
              "      <td>679</td>\n",
              "      <td>0</td>\n",
              "    </tr>\n",
              "  </tbody>\n",
              "</table>\n",
              "</div>"
            ],
            "text/plain": [
              "   ID  LIMIT_BAL  SEX  ...  PAY_AMT5  PAY_AMT6  default_payment_next_month\n",
              "0   1      20000    2  ...         0         0                           1\n",
              "1   2     120000    2  ...         0      2000                           1\n",
              "2   3      90000    2  ...      1000      5000                           0\n",
              "3   4      50000    2  ...      1069      1000                           0\n",
              "4   5      50000    1  ...       689       679                           0\n",
              "\n",
              "[5 rows x 25 columns]"
            ]
          },
          "metadata": {
            "tags": []
          },
          "execution_count": 7
        }
      ]
    },
    {
      "cell_type": "code",
      "metadata": {
        "id": "DWo20VaH4RJB"
      },
      "source": [
        "# Eliminar columna de correlativo\r\n",
        "df_defcredcard.drop(['ID'], axis=1, inplace=True)"
      ],
      "execution_count": 8,
      "outputs": []
    },
    {
      "cell_type": "markdown",
      "metadata": {
        "id": "Rf2qLTN6YonR"
      },
      "source": [
        "## **ANÁLISIS EXPLORATORIO DE DATOS (AED)**"
      ]
    },
    {
      "cell_type": "code",
      "metadata": {
        "id": "pcQPeJCPBBnt"
      },
      "source": [
        "target = 'default_payment_next_month'\n",
        "predictors = ['LIMIT_BAL', 'SEX', 'EDUCATION', 'MARRIAGE', 'AGE', \n",
        "                'PAY_0', 'PAY_2', 'PAY_3', 'PAY_4', 'PAY_5', 'PAY_6', \n",
        "                'BILL_AMT1','BILL_AMT2', 'BILL_AMT3', 'BILL_AMT4', 'BILL_AMT5', 'BILL_AMT6',\n",
        "                'PAY_AMT1', 'PAY_AMT2', 'PAY_AMT3', 'PAY_AMT4', 'PAY_AMT5', 'PAY_AMT6']"
      ],
      "execution_count": 9,
      "outputs": []
    },
    {
      "cell_type": "code",
      "metadata": {
        "id": "dgtjzUo1nld1"
      },
      "source": [
        "df_defcredcard[\"SEX\"] = df_defcredcard[\"SEX\"].astype(str)\r\n",
        "df_defcredcard[\"EDUCATION\"] = df_defcredcard[\"EDUCATION\"].astype(str)\r\n",
        "df_defcredcard[\"MARRIAGE\"] = df_defcredcard[\"MARRIAGE\"].astype(str)\r\n",
        "df_defcredcard[\"PAY_0\"] = df_defcredcard[\"PAY_0\"].astype(str)\r\n",
        "df_defcredcard[\"PAY_2\"] = df_defcredcard[\"PAY_2\"].astype(str)\r\n",
        "df_defcredcard[\"PAY_3\"] = df_defcredcard[\"PAY_3\"].astype(str)\r\n",
        "df_defcredcard[\"PAY_4\"] = df_defcredcard[\"PAY_4\"].astype(str)\r\n",
        "df_defcredcard[\"PAY_5\"] = df_defcredcard[\"PAY_5\"].astype(str)\r\n",
        "df_defcredcard[\"PAY_6\"] = df_defcredcard[\"PAY_6\"].astype(str)\r\n",
        "df_defcredcard[\"default_payment_next_month\"] = df_defcredcard[\"default_payment_next_month\"].astype(str)"
      ],
      "execution_count": 10,
      "outputs": []
    },
    {
      "cell_type": "markdown",
      "metadata": {
        "id": "UGibJ9h4Db84"
      },
      "source": [
        "### ***Resumen Descriptivo***"
      ]
    },
    {
      "cell_type": "code",
      "metadata": {
        "id": "JhWPOBUGRbb2"
      },
      "source": [
        "#------------------------------------------------\r\n",
        "# ANÁLISIS DE EXPLORACIÓN RÁPIDA O INICIAL\r\n",
        "#------------------------------------------------\r\n",
        "#from pandas_profiling import ProfileReport\r\n",
        "#ProfileReport(df_defcredcard, minimal=True)"
      ],
      "execution_count": 11,
      "outputs": []
    },
    {
      "cell_type": "code",
      "metadata": {
        "colab": {
          "base_uri": "https://localhost:8080/"
        },
        "id": "toNqeRL9bNsQ",
        "outputId": "0bfa4199-3a72-431c-ddfd-a33b66017c5a"
      },
      "source": [
        "#------------------------------------------------\r\n",
        "# TIPOS DE DATOS\r\n",
        "#------------------------------------------------\r\n",
        "df_defcredcard.info()"
      ],
      "execution_count": 12,
      "outputs": [
        {
          "output_type": "stream",
          "text": [
            "<class 'pandas.core.frame.DataFrame'>\n",
            "RangeIndex: 30000 entries, 0 to 29999\n",
            "Data columns (total 24 columns):\n",
            " #   Column                      Non-Null Count  Dtype \n",
            "---  ------                      --------------  ----- \n",
            " 0   LIMIT_BAL                   30000 non-null  int64 \n",
            " 1   SEX                         30000 non-null  object\n",
            " 2   EDUCATION                   30000 non-null  object\n",
            " 3   MARRIAGE                    30000 non-null  object\n",
            " 4   AGE                         30000 non-null  int64 \n",
            " 5   PAY_0                       30000 non-null  object\n",
            " 6   PAY_2                       30000 non-null  object\n",
            " 7   PAY_3                       30000 non-null  object\n",
            " 8   PAY_4                       30000 non-null  object\n",
            " 9   PAY_5                       30000 non-null  object\n",
            " 10  PAY_6                       30000 non-null  object\n",
            " 11  BILL_AMT1                   30000 non-null  int64 \n",
            " 12  BILL_AMT2                   30000 non-null  int64 \n",
            " 13  BILL_AMT3                   30000 non-null  int64 \n",
            " 14  BILL_AMT4                   30000 non-null  int64 \n",
            " 15  BILL_AMT5                   30000 non-null  int64 \n",
            " 16  BILL_AMT6                   30000 non-null  int64 \n",
            " 17  PAY_AMT1                    30000 non-null  int64 \n",
            " 18  PAY_AMT2                    30000 non-null  int64 \n",
            " 19  PAY_AMT3                    30000 non-null  int64 \n",
            " 20  PAY_AMT4                    30000 non-null  int64 \n",
            " 21  PAY_AMT5                    30000 non-null  int64 \n",
            " 22  PAY_AMT6                    30000 non-null  int64 \n",
            " 23  default_payment_next_month  30000 non-null  object\n",
            "dtypes: int64(14), object(10)\n",
            "memory usage: 5.5+ MB\n"
          ],
          "name": "stdout"
        }
      ]
    },
    {
      "cell_type": "code",
      "metadata": {
        "colab": {
          "base_uri": "https://localhost:8080/",
          "height": 458
        },
        "id": "CKtOv4vzbFAK",
        "outputId": "b8b38d83-c66a-404a-c226-e1bd5e1926b8"
      },
      "source": [
        "#--------------------------------------------------------------\r\n",
        "# RESUMEN DESCRIPTIVO\r\n",
        "#--------------------------------------------------------------\r\n",
        "#df_defcredcard.describe(include='all').T\r\n",
        "profiling_num(df_defcredcard)"
      ],
      "execution_count": 13,
      "outputs": [
        {
          "output_type": "execute_result",
          "data": {
            "text/html": [
              "<div>\n",
              "<style scoped>\n",
              "    .dataframe tbody tr th:only-of-type {\n",
              "        vertical-align: middle;\n",
              "    }\n",
              "\n",
              "    .dataframe tbody tr th {\n",
              "        vertical-align: top;\n",
              "    }\n",
              "\n",
              "    .dataframe thead th {\n",
              "        text-align: right;\n",
              "    }\n",
              "</style>\n",
              "<table border=\"1\" class=\"dataframe\">\n",
              "  <thead>\n",
              "    <tr style=\"text-align: right;\">\n",
              "      <th></th>\n",
              "      <th>variable</th>\n",
              "      <th>mean</th>\n",
              "      <th>std_dev</th>\n",
              "      <th>variation_coef</th>\n",
              "      <th>p_0.01</th>\n",
              "      <th>p_0.05</th>\n",
              "      <th>p_0.25</th>\n",
              "      <th>p_0.5</th>\n",
              "      <th>p_0.75</th>\n",
              "      <th>p_0.95</th>\n",
              "      <th>p_0.99</th>\n",
              "    </tr>\n",
              "  </thead>\n",
              "  <tbody>\n",
              "    <tr>\n",
              "      <th>0</th>\n",
              "      <td>LIMIT_BAL</td>\n",
              "      <td>167484.322667</td>\n",
              "      <td>129747.661567</td>\n",
              "      <td>0.774685</td>\n",
              "      <td>10000.00</td>\n",
              "      <td>20000.0</td>\n",
              "      <td>50000.00</td>\n",
              "      <td>140000.0</td>\n",
              "      <td>240000.00</td>\n",
              "      <td>430000.00</td>\n",
              "      <td>500000.00</td>\n",
              "    </tr>\n",
              "    <tr>\n",
              "      <th>1</th>\n",
              "      <td>AGE</td>\n",
              "      <td>35.485500</td>\n",
              "      <td>9.217904</td>\n",
              "      <td>0.259765</td>\n",
              "      <td>22.00</td>\n",
              "      <td>23.0</td>\n",
              "      <td>28.00</td>\n",
              "      <td>34.0</td>\n",
              "      <td>41.00</td>\n",
              "      <td>53.00</td>\n",
              "      <td>60.00</td>\n",
              "    </tr>\n",
              "    <tr>\n",
              "      <th>2</th>\n",
              "      <td>BILL_AMT1</td>\n",
              "      <td>51223.330900</td>\n",
              "      <td>73635.860576</td>\n",
              "      <td>1.437545</td>\n",
              "      <td>-81.00</td>\n",
              "      <td>0.0</td>\n",
              "      <td>3558.75</td>\n",
              "      <td>22381.5</td>\n",
              "      <td>67091.00</td>\n",
              "      <td>201203.05</td>\n",
              "      <td>350110.68</td>\n",
              "    </tr>\n",
              "    <tr>\n",
              "      <th>3</th>\n",
              "      <td>BILL_AMT2</td>\n",
              "      <td>49179.075167</td>\n",
              "      <td>71173.768783</td>\n",
              "      <td>1.447237</td>\n",
              "      <td>-200.00</td>\n",
              "      <td>0.0</td>\n",
              "      <td>2984.75</td>\n",
              "      <td>21200.0</td>\n",
              "      <td>64006.25</td>\n",
              "      <td>194792.20</td>\n",
              "      <td>337495.28</td>\n",
              "    </tr>\n",
              "    <tr>\n",
              "      <th>4</th>\n",
              "      <td>BILL_AMT3</td>\n",
              "      <td>47013.154800</td>\n",
              "      <td>69349.387427</td>\n",
              "      <td>1.475106</td>\n",
              "      <td>-200.00</td>\n",
              "      <td>0.0</td>\n",
              "      <td>2666.25</td>\n",
              "      <td>20088.5</td>\n",
              "      <td>60164.75</td>\n",
              "      <td>187821.05</td>\n",
              "      <td>325030.39</td>\n",
              "    </tr>\n",
              "    <tr>\n",
              "      <th>5</th>\n",
              "      <td>BILL_AMT4</td>\n",
              "      <td>43262.948967</td>\n",
              "      <td>64332.856134</td>\n",
              "      <td>1.487020</td>\n",
              "      <td>-212.02</td>\n",
              "      <td>0.0</td>\n",
              "      <td>2326.75</td>\n",
              "      <td>19052.0</td>\n",
              "      <td>54506.00</td>\n",
              "      <td>174333.35</td>\n",
              "      <td>304997.27</td>\n",
              "    </tr>\n",
              "    <tr>\n",
              "      <th>6</th>\n",
              "      <td>BILL_AMT5</td>\n",
              "      <td>40311.400967</td>\n",
              "      <td>60797.155770</td>\n",
              "      <td>1.508188</td>\n",
              "      <td>-232.01</td>\n",
              "      <td>0.0</td>\n",
              "      <td>1763.00</td>\n",
              "      <td>18104.5</td>\n",
              "      <td>50190.50</td>\n",
              "      <td>165794.30</td>\n",
              "      <td>285868.33</td>\n",
              "    </tr>\n",
              "    <tr>\n",
              "      <th>7</th>\n",
              "      <td>BILL_AMT6</td>\n",
              "      <td>38871.760400</td>\n",
              "      <td>59554.107537</td>\n",
              "      <td>1.532066</td>\n",
              "      <td>-331.03</td>\n",
              "      <td>0.0</td>\n",
              "      <td>1256.00</td>\n",
              "      <td>17071.0</td>\n",
              "      <td>49198.25</td>\n",
              "      <td>161912.00</td>\n",
              "      <td>279505.06</td>\n",
              "    </tr>\n",
              "    <tr>\n",
              "      <th>8</th>\n",
              "      <td>PAY_AMT1</td>\n",
              "      <td>5663.580500</td>\n",
              "      <td>16563.280354</td>\n",
              "      <td>2.924525</td>\n",
              "      <td>0.00</td>\n",
              "      <td>0.0</td>\n",
              "      <td>1000.00</td>\n",
              "      <td>2100.0</td>\n",
              "      <td>5006.00</td>\n",
              "      <td>18428.20</td>\n",
              "      <td>66522.18</td>\n",
              "    </tr>\n",
              "    <tr>\n",
              "      <th>9</th>\n",
              "      <td>PAY_AMT2</td>\n",
              "      <td>5921.163500</td>\n",
              "      <td>23040.870402</td>\n",
              "      <td>3.891274</td>\n",
              "      <td>0.00</td>\n",
              "      <td>0.0</td>\n",
              "      <td>833.00</td>\n",
              "      <td>2009.0</td>\n",
              "      <td>5000.00</td>\n",
              "      <td>19004.35</td>\n",
              "      <td>76651.02</td>\n",
              "    </tr>\n",
              "    <tr>\n",
              "      <th>10</th>\n",
              "      <td>PAY_AMT3</td>\n",
              "      <td>5225.681500</td>\n",
              "      <td>17606.961470</td>\n",
              "      <td>3.369314</td>\n",
              "      <td>0.00</td>\n",
              "      <td>0.0</td>\n",
              "      <td>390.00</td>\n",
              "      <td>1800.0</td>\n",
              "      <td>4505.00</td>\n",
              "      <td>17589.40</td>\n",
              "      <td>70000.00</td>\n",
              "    </tr>\n",
              "    <tr>\n",
              "      <th>11</th>\n",
              "      <td>PAY_AMT4</td>\n",
              "      <td>4826.076867</td>\n",
              "      <td>15666.159744</td>\n",
              "      <td>3.246148</td>\n",
              "      <td>0.00</td>\n",
              "      <td>0.0</td>\n",
              "      <td>296.00</td>\n",
              "      <td>1500.0</td>\n",
              "      <td>4013.25</td>\n",
              "      <td>16014.95</td>\n",
              "      <td>67054.44</td>\n",
              "    </tr>\n",
              "    <tr>\n",
              "      <th>12</th>\n",
              "      <td>PAY_AMT5</td>\n",
              "      <td>4799.387633</td>\n",
              "      <td>15278.305679</td>\n",
              "      <td>3.183386</td>\n",
              "      <td>0.00</td>\n",
              "      <td>0.0</td>\n",
              "      <td>252.50</td>\n",
              "      <td>1500.0</td>\n",
              "      <td>4031.50</td>\n",
              "      <td>16000.00</td>\n",
              "      <td>65607.56</td>\n",
              "    </tr>\n",
              "    <tr>\n",
              "      <th>13</th>\n",
              "      <td>PAY_AMT6</td>\n",
              "      <td>5215.502567</td>\n",
              "      <td>17777.465775</td>\n",
              "      <td>3.408582</td>\n",
              "      <td>0.00</td>\n",
              "      <td>0.0</td>\n",
              "      <td>117.75</td>\n",
              "      <td>1500.0</td>\n",
              "      <td>4000.00</td>\n",
              "      <td>17343.80</td>\n",
              "      <td>82619.05</td>\n",
              "    </tr>\n",
              "  </tbody>\n",
              "</table>\n",
              "</div>"
            ],
            "text/plain": [
              "     variable           mean        std_dev  ...     p_0.75     p_0.95     p_0.99\n",
              "0   LIMIT_BAL  167484.322667  129747.661567  ...  240000.00  430000.00  500000.00\n",
              "1         AGE      35.485500       9.217904  ...      41.00      53.00      60.00\n",
              "2   BILL_AMT1   51223.330900   73635.860576  ...   67091.00  201203.05  350110.68\n",
              "3   BILL_AMT2   49179.075167   71173.768783  ...   64006.25  194792.20  337495.28\n",
              "4   BILL_AMT3   47013.154800   69349.387427  ...   60164.75  187821.05  325030.39\n",
              "5   BILL_AMT4   43262.948967   64332.856134  ...   54506.00  174333.35  304997.27\n",
              "6   BILL_AMT5   40311.400967   60797.155770  ...   50190.50  165794.30  285868.33\n",
              "7   BILL_AMT6   38871.760400   59554.107537  ...   49198.25  161912.00  279505.06\n",
              "8    PAY_AMT1    5663.580500   16563.280354  ...    5006.00   18428.20   66522.18\n",
              "9    PAY_AMT2    5921.163500   23040.870402  ...    5000.00   19004.35   76651.02\n",
              "10   PAY_AMT3    5225.681500   17606.961470  ...    4505.00   17589.40   70000.00\n",
              "11   PAY_AMT4    4826.076867   15666.159744  ...    4013.25   16014.95   67054.44\n",
              "12   PAY_AMT5    4799.387633   15278.305679  ...    4031.50   16000.00   65607.56\n",
              "13   PAY_AMT6    5215.502567   17777.465775  ...    4000.00   17343.80   82619.05\n",
              "\n",
              "[14 rows x 11 columns]"
            ]
          },
          "metadata": {
            "tags": []
          },
          "execution_count": 13
        }
      ]
    },
    {
      "cell_type": "markdown",
      "metadata": {
        "id": "1ZaTtIWf1YIR"
      },
      "source": [
        "Comentario:\r\n",
        "- Hay variables con rangos mas grandes que otras, por lo que se debe escalar los valores para que el grado en el que afectarán a la variable objetivo podría ser igual y evitar sesgos hacia variables con un rango mayor."
      ]
    },
    {
      "cell_type": "markdown",
      "metadata": {
        "id": "tsm2XHKOo1PL"
      },
      "source": [
        "#### Revisión de Valores Únicos y Valores Perdidos (Missings Values)"
      ]
    },
    {
      "cell_type": "code",
      "metadata": {
        "colab": {
          "base_uri": "https://localhost:8080/",
          "height": 751
        },
        "id": "ziNczlL0K4AY",
        "outputId": "a8e30689-369d-4f5d-87c5-5467ac0eaed3"
      },
      "source": [
        "#--------------------------------------------------------------------------------------------------\r\n",
        "# TABLA DE ESTADO DE LAS VARIABLES (Valores Nulos / Valores Únicos / Valores Perdidos / Ceros )\r\n",
        "#--------------------------------------------------------------------------------------------------\r\n",
        "status(df_defcredcard)"
      ],
      "execution_count": 14,
      "outputs": [
        {
          "output_type": "execute_result",
          "data": {
            "text/html": [
              "<div>\n",
              "<style scoped>\n",
              "    .dataframe tbody tr th:only-of-type {\n",
              "        vertical-align: middle;\n",
              "    }\n",
              "\n",
              "    .dataframe tbody tr th {\n",
              "        vertical-align: top;\n",
              "    }\n",
              "\n",
              "    .dataframe thead th {\n",
              "        text-align: right;\n",
              "    }\n",
              "</style>\n",
              "<table border=\"1\" class=\"dataframe\">\n",
              "  <thead>\n",
              "    <tr style=\"text-align: right;\">\n",
              "      <th></th>\n",
              "      <th>variable</th>\n",
              "      <th>q_nan</th>\n",
              "      <th>p_nan</th>\n",
              "      <th>q_zeros</th>\n",
              "      <th>p_zeros</th>\n",
              "      <th>unique</th>\n",
              "      <th>type</th>\n",
              "    </tr>\n",
              "  </thead>\n",
              "  <tbody>\n",
              "    <tr>\n",
              "      <th>0</th>\n",
              "      <td>LIMIT_BAL</td>\n",
              "      <td>0</td>\n",
              "      <td>0.0</td>\n",
              "      <td>0</td>\n",
              "      <td>0.000000</td>\n",
              "      <td>81</td>\n",
              "      <td>int64</td>\n",
              "    </tr>\n",
              "    <tr>\n",
              "      <th>1</th>\n",
              "      <td>SEX</td>\n",
              "      <td>0</td>\n",
              "      <td>0.0</td>\n",
              "      <td>0</td>\n",
              "      <td>0.000000</td>\n",
              "      <td>2</td>\n",
              "      <td>object</td>\n",
              "    </tr>\n",
              "    <tr>\n",
              "      <th>2</th>\n",
              "      <td>EDUCATION</td>\n",
              "      <td>0</td>\n",
              "      <td>0.0</td>\n",
              "      <td>0</td>\n",
              "      <td>0.000000</td>\n",
              "      <td>7</td>\n",
              "      <td>object</td>\n",
              "    </tr>\n",
              "    <tr>\n",
              "      <th>3</th>\n",
              "      <td>MARRIAGE</td>\n",
              "      <td>0</td>\n",
              "      <td>0.0</td>\n",
              "      <td>0</td>\n",
              "      <td>0.000000</td>\n",
              "      <td>4</td>\n",
              "      <td>object</td>\n",
              "    </tr>\n",
              "    <tr>\n",
              "      <th>4</th>\n",
              "      <td>AGE</td>\n",
              "      <td>0</td>\n",
              "      <td>0.0</td>\n",
              "      <td>0</td>\n",
              "      <td>0.000000</td>\n",
              "      <td>56</td>\n",
              "      <td>int64</td>\n",
              "    </tr>\n",
              "    <tr>\n",
              "      <th>5</th>\n",
              "      <td>PAY_0</td>\n",
              "      <td>0</td>\n",
              "      <td>0.0</td>\n",
              "      <td>0</td>\n",
              "      <td>0.000000</td>\n",
              "      <td>11</td>\n",
              "      <td>object</td>\n",
              "    </tr>\n",
              "    <tr>\n",
              "      <th>6</th>\n",
              "      <td>PAY_2</td>\n",
              "      <td>0</td>\n",
              "      <td>0.0</td>\n",
              "      <td>0</td>\n",
              "      <td>0.000000</td>\n",
              "      <td>11</td>\n",
              "      <td>object</td>\n",
              "    </tr>\n",
              "    <tr>\n",
              "      <th>7</th>\n",
              "      <td>PAY_3</td>\n",
              "      <td>0</td>\n",
              "      <td>0.0</td>\n",
              "      <td>0</td>\n",
              "      <td>0.000000</td>\n",
              "      <td>11</td>\n",
              "      <td>object</td>\n",
              "    </tr>\n",
              "    <tr>\n",
              "      <th>8</th>\n",
              "      <td>PAY_4</td>\n",
              "      <td>0</td>\n",
              "      <td>0.0</td>\n",
              "      <td>0</td>\n",
              "      <td>0.000000</td>\n",
              "      <td>11</td>\n",
              "      <td>object</td>\n",
              "    </tr>\n",
              "    <tr>\n",
              "      <th>9</th>\n",
              "      <td>PAY_5</td>\n",
              "      <td>0</td>\n",
              "      <td>0.0</td>\n",
              "      <td>0</td>\n",
              "      <td>0.000000</td>\n",
              "      <td>10</td>\n",
              "      <td>object</td>\n",
              "    </tr>\n",
              "    <tr>\n",
              "      <th>10</th>\n",
              "      <td>PAY_6</td>\n",
              "      <td>0</td>\n",
              "      <td>0.0</td>\n",
              "      <td>0</td>\n",
              "      <td>0.000000</td>\n",
              "      <td>10</td>\n",
              "      <td>object</td>\n",
              "    </tr>\n",
              "    <tr>\n",
              "      <th>11</th>\n",
              "      <td>BILL_AMT1</td>\n",
              "      <td>0</td>\n",
              "      <td>0.0</td>\n",
              "      <td>2008</td>\n",
              "      <td>0.066933</td>\n",
              "      <td>22723</td>\n",
              "      <td>int64</td>\n",
              "    </tr>\n",
              "    <tr>\n",
              "      <th>12</th>\n",
              "      <td>BILL_AMT2</td>\n",
              "      <td>0</td>\n",
              "      <td>0.0</td>\n",
              "      <td>2506</td>\n",
              "      <td>0.083533</td>\n",
              "      <td>22346</td>\n",
              "      <td>int64</td>\n",
              "    </tr>\n",
              "    <tr>\n",
              "      <th>13</th>\n",
              "      <td>BILL_AMT3</td>\n",
              "      <td>0</td>\n",
              "      <td>0.0</td>\n",
              "      <td>2870</td>\n",
              "      <td>0.095667</td>\n",
              "      <td>22026</td>\n",
              "      <td>int64</td>\n",
              "    </tr>\n",
              "    <tr>\n",
              "      <th>14</th>\n",
              "      <td>BILL_AMT4</td>\n",
              "      <td>0</td>\n",
              "      <td>0.0</td>\n",
              "      <td>3195</td>\n",
              "      <td>0.106500</td>\n",
              "      <td>21548</td>\n",
              "      <td>int64</td>\n",
              "    </tr>\n",
              "    <tr>\n",
              "      <th>15</th>\n",
              "      <td>BILL_AMT5</td>\n",
              "      <td>0</td>\n",
              "      <td>0.0</td>\n",
              "      <td>3506</td>\n",
              "      <td>0.116867</td>\n",
              "      <td>21010</td>\n",
              "      <td>int64</td>\n",
              "    </tr>\n",
              "    <tr>\n",
              "      <th>16</th>\n",
              "      <td>BILL_AMT6</td>\n",
              "      <td>0</td>\n",
              "      <td>0.0</td>\n",
              "      <td>4020</td>\n",
              "      <td>0.134000</td>\n",
              "      <td>20604</td>\n",
              "      <td>int64</td>\n",
              "    </tr>\n",
              "    <tr>\n",
              "      <th>17</th>\n",
              "      <td>PAY_AMT1</td>\n",
              "      <td>0</td>\n",
              "      <td>0.0</td>\n",
              "      <td>5249</td>\n",
              "      <td>0.174967</td>\n",
              "      <td>7943</td>\n",
              "      <td>int64</td>\n",
              "    </tr>\n",
              "    <tr>\n",
              "      <th>18</th>\n",
              "      <td>PAY_AMT2</td>\n",
              "      <td>0</td>\n",
              "      <td>0.0</td>\n",
              "      <td>5396</td>\n",
              "      <td>0.179867</td>\n",
              "      <td>7899</td>\n",
              "      <td>int64</td>\n",
              "    </tr>\n",
              "    <tr>\n",
              "      <th>19</th>\n",
              "      <td>PAY_AMT3</td>\n",
              "      <td>0</td>\n",
              "      <td>0.0</td>\n",
              "      <td>5968</td>\n",
              "      <td>0.198933</td>\n",
              "      <td>7518</td>\n",
              "      <td>int64</td>\n",
              "    </tr>\n",
              "    <tr>\n",
              "      <th>20</th>\n",
              "      <td>PAY_AMT4</td>\n",
              "      <td>0</td>\n",
              "      <td>0.0</td>\n",
              "      <td>6408</td>\n",
              "      <td>0.213600</td>\n",
              "      <td>6937</td>\n",
              "      <td>int64</td>\n",
              "    </tr>\n",
              "    <tr>\n",
              "      <th>21</th>\n",
              "      <td>PAY_AMT5</td>\n",
              "      <td>0</td>\n",
              "      <td>0.0</td>\n",
              "      <td>6703</td>\n",
              "      <td>0.223433</td>\n",
              "      <td>6897</td>\n",
              "      <td>int64</td>\n",
              "    </tr>\n",
              "    <tr>\n",
              "      <th>22</th>\n",
              "      <td>PAY_AMT6</td>\n",
              "      <td>0</td>\n",
              "      <td>0.0</td>\n",
              "      <td>7173</td>\n",
              "      <td>0.239100</td>\n",
              "      <td>6939</td>\n",
              "      <td>int64</td>\n",
              "    </tr>\n",
              "    <tr>\n",
              "      <th>23</th>\n",
              "      <td>default_payment_next_month</td>\n",
              "      <td>0</td>\n",
              "      <td>0.0</td>\n",
              "      <td>0</td>\n",
              "      <td>0.000000</td>\n",
              "      <td>2</td>\n",
              "      <td>object</td>\n",
              "    </tr>\n",
              "  </tbody>\n",
              "</table>\n",
              "</div>"
            ],
            "text/plain": [
              "                      variable  q_nan  p_nan  q_zeros   p_zeros  unique    type\n",
              "0                    LIMIT_BAL      0    0.0        0  0.000000      81   int64\n",
              "1                          SEX      0    0.0        0  0.000000       2  object\n",
              "2                    EDUCATION      0    0.0        0  0.000000       7  object\n",
              "3                     MARRIAGE      0    0.0        0  0.000000       4  object\n",
              "4                          AGE      0    0.0        0  0.000000      56   int64\n",
              "5                        PAY_0      0    0.0        0  0.000000      11  object\n",
              "6                        PAY_2      0    0.0        0  0.000000      11  object\n",
              "7                        PAY_3      0    0.0        0  0.000000      11  object\n",
              "8                        PAY_4      0    0.0        0  0.000000      11  object\n",
              "9                        PAY_5      0    0.0        0  0.000000      10  object\n",
              "10                       PAY_6      0    0.0        0  0.000000      10  object\n",
              "11                   BILL_AMT1      0    0.0     2008  0.066933   22723   int64\n",
              "12                   BILL_AMT2      0    0.0     2506  0.083533   22346   int64\n",
              "13                   BILL_AMT3      0    0.0     2870  0.095667   22026   int64\n",
              "14                   BILL_AMT4      0    0.0     3195  0.106500   21548   int64\n",
              "15                   BILL_AMT5      0    0.0     3506  0.116867   21010   int64\n",
              "16                   BILL_AMT6      0    0.0     4020  0.134000   20604   int64\n",
              "17                    PAY_AMT1      0    0.0     5249  0.174967    7943   int64\n",
              "18                    PAY_AMT2      0    0.0     5396  0.179867    7899   int64\n",
              "19                    PAY_AMT3      0    0.0     5968  0.198933    7518   int64\n",
              "20                    PAY_AMT4      0    0.0     6408  0.213600    6937   int64\n",
              "21                    PAY_AMT5      0    0.0     6703  0.223433    6897   int64\n",
              "22                    PAY_AMT6      0    0.0     7173  0.239100    6939   int64\n",
              "23  default_payment_next_month      0    0.0        0  0.000000       2  object"
            ]
          },
          "metadata": {
            "tags": []
          },
          "execution_count": 14
        }
      ]
    },
    {
      "cell_type": "markdown",
      "metadata": {
        "id": "uvu-Lab8Mgrb"
      },
      "source": [
        "##### Valores Únicos"
      ]
    },
    {
      "cell_type": "code",
      "metadata": {
        "id": "SFKthrNko0rj"
      },
      "source": [
        "#--------------------------------------------------\r\n",
        "# Cantidad de Valores Únicos\r\n",
        "#--------------------------------------------------\r\n",
        "# df_defcredcard.nunique()"
      ],
      "execution_count": 15,
      "outputs": []
    },
    {
      "cell_type": "code",
      "metadata": {
        "colab": {
          "base_uri": "https://localhost:8080/"
        },
        "id": "Mfbw8gnbpex5",
        "outputId": "837dad79-23b5-46b7-9997-4c9d5209609f"
      },
      "source": [
        "#--------------------------------------------------\r\n",
        "# Valores Únicos por Columnas\r\n",
        "#--------------------------------------------------\r\n",
        "for columna in df_defcredcard.columns:\r\n",
        "    print(f'Valores únicos de la columna {columna}: {(df_defcredcard[columna].unique())}')"
      ],
      "execution_count": 16,
      "outputs": [
        {
          "output_type": "stream",
          "text": [
            "Valores únicos de la columna LIMIT_BAL: [  20000  120000   90000   50000  500000  100000  140000  200000  260000\n",
            "  630000   70000  250000  320000  360000  180000  130000  450000   60000\n",
            "  230000  160000  280000   10000   40000  210000  150000  380000  310000\n",
            "  400000   80000  290000  340000  300000   30000  240000  470000  480000\n",
            "  350000  330000  110000  420000  170000  370000  270000  220000  190000\n",
            "  510000  460000  440000  410000  490000  390000  580000  600000  620000\n",
            "  610000  700000  670000  680000  430000  550000  540000 1000000  530000\n",
            "  710000  560000  520000  750000  640000   16000  570000  590000  660000\n",
            "  720000  327680  740000  800000  760000  690000  650000  780000  730000]\n",
            "Valores únicos de la columna SEX: ['2' '1']\n",
            "Valores únicos de la columna EDUCATION: ['2' '1' '3' '5' '4' '6' '0']\n",
            "Valores únicos de la columna MARRIAGE: ['1' '2' '3' '0']\n",
            "Valores únicos de la columna AGE: [24 26 34 37 57 29 23 28 35 51 41 30 49 39 40 27 47 33 32 54 58 22 25 31\n",
            " 46 42 43 45 56 44 53 38 63 36 52 48 55 60 50 75 61 73 59 21 67 66 62 70\n",
            " 72 64 65 71 69 68 79 74]\n",
            "Valores únicos de la columna PAY_0: ['2' '-1' '0' '-2' '1' '3' '4' '8' '7' '5' '6']\n",
            "Valores únicos de la columna PAY_2: ['2' '0' '-1' '-2' '3' '5' '7' '4' '1' '6' '8']\n",
            "Valores únicos de la columna PAY_3: ['-1' '0' '2' '-2' '3' '4' '6' '7' '1' '5' '8']\n",
            "Valores únicos de la columna PAY_4: ['-1' '0' '-2' '2' '3' '4' '5' '7' '6' '1' '8']\n",
            "Valores únicos de la columna PAY_5: ['-2' '0' '-1' '2' '3' '5' '4' '7' '8' '6']\n",
            "Valores únicos de la columna PAY_6: ['-2' '2' '0' '-1' '3' '6' '4' '7' '8' '5']\n",
            "Valores únicos de la columna BILL_AMT1: [ 3913  2682 29239 ...  1683 -1645 47929]\n",
            "Valores únicos de la columna BILL_AMT2: [ 3102  1725 14027 ...  3356 78379 48905]\n",
            "Valores únicos de la columna BILL_AMT3: [  689  2682 13559 ...  2758 76304 49764]\n",
            "Valores únicos de la columna BILL_AMT4: [    0  3272 14331 ... 20878 52774 36535]\n",
            "Valores únicos de la columna BILL_AMT5: [    0  3455 14948 ... 31237  5190 32428]\n",
            "Valores únicos de la columna BILL_AMT6: [    0  3261 15549 ... 19357 48944 15313]\n",
            "Valores únicos de la columna PAY_AMT1: [    0  1518  2000 ... 10029  9054 85900]\n",
            "Valores únicos de la columna PAY_AMT2: [   689   1000   1500 ...   2977 111784   3526]\n",
            "Valores únicos de la columna PAY_AMT3: [     0   1000   1200 ... 349395   8907  25128]\n",
            "Valores únicos de la columna PAY_AMT4: [    0  1000  1100 ...  2556 10115  8049]\n",
            "Valores únicos de la columna PAY_AMT5: [    0  1000  1069 ...  8040  3319 52964]\n",
            "Valores únicos de la columna PAY_AMT6: [     0   2000   5000 ...  70052 220076  16080]\n",
            "Valores únicos de la columna default_payment_next_month: ['1' '0']\n"
          ],
          "name": "stdout"
        }
      ]
    },
    {
      "cell_type": "markdown",
      "metadata": {
        "id": "p1-1PRaFN-tU"
      },
      "source": [
        "Comentario: \r\n",
        "- La variable EDUCATION tienen categorías adicionales a lo definido en el diccionario (0, 5, 6)\r\n",
        "- La variable MARRIAGE tiene una categoría adicional a lo definido en el diccionario (0)\r\n",
        "- Las variables de historial de pago pasado (PAY_0, PAY_2, PAY_3, PAY_4, PAY_5, PAY_6) tienen valores adicionales a lo definido en el el diccionario ('0' y'-2'), que son ambiguos. Quizás '0' y '-2' se refieren también al pago al día o incluso pago antes de la fecha límite."
      ]
    },
    {
      "cell_type": "code",
      "metadata": {
        "colab": {
          "base_uri": "https://localhost:8080/"
        },
        "id": "UV0VZulPqHK4",
        "outputId": "e8427f2c-ef2d-4c93-a51d-4f5ed2c5f68f"
      },
      "source": [
        "#--------------------------------------------------\r\n",
        "# % de Valores Únicos\r\n",
        "#--------------------------------------------------\r\n",
        "(df_defcredcard.nunique()/len(df_defcredcard))*100"
      ],
      "execution_count": 17,
      "outputs": [
        {
          "output_type": "execute_result",
          "data": {
            "text/plain": [
              "LIMIT_BAL                      0.270000\n",
              "SEX                            0.006667\n",
              "EDUCATION                      0.023333\n",
              "MARRIAGE                       0.013333\n",
              "AGE                            0.186667\n",
              "PAY_0                          0.036667\n",
              "PAY_2                          0.036667\n",
              "PAY_3                          0.036667\n",
              "PAY_4                          0.036667\n",
              "PAY_5                          0.033333\n",
              "PAY_6                          0.033333\n",
              "BILL_AMT1                     75.743333\n",
              "BILL_AMT2                     74.486667\n",
              "BILL_AMT3                     73.420000\n",
              "BILL_AMT4                     71.826667\n",
              "BILL_AMT5                     70.033333\n",
              "BILL_AMT6                     68.680000\n",
              "PAY_AMT1                      26.476667\n",
              "PAY_AMT2                      26.330000\n",
              "PAY_AMT3                      25.060000\n",
              "PAY_AMT4                      23.123333\n",
              "PAY_AMT5                      22.990000\n",
              "PAY_AMT6                      23.130000\n",
              "default_payment_next_month     0.006667\n",
              "dtype: float64"
            ]
          },
          "metadata": {
            "tags": []
          },
          "execution_count": 17
        }
      ]
    },
    {
      "cell_type": "markdown",
      "metadata": {
        "id": "qt7frqcO555A"
      },
      "source": [
        "Comentario:\r\n",
        "\r\n",
        "No hay variables que tengan un alto porcentaje de valores únicos (referencia: 70-80%)"
      ]
    },
    {
      "cell_type": "code",
      "metadata": {
        "colab": {
          "base_uri": "https://localhost:8080/"
        },
        "id": "0fWeUaro53gN",
        "outputId": "ac0c58b7-44bc-4dfe-ad17-c3b6d94dd7af"
      },
      "source": [
        "por_val_unicos = pd.DataFrame(data = df_defcredcard.nunique()/len(df_defcredcard), columns=['Por_Val_Unico'])\r\n",
        "por_val_unicos[por_val_unicos['Por_Val_Unico'] > 0.80].count()"
      ],
      "execution_count": 18,
      "outputs": [
        {
          "output_type": "execute_result",
          "data": {
            "text/plain": [
              "Por_Val_Unico    0\n",
              "dtype: int64"
            ]
          },
          "metadata": {
            "tags": []
          },
          "execution_count": 18
        }
      ]
    },
    {
      "cell_type": "markdown",
      "metadata": {
        "id": "mwObHk8jqrz4"
      },
      "source": [
        "##### Valores Perdidos (Missings Values)"
      ]
    },
    {
      "cell_type": "code",
      "metadata": {
        "id": "hl-9i5FKqsRL"
      },
      "source": [
        "#--------------------------------------------\r\n",
        "# Cantidad de Valores Nulos\r\n",
        "#--------------------------------------------\r\n",
        "# df_defcredcard.isna().sum()"
      ],
      "execution_count": 19,
      "outputs": []
    },
    {
      "cell_type": "code",
      "metadata": {
        "id": "a4HSduERq2PQ"
      },
      "source": [
        "#--------------------------------------------\r\n",
        "# % de Valores Nulos\r\n",
        "#--------------------------------------------\r\n",
        "# (df_defcredcard.isna().sum()/len(df_defcredcard))*100"
      ],
      "execution_count": 20,
      "outputs": []
    },
    {
      "cell_type": "markdown",
      "metadata": {
        "id": "JmM7bAYCPseb"
      },
      "source": [
        "Comentario:\r\n",
        "- No hay registros (filas) ni variables (columnas) que tengan valores nulos"
      ]
    },
    {
      "cell_type": "markdown",
      "metadata": {
        "id": "2n74milnYrkH"
      },
      "source": [
        "### ***Análisis Univariado***"
      ]
    },
    {
      "cell_type": "code",
      "metadata": {
        "colab": {
          "base_uri": "https://localhost:8080/"
        },
        "id": "3jIUGRNOPYmV",
        "outputId": "d158786d-2cfa-4ba2-cfca-73c110137064"
      },
      "source": [
        "#--------------------------------------------\r\n",
        "# TIPO DE VARIABLES\r\n",
        "#--------------------------------------------\r\n",
        "#from funpymodeling.exploratory import cat_vars, num_vars\r\n",
        "print(\"Variables Categóricas: \", cat_vars(df_defcredcard))\r\n",
        "print(\"Variables Numéricas: \", num_vars(df_defcredcard))"
      ],
      "execution_count": 21,
      "outputs": [
        {
          "output_type": "stream",
          "text": [
            "Variables Categóricas:  Index(['SEX', 'EDUCATION', 'MARRIAGE', 'PAY_0', 'PAY_2', 'PAY_3', 'PAY_4',\n",
            "       'PAY_5', 'PAY_6', 'default_payment_next_month'],\n",
            "      dtype='object')\n",
            "Variables Numéricas:  Index(['LIMIT_BAL', 'AGE', 'BILL_AMT1', 'BILL_AMT2', 'BILL_AMT3', 'BILL_AMT4',\n",
            "       'BILL_AMT5', 'BILL_AMT6', 'PAY_AMT1', 'PAY_AMT2', 'PAY_AMT3',\n",
            "       'PAY_AMT4', 'PAY_AMT5', 'PAY_AMT6'],\n",
            "      dtype='object')\n"
          ],
          "name": "stdout"
        }
      ]
    },
    {
      "cell_type": "markdown",
      "metadata": {
        "id": "R-ZFd6w4uM9Q"
      },
      "source": [
        "#### Análisis de Variables Categóricas"
      ]
    },
    {
      "cell_type": "code",
      "metadata": {
        "colab": {
          "base_uri": "https://localhost:8080/"
        },
        "id": "4rPzKZdHOF9b",
        "outputId": "a584a4a5-bcc5-49cc-c167-ea550850bfb8"
      },
      "source": [
        "#--------------------------------------------\r\n",
        "# TABLAS DE FRECUENCIAS\r\n",
        "#--------------------------------------------\r\n",
        "freq_tbl(df_defcredcard)\r\n",
        "#freq_tbl(df_defcredcard['default_payment_next_month'])"
      ],
      "execution_count": 22,
      "outputs": [
        {
          "output_type": "stream",
          "text": [
            "  SEX  frequency  percentage  cumulative_perc\n",
            "0   2      18112    0.603733         0.603733\n",
            "1   1      11888    0.396267         1.000000\n",
            "\n",
            "----------------------------------------------------------------\n",
            "\n",
            "  EDUCATION  frequency  percentage  cumulative_perc\n",
            "0         2      14030    0.467667         0.467667\n",
            "1         1      10585    0.352833         0.820500\n",
            "2         3       4917    0.163900         0.984400\n",
            "3         5        280    0.009333         0.993733\n",
            "4         4        123    0.004100         0.997833\n",
            "5         6         51    0.001700         0.999533\n",
            "6         0         14    0.000467         1.000000\n",
            "\n",
            "----------------------------------------------------------------\n",
            "\n",
            "  MARRIAGE  frequency  percentage  cumulative_perc\n",
            "0        2      15964    0.532133         0.532133\n",
            "1        1      13659    0.455300         0.987433\n",
            "2        3        323    0.010767         0.998200\n",
            "3        0         54    0.001800         1.000000\n",
            "\n",
            "----------------------------------------------------------------\n",
            "\n",
            "   PAY_0  frequency  percentage  cumulative_perc\n",
            "0      0      14737    0.491233         0.491233\n",
            "1     -1       5686    0.189533         0.680767\n",
            "2      1       3688    0.122933         0.803700\n",
            "3     -2       2759    0.091967         0.895667\n",
            "4      2       2667    0.088900         0.984567\n",
            "5      3        322    0.010733         0.995300\n",
            "6      4         76    0.002533         0.997833\n",
            "7      5         26    0.000867         0.998700\n",
            "8      8         19    0.000633         0.999333\n",
            "9      6         11    0.000367         0.999700\n",
            "10     7          9    0.000300         1.000000\n",
            "\n",
            "----------------------------------------------------------------\n",
            "\n",
            "   PAY_2  frequency  percentage  cumulative_perc\n",
            "0      0      15730    0.524333         0.524333\n",
            "1     -1       6050    0.201667         0.726000\n",
            "2      2       3927    0.130900         0.856900\n",
            "3     -2       3782    0.126067         0.982967\n",
            "4      3        326    0.010867         0.993833\n",
            "5      4         99    0.003300         0.997133\n",
            "6      1         28    0.000933         0.998067\n",
            "7      5         25    0.000833         0.998900\n",
            "8      7         20    0.000667         0.999567\n",
            "9      6         12    0.000400         0.999967\n",
            "10     8          1    0.000033         1.000000\n",
            "\n",
            "----------------------------------------------------------------\n",
            "\n",
            "   PAY_3  frequency  percentage  cumulative_perc\n",
            "0      0      15764    0.525467         0.525467\n",
            "1     -1       5938    0.197933         0.723400\n",
            "2     -2       4085    0.136167         0.859567\n",
            "3      2       3819    0.127300         0.986867\n",
            "4      3        240    0.008000         0.994867\n",
            "5      4         76    0.002533         0.997400\n",
            "6      7         27    0.000900         0.998300\n",
            "7      6         23    0.000767         0.999067\n",
            "8      5         21    0.000700         0.999767\n",
            "9      1          4    0.000133         0.999900\n",
            "10     8          3    0.000100         1.000000\n",
            "\n",
            "----------------------------------------------------------------\n",
            "\n",
            "   PAY_4  frequency  percentage  cumulative_perc\n",
            "0      0      16455    0.548500         0.548500\n",
            "1     -1       5687    0.189567         0.738067\n",
            "2     -2       4348    0.144933         0.883000\n",
            "3      2       3159    0.105300         0.988300\n",
            "4      3        180    0.006000         0.994300\n",
            "5      4         69    0.002300         0.996600\n",
            "6      7         58    0.001933         0.998533\n",
            "7      5         35    0.001167         0.999700\n",
            "8      6          5    0.000167         0.999867\n",
            "9      8          2    0.000067         0.999933\n",
            "10     1          2    0.000067         1.000000\n",
            "\n",
            "----------------------------------------------------------------\n",
            "\n",
            "  PAY_5  frequency  percentage  cumulative_perc\n",
            "0     0      16947    0.564900         0.564900\n",
            "1    -1       5539    0.184633         0.749533\n",
            "2    -2       4546    0.151533         0.901067\n",
            "3     2       2626    0.087533         0.988600\n",
            "4     3        178    0.005933         0.994533\n",
            "5     4         84    0.002800         0.997333\n",
            "6     7         58    0.001933         0.999267\n",
            "7     5         17    0.000567         0.999833\n",
            "8     6          4    0.000133         0.999967\n",
            "9     8          1    0.000033         1.000000\n",
            "\n",
            "----------------------------------------------------------------\n",
            "\n",
            "  PAY_6  frequency  percentage  cumulative_perc\n",
            "0     0      16286    0.542867         0.542867\n",
            "1    -1       5740    0.191333         0.734200\n",
            "2    -2       4895    0.163167         0.897367\n",
            "3     2       2766    0.092200         0.989567\n",
            "4     3        184    0.006133         0.995700\n",
            "5     4         49    0.001633         0.997333\n",
            "6     7         46    0.001533         0.998867\n",
            "7     6         19    0.000633         0.999500\n",
            "8     5         13    0.000433         0.999933\n",
            "9     8          2    0.000067         1.000000\n",
            "\n",
            "----------------------------------------------------------------\n",
            "\n",
            "  default_payment_next_month  frequency  percentage  cumulative_perc\n",
            "0                          0      23364      0.7788           0.7788\n",
            "1                          1       6636      0.2212           1.0000\n",
            "\n",
            "----------------------------------------------------------------\n",
            "\n"
          ],
          "name": "stdout"
        }
      ]
    },
    {
      "cell_type": "code",
      "metadata": {
        "id": "I8Y09FGXq-3P"
      },
      "source": [
        "#---------------------------------------------------------------------------------\r\n",
        "# Tabla de Contingencia de Variable SEX\r\n",
        "#---------------------------------------------------------------------------------\r\n",
        "#pd.DataFrame({'Cantidad': df_defcredcard['SEX'].value_counts(), '%': df_defcredcard['SEX'].value_counts(normalize=True) * 100})\r\n",
        "\r\n",
        "#---------------------------------------------------------------------------------\r\n",
        "# Tabla de Contingencia de Variable EDUCATION\r\n",
        "#---------------------------------------------------------------------------------\r\n",
        "# pd.DataFrame({'Cantidad': df_defcredcard['EDUCATION'].value_counts(), '%': df_defcredcard['EDUCATION'].value_counts(normalize=True) * 100})\r\n",
        "\r\n",
        "#---------------------------------------------------------------------------------\r\n",
        "# Tabla de Contingencia de Variable MARRIAGE\r\n",
        "#---------------------------------------------------------------------------------\r\n",
        "# pd.DataFrame({'Cantidad': df_defcredcard['MARRIAGE'].value_counts(), '%': df_defcredcard['MARRIAGE'].value_counts(normalize=True) * 100})\r\n",
        "\r\n",
        "#---------------------------------------------------------------------------------\r\n",
        "# Tabla de Contingencia de Variable PAY_0\r\n",
        "#---------------------------------------------------------------------------------\r\n",
        "# pd.DataFrame({'Cantidad': df_defcredcard['PAY_0'].value_counts(), '%': df_defcredcard['PAY_0'].value_counts(normalize=True) * 100})\r\n",
        "\r\n",
        "#---------------------------------------------------------------------------------\r\n",
        "# Tabla de Contingencia de Variable PAY_2\r\n",
        "#---------------------------------------------------------------------------------\r\n",
        "# pd.DataFrame({'Cantidad': df_defcredcard['PAY_2'].value_counts(), '%': df_defcredcard['PAY_2'].value_counts(normalize=True) * 100})\r\n",
        "\r\n",
        "#---------------------------------------------------------------------------------\r\n",
        "# Tabla de Contingencia de Variable PAY_3\r\n",
        "#---------------------------------------------------------------------------------\r\n",
        "# pd.DataFrame({'Cantidad': df_defcredcard['PAY_3'].value_counts(), '%': df_defcredcard['PAY_3'].value_counts(normalize=True) * 100})\r\n",
        "\r\n",
        "#---------------------------------------------------------------------------------\r\n",
        "# Tabla de Contingencia de Variable PAY_4\r\n",
        "#---------------------------------------------------------------------------------\r\n",
        "# pd.DataFrame({'Cantidad': df_defcredcard['PAY_4'].value_counts(), '%': df_defcredcard['PAY_4'].value_counts(normalize=True) * 100})\r\n",
        "\r\n",
        "#---------------------------------------------------------------------------------\r\n",
        "# Tabla de Contingencia de Variable PAY_5\r\n",
        "#---------------------------------------------------------------------------------\r\n",
        "# pd.DataFrame({'Cantidad': df_defcredcard['PAY_5'].value_counts(), '%': df_defcredcard['PAY_5'].value_counts(normalize=True) * 100})\r\n",
        "\r\n",
        "#---------------------------------------------------------------------------------\r\n",
        "# Tabla de Contingencia de Variable PAY_6\r\n",
        "#---------------------------------------------------------------------------------\r\n",
        "# pd.DataFrame({'Cantidad': df_defcredcard['PAY_6'].value_counts(), '%': df_defcredcard['PAY_6'].value_counts(normalize=True) * 100})"
      ],
      "execution_count": 23,
      "outputs": []
    },
    {
      "cell_type": "code",
      "metadata": {
        "id": "D_7WVFCvO-un"
      },
      "source": [
        "#--------------------------------------------------\r\n",
        "# GRÁFICOS DE BARRA\r\n",
        "#--------------------------------------------------\r\n",
        "# Esta función estara en funpymodeling como freq() o plot_freq()\r\n",
        "# NOTA: antes de usar este script, saquen las variables que tienen mas de 100 categorias distintas\r\n",
        "import matplotlib.pyplot as plt\r\n",
        "import seaborn as sns\r\n",
        "\r\n",
        "d_plot = df_defcredcard\r\n",
        "fig, ax = plt.subplots(5, 2, figsize=(20, 20))\r\n",
        "for variable, subplot in zip(cat_vars(d_plot), ax.flatten()):\r\n",
        "    sns.countplot(y=d_plot[variable], ax=subplot, order = d_plot[variable].value_counts().index)\r\n",
        "    for label in subplot.get_xticklabels():\r\n",
        "        label.set_rotation(90)"
      ],
      "execution_count": 24,
      "outputs": []
    },
    {
      "cell_type": "code",
      "metadata": {
        "id": "Avr_NuXktX73"
      },
      "source": [
        "#plt.figure(figsize = (15, 15))\r\n",
        "#plt.subplot(3, 3, 1)\r\n",
        "#sns.countplot(data=df_defcredcard, x='SEX')\r\n",
        "#plt.subplot(3, 3, 2)\r\n",
        "#sns.countplot(data=df_defcredcard, x='EDUCATION')\r\n",
        "#plt.subplot(3, 3, 3)\r\n",
        "#sns.countplot(data=df_defcredcard, x='MARRIAGE')\r\n",
        "#plt.subplot(3, 3, 4)\r\n",
        "#sns.countplot(data=df_defcredcard, x='PAY_0')\r\n",
        "#plt.subplot(3, 3, 5)\r\n",
        "#sns.countplot(data=df_defcredcard, x='PAY_2')\r\n",
        "#plt.subplot(3, 3, 6)\r\n",
        "#sns.countplot(data=df_defcredcard, x='PAY_3')\r\n",
        "#plt.subplot(3, 3, 7)\r\n",
        "#sns.countplot(data=df_defcredcard, x='PAY_4')\r\n",
        "#plt.subplot(3, 3, 8)\r\n",
        "#sns.countplot(data=df_defcredcard, x='PAY_5')\r\n",
        "#plt.subplot(3, 3, 9)\r\n",
        "#sns.countplot(data=df_defcredcard, x='PAY_6')\r\n",
        "#plt.tight_layout()\r\n",
        "#plt.show()"
      ],
      "execution_count": 25,
      "outputs": []
    },
    {
      "cell_type": "markdown",
      "metadata": {
        "id": "uUWeF-ha9sU5"
      },
      "source": [
        "Comentario:\n",
        "- La variable objetivo default_payment_next_month no tiene una proporción balanceada de sus clases:\n",
        "\n",
        "0 : 77.88 %\n",
        "\n",
        "1 : 22.12 %"
      ]
    },
    {
      "cell_type": "markdown",
      "metadata": {
        "id": "Z6Z89n-EuWU6"
      },
      "source": [
        "#### Análisis de Variables Numéricas"
      ]
    },
    {
      "cell_type": "code",
      "metadata": {
        "colab": {
          "base_uri": "https://localhost:8080/"
        },
        "id": "NO_7WNYjQpZM",
        "outputId": "367c1ca7-2e43-4cd8-b80a-d068ca76b527"
      },
      "source": [
        "#----------------------------------------------\r\n",
        "# HISTOGRAMAS\r\n",
        "#----------------------------------------------\r\n",
        "df_defcredcard.hist(figsize = (20,20))"
      ],
      "execution_count": 26,
      "outputs": [
        {
          "output_type": "execute_result",
          "data": {
            "text/plain": [
              "array([[<matplotlib.axes._subplots.AxesSubplot object at 0x7fa663774a90>,\n",
              "        <matplotlib.axes._subplots.AxesSubplot object at 0x7fa663748160>,\n",
              "        <matplotlib.axes._subplots.AxesSubplot object at 0x7fa6636fa7b8>,\n",
              "        <matplotlib.axes._subplots.AxesSubplot object at 0x7fa6636aae10>],\n",
              "       [<matplotlib.axes._subplots.AxesSubplot object at 0x7fa6636e54a8>,\n",
              "        <matplotlib.axes._subplots.AxesSubplot object at 0x7fa663696b00>,\n",
              "        <matplotlib.axes._subplots.AxesSubplot object at 0x7fa663655198>,\n",
              "        <matplotlib.axes._subplots.AxesSubplot object at 0x7fa6636047b8>],\n",
              "       [<matplotlib.axes._subplots.AxesSubplot object at 0x7fa663604828>,\n",
              "        <matplotlib.axes._subplots.AxesSubplot object at 0x7fa6635734e0>,\n",
              "        <matplotlib.axes._subplots.AxesSubplot object at 0x7fa6635a3b38>,\n",
              "        <matplotlib.axes._subplots.AxesSubplot object at 0x7fa6635611d0>],\n",
              "       [<matplotlib.axes._subplots.AxesSubplot object at 0x7fa663512828>,\n",
              "        <matplotlib.axes._subplots.AxesSubplot object at 0x7fa6634c2e80>,\n",
              "        <matplotlib.axes._subplots.AxesSubplot object at 0x7fa66347e518>,\n",
              "        <matplotlib.axes._subplots.AxesSubplot object at 0x7fa66342fb70>]],\n",
              "      dtype=object)"
            ]
          },
          "metadata": {
            "tags": []
          },
          "execution_count": 26
        }
      ]
    },
    {
      "cell_type": "code",
      "metadata": {
        "id": "fOhd3rgsuZGF"
      },
      "source": [
        "#---------------------------------------------\r\n",
        "# DIAGRAMAS DE CAJA\r\n",
        "#---------------------------------------------\r\n",
        "#df.boxplot(figsize=(20,10))\r\n",
        "\r\n",
        "# create figure and axes\r\n",
        "fig, axes = plt.subplots(5,3, figsize=(20, 20))\r\n",
        "\r\n",
        "for i, el in enumerate(list(df_defcredcard.select_dtypes(exclude='object').columns.values)):\r\n",
        "    a = df_defcredcard.boxplot(el, ax=axes.flatten()[i])\r\n",
        "\r\n",
        "plt.tight_layout() \r\n",
        "plt.show()"
      ],
      "execution_count": 27,
      "outputs": []
    },
    {
      "cell_type": "code",
      "metadata": {
        "id": "4njeksyx1ryr"
      },
      "source": [
        "#sns.pairplot(df_defcredcard, hue=\"default_payment_next_month\", height=5, diag_kind=\"hist\")"
      ],
      "execution_count": 28,
      "outputs": []
    },
    {
      "cell_type": "markdown",
      "metadata": {
        "id": "1S8sPwfXxA4W"
      },
      "source": [
        "### ***Análisis Bivariado***"
      ]
    },
    {
      "cell_type": "code",
      "metadata": {
        "colab": {
          "base_uri": "https://localhost:8080/"
        },
        "id": "dBsYBn0vW3iU",
        "outputId": "e09172ab-4d38-4f04-9868-ecd23a4ba17f"
      },
      "source": [
        "#from funpymodeling.exploratory import cat_vars, num_vars\r\n",
        "print(\"Variables Categóricas: \", cat_vars(df_defcredcard))"
      ],
      "execution_count": 29,
      "outputs": [
        {
          "output_type": "stream",
          "text": [
            "Variables Categóricas:  Index(['SEX', 'EDUCATION', 'MARRIAGE', 'PAY_0', 'PAY_2', 'PAY_3', 'PAY_4',\n",
            "       'PAY_5', 'PAY_6', 'default_payment_next_month'],\n",
            "      dtype='object')\n"
          ],
          "name": "stdout"
        }
      ]
    },
    {
      "cell_type": "markdown",
      "metadata": {
        "id": "CHBm3pxZxBte"
      },
      "source": [
        "#### Análisis de Var. Categórica vs Categórica"
      ]
    },
    {
      "cell_type": "code",
      "metadata": {
        "colab": {
          "base_uri": "https://localhost:8080/",
          "height": 164
        },
        "id": "ydwKvrWLV6f2",
        "outputId": "e128433c-334d-49e1-987f-6985f2a0c707"
      },
      "source": [
        "#---------------------------------------------------------------\r\n",
        "# TABLAS DE CONTINGENCIA BIVARIADA\r\n",
        "#---------------------------------------------------------------\r\n",
        "\r\n",
        "#...............................................................\r\n",
        "# Análisis: INCUMPLIMIENTO DE PAGO vs GÉNERO\r\n",
        "#...............................................................\r\n",
        "# Porcentages totales (suma de celdas 100%)\r\n",
        "#pd.crosstab(df_defcredcard['SEX'], df_defcredcard['default_payment_next_month'], margins=True, normalize=True)\r\n",
        "\r\n",
        "#df_target_vs_sex = df_defcredcard.groupby(['SEX',target])[target].count().unstack()\r\n",
        "#df_target_vs_sex['percentage'] = round((df_target_vs_sex[1]/(df_target_vs_sex[0]+df_target_vs_sex[1]))*100,2)\r\n",
        "#df_target_vs_sex\r\n",
        "\r\n",
        "# Cantidades Totales (suma de celdas 100%) \r\n",
        "#pd.crosstab(df_defcredcard['SEX'], df_defcredcard['default_payment_next_month'], margins=True)\r\n",
        "\r\n",
        "# Porcentages por registro (útil para selección de variables)\r\n",
        "# pd.crosstab(df_defcredcard['SEX'], df_defcredcard['default_payment_next_month'], normalize='index', margins=True)\r\n",
        "\r\n",
        "# Cantidades por registro \r\n",
        "pd.crosstab(df_defcredcard['SEX'], df_defcredcard['default_payment_next_month'], margins='index')"
      ],
      "execution_count": 30,
      "outputs": [
        {
          "output_type": "execute_result",
          "data": {
            "text/html": [
              "<div>\n",
              "<style scoped>\n",
              "    .dataframe tbody tr th:only-of-type {\n",
              "        vertical-align: middle;\n",
              "    }\n",
              "\n",
              "    .dataframe tbody tr th {\n",
              "        vertical-align: top;\n",
              "    }\n",
              "\n",
              "    .dataframe thead th {\n",
              "        text-align: right;\n",
              "    }\n",
              "</style>\n",
              "<table border=\"1\" class=\"dataframe\">\n",
              "  <thead>\n",
              "    <tr style=\"text-align: right;\">\n",
              "      <th>default_payment_next_month</th>\n",
              "      <th>0</th>\n",
              "      <th>1</th>\n",
              "      <th>All</th>\n",
              "    </tr>\n",
              "    <tr>\n",
              "      <th>SEX</th>\n",
              "      <th></th>\n",
              "      <th></th>\n",
              "      <th></th>\n",
              "    </tr>\n",
              "  </thead>\n",
              "  <tbody>\n",
              "    <tr>\n",
              "      <th>1</th>\n",
              "      <td>9015</td>\n",
              "      <td>2873</td>\n",
              "      <td>11888</td>\n",
              "    </tr>\n",
              "    <tr>\n",
              "      <th>2</th>\n",
              "      <td>14349</td>\n",
              "      <td>3763</td>\n",
              "      <td>18112</td>\n",
              "    </tr>\n",
              "    <tr>\n",
              "      <th>All</th>\n",
              "      <td>23364</td>\n",
              "      <td>6636</td>\n",
              "      <td>30000</td>\n",
              "    </tr>\n",
              "  </tbody>\n",
              "</table>\n",
              "</div>"
            ],
            "text/plain": [
              "default_payment_next_month      0     1    All\n",
              "SEX                                           \n",
              "1                            9015  2873  11888\n",
              "2                           14349  3763  18112\n",
              "All                         23364  6636  30000"
            ]
          },
          "metadata": {
            "tags": []
          },
          "execution_count": 30
        }
      ]
    },
    {
      "cell_type": "code",
      "metadata": {
        "colab": {
          "base_uri": "https://localhost:8080/",
          "height": 311
        },
        "id": "lzNse2_gZU-Y",
        "outputId": "adb1cded-61e1-4268-e93f-32e519446752"
      },
      "source": [
        "#...............................................................\r\n",
        "# Análisis: INCUMPLIMIENTO DE PAGO vs EDUCACIÓN\r\n",
        "#...............................................................\r\n",
        "# Porcentages totales (suma de celdas 100%)\r\n",
        "#pd.crosstab(df_defcredcard['EDUCATION'], df_defcredcard['default_payment_next_month'], margins=True, normalize=True)\r\n",
        "\r\n",
        "#df_target_vs_educ = df_defcredcard.groupby(['EDUCATION',target])[target].count().unstack()\r\n",
        "#df_target_vs_educ['percentage'] = round((df_target_vs_educ[1]/(df_target_vs_educ[0]+df_target_vs_educ[1]))*100,2)\r\n",
        "#df_target_vs_educ\r\n",
        "\r\n",
        "# Cantidades Totales (suma de celdas 100%) \r\n",
        "#pd.crosstab(df_defcredcard['EDUCATION'], df_defcredcard['default_payment_next_month'], margins=True)\r\n",
        "\r\n",
        "# Porcentages por registro (útil para selección de variables)\r\n",
        "# pd.crosstab(df_defcredcard['EDUCATION'], df_defcredcard['default_payment_next_month'], normalize='index', margins=True)\r\n",
        "\r\n",
        "# Cantidades por registro \r\n",
        "pd.crosstab(df_defcredcard['EDUCATION'], df_defcredcard['default_payment_next_month'], margins='index')"
      ],
      "execution_count": 31,
      "outputs": [
        {
          "output_type": "execute_result",
          "data": {
            "text/html": [
              "<div>\n",
              "<style scoped>\n",
              "    .dataframe tbody tr th:only-of-type {\n",
              "        vertical-align: middle;\n",
              "    }\n",
              "\n",
              "    .dataframe tbody tr th {\n",
              "        vertical-align: top;\n",
              "    }\n",
              "\n",
              "    .dataframe thead th {\n",
              "        text-align: right;\n",
              "    }\n",
              "</style>\n",
              "<table border=\"1\" class=\"dataframe\">\n",
              "  <thead>\n",
              "    <tr style=\"text-align: right;\">\n",
              "      <th>default_payment_next_month</th>\n",
              "      <th>0</th>\n",
              "      <th>1</th>\n",
              "      <th>All</th>\n",
              "    </tr>\n",
              "    <tr>\n",
              "      <th>EDUCATION</th>\n",
              "      <th></th>\n",
              "      <th></th>\n",
              "      <th></th>\n",
              "    </tr>\n",
              "  </thead>\n",
              "  <tbody>\n",
              "    <tr>\n",
              "      <th>0</th>\n",
              "      <td>14</td>\n",
              "      <td>0</td>\n",
              "      <td>14</td>\n",
              "    </tr>\n",
              "    <tr>\n",
              "      <th>1</th>\n",
              "      <td>8549</td>\n",
              "      <td>2036</td>\n",
              "      <td>10585</td>\n",
              "    </tr>\n",
              "    <tr>\n",
              "      <th>2</th>\n",
              "      <td>10700</td>\n",
              "      <td>3330</td>\n",
              "      <td>14030</td>\n",
              "    </tr>\n",
              "    <tr>\n",
              "      <th>3</th>\n",
              "      <td>3680</td>\n",
              "      <td>1237</td>\n",
              "      <td>4917</td>\n",
              "    </tr>\n",
              "    <tr>\n",
              "      <th>4</th>\n",
              "      <td>116</td>\n",
              "      <td>7</td>\n",
              "      <td>123</td>\n",
              "    </tr>\n",
              "    <tr>\n",
              "      <th>5</th>\n",
              "      <td>262</td>\n",
              "      <td>18</td>\n",
              "      <td>280</td>\n",
              "    </tr>\n",
              "    <tr>\n",
              "      <th>6</th>\n",
              "      <td>43</td>\n",
              "      <td>8</td>\n",
              "      <td>51</td>\n",
              "    </tr>\n",
              "    <tr>\n",
              "      <th>All</th>\n",
              "      <td>23364</td>\n",
              "      <td>6636</td>\n",
              "      <td>30000</td>\n",
              "    </tr>\n",
              "  </tbody>\n",
              "</table>\n",
              "</div>"
            ],
            "text/plain": [
              "default_payment_next_month      0     1    All\n",
              "EDUCATION                                     \n",
              "0                              14     0     14\n",
              "1                            8549  2036  10585\n",
              "2                           10700  3330  14030\n",
              "3                            3680  1237   4917\n",
              "4                             116     7    123\n",
              "5                             262    18    280\n",
              "6                              43     8     51\n",
              "All                         23364  6636  30000"
            ]
          },
          "metadata": {
            "tags": []
          },
          "execution_count": 31
        }
      ]
    },
    {
      "cell_type": "code",
      "metadata": {
        "colab": {
          "base_uri": "https://localhost:8080/",
          "height": 223
        },
        "id": "kParmSMqZkR1",
        "outputId": "1f4fddfc-f9dc-43af-c876-85f2c95688b9"
      },
      "source": [
        "#...............................................................\r\n",
        "# Análisis: INCUMPLIMIENTO DE PAGO vs ESTADO CIVIL\r\n",
        "#...............................................................\r\n",
        "# Porcentages totales (suma de celdas 100%)\r\n",
        "#pd.crosstab(df_defcredcard['MARRIAGE'], df_defcredcard['default_payment_next_month'], margins=True, normalize=True)\r\n",
        "\r\n",
        "#df_target_vs_marriage = df_defcredcard.groupby(['MARRIAGE',target])[target].count().unstack()\r\n",
        "#df_target_vs_marriage['percentage'] = round((df_target_vs_marriage[1]/(df_target_vs_marriage[0]+df_target_vs_marriage[1]))*100,2)\r\n",
        "#df_target_vs_marriage\r\n",
        "\r\n",
        "# Cantidades Totales (suma de celdas 100%) \r\n",
        "#pd.crosstab(df_defcredcard['MARRIAGE'], df_defcredcard['default_payment_next_month'], margins=True)\r\n",
        "\r\n",
        "# Porcentages por registro (útil para selección de variables)\r\n",
        "# pd.crosstab(df_defcredcard['MARRIAGE'], df_defcredcard['default_payment_next_month'], normalize='index', margins=True)\r\n",
        "\r\n",
        "# Cantidades por registro \r\n",
        "pd.crosstab(df_defcredcard['MARRIAGE'], df_defcredcard['default_payment_next_month'], margins='index')"
      ],
      "execution_count": 32,
      "outputs": [
        {
          "output_type": "execute_result",
          "data": {
            "text/html": [
              "<div>\n",
              "<style scoped>\n",
              "    .dataframe tbody tr th:only-of-type {\n",
              "        vertical-align: middle;\n",
              "    }\n",
              "\n",
              "    .dataframe tbody tr th {\n",
              "        vertical-align: top;\n",
              "    }\n",
              "\n",
              "    .dataframe thead th {\n",
              "        text-align: right;\n",
              "    }\n",
              "</style>\n",
              "<table border=\"1\" class=\"dataframe\">\n",
              "  <thead>\n",
              "    <tr style=\"text-align: right;\">\n",
              "      <th>default_payment_next_month</th>\n",
              "      <th>0</th>\n",
              "      <th>1</th>\n",
              "      <th>All</th>\n",
              "    </tr>\n",
              "    <tr>\n",
              "      <th>MARRIAGE</th>\n",
              "      <th></th>\n",
              "      <th></th>\n",
              "      <th></th>\n",
              "    </tr>\n",
              "  </thead>\n",
              "  <tbody>\n",
              "    <tr>\n",
              "      <th>0</th>\n",
              "      <td>49</td>\n",
              "      <td>5</td>\n",
              "      <td>54</td>\n",
              "    </tr>\n",
              "    <tr>\n",
              "      <th>1</th>\n",
              "      <td>10453</td>\n",
              "      <td>3206</td>\n",
              "      <td>13659</td>\n",
              "    </tr>\n",
              "    <tr>\n",
              "      <th>2</th>\n",
              "      <td>12623</td>\n",
              "      <td>3341</td>\n",
              "      <td>15964</td>\n",
              "    </tr>\n",
              "    <tr>\n",
              "      <th>3</th>\n",
              "      <td>239</td>\n",
              "      <td>84</td>\n",
              "      <td>323</td>\n",
              "    </tr>\n",
              "    <tr>\n",
              "      <th>All</th>\n",
              "      <td>23364</td>\n",
              "      <td>6636</td>\n",
              "      <td>30000</td>\n",
              "    </tr>\n",
              "  </tbody>\n",
              "</table>\n",
              "</div>"
            ],
            "text/plain": [
              "default_payment_next_month      0     1    All\n",
              "MARRIAGE                                      \n",
              "0                              49     5     54\n",
              "1                           10453  3206  13659\n",
              "2                           12623  3341  15964\n",
              "3                             239    84    323\n",
              "All                         23364  6636  30000"
            ]
          },
          "metadata": {
            "tags": []
          },
          "execution_count": 32
        }
      ]
    },
    {
      "cell_type": "code",
      "metadata": {
        "id": "tEEZSWKvxEn9"
      },
      "source": [
        "#---------------------------------------------------------------\r\n",
        "# DIAGRAMAS DE BARRA BIVARIADO\r\n",
        "#---------------------------------------------------------------\r\n",
        "\r\n",
        "fig,axes = plt.subplots(5,2,figsize=(15,20))\r\n",
        "for idx, cat_col in enumerate(cat_vars(df_defcredcard)):\r\n",
        "    row,col = idx//2,idx%2\r\n",
        "    sns.countplot(x=cat_col,data=df_defcredcard,hue='default_payment_next_month',ax=axes[row,col])\r\n",
        "\r\n",
        "#g = sns.catplot(x=\"AGE\", col=\"default_payment_next_month\", data = df_defcredcard, kind=\"count\")"
      ],
      "execution_count": 33,
      "outputs": []
    },
    {
      "cell_type": "markdown",
      "metadata": {
        "id": "U8XtT7j6O9-k"
      },
      "source": [
        "Comentario: \r\n",
        "- Los hombres tienen una mayor probabilidad de incumplir que las mujeres, ya que ~ 24% de los hombres incumplen en comparación con ~ 20% de las mujeres. Además, según los datos, un mayor número de mujeres han incumplido (3763) que de hombres (2873) en los meses anteriores.\r\n",
        "- Es visible que una mayor cantidad de educación tiende a reducir la probabilidad de incumplimiento. Esto tiene sentido porque una educación más baja puede significar un salario y un límite más bajos.\r\n",
        "- Los clientes casados ​​tienen una mayor probabilidad de incumplimiento que los clientes solteros\r\n"
      ]
    },
    {
      "cell_type": "markdown",
      "metadata": {
        "id": "VxvVbKBUfh3S"
      },
      "source": [
        "#### Análisis de Var. Numérica vs Categórica"
      ]
    },
    {
      "cell_type": "code",
      "metadata": {
        "id": "ysFe5Nnlfq10"
      },
      "source": [
        "#df_defcredcard.groupby('MARRIAGE')['AGE'].mean().sort_values(ascending=False)\r\n",
        "#df_defcredcard.groupby('MARRIAGE')['AGE'].describe()\r\n",
        "#df_defcredcard.groupby('default_payment_next_month').mean()"
      ],
      "execution_count": 34,
      "outputs": []
    },
    {
      "cell_type": "code",
      "metadata": {
        "id": "KLcHzpeYgRrx"
      },
      "source": [
        "#sns.boxplot(y = 'AGE', x = 'MARRIAGE', data = df_defcredcard)\r\n",
        "#pd.DataFrame(df_defcredcard.groupby('Purpose')['AGE'].median().sort_values(ascending=True))\r\n",
        "\r\n",
        "#grouped = df_defcredcard.loc[:,['AGE', 'MARRIAGE']].groupby(['MARRIAGE']).median().sort_values(by='AGE')\r\n",
        "#grouped['MARRIAGE'] = grouped.index\r\n",
        "#grouped.head()\r\n",
        "\r\n",
        "#fig, ax = plt.subplots(figsize=(8,6))\r\n",
        "#bp = sns.boxplot(y = 'AGE', x = 'MARRIAGE', data = df_defcredcard, order = grouped.index)\r\n",
        "#bp.set_xticklabels(bp.get_xmajorticklabels(), fontsize = 10, rotation=45)\r\n",
        "#plt.show()"
      ],
      "execution_count": 35,
      "outputs": []
    },
    {
      "cell_type": "code",
      "metadata": {
        "id": "9GbUhjGuguQQ"
      },
      "source": [
        "#sns.violinplot(y='AGE', x='MARRIAGE', data = df_defcredcard)"
      ],
      "execution_count": 36,
      "outputs": []
    },
    {
      "cell_type": "markdown",
      "metadata": {
        "id": "RqvGjlOM3Tiz"
      },
      "source": [
        "#### Análisis de Var. Numérica vs Numérica"
      ]
    },
    {
      "cell_type": "code",
      "metadata": {
        "colab": {
          "base_uri": "https://localhost:8080/"
        },
        "id": "JjvyTJPvzoW4",
        "outputId": "524fe003-9fc3-4597-f69f-ca9221efb835"
      },
      "source": [
        "#-------------------------------------\n",
        "# MATRIZ DE CORRELACIÓN\n",
        "#-------------------------------------\n",
        "import seaborn as sns\n",
        "import matplotlib.pyplot as plt\n",
        "plt.figure(figsize = (30,10)) # tamaño de la imagen\n",
        "corr = df_defcredcard.iloc[:,0:].corr()\n",
        "\n",
        "sns.heatmap(corr, annot=True, fmt='.4g',linewidths=0.5,\n",
        "            xticklabels=corr.columns.values,\n",
        "            yticklabels=corr.columns.values)"
      ],
      "execution_count": 37,
      "outputs": [
        {
          "output_type": "execute_result",
          "data": {
            "text/plain": [
              "<matplotlib.axes._subplots.AxesSubplot at 0x7fa659e38a90>"
            ]
          },
          "metadata": {
            "tags": []
          },
          "execution_count": 37
        }
      ]
    },
    {
      "cell_type": "markdown",
      "metadata": {
        "id": "MztKlfsf_MvB"
      },
      "source": [
        "Comentario:\n",
        "\n",
        "- Ninguna de las variables predictora tiene una fuerte correlación con la variable objetivo. \n",
        "- La variable 'PAY_6' tienen una pequeña cantidad de correlación positiva con la variable objetivo y una correlación más fuerte entre las variables de historial de pago. Entonces, si ha incumplido o no en los meses anteriores, podría decidir la probabilidad de incumplimiento en el próximo mes. \n",
        "- Las variables de monto de estado de cuenta tienen una fuerte correlación positiva entre ellas. Esto también tiene sentido ya que los patrones de gasto de los clientes tienden a permanecer constantes y las organizaciones de comercio electrónico se aprovechan de esto. \n",
        "- La correlación negativa más fuerte se da entre 'AGE' y 'MARRIAGE', que se espera ya que los clientes más jóvenes tienden a ser solteros y los mayores tienden a estar casados."
      ]
    },
    {
      "cell_type": "code",
      "metadata": {
        "colab": {
          "base_uri": "https://localhost:8080/"
        },
        "id": "IwuinrT4hMN7",
        "outputId": "599f9899-21b3-416d-ea79-b31b405cf0d9"
      },
      "source": [
        "#-----------------------------------------------\r\n",
        "# DIAGRAMA SCATTER PLOT\r\n",
        "#-----------------------------------------------\r\n",
        "sns.pairplot(df_defcredcard)"
      ],
      "execution_count": 38,
      "outputs": [
        {
          "output_type": "execute_result",
          "data": {
            "text/plain": [
              "<seaborn.axisgrid.PairGrid at 0x7fa663c46400>"
            ]
          },
          "metadata": {
            "tags": []
          },
          "execution_count": 38
        }
      ]
    },
    {
      "cell_type": "markdown",
      "metadata": {
        "id": "dXH5MZXD80wb"
      },
      "source": [
        "###############################################################################\r\n",
        "# **3. PREPARACIÓN DE LOS DATOS**\r\n",
        "###############################################################################"
      ]
    },
    {
      "cell_type": "markdown",
      "metadata": {
        "id": "Lp_SeoaclxSi"
      },
      "source": [
        "## **PREPARACIÓN DE LOS DATOS (ENTRENAMIENTO)**"
      ]
    },
    {
      "cell_type": "markdown",
      "metadata": {
        "id": "PWOq-x-vl0IR"
      },
      "source": [
        "#### **PRE-PROCESAMIENTO DE DATOS**"
      ]
    },
    {
      "cell_type": "code",
      "metadata": {
        "id": "vKerEdkcldcv"
      },
      "source": [
        "df_defcredcard_preproc = df_defcredcard.copy()"
      ],
      "execution_count": 167,
      "outputs": []
    },
    {
      "cell_type": "code",
      "metadata": {
        "colab": {
          "base_uri": "https://localhost:8080/"
        },
        "id": "R09hVWJxmTyJ",
        "outputId": "63c47604-1c72-42f2-ff72-baad1b761312"
      },
      "source": [
        "df_defcredcard.shape"
      ],
      "execution_count": 168,
      "outputs": [
        {
          "output_type": "execute_result",
          "data": {
            "text/plain": [
              "(30000, 24)"
            ]
          },
          "metadata": {
            "tags": []
          },
          "execution_count": 168
        }
      ]
    },
    {
      "cell_type": "code",
      "metadata": {
        "colab": {
          "base_uri": "https://localhost:8080/"
        },
        "id": "w1OxuJ6VmgCq",
        "outputId": "f54e8e50-d9a4-43ab-8cd6-505521b928ff"
      },
      "source": [
        "df_defcredcard.info()"
      ],
      "execution_count": 169,
      "outputs": [
        {
          "output_type": "stream",
          "text": [
            "<class 'pandas.core.frame.DataFrame'>\n",
            "RangeIndex: 30000 entries, 0 to 29999\n",
            "Data columns (total 24 columns):\n",
            " #   Column                      Non-Null Count  Dtype \n",
            "---  ------                      --------------  ----- \n",
            " 0   LIMIT_BAL                   30000 non-null  int64 \n",
            " 1   SEX                         30000 non-null  object\n",
            " 2   EDUCATION                   30000 non-null  object\n",
            " 3   MARRIAGE                    30000 non-null  object\n",
            " 4   AGE                         30000 non-null  int64 \n",
            " 5   PAY_0                       30000 non-null  object\n",
            " 6   PAY_2                       30000 non-null  object\n",
            " 7   PAY_3                       30000 non-null  object\n",
            " 8   PAY_4                       30000 non-null  object\n",
            " 9   PAY_5                       30000 non-null  object\n",
            " 10  PAY_6                       30000 non-null  object\n",
            " 11  BILL_AMT1                   30000 non-null  int64 \n",
            " 12  BILL_AMT2                   30000 non-null  int64 \n",
            " 13  BILL_AMT3                   30000 non-null  int64 \n",
            " 14  BILL_AMT4                   30000 non-null  int64 \n",
            " 15  BILL_AMT5                   30000 non-null  int64 \n",
            " 16  BILL_AMT6                   30000 non-null  int64 \n",
            " 17  PAY_AMT1                    30000 non-null  int64 \n",
            " 18  PAY_AMT2                    30000 non-null  int64 \n",
            " 19  PAY_AMT3                    30000 non-null  int64 \n",
            " 20  PAY_AMT4                    30000 non-null  int64 \n",
            " 21  PAY_AMT5                    30000 non-null  int64 \n",
            " 22  PAY_AMT6                    30000 non-null  int64 \n",
            " 23  default_payment_next_month  30000 non-null  object\n",
            "dtypes: int64(14), object(10)\n",
            "memory usage: 5.5+ MB\n"
          ],
          "name": "stdout"
        }
      ]
    },
    {
      "cell_type": "markdown",
      "metadata": {
        "id": "Woj0_hBRmDJC"
      },
      "source": [
        "#### Eliminación de Registros Duplicados"
      ]
    },
    {
      "cell_type": "code",
      "metadata": {
        "id": "r1KnQNjEmcXo"
      },
      "source": [
        "df_defcredcard_preproc.drop_duplicates(keep=\"first\", inplace=True)"
      ],
      "execution_count": 170,
      "outputs": []
    },
    {
      "cell_type": "code",
      "metadata": {
        "colab": {
          "base_uri": "https://localhost:8080/"
        },
        "id": "d8JGiEJPmlhM",
        "outputId": "d1fe153c-b25b-4ceb-f47a-68c4c20b71fb"
      },
      "source": [
        "df_defcredcard_preproc.shape"
      ],
      "execution_count": 171,
      "outputs": [
        {
          "output_type": "execute_result",
          "data": {
            "text/plain": [
              "(29965, 24)"
            ]
          },
          "metadata": {
            "tags": []
          },
          "execution_count": 171
        }
      ]
    },
    {
      "cell_type": "markdown",
      "metadata": {
        "id": "ySh7XUAymtcq"
      },
      "source": [
        "#### Eliminación de Valores Únicos"
      ]
    },
    {
      "cell_type": "code",
      "metadata": {
        "colab": {
          "base_uri": "https://localhost:8080/",
          "height": 47
        },
        "id": "FAiyFafqmuWN",
        "outputId": "29eaace1-b340-4a95-bb99-b80276cea17c"
      },
      "source": [
        "#Comentario:\r\n",
        "#No se encontró registros con % altos de valores únicos para eliminación\r\n",
        "pd.DataFrame(df_defcredcard_preproc.nunique()/len(df_defcredcard_preproc))[pd.DataFrame(df_defcredcard_preproc.nunique()/len(df_defcredcard_preproc))[0] > 0.80]"
      ],
      "execution_count": 172,
      "outputs": [
        {
          "output_type": "execute_result",
          "data": {
            "text/html": [
              "<div>\n",
              "<style scoped>\n",
              "    .dataframe tbody tr th:only-of-type {\n",
              "        vertical-align: middle;\n",
              "    }\n",
              "\n",
              "    .dataframe tbody tr th {\n",
              "        vertical-align: top;\n",
              "    }\n",
              "\n",
              "    .dataframe thead th {\n",
              "        text-align: right;\n",
              "    }\n",
              "</style>\n",
              "<table border=\"1\" class=\"dataframe\">\n",
              "  <thead>\n",
              "    <tr style=\"text-align: right;\">\n",
              "      <th></th>\n",
              "      <th>0</th>\n",
              "    </tr>\n",
              "  </thead>\n",
              "  <tbody>\n",
              "  </tbody>\n",
              "</table>\n",
              "</div>"
            ],
            "text/plain": [
              "Empty DataFrame\n",
              "Columns: [0]\n",
              "Index: []"
            ]
          },
          "metadata": {
            "tags": []
          },
          "execution_count": 172
        }
      ]
    },
    {
      "cell_type": "code",
      "metadata": {
        "colab": {
          "base_uri": "https://localhost:8080/"
        },
        "id": "PHzoUANnm8x6",
        "outputId": "f5352d92-cacf-4dc3-ae37-7ac74e24b013"
      },
      "source": [
        "df_defcredcard_preproc.shape"
      ],
      "execution_count": 173,
      "outputs": [
        {
          "output_type": "execute_result",
          "data": {
            "text/plain": [
              "(29965, 24)"
            ]
          },
          "metadata": {
            "tags": []
          },
          "execution_count": 173
        }
      ]
    },
    {
      "cell_type": "markdown",
      "metadata": {
        "id": "a65Y8PnKm_ar"
      },
      "source": [
        "#### Eliminación de Variables Correlacionadas"
      ]
    },
    {
      "cell_type": "code",
      "metadata": {
        "id": "CFLhcT-UnEiM"
      },
      "source": [
        "# Comentario:\r\n",
        "# No se eliminará variables correlacionadas\r\n",
        "# Las variables de historial de estado de cuenta tienen un grado de correlación fuerte, \r\n",
        "# sin embargo, cada una de estas variables mide la cantidad de meses que no se paga"
      ],
      "execution_count": null,
      "outputs": []
    },
    {
      "cell_type": "markdown",
      "metadata": {
        "id": "20-5NiinnIOV"
      },
      "source": [
        "#### Conversión de Variables de Formato Texto a Numérico / División de Variables Numéricas y Categóricas"
      ]
    },
    {
      "cell_type": "code",
      "metadata": {
        "id": "iww97L8-nJ8I"
      },
      "source": [
        "#Comentario:\r\n",
        "#Todas las variables son numéricas, no se requiere conversión ni división"
      ],
      "execution_count": null,
      "outputs": []
    },
    {
      "cell_type": "code",
      "metadata": {
        "id": "6egUh8iVUnBu"
      },
      "source": [
        "# numeric_columns = list()\r\n",
        "# categorical_columns = list()\r\n",
        "# columns_with_multiple_values = set()\r\n",
        "# dictionary_of_columns_with_index_to_categorical = dict()\r\n",
        "# dictionary_of_columns_with_categorical_to_index = dict()\r\n",
        "\r\n",
        "# for column in df_defcredcard_preproc:\r\n",
        "#   #Determinamos si la variable es numérica o no\r\n",
        "#   if pd.api.types.is_numeric_dtype(df_defcredcard_preproc[column]):\r\n",
        "#     numeric_columns.append(column)\r\n",
        "#   else:\r\n",
        "#     features = set()\r\n",
        "\r\n",
        "#     for row in df_defcredcard_preproc[column]:\r\n",
        "#       if isinstance(row, str):\r\n",
        "#         if (column not in columns_with_multiple_values) and (\";\" in row):\r\n",
        "#           columns_with_multiple_values.add(column)\r\n",
        "        \r\n",
        "#         values = row.split(\";\")\r\n",
        "#       else:\r\n",
        "#         continue\r\n",
        "      \r\n",
        "#       for value in values:\r\n",
        "#         if value not in features:\r\n",
        "#           features.add(value)\r\n",
        "    \r\n",
        "#     dictionary_of_columns_with_index_to_categorical[column] = dict()\r\n",
        "#     dictionary_of_columns_with_categorical_to_index[column] = dict()\r\n",
        "\r\n",
        "#     #Indexamos los valores (categorías), sin tomar en consideración los nulos, de la variable y guardamos esa información en los diccionarios\r\n",
        "#     for index, category in enumerate(features):\r\n",
        "#       dictionary_of_columns_with_index_to_categorical[column][index] = category\r\n",
        "#       dictionary_of_columns_with_categorical_to_index[column][category] = index\r\n",
        "    \r\n",
        "#     categorical_columns.append(column)"
      ],
      "execution_count": 46,
      "outputs": []
    },
    {
      "cell_type": "code",
      "metadata": {
        "colab": {
          "base_uri": "https://localhost:8080/"
        },
        "id": "n4steuOEXwNH",
        "outputId": "116d942a-e7d0-4deb-a490-fc96618c4a1b"
      },
      "source": [
        "print('Variables Categoricas: ', cat_vars(df_defcredcard_preproc).to_list())"
      ],
      "execution_count": 174,
      "outputs": [
        {
          "output_type": "stream",
          "text": [
            "Variables Categoricas:  ['SEX', 'EDUCATION', 'MARRIAGE', 'PAY_0', 'PAY_2', 'PAY_3', 'PAY_4', 'PAY_5', 'PAY_6', 'default_payment_next_month']\n"
          ],
          "name": "stdout"
        }
      ]
    },
    {
      "cell_type": "code",
      "metadata": {
        "colab": {
          "base_uri": "https://localhost:8080/"
        },
        "id": "JzltqECWVl7i",
        "outputId": "f4ab1db8-0ccd-40fb-b867-ed4e31a3e748"
      },
      "source": [
        "print('Categorias de variable SEX: ', set(df_defcredcard_preproc['SEX']))\r\n",
        "print('Categorias de variable EDUCATION: ', set(df_defcredcard_preproc['EDUCATION']))\r\n",
        "print('Categorias de variable MARRIAGE: ', set(df_defcredcard_preproc['MARRIAGE']))\r\n",
        "print('Categorias de variable PAY_0: ', set(df_defcredcard_preproc['PAY_0']))\r\n",
        "print('Categorias de variable PAY_2: ', set(df_defcredcard_preproc['PAY_2']))\r\n",
        "print('Categorias de variable PAY_3: ', set(df_defcredcard_preproc['PAY_3']))\r\n",
        "print('Categorias de variable PAY_4: ', set(df_defcredcard_preproc['PAY_4']))\r\n",
        "print('Categorias de variable PAY_5: ', set(df_defcredcard_preproc['PAY_5']))\r\n",
        "print('Categorias de variable PAY_6: ', set(df_defcredcard_preproc['PAY_6']))\r\n",
        "print('Categorias de variable default_payment_next_month: ', set(df_defcredcard_preproc['default_payment_next_month']))"
      ],
      "execution_count": 175,
      "outputs": [
        {
          "output_type": "stream",
          "text": [
            "Categorias de variable SEX:  {'2', '1'}\n",
            "Categorias de variable EDUCATION:  {'5', '6', '4', '3', '0', '1', '2'}\n",
            "Categorias de variable MARRIAGE:  {'2', '0', '3', '1'}\n",
            "Categorias de variable PAY_0:  {'-2', '5', '7', '4', '6', '3', '0', '-1', '1', '2', '8'}\n",
            "Categorias de variable PAY_2:  {'-2', '5', '7', '4', '6', '3', '0', '-1', '1', '2', '8'}\n",
            "Categorias de variable PAY_3:  {'-2', '5', '6', '4', '7', '3', '0', '-1', '1', '2', '8'}\n",
            "Categorias de variable PAY_4:  {'-2', '5', '7', '4', '6', '3', '0', '-1', '1', '2', '8'}\n",
            "Categorias de variable PAY_5:  {'-2', '5', '7', '4', '6', '3', '0', '-1', '2', '8'}\n",
            "Categorias de variable PAY_6:  {'-2', '5', '6', '4', '7', '3', '0', '-1', '2', '8'}\n",
            "Categorias de variable default_payment_next_month:  {'0', '1'}\n"
          ],
          "name": "stdout"
        }
      ]
    },
    {
      "cell_type": "code",
      "metadata": {
        "id": "2GqRLdCAY1GS"
      },
      "source": [
        "# Nota:\r\n",
        "# No se aplicará este tipo de conversiones de formato texto a formato numérico, \r\n",
        "# en su lugar, se aplicará la conversión One Hot Encoding (que convierte una var. categórica a numérica y a su vez convierte texto a número: 0 o 1)\r\n",
        "#\r\n",
        "# df_defcredcard_preproc['SEX'].replace(to_replace=['1', '2'], value=[1, 2], inplace=True)\r\n",
        "# df_defcredcard_preproc['EDUCATION'].replace(to_replace=['1', '2', '3', '4', '5', '6', '0'], value=[1, 2, 3, 4, 5, 6, 0], inplace=True)\r\n",
        "# df_defcredcard_preproc['MARRIAGE'].replace(to_replace=['1', '2', '3', '0'], value=[1, 2, 3, 0], inplace=True)\r\n",
        "# df_defcredcard_preproc['PAY_0'].replace(to_replace=['-1', '1', '2', '3', '4', '5', '6', '7', '8', '9', '-2', '0'], value=[-1, 1, 2, 3, 4, 5, 6, 7, 8, 9, -2, 0], inplace=True)\r\n",
        "# df_defcredcard_preproc['PAY_2'].replace(to_replace=['-1', '1', '2', '3', '4', '5', '6', '7', '8', '9', '-2', '0'], value=[-1, 1, 2, 3, 4, 5, 6, 7, 8, 9, -2, 0], inplace=True)\r\n",
        "# df_defcredcard_preproc['PAY_3'].replace(to_replace=['-1', '1', '2', '3', '4', '5', '6', '7', '8', '9', '-2', '0'], value=[-1, 1, 2, 3, 4, 5, 6, 7, 8, 9, -2, 0], inplace=True)\r\n",
        "# df_defcredcard_preproc['PAY_4'].replace(to_replace=['-1', '1', '2', '3', '4', '5', '6', '7', '8', '9', '-2', '0'], value=[-1, 1, 2, 3, 4, 5, 6, 7, 8, 9, -2, 0], inplace=True)\r\n",
        "# df_defcredcard_preproc['PAY_5'].replace(to_replace=['-1', '1', '2', '3', '4', '5', '6', '7', '8', '9', '-2', '0'], value=[-1, 1, 2, 3, 4, 5, 6, 7, 8, 9, -2, 0], inplace=True)\r\n",
        "# df_defcredcard_preproc['PAY_6'].replace(to_replace=['-1', '1', '2', '3', '4', '5', '6', '7', '8', '9', '-2', '0'], value=[-1, 1, 2, 3, 4, 5, 6, 7, 8, 9, -2, 0], inplace=True)\r\n",
        "# df_defcredcard_preproc['default_payment_next_month'].replace(to_replace=['0', '1'], value=[0, 1], inplace=True)"
      ],
      "execution_count": 124,
      "outputs": []
    },
    {
      "cell_type": "markdown",
      "metadata": {
        "id": "sSvipTOhWylV"
      },
      "source": [
        "#### Tratamiento de Valores Perdidos"
      ]
    },
    {
      "cell_type": "code",
      "metadata": {
        "id": "3pm2cu5EW1h0"
      },
      "source": [
        "#--------------------------------------------------------------------\r\n",
        "# TRATAMIENTO DE VALORES PERDIDOS PARA VAR. CATEGORICAS\r\n",
        "#--------------------------------------------------------------------\r\n",
        "df_defcredcard_preproc['EDUCATION'].replace(to_replace=['5', '6', '0'], value=['4', '4', '4'], inplace=True)\r\n",
        "df_defcredcard_preproc['MARRIAGE'].replace(to_replace=['0'], value=['3'], inplace=True)\r\n",
        "\r\n",
        "#'-999': Indeterminado\r\n",
        "df_defcredcard_preproc['PAY_0'].replace(to_replace=['-2', '0'], value=['-999', '-999'], inplace=True)\r\n",
        "df_defcredcard_preproc['PAY_2'].replace(to_replace=['-2', '0'], value=['-999', '-999'], inplace=True)\r\n",
        "df_defcredcard_preproc['PAY_3'].replace(to_replace=['-2', '0'], value=['-999', '-999'], inplace=True)\r\n",
        "df_defcredcard_preproc['PAY_4'].replace(to_replace=['-2', '0'], value=['-999', '-999'], inplace=True)\r\n",
        "df_defcredcard_preproc['PAY_5'].replace(to_replace=['-2', '0'], value=['-999', '-999'], inplace=True)\r\n",
        "df_defcredcard_preproc['PAY_6'].replace(to_replace=['-2', '0'], value=['-999', '-999'], inplace=True)"
      ],
      "execution_count": 176,
      "outputs": []
    },
    {
      "cell_type": "code",
      "metadata": {
        "colab": {
          "base_uri": "https://localhost:8080/"
        },
        "id": "FhXX1IrnipiF",
        "outputId": "3f791ecc-1230-4ae6-91f6-011c7b3aa4cf"
      },
      "source": [
        "print('Categorias de variable SEX: ', set(df_defcredcard_preproc['SEX']))\r\n",
        "print('Categorias de variable EDUCATION: ', set(df_defcredcard_preproc['EDUCATION']))\r\n",
        "print('Categorias de variable MARRIAGE: ', set(df_defcredcard_preproc['MARRIAGE']))\r\n",
        "print('Categorias de variable PAY_0: ', set(df_defcredcard_preproc['PAY_0']))\r\n",
        "print('Categorias de variable PAY_2: ', set(df_defcredcard_preproc['PAY_2']))\r\n",
        "print('Categorias de variable PAY_3: ', set(df_defcredcard_preproc['PAY_3']))\r\n",
        "print('Categorias de variable PAY_4: ', set(df_defcredcard_preproc['PAY_4']))\r\n",
        "print('Categorias de variable PAY_5: ', set(df_defcredcard_preproc['PAY_5']))\r\n",
        "print('Categorias de variable PAY_6: ', set(df_defcredcard_preproc['PAY_6']))\r\n",
        "print('Categorias de variable default_payment_next_month: ', set(df_defcredcard_preproc['default_payment_next_month']))"
      ],
      "execution_count": 177,
      "outputs": [
        {
          "output_type": "stream",
          "text": [
            "Categorias de variable SEX:  {'2', '1'}\n",
            "Categorias de variable EDUCATION:  {'2', '4', '3', '1'}\n",
            "Categorias de variable MARRIAGE:  {'2', '3', '1'}\n",
            "Categorias de variable PAY_0:  {'5', '7', '4', '6', '-999', '3', '-1', '1', '2', '8'}\n",
            "Categorias de variable PAY_2:  {'5', '7', '4', '6', '-999', '3', '-1', '1', '2', '8'}\n",
            "Categorias de variable PAY_3:  {'5', '6', '4', '7', '-999', '3', '-1', '1', '2', '8'}\n",
            "Categorias de variable PAY_4:  {'5', '7', '4', '6', '-999', '3', '-1', '1', '2', '8'}\n",
            "Categorias de variable PAY_5:  {'5', '7', '4', '6', '-999', '3', '-1', '2', '8'}\n",
            "Categorias de variable PAY_6:  {'5', '6', '4', '7', '-999', '3', '-1', '2', '8'}\n",
            "Categorias de variable default_payment_next_month:  {'0', '1'}\n"
          ],
          "name": "stdout"
        }
      ]
    },
    {
      "cell_type": "code",
      "metadata": {
        "colab": {
          "base_uri": "https://localhost:8080/"
        },
        "id": "viz4pgJnaa62",
        "outputId": "2ad8358b-9ed6-4ead-fb41-37c57596d12d"
      },
      "source": [
        "df_defcredcard_preproc.info()"
      ],
      "execution_count": 178,
      "outputs": [
        {
          "output_type": "stream",
          "text": [
            "<class 'pandas.core.frame.DataFrame'>\n",
            "Int64Index: 29965 entries, 0 to 29999\n",
            "Data columns (total 24 columns):\n",
            " #   Column                      Non-Null Count  Dtype \n",
            "---  ------                      --------------  ----- \n",
            " 0   LIMIT_BAL                   29965 non-null  int64 \n",
            " 1   SEX                         29965 non-null  object\n",
            " 2   EDUCATION                   29965 non-null  object\n",
            " 3   MARRIAGE                    29965 non-null  object\n",
            " 4   AGE                         29965 non-null  int64 \n",
            " 5   PAY_0                       29965 non-null  object\n",
            " 6   PAY_2                       29965 non-null  object\n",
            " 7   PAY_3                       29965 non-null  object\n",
            " 8   PAY_4                       29965 non-null  object\n",
            " 9   PAY_5                       29965 non-null  object\n",
            " 10  PAY_6                       29965 non-null  object\n",
            " 11  BILL_AMT1                   29965 non-null  int64 \n",
            " 12  BILL_AMT2                   29965 non-null  int64 \n",
            " 13  BILL_AMT3                   29965 non-null  int64 \n",
            " 14  BILL_AMT4                   29965 non-null  int64 \n",
            " 15  BILL_AMT5                   29965 non-null  int64 \n",
            " 16  BILL_AMT6                   29965 non-null  int64 \n",
            " 17  PAY_AMT1                    29965 non-null  int64 \n",
            " 18  PAY_AMT2                    29965 non-null  int64 \n",
            " 19  PAY_AMT3                    29965 non-null  int64 \n",
            " 20  PAY_AMT4                    29965 non-null  int64 \n",
            " 21  PAY_AMT5                    29965 non-null  int64 \n",
            " 22  PAY_AMT6                    29965 non-null  int64 \n",
            " 23  default_payment_next_month  29965 non-null  object\n",
            "dtypes: int64(14), object(10)\n",
            "memory usage: 5.7+ MB\n"
          ],
          "name": "stdout"
        }
      ]
    },
    {
      "cell_type": "code",
      "metadata": {
        "id": "D2sRepJykI1W"
      },
      "source": [
        "#--------------------------------------------------------------------\r\n",
        "# TRATAMIENTO DE VALORES PERDIDOS PARA VAR. NUMÉRICAS\r\n",
        "#--------------------------------------------------------------------"
      ],
      "execution_count": null,
      "outputs": []
    },
    {
      "cell_type": "markdown",
      "metadata": {
        "id": "It2z-VTwnewJ"
      },
      "source": [
        "#### Tratamiento de Valores Nulos"
      ]
    },
    {
      "cell_type": "code",
      "metadata": {
        "colab": {
          "base_uri": "https://localhost:8080/",
          "height": 47
        },
        "id": "XxvM0PQdnfqS",
        "outputId": "f1a06e48-267a-48f2-9dd8-e8fba42edf3e"
      },
      "source": [
        "#Comentario:\r\n",
        "#No se encontró registros con valores nulos\r\n",
        "pd.DataFrame(df_defcredcard_preproc.isna().sum()/len(df_defcredcard_preproc))[pd.DataFrame(df_defcredcard_preproc.isna().sum()/len(df_defcredcard_preproc))[0] > 0]"
      ],
      "execution_count": 179,
      "outputs": [
        {
          "output_type": "execute_result",
          "data": {
            "text/html": [
              "<div>\n",
              "<style scoped>\n",
              "    .dataframe tbody tr th:only-of-type {\n",
              "        vertical-align: middle;\n",
              "    }\n",
              "\n",
              "    .dataframe tbody tr th {\n",
              "        vertical-align: top;\n",
              "    }\n",
              "\n",
              "    .dataframe thead th {\n",
              "        text-align: right;\n",
              "    }\n",
              "</style>\n",
              "<table border=\"1\" class=\"dataframe\">\n",
              "  <thead>\n",
              "    <tr style=\"text-align: right;\">\n",
              "      <th></th>\n",
              "      <th>0</th>\n",
              "    </tr>\n",
              "  </thead>\n",
              "  <tbody>\n",
              "  </tbody>\n",
              "</table>\n",
              "</div>"
            ],
            "text/plain": [
              "Empty DataFrame\n",
              "Columns: [0]\n",
              "Index: []"
            ]
          },
          "metadata": {
            "tags": []
          },
          "execution_count": 179
        }
      ]
    },
    {
      "cell_type": "markdown",
      "metadata": {
        "id": "sSdr1iJPnr4t"
      },
      "source": [
        "##### Eliminación de Valores Nulos"
      ]
    },
    {
      "cell_type": "code",
      "metadata": {
        "id": "-wO5tT5FntoM"
      },
      "source": [
        "#Comentario:\r\n",
        "#No se encontró registros con valores nulos para eliminación:\r\n",
        "#1) Filas con Bajo % de Valores Nulos\r\n",
        "#2) Columnas con Alto % de Valores Nulos"
      ],
      "execution_count": 136,
      "outputs": []
    },
    {
      "cell_type": "markdown",
      "metadata": {
        "id": "3O6FPkyHnwLn"
      },
      "source": [
        "##### Imputación (Estimación) de Valores Nulos"
      ]
    },
    {
      "cell_type": "code",
      "metadata": {
        "id": "Ug4TUDN2nyXA"
      },
      "source": [
        "#Comentario:\r\n",
        "#No se encontró registros con valores nulos para imputación"
      ],
      "execution_count": null,
      "outputs": []
    },
    {
      "cell_type": "code",
      "metadata": {
        "id": "WUm_r1YAN6C1"
      },
      "source": [
        "#data['df_defcredcard_preproc'] = data['df_defcredcard_preproc'].fillna(value=\"nulo\")"
      ],
      "execution_count": null,
      "outputs": []
    },
    {
      "cell_type": "markdown",
      "metadata": {
        "id": "0WugSt0dn3qI"
      },
      "source": [
        "#### **CREACIÓN / TRANSFORMACION DE CARACTERÍSTICAS**"
      ]
    },
    {
      "cell_type": "code",
      "metadata": {
        "id": "c78LBr0Bn61M"
      },
      "source": [
        "#Comentario:\r\n",
        "#No se creará nuevas variables"
      ],
      "execution_count": null,
      "outputs": []
    },
    {
      "cell_type": "code",
      "metadata": {
        "id": "FOSRLgC9l60p"
      },
      "source": [
        "df_defcredcard_preproc_OneHotEnc = pd.get_dummies(\r\n",
        "                                                  df_defcredcard_preproc, \r\n",
        "                                                  drop_first=True, # Eliminar la 1ra categoria para obtener k-1 categorias (para evitar correlación de variables redundantes)\r\n",
        "                                                  #dummy_na=True # Adicionar una columna para indicar NaN\r\n",
        "                                                  )\r\n",
        "# Renombrar variable objetivo\r\n",
        "df_defcredcard_preproc_OneHotEnc.rename(columns={'default_payment_next_month_1': 'default_payment_next_month'}, inplace=True)"
      ],
      "execution_count": 198,
      "outputs": []
    },
    {
      "cell_type": "code",
      "metadata": {
        "colab": {
          "base_uri": "https://localhost:8080/",
          "height": 214
        },
        "id": "-KZxLT2loTQu",
        "outputId": "0592abc4-e75a-41c4-fe15-59754b0d78c1"
      },
      "source": [
        "df_defcredcard_preproc_OneHotEnc.head()"
      ],
      "execution_count": 199,
      "outputs": [
        {
          "output_type": "execute_result",
          "data": {
            "text/html": [
              "<div>\n",
              "<style scoped>\n",
              "    .dataframe tbody tr th:only-of-type {\n",
              "        vertical-align: middle;\n",
              "    }\n",
              "\n",
              "    .dataframe tbody tr th {\n",
              "        vertical-align: top;\n",
              "    }\n",
              "\n",
              "    .dataframe thead th {\n",
              "        text-align: right;\n",
              "    }\n",
              "</style>\n",
              "<table border=\"1\" class=\"dataframe\">\n",
              "  <thead>\n",
              "    <tr style=\"text-align: right;\">\n",
              "      <th></th>\n",
              "      <th>LIMIT_BAL</th>\n",
              "      <th>AGE</th>\n",
              "      <th>BILL_AMT1</th>\n",
              "      <th>BILL_AMT2</th>\n",
              "      <th>BILL_AMT3</th>\n",
              "      <th>BILL_AMT4</th>\n",
              "      <th>BILL_AMT5</th>\n",
              "      <th>BILL_AMT6</th>\n",
              "      <th>PAY_AMT1</th>\n",
              "      <th>PAY_AMT2</th>\n",
              "      <th>PAY_AMT3</th>\n",
              "      <th>PAY_AMT4</th>\n",
              "      <th>PAY_AMT5</th>\n",
              "      <th>PAY_AMT6</th>\n",
              "      <th>SEX_2</th>\n",
              "      <th>EDUCATION_2</th>\n",
              "      <th>EDUCATION_3</th>\n",
              "      <th>EDUCATION_4</th>\n",
              "      <th>MARRIAGE_2</th>\n",
              "      <th>MARRIAGE_3</th>\n",
              "      <th>PAY_0_-999</th>\n",
              "      <th>PAY_0_1</th>\n",
              "      <th>PAY_0_2</th>\n",
              "      <th>PAY_0_3</th>\n",
              "      <th>PAY_0_4</th>\n",
              "      <th>PAY_0_5</th>\n",
              "      <th>PAY_0_6</th>\n",
              "      <th>PAY_0_7</th>\n",
              "      <th>PAY_0_8</th>\n",
              "      <th>PAY_2_-999</th>\n",
              "      <th>PAY_2_1</th>\n",
              "      <th>PAY_2_2</th>\n",
              "      <th>PAY_2_3</th>\n",
              "      <th>PAY_2_4</th>\n",
              "      <th>PAY_2_5</th>\n",
              "      <th>PAY_2_6</th>\n",
              "      <th>PAY_2_7</th>\n",
              "      <th>PAY_2_8</th>\n",
              "      <th>PAY_3_-999</th>\n",
              "      <th>PAY_3_1</th>\n",
              "      <th>PAY_3_2</th>\n",
              "      <th>PAY_3_3</th>\n",
              "      <th>PAY_3_4</th>\n",
              "      <th>PAY_3_5</th>\n",
              "      <th>PAY_3_6</th>\n",
              "      <th>PAY_3_7</th>\n",
              "      <th>PAY_3_8</th>\n",
              "      <th>PAY_4_-999</th>\n",
              "      <th>PAY_4_1</th>\n",
              "      <th>PAY_4_2</th>\n",
              "      <th>PAY_4_3</th>\n",
              "      <th>PAY_4_4</th>\n",
              "      <th>PAY_4_5</th>\n",
              "      <th>PAY_4_6</th>\n",
              "      <th>PAY_4_7</th>\n",
              "      <th>PAY_4_8</th>\n",
              "      <th>PAY_5_-999</th>\n",
              "      <th>PAY_5_2</th>\n",
              "      <th>PAY_5_3</th>\n",
              "      <th>PAY_5_4</th>\n",
              "      <th>PAY_5_5</th>\n",
              "      <th>PAY_5_6</th>\n",
              "      <th>PAY_5_7</th>\n",
              "      <th>PAY_5_8</th>\n",
              "      <th>PAY_6_-999</th>\n",
              "      <th>PAY_6_2</th>\n",
              "      <th>PAY_6_3</th>\n",
              "      <th>PAY_6_4</th>\n",
              "      <th>PAY_6_5</th>\n",
              "      <th>PAY_6_6</th>\n",
              "      <th>PAY_6_7</th>\n",
              "      <th>PAY_6_8</th>\n",
              "      <th>default_payment_next_month</th>\n",
              "    </tr>\n",
              "  </thead>\n",
              "  <tbody>\n",
              "    <tr>\n",
              "      <th>0</th>\n",
              "      <td>20000</td>\n",
              "      <td>24</td>\n",
              "      <td>3913</td>\n",
              "      <td>3102</td>\n",
              "      <td>689</td>\n",
              "      <td>0</td>\n",
              "      <td>0</td>\n",
              "      <td>0</td>\n",
              "      <td>0</td>\n",
              "      <td>689</td>\n",
              "      <td>0</td>\n",
              "      <td>0</td>\n",
              "      <td>0</td>\n",
              "      <td>0</td>\n",
              "      <td>1</td>\n",
              "      <td>1</td>\n",
              "      <td>0</td>\n",
              "      <td>0</td>\n",
              "      <td>0</td>\n",
              "      <td>0</td>\n",
              "      <td>0</td>\n",
              "      <td>0</td>\n",
              "      <td>1</td>\n",
              "      <td>0</td>\n",
              "      <td>0</td>\n",
              "      <td>0</td>\n",
              "      <td>0</td>\n",
              "      <td>0</td>\n",
              "      <td>0</td>\n",
              "      <td>0</td>\n",
              "      <td>0</td>\n",
              "      <td>1</td>\n",
              "      <td>0</td>\n",
              "      <td>0</td>\n",
              "      <td>0</td>\n",
              "      <td>0</td>\n",
              "      <td>0</td>\n",
              "      <td>0</td>\n",
              "      <td>0</td>\n",
              "      <td>0</td>\n",
              "      <td>0</td>\n",
              "      <td>0</td>\n",
              "      <td>0</td>\n",
              "      <td>0</td>\n",
              "      <td>0</td>\n",
              "      <td>0</td>\n",
              "      <td>0</td>\n",
              "      <td>0</td>\n",
              "      <td>0</td>\n",
              "      <td>0</td>\n",
              "      <td>0</td>\n",
              "      <td>0</td>\n",
              "      <td>0</td>\n",
              "      <td>0</td>\n",
              "      <td>0</td>\n",
              "      <td>0</td>\n",
              "      <td>1</td>\n",
              "      <td>0</td>\n",
              "      <td>0</td>\n",
              "      <td>0</td>\n",
              "      <td>0</td>\n",
              "      <td>0</td>\n",
              "      <td>0</td>\n",
              "      <td>0</td>\n",
              "      <td>1</td>\n",
              "      <td>0</td>\n",
              "      <td>0</td>\n",
              "      <td>0</td>\n",
              "      <td>0</td>\n",
              "      <td>0</td>\n",
              "      <td>0</td>\n",
              "      <td>0</td>\n",
              "      <td>1</td>\n",
              "    </tr>\n",
              "    <tr>\n",
              "      <th>1</th>\n",
              "      <td>120000</td>\n",
              "      <td>26</td>\n",
              "      <td>2682</td>\n",
              "      <td>1725</td>\n",
              "      <td>2682</td>\n",
              "      <td>3272</td>\n",
              "      <td>3455</td>\n",
              "      <td>3261</td>\n",
              "      <td>0</td>\n",
              "      <td>1000</td>\n",
              "      <td>1000</td>\n",
              "      <td>1000</td>\n",
              "      <td>0</td>\n",
              "      <td>2000</td>\n",
              "      <td>1</td>\n",
              "      <td>1</td>\n",
              "      <td>0</td>\n",
              "      <td>0</td>\n",
              "      <td>1</td>\n",
              "      <td>0</td>\n",
              "      <td>0</td>\n",
              "      <td>0</td>\n",
              "      <td>0</td>\n",
              "      <td>0</td>\n",
              "      <td>0</td>\n",
              "      <td>0</td>\n",
              "      <td>0</td>\n",
              "      <td>0</td>\n",
              "      <td>0</td>\n",
              "      <td>0</td>\n",
              "      <td>0</td>\n",
              "      <td>1</td>\n",
              "      <td>0</td>\n",
              "      <td>0</td>\n",
              "      <td>0</td>\n",
              "      <td>0</td>\n",
              "      <td>0</td>\n",
              "      <td>0</td>\n",
              "      <td>1</td>\n",
              "      <td>0</td>\n",
              "      <td>0</td>\n",
              "      <td>0</td>\n",
              "      <td>0</td>\n",
              "      <td>0</td>\n",
              "      <td>0</td>\n",
              "      <td>0</td>\n",
              "      <td>0</td>\n",
              "      <td>1</td>\n",
              "      <td>0</td>\n",
              "      <td>0</td>\n",
              "      <td>0</td>\n",
              "      <td>0</td>\n",
              "      <td>0</td>\n",
              "      <td>0</td>\n",
              "      <td>0</td>\n",
              "      <td>0</td>\n",
              "      <td>1</td>\n",
              "      <td>0</td>\n",
              "      <td>0</td>\n",
              "      <td>0</td>\n",
              "      <td>0</td>\n",
              "      <td>0</td>\n",
              "      <td>0</td>\n",
              "      <td>0</td>\n",
              "      <td>0</td>\n",
              "      <td>1</td>\n",
              "      <td>0</td>\n",
              "      <td>0</td>\n",
              "      <td>0</td>\n",
              "      <td>0</td>\n",
              "      <td>0</td>\n",
              "      <td>0</td>\n",
              "      <td>1</td>\n",
              "    </tr>\n",
              "    <tr>\n",
              "      <th>2</th>\n",
              "      <td>90000</td>\n",
              "      <td>34</td>\n",
              "      <td>29239</td>\n",
              "      <td>14027</td>\n",
              "      <td>13559</td>\n",
              "      <td>14331</td>\n",
              "      <td>14948</td>\n",
              "      <td>15549</td>\n",
              "      <td>1518</td>\n",
              "      <td>1500</td>\n",
              "      <td>1000</td>\n",
              "      <td>1000</td>\n",
              "      <td>1000</td>\n",
              "      <td>5000</td>\n",
              "      <td>1</td>\n",
              "      <td>1</td>\n",
              "      <td>0</td>\n",
              "      <td>0</td>\n",
              "      <td>1</td>\n",
              "      <td>0</td>\n",
              "      <td>1</td>\n",
              "      <td>0</td>\n",
              "      <td>0</td>\n",
              "      <td>0</td>\n",
              "      <td>0</td>\n",
              "      <td>0</td>\n",
              "      <td>0</td>\n",
              "      <td>0</td>\n",
              "      <td>0</td>\n",
              "      <td>1</td>\n",
              "      <td>0</td>\n",
              "      <td>0</td>\n",
              "      <td>0</td>\n",
              "      <td>0</td>\n",
              "      <td>0</td>\n",
              "      <td>0</td>\n",
              "      <td>0</td>\n",
              "      <td>0</td>\n",
              "      <td>1</td>\n",
              "      <td>0</td>\n",
              "      <td>0</td>\n",
              "      <td>0</td>\n",
              "      <td>0</td>\n",
              "      <td>0</td>\n",
              "      <td>0</td>\n",
              "      <td>0</td>\n",
              "      <td>0</td>\n",
              "      <td>1</td>\n",
              "      <td>0</td>\n",
              "      <td>0</td>\n",
              "      <td>0</td>\n",
              "      <td>0</td>\n",
              "      <td>0</td>\n",
              "      <td>0</td>\n",
              "      <td>0</td>\n",
              "      <td>0</td>\n",
              "      <td>1</td>\n",
              "      <td>0</td>\n",
              "      <td>0</td>\n",
              "      <td>0</td>\n",
              "      <td>0</td>\n",
              "      <td>0</td>\n",
              "      <td>0</td>\n",
              "      <td>0</td>\n",
              "      <td>1</td>\n",
              "      <td>0</td>\n",
              "      <td>0</td>\n",
              "      <td>0</td>\n",
              "      <td>0</td>\n",
              "      <td>0</td>\n",
              "      <td>0</td>\n",
              "      <td>0</td>\n",
              "      <td>0</td>\n",
              "    </tr>\n",
              "    <tr>\n",
              "      <th>3</th>\n",
              "      <td>50000</td>\n",
              "      <td>37</td>\n",
              "      <td>46990</td>\n",
              "      <td>48233</td>\n",
              "      <td>49291</td>\n",
              "      <td>28314</td>\n",
              "      <td>28959</td>\n",
              "      <td>29547</td>\n",
              "      <td>2000</td>\n",
              "      <td>2019</td>\n",
              "      <td>1200</td>\n",
              "      <td>1100</td>\n",
              "      <td>1069</td>\n",
              "      <td>1000</td>\n",
              "      <td>1</td>\n",
              "      <td>1</td>\n",
              "      <td>0</td>\n",
              "      <td>0</td>\n",
              "      <td>0</td>\n",
              "      <td>0</td>\n",
              "      <td>1</td>\n",
              "      <td>0</td>\n",
              "      <td>0</td>\n",
              "      <td>0</td>\n",
              "      <td>0</td>\n",
              "      <td>0</td>\n",
              "      <td>0</td>\n",
              "      <td>0</td>\n",
              "      <td>0</td>\n",
              "      <td>1</td>\n",
              "      <td>0</td>\n",
              "      <td>0</td>\n",
              "      <td>0</td>\n",
              "      <td>0</td>\n",
              "      <td>0</td>\n",
              "      <td>0</td>\n",
              "      <td>0</td>\n",
              "      <td>0</td>\n",
              "      <td>1</td>\n",
              "      <td>0</td>\n",
              "      <td>0</td>\n",
              "      <td>0</td>\n",
              "      <td>0</td>\n",
              "      <td>0</td>\n",
              "      <td>0</td>\n",
              "      <td>0</td>\n",
              "      <td>0</td>\n",
              "      <td>1</td>\n",
              "      <td>0</td>\n",
              "      <td>0</td>\n",
              "      <td>0</td>\n",
              "      <td>0</td>\n",
              "      <td>0</td>\n",
              "      <td>0</td>\n",
              "      <td>0</td>\n",
              "      <td>0</td>\n",
              "      <td>1</td>\n",
              "      <td>0</td>\n",
              "      <td>0</td>\n",
              "      <td>0</td>\n",
              "      <td>0</td>\n",
              "      <td>0</td>\n",
              "      <td>0</td>\n",
              "      <td>0</td>\n",
              "      <td>1</td>\n",
              "      <td>0</td>\n",
              "      <td>0</td>\n",
              "      <td>0</td>\n",
              "      <td>0</td>\n",
              "      <td>0</td>\n",
              "      <td>0</td>\n",
              "      <td>0</td>\n",
              "      <td>0</td>\n",
              "    </tr>\n",
              "    <tr>\n",
              "      <th>4</th>\n",
              "      <td>50000</td>\n",
              "      <td>57</td>\n",
              "      <td>8617</td>\n",
              "      <td>5670</td>\n",
              "      <td>35835</td>\n",
              "      <td>20940</td>\n",
              "      <td>19146</td>\n",
              "      <td>19131</td>\n",
              "      <td>2000</td>\n",
              "      <td>36681</td>\n",
              "      <td>10000</td>\n",
              "      <td>9000</td>\n",
              "      <td>689</td>\n",
              "      <td>679</td>\n",
              "      <td>0</td>\n",
              "      <td>1</td>\n",
              "      <td>0</td>\n",
              "      <td>0</td>\n",
              "      <td>0</td>\n",
              "      <td>0</td>\n",
              "      <td>0</td>\n",
              "      <td>0</td>\n",
              "      <td>0</td>\n",
              "      <td>0</td>\n",
              "      <td>0</td>\n",
              "      <td>0</td>\n",
              "      <td>0</td>\n",
              "      <td>0</td>\n",
              "      <td>0</td>\n",
              "      <td>1</td>\n",
              "      <td>0</td>\n",
              "      <td>0</td>\n",
              "      <td>0</td>\n",
              "      <td>0</td>\n",
              "      <td>0</td>\n",
              "      <td>0</td>\n",
              "      <td>0</td>\n",
              "      <td>0</td>\n",
              "      <td>0</td>\n",
              "      <td>0</td>\n",
              "      <td>0</td>\n",
              "      <td>0</td>\n",
              "      <td>0</td>\n",
              "      <td>0</td>\n",
              "      <td>0</td>\n",
              "      <td>0</td>\n",
              "      <td>0</td>\n",
              "      <td>1</td>\n",
              "      <td>0</td>\n",
              "      <td>0</td>\n",
              "      <td>0</td>\n",
              "      <td>0</td>\n",
              "      <td>0</td>\n",
              "      <td>0</td>\n",
              "      <td>0</td>\n",
              "      <td>0</td>\n",
              "      <td>1</td>\n",
              "      <td>0</td>\n",
              "      <td>0</td>\n",
              "      <td>0</td>\n",
              "      <td>0</td>\n",
              "      <td>0</td>\n",
              "      <td>0</td>\n",
              "      <td>0</td>\n",
              "      <td>1</td>\n",
              "      <td>0</td>\n",
              "      <td>0</td>\n",
              "      <td>0</td>\n",
              "      <td>0</td>\n",
              "      <td>0</td>\n",
              "      <td>0</td>\n",
              "      <td>0</td>\n",
              "      <td>0</td>\n",
              "    </tr>\n",
              "  </tbody>\n",
              "</table>\n",
              "</div>"
            ],
            "text/plain": [
              "   LIMIT_BAL  AGE  BILL_AMT1  ...  PAY_6_7  PAY_6_8  default_payment_next_month\n",
              "0      20000   24       3913  ...        0        0                           1\n",
              "1     120000   26       2682  ...        0        0                           1\n",
              "2      90000   34      29239  ...        0        0                           0\n",
              "3      50000   37      46990  ...        0        0                           0\n",
              "4      50000   57       8617  ...        0        0                           0\n",
              "\n",
              "[5 rows x 73 columns]"
            ]
          },
          "metadata": {
            "tags": []
          },
          "execution_count": 199
        }
      ]
    },
    {
      "cell_type": "code",
      "metadata": {
        "colab": {
          "base_uri": "https://localhost:8080/"
        },
        "id": "slKqHdtDtChA",
        "outputId": "948d4230-8198-4348-a031-c83d3aef0727"
      },
      "source": [
        "df_defcredcard_preproc_OneHotEnc.shape"
      ],
      "execution_count": 200,
      "outputs": [
        {
          "output_type": "execute_result",
          "data": {
            "text/plain": [
              "(29965, 73)"
            ]
          },
          "metadata": {
            "tags": []
          },
          "execution_count": 200
        }
      ]
    },
    {
      "cell_type": "code",
      "metadata": {
        "colab": {
          "base_uri": "https://localhost:8080/"
        },
        "id": "aoizbIkQtQkB",
        "outputId": "df6d30bc-c1bf-469f-e184-3c31ea81e013"
      },
      "source": [
        "df_defcredcard_preproc_OneHotEnc.columns"
      ],
      "execution_count": 201,
      "outputs": [
        {
          "output_type": "execute_result",
          "data": {
            "text/plain": [
              "Index(['LIMIT_BAL', 'AGE', 'BILL_AMT1', 'BILL_AMT2', 'BILL_AMT3', 'BILL_AMT4',\n",
              "       'BILL_AMT5', 'BILL_AMT6', 'PAY_AMT1', 'PAY_AMT2', 'PAY_AMT3',\n",
              "       'PAY_AMT4', 'PAY_AMT5', 'PAY_AMT6', 'SEX_2', 'EDUCATION_2',\n",
              "       'EDUCATION_3', 'EDUCATION_4', 'MARRIAGE_2', 'MARRIAGE_3', 'PAY_0_-999',\n",
              "       'PAY_0_1', 'PAY_0_2', 'PAY_0_3', 'PAY_0_4', 'PAY_0_5', 'PAY_0_6',\n",
              "       'PAY_0_7', 'PAY_0_8', 'PAY_2_-999', 'PAY_2_1', 'PAY_2_2', 'PAY_2_3',\n",
              "       'PAY_2_4', 'PAY_2_5', 'PAY_2_6', 'PAY_2_7', 'PAY_2_8', 'PAY_3_-999',\n",
              "       'PAY_3_1', 'PAY_3_2', 'PAY_3_3', 'PAY_3_4', 'PAY_3_5', 'PAY_3_6',\n",
              "       'PAY_3_7', 'PAY_3_8', 'PAY_4_-999', 'PAY_4_1', 'PAY_4_2', 'PAY_4_3',\n",
              "       'PAY_4_4', 'PAY_4_5', 'PAY_4_6', 'PAY_4_7', 'PAY_4_8', 'PAY_5_-999',\n",
              "       'PAY_5_2', 'PAY_5_3', 'PAY_5_4', 'PAY_5_5', 'PAY_5_6', 'PAY_5_7',\n",
              "       'PAY_5_8', 'PAY_6_-999', 'PAY_6_2', 'PAY_6_3', 'PAY_6_4', 'PAY_6_5',\n",
              "       'PAY_6_6', 'PAY_6_7', 'PAY_6_8', 'default_payment_next_month'],\n",
              "      dtype='object')"
            ]
          },
          "metadata": {
            "tags": []
          },
          "execution_count": 201
        }
      ]
    },
    {
      "cell_type": "code",
      "metadata": {
        "id": "63nbHgpvtP7B"
      },
      "source": [
        "#import pickle\r\n",
        "\r\n",
        "# Guardar las columnas del dataset post preprocesamiento y OneHotEncoding en un archivo físico\r\n",
        "with open('cols_preproc_OneHotEnc.pickle', 'wb') as handle:\r\n",
        "    pickle.dump(df_defcredcard_preproc_OneHotEnc.columns, handle, protocol=pickle.HIGHEST_PROTOCOL)"
      ],
      "execution_count": 202,
      "outputs": []
    },
    {
      "cell_type": "code",
      "metadata": {
        "id": "2gvYRxlXturv"
      },
      "source": [
        "# Importar las columnas del dataset post preprocesamiento y OneHotEncoding en un archivo físico\r\n",
        "#with open('cols_preproc_OneHotEnc.pickle', 'rb') as handle:\r\n",
        "#    cols_defcredcar_preproc_ohe = pickle.load(handle)"
      ],
      "execution_count": 191,
      "outputs": []
    },
    {
      "cell_type": "code",
      "metadata": {
        "id": "pj5Ppx8euBwj"
      },
      "source": [
        "#cols_defcredcar_preproc_ohe"
      ],
      "execution_count": 193,
      "outputs": []
    },
    {
      "cell_type": "code",
      "metadata": {
        "id": "_cm6tDU6uYuc"
      },
      "source": [
        "# Reemplazar categorías faltantes en dataset nuevo con categorias de dataset original y \r\n",
        "# reemplazar valores nulos con un valor definido (0)\r\n",
        "#pd.get_dummies(df_defcredcard_preproc_OneHotEnc_test).reindex(columns = cols_defcredcar_preproc_ohe, fill_value=0)"
      ],
      "execution_count": null,
      "outputs": []
    },
    {
      "cell_type": "code",
      "metadata": {
        "id": "R9yafZVDwdkV"
      },
      "source": [
        "# Guardar dataset post preprocesamiento y OneHotEncoding en un archivo físico\r\n",
        "with open('df_preproc_OneHotEnc.pickle', 'wb') as f:\r\n",
        "    pickle.dump(df_defcredcard_preproc_OneHotEnc, f)"
      ],
      "execution_count": 204,
      "outputs": []
    },
    {
      "cell_type": "code",
      "metadata": {
        "id": "FZ-Flk5xxBQ3"
      },
      "source": [
        "# Importar dataset post preprocesamiento y OneHotEncoding en un archivo físico\r\n",
        "with open('df_preproc_OneHotEnc.pickle', 'rb') as f:\r\n",
        "   df_defcredcard_preproc_ohe = pickle.load(f)"
      ],
      "execution_count": 205,
      "outputs": []
    },
    {
      "cell_type": "code",
      "metadata": {
        "colab": {
          "base_uri": "https://localhost:8080/"
        },
        "id": "Qk4Xf5kKxPYA",
        "outputId": "0e3b54bd-6aeb-45cb-cf3d-26dc532bb151"
      },
      "source": [
        "df_defcredcard_preproc_ohe.shape"
      ],
      "execution_count": 208,
      "outputs": [
        {
          "output_type": "execute_result",
          "data": {
            "text/plain": [
              "(29965, 73)"
            ]
          },
          "metadata": {
            "tags": []
          },
          "execution_count": 208
        }
      ]
    },
    {
      "cell_type": "markdown",
      "metadata": {
        "id": "8wZe2c4MoG-T"
      },
      "source": [
        "#### **REDUCCIÓN DE DIMENSIONALIDAD**"
      ]
    },
    {
      "cell_type": "code",
      "metadata": {
        "id": "_Y0UTQ89n9MJ"
      },
      "source": [
        ""
      ],
      "execution_count": null,
      "outputs": []
    },
    {
      "cell_type": "markdown",
      "metadata": {
        "id": "uM0hfJOeoflH"
      },
      "source": [
        "## **DIVISIÓN DE LOS DATOS**"
      ]
    },
    {
      "cell_type": "code",
      "metadata": {
        "id": "JU0EMtrgxslk"
      },
      "source": [
        "X = df_defcredcard_preproc_ohe.iloc[:,:-1]\r\n",
        "y = df_defcredcard_preproc_ohe.iloc[:,-1]"
      ],
      "execution_count": 213,
      "outputs": []
    },
    {
      "cell_type": "code",
      "metadata": {
        "id": "15UvViKB1HRD"
      },
      "source": [
        "#from sklearn.model_selection import train_test_split\r\n",
        "X_train, X_test, y_train, y_test = train_test_split(X, y, test_size=0.20, random_state=42, stratify=y)"
      ],
      "execution_count": 215,
      "outputs": []
    },
    {
      "cell_type": "code",
      "metadata": {
        "colab": {
          "base_uri": "https://localhost:8080/"
        },
        "id": "jCYPPjM01JKJ",
        "outputId": "2a35b7ae-198a-414a-886f-ddda2a8f4b48"
      },
      "source": [
        "X_train.shape, X_test.shape"
      ],
      "execution_count": 216,
      "outputs": [
        {
          "output_type": "execute_result",
          "data": {
            "text/plain": [
              "((23972, 72), (5993, 72))"
            ]
          },
          "metadata": {
            "tags": []
          },
          "execution_count": 216
        }
      ]
    },
    {
      "cell_type": "code",
      "metadata": {
        "colab": {
          "base_uri": "https://localhost:8080/"
        },
        "id": "F4u6aPol2ab8",
        "outputId": "1cb07ca2-f388-45d2-b1db-61701485b9b1"
      },
      "source": [
        "y_train.shape, y_test.shape"
      ],
      "execution_count": 217,
      "outputs": [
        {
          "output_type": "execute_result",
          "data": {
            "text/plain": [
              "((23972,), (5993,))"
            ]
          },
          "metadata": {
            "tags": []
          },
          "execution_count": 217
        }
      ]
    },
    {
      "cell_type": "markdown",
      "metadata": {
        "id": "N8MxfSUv3QLE"
      },
      "source": [
        "## **BALANCEO DE DATOS**"
      ]
    },
    {
      "cell_type": "markdown",
      "metadata": {
        "id": "92hzBpu85EbR"
      },
      "source": [
        "#### Balanceo de Datos (Dataset de Entrenamiento)"
      ]
    },
    {
      "cell_type": "code",
      "metadata": {
        "colab": {
          "base_uri": "https://localhost:8080/",
          "height": 106
        },
        "id": "Dfwu6ELs3mEa",
        "outputId": "469e576f-2c38-4678-c08e-e30ab572397a"
      },
      "source": [
        "#---------------------------------------------------------------------------------\r\n",
        "# Tabla de Contingencia de Variable Objetivo\r\n",
        "#---------------------------------------------------------------------------------\r\n",
        "pd.DataFrame({'Cantidad': y_train.value_counts(), '%': y_train.value_counts(normalize=True) * 100})"
      ],
      "execution_count": 218,
      "outputs": [
        {
          "output_type": "execute_result",
          "data": {
            "text/html": [
              "<div>\n",
              "<style scoped>\n",
              "    .dataframe tbody tr th:only-of-type {\n",
              "        vertical-align: middle;\n",
              "    }\n",
              "\n",
              "    .dataframe tbody tr th {\n",
              "        vertical-align: top;\n",
              "    }\n",
              "\n",
              "    .dataframe thead th {\n",
              "        text-align: right;\n",
              "    }\n",
              "</style>\n",
              "<table border=\"1\" class=\"dataframe\">\n",
              "  <thead>\n",
              "    <tr style=\"text-align: right;\">\n",
              "      <th></th>\n",
              "      <th>Cantidad</th>\n",
              "      <th>%</th>\n",
              "    </tr>\n",
              "  </thead>\n",
              "  <tbody>\n",
              "    <tr>\n",
              "      <th>0</th>\n",
              "      <td>18668</td>\n",
              "      <td>77.874187</td>\n",
              "    </tr>\n",
              "    <tr>\n",
              "      <th>1</th>\n",
              "      <td>5304</td>\n",
              "      <td>22.125813</td>\n",
              "    </tr>\n",
              "  </tbody>\n",
              "</table>\n",
              "</div>"
            ],
            "text/plain": [
              "   Cantidad          %\n",
              "0     18668  77.874187\n",
              "1      5304  22.125813"
            ]
          },
          "metadata": {
            "tags": []
          },
          "execution_count": 218
        }
      ]
    },
    {
      "cell_type": "code",
      "metadata": {
        "colab": {
          "base_uri": "https://localhost:8080/"
        },
        "id": "cDD7uNv35Foh",
        "outputId": "936e3192-bb86-4e29-e623-3aa2272508a7"
      },
      "source": [
        "from imblearn.over_sampling import SMOTE\r\n",
        "\r\n",
        "smote_train = SMOTE(ratio='minority')\r\n",
        "X_train_smt, y_train_smt = smote_train.fit_sample(X_train, y_train)\r\n",
        "\r\n",
        "columns_x = X_train.columns.to_list()\r\n",
        "columns_y = 'default_payment_next_month'\r\n",
        "\r\n",
        "X_train_bal_smt = pd.DataFrame(data = X_train_smt, columns = columns_x)\r\n",
        "y_train_bal_smt = pd.Series(data = y_train_smt, name=columns_y)"
      ],
      "execution_count": 226,
      "outputs": [
        {
          "output_type": "stream",
          "text": [
            "/usr/local/lib/python3.6/dist-packages/sklearn/externals/six.py:31: FutureWarning: The module is deprecated in version 0.21 and will be removed in version 0.23 since we've dropped support for Python 2.7. Please rely on the official version of six (https://pypi.org/project/six/).\n",
            "  \"(https://pypi.org/project/six/).\", FutureWarning)\n",
            "/usr/local/lib/python3.6/dist-packages/sklearn/utils/deprecation.py:144: FutureWarning: The sklearn.neighbors.base module is  deprecated in version 0.22 and will be removed in version 0.24. The corresponding classes / functions should instead be imported from sklearn.neighbors. Anything that cannot be imported from sklearn.neighbors is now part of the private API.\n",
            "  warnings.warn(message, FutureWarning)\n",
            "/usr/local/lib/python3.6/dist-packages/sklearn/utils/deprecation.py:87: FutureWarning: Function safe_indexing is deprecated; safe_indexing is deprecated in version 0.22 and will be removed in version 0.24.\n",
            "  warnings.warn(msg, category=FutureWarning)\n"
          ],
          "name": "stderr"
        }
      ]
    },
    {
      "cell_type": "code",
      "metadata": {
        "colab": {
          "base_uri": "https://localhost:8080/",
          "height": 106
        },
        "id": "eEMJWATt6GQ6",
        "outputId": "8f930da4-f2ac-4dba-abbb-58db5171f2fc"
      },
      "source": [
        "pd.DataFrame({'Cantidad': y_train_bal_smt.value_counts(), '%': y_train_bal_smt.value_counts(normalize=True) * 100})"
      ],
      "execution_count": 229,
      "outputs": [
        {
          "output_type": "execute_result",
          "data": {
            "text/html": [
              "<div>\n",
              "<style scoped>\n",
              "    .dataframe tbody tr th:only-of-type {\n",
              "        vertical-align: middle;\n",
              "    }\n",
              "\n",
              "    .dataframe tbody tr th {\n",
              "        vertical-align: top;\n",
              "    }\n",
              "\n",
              "    .dataframe thead th {\n",
              "        text-align: right;\n",
              "    }\n",
              "</style>\n",
              "<table border=\"1\" class=\"dataframe\">\n",
              "  <thead>\n",
              "    <tr style=\"text-align: right;\">\n",
              "      <th></th>\n",
              "      <th>Cantidad</th>\n",
              "      <th>%</th>\n",
              "    </tr>\n",
              "  </thead>\n",
              "  <tbody>\n",
              "    <tr>\n",
              "      <th>1</th>\n",
              "      <td>18668</td>\n",
              "      <td>50.0</td>\n",
              "    </tr>\n",
              "    <tr>\n",
              "      <th>0</th>\n",
              "      <td>18668</td>\n",
              "      <td>50.0</td>\n",
              "    </tr>\n",
              "  </tbody>\n",
              "</table>\n",
              "</div>"
            ],
            "text/plain": [
              "   Cantidad     %\n",
              "1     18668  50.0\n",
              "0     18668  50.0"
            ]
          },
          "metadata": {
            "tags": []
          },
          "execution_count": 229
        }
      ]
    },
    {
      "cell_type": "markdown",
      "metadata": {
        "id": "CE0BLNLP6bKW"
      },
      "source": [
        "#### Balanceo de Datos (Dataset de Pruebas)"
      ]
    },
    {
      "cell_type": "code",
      "metadata": {
        "colab": {
          "base_uri": "https://localhost:8080/",
          "height": 106
        },
        "id": "ecjfyxKZ62Sn",
        "outputId": "84204ecc-788a-4ef8-d55b-ab21e4f45083"
      },
      "source": [
        "#---------------------------------------------------------------------------------\r\n",
        "# Tabla de Contingencia de Variable Objetivo\r\n",
        "#---------------------------------------------------------------------------------\r\n",
        "pd.DataFrame({'Cantidad': y_test.value_counts(), '%': y_test.value_counts(normalize=True) * 100})"
      ],
      "execution_count": 230,
      "outputs": [
        {
          "output_type": "execute_result",
          "data": {
            "text/html": [
              "<div>\n",
              "<style scoped>\n",
              "    .dataframe tbody tr th:only-of-type {\n",
              "        vertical-align: middle;\n",
              "    }\n",
              "\n",
              "    .dataframe tbody tr th {\n",
              "        vertical-align: top;\n",
              "    }\n",
              "\n",
              "    .dataframe thead th {\n",
              "        text-align: right;\n",
              "    }\n",
              "</style>\n",
              "<table border=\"1\" class=\"dataframe\">\n",
              "  <thead>\n",
              "    <tr style=\"text-align: right;\">\n",
              "      <th></th>\n",
              "      <th>Cantidad</th>\n",
              "      <th>%</th>\n",
              "    </tr>\n",
              "  </thead>\n",
              "  <tbody>\n",
              "    <tr>\n",
              "      <th>0</th>\n",
              "      <td>4667</td>\n",
              "      <td>77.874187</td>\n",
              "    </tr>\n",
              "    <tr>\n",
              "      <th>1</th>\n",
              "      <td>1326</td>\n",
              "      <td>22.125813</td>\n",
              "    </tr>\n",
              "  </tbody>\n",
              "</table>\n",
              "</div>"
            ],
            "text/plain": [
              "   Cantidad          %\n",
              "0      4667  77.874187\n",
              "1      1326  22.125813"
            ]
          },
          "metadata": {
            "tags": []
          },
          "execution_count": 230
        }
      ]
    },
    {
      "cell_type": "code",
      "metadata": {
        "colab": {
          "base_uri": "https://localhost:8080/"
        },
        "id": "PKzb9SDf6cRn",
        "outputId": "67dd533f-d4a2-4a2c-fdf7-df865e43f526"
      },
      "source": [
        "from imblearn.over_sampling import SMOTE\r\n",
        "\r\n",
        "smote_valid_t = SMOTE(ratio='minority')\r\n",
        "X_test_smt, y_test_smt = smote_valid_t.fit_sample(X_test, y_test)\r\n",
        "\r\n",
        "columns_x = X_test.columns.to_list()\r\n",
        "columns_y = 'default_payment_next_month'\r\n",
        "\r\n",
        "\r\n",
        "X_test_bal_smt = pd.DataFrame(data = X_test_smt, columns = columns_x)\r\n",
        "y_test_bal_smt = pd.Series(data = y_test_smt, name=columns_y)"
      ],
      "execution_count": 231,
      "outputs": [
        {
          "output_type": "stream",
          "text": [
            "/usr/local/lib/python3.6/dist-packages/sklearn/utils/deprecation.py:87: FutureWarning: Function safe_indexing is deprecated; safe_indexing is deprecated in version 0.22 and will be removed in version 0.24.\n",
            "  warnings.warn(msg, category=FutureWarning)\n"
          ],
          "name": "stderr"
        }
      ]
    },
    {
      "cell_type": "code",
      "metadata": {
        "colab": {
          "base_uri": "https://localhost:8080/",
          "height": 106
        },
        "id": "dhFU6GaM69rP",
        "outputId": "2cb826c7-8562-4523-d877-eff7abf0ffba"
      },
      "source": [
        "#---------------------------------------------------------------------------------\r\n",
        "# Tabla de Contingencia de Variable Objetivo\r\n",
        "#---------------------------------------------------------------------------------\r\n",
        "pd.DataFrame({'Cantidad': y_test_bal_smt.value_counts(), '%': y_test_bal_smt.value_counts(normalize=True) * 100})"
      ],
      "execution_count": 232,
      "outputs": [
        {
          "output_type": "execute_result",
          "data": {
            "text/html": [
              "<div>\n",
              "<style scoped>\n",
              "    .dataframe tbody tr th:only-of-type {\n",
              "        vertical-align: middle;\n",
              "    }\n",
              "\n",
              "    .dataframe tbody tr th {\n",
              "        vertical-align: top;\n",
              "    }\n",
              "\n",
              "    .dataframe thead th {\n",
              "        text-align: right;\n",
              "    }\n",
              "</style>\n",
              "<table border=\"1\" class=\"dataframe\">\n",
              "  <thead>\n",
              "    <tr style=\"text-align: right;\">\n",
              "      <th></th>\n",
              "      <th>Cantidad</th>\n",
              "      <th>%</th>\n",
              "    </tr>\n",
              "  </thead>\n",
              "  <tbody>\n",
              "    <tr>\n",
              "      <th>1</th>\n",
              "      <td>4667</td>\n",
              "      <td>50.0</td>\n",
              "    </tr>\n",
              "    <tr>\n",
              "      <th>0</th>\n",
              "      <td>4667</td>\n",
              "      <td>50.0</td>\n",
              "    </tr>\n",
              "  </tbody>\n",
              "</table>\n",
              "</div>"
            ],
            "text/plain": [
              "   Cantidad     %\n",
              "1      4667  50.0\n",
              "0      4667  50.0"
            ]
          },
          "metadata": {
            "tags": []
          },
          "execution_count": 232
        }
      ]
    }
  ]
}
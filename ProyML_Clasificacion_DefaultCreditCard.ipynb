{
  "nbformat": 4,
  "nbformat_minor": 0,
  "metadata": {
    "colab": {
      "name": "ProyML-Clasificacion-DefaultCreditCard.ipynb",
      "provenance": [],
      "collapsed_sections": []
    },
    "kernelspec": {
      "display_name": "Python 3",
      "name": "python3"
    }
  },
  "cells": [
    {
      "cell_type": "markdown",
      "metadata": {
        "id": "SnmXk36PQYLL"
      },
      "source": [
        "**GITHUB:** \r\n",
        "\r\n",
        "https://github.com/PUCP-DA2020-ML/Default-CreditCard"
      ]
    },
    {
      "cell_type": "markdown",
      "metadata": {
        "id": "shhcvTIOQitH"
      },
      "source": [
        "###############################################################################\r\n",
        "# **1. COMPRENSIÓN DEL NEGOCIO**\r\n",
        "###############################################################################"
      ]
    },
    {
      "cell_type": "markdown",
      "metadata": {
        "id": "fk9cP1rUQn4y"
      },
      "source": [
        "### Dataset"
      ]
    },
    {
      "cell_type": "markdown",
      "metadata": {
        "id": "OOX7nkDyQoV1"
      },
      "source": [
        "Usaremos el dataset de **DEFAULT CREDIT CARD CLIENTS**, el cual está disponible en:\r\n",
        "<br/>\r\n",
        "<br/>\r\n",
        "https://archive.ics.uci.edu/ml/datasets/default+of+credit+card+clients\r\n",
        "<br/>\r\n",
        "<br/>\r\n",
        "El objetivo será predecir si el crédito de un cliente caerá en incumplimiento de pago."
      ]
    },
    {
      "cell_type": "markdown",
      "metadata": {
        "id": "7jMqVw8vQ311"
      },
      "source": [
        "**Descripción de los datos:**"
      ]
    },
    {
      "cell_type": "markdown",
      "metadata": {
        "id": "MCbA6AqWQ7v7"
      },
      "source": [
        ">Nro | Variable | Tipo_Variable | Descripción | Dominio\r\n",
        ">--- | --- | --- | --- | ---\r\n",
        ">1 | LIMIT_BAL (X1) | Numérica (Continua) | Monto del crédito otorgado (NT dollar) | \r\n",
        ">2 | SEX (X2) | Categórica (Nominal) | Género | (1 = masculino; 2 = femenino)\r\n",
        ">3 | EDUCATION (X3) | Categórica (Ordinal) | Educación | (1 = escuela de posgrado; 2 = universidad; 3 = secundaria; 4 = otros).\r\n",
        ">4 | MARRIAGE (X4) | Categórica (Nominal) | Estado Civil | (1 = casado; 2 = soltero; 3 = otros)\r\n",
        ">5 | AGE (X5) | Numérica (Discreta) | Edad (Años) | \r\n",
        ">6 | PAY_0 (X6) | Categórica (Ordinal) | El estado de reembolso en Setiembre del 2005 | (-1 = pago al día; 1 = 1 mes de retraso en el pago; 2 = 2 meses de retraso en el pago; . . .; 8 = 8 meses de retraso en el pago; 9 = 9 meses o más de retraso en el pago)\r\n",
        ">7 | PAY_2 (X7) | Categórica (Ordinal) | El estado de reembolso en Agosto del 2005 | (-1 = pago al día; 1 = 1 mes de retraso en el pago; 2 = 2 meses de retraso en el pago; . . .; 8 = 8 meses de retraso en el pago; 9 = 9 meses o más de retraso en el pago)\r\n",
        ">8 | PAY_3 (X8) | Categórica (Ordinal) | El estado de reembolso en Julio del 2005 | (-1 = pago al día; 1 = 1 mes de retraso en el pago; 2 = 2 meses de retraso en el pago; . . .; 8 = 8 meses de retraso en el pago; 9 = 9 meses o más de retraso en el pago)\r\n",
        ">9 | PAY_4 (X9) | Categórica (Ordinal) | El estado de reembolso en Junio del 2005 | (-1 = pago al día; 1 = 1 mes de retraso en el pago; 2 = 2 meses de retraso en el pago; . . .; 8 = 8 meses de retraso en el pago; 9 = 9 meses o más de retraso en el pago)\r\n",
        ">10 | PAY_5 (X10) | Categórica (Ordinal) | El estado de reembolso en Mayo del 2005 | (-1 = pago al día; 1 = 1 mes de retraso en el pago; 2 = 2 meses de retraso en el pago; . . .; 8 = 8 meses de retraso en el pago; 9 = 9 meses o más de retraso en el pago)\r\n",
        ">11 | PAY_6 (X11) | Categórica (Ordinal) | El estado de reembolso en Abril del 2005 | (-1 = pago al día; 1 = 1 mes de retraso en el pago; 2 = 2 meses de retraso en el pago; . . .; 8 = 8 meses de retraso en el pago; 9 = 9 meses o más de retraso en el pago)\r\n",
        ">12 | BILL_AMT1 (X12) | Numérica (Continua) | Monto del estado de cuenta en Setiembre del 2005 (NT dollar) | \r\n",
        ">13 | BILL_AMT2 (X13) | Numérica (Continua) | Monto del estado de cuenta en Agosto del 2005 (NT dollar) | \r\n",
        ">14 | BILL_AMT3 (X14) | Numérica (Continua) | Monto del estado de cuenta en Julio del 2005 (NT dollar) | \r\n",
        ">15 | BILL_AMT4 (X15) | Numérica (Continua) | Monto del estado de cuenta en Junio del 2005 (NT dollar) | \r\n",
        ">16 | BILL_AMT5 (X16) | Numérica (Continua) | Monto del estado de cuenta en Mayo del 2005 (NT dollar) | \r\n",
        ">17 | BILL_AMT6 (X17) | Numérica (Continua) | Monto del estado de cuenta en Abril del 2005 (NT dollar) | \r\n",
        ">18 | PAY_AMT1 (X18) | Numérica (Continua) | Monto pagado en Setiembre del 2005 (NT dollar) | \r\n",
        ">19 | PAY_AMT2 (X19) | Numérica (Continua) | Monto pagado en Agosto del 2005 (NT dollar) | \r\n",
        ">20 | PAY_AMT3 (X20) | Numérica (Continua) | Monto pagado en Julio del 2005 (NT dollar) | \r\n",
        ">21 | PAY_AMT4 (X21) | Numérica (Continua) | Monto pagado en Junio del 2005 (NT dollar) | \r\n",
        ">22 | PAY_AMT5 (X22) | Numérica (Continua) | Monto pagado en Mayo del 2005 (NT dollar) | \r\n",
        ">23 | PAY_AMT6 (X23) | Numérica (Continua) | Monto pagado en Abril del 2005 (NT dollar) | \r\n",
        ">24 | DEFAULT_PAYMENT_NEXT_MONTH (Y) | Categórica (Nominal binaria) | Incumplimiento de pago del crédito como variable objetivo o respuesta | (Si = 1, No = 0)"
      ]
    },
    {
      "cell_type": "markdown",
      "metadata": {
        "id": "1FqJkE52W5lw"
      },
      "source": [
        "###############################################################################\r\n",
        "# **2. COMPRENSIÓN DE LOS DATOS**\r\n",
        "###############################################################################"
      ]
    },
    {
      "cell_type": "code",
      "metadata": {
        "colab": {
          "base_uri": "https://localhost:8080/"
        },
        "id": "OPm6pgIfKHGB",
        "outputId": "b43239da-4e1b-43dc-b9c4-121a3c799cdf"
      },
      "source": [
        "!pip install funpymodeling"
      ],
      "execution_count": 81,
      "outputs": [
        {
          "output_type": "stream",
          "text": [
            "Requirement already satisfied: funpymodeling in /usr/local/lib/python3.6/dist-packages (0.1.7)\n",
            "Requirement already satisfied: typing-extensions<4.0.0,>=3.7.4; python_version < \"3.8\" in /usr/local/lib/python3.6/dist-packages (from funpymodeling) (3.7.4.3)\n",
            "Requirement already satisfied: sklearn<0.1,>=0.0 in /usr/local/lib/python3.6/dist-packages (from funpymodeling) (0.0)\n",
            "Requirement already satisfied: matplotlib<4.0.0,>=3.2.2 in /usr/local/lib/python3.6/dist-packages (from funpymodeling) (3.2.2)\n",
            "Requirement already satisfied: pandas<2.0.0,>=1.0.5 in /usr/local/lib/python3.6/dist-packages (from funpymodeling) (1.1.5)\n",
            "Requirement already satisfied: numpy<2.0.0,>=1.18.5 in /usr/local/lib/python3.6/dist-packages (from funpymodeling) (1.19.5)\n",
            "Requirement already satisfied: seaborn<0.11.0,>=0.10.1 in /usr/local/lib/python3.6/dist-packages (from funpymodeling) (0.10.1)\n",
            "Requirement already satisfied: scikit-learn in /usr/local/lib/python3.6/dist-packages (from sklearn<0.1,>=0.0->funpymodeling) (0.22.2.post1)\n",
            "Requirement already satisfied: python-dateutil>=2.1 in /usr/local/lib/python3.6/dist-packages (from matplotlib<4.0.0,>=3.2.2->funpymodeling) (2.8.1)\n",
            "Requirement already satisfied: kiwisolver>=1.0.1 in /usr/local/lib/python3.6/dist-packages (from matplotlib<4.0.0,>=3.2.2->funpymodeling) (1.3.1)\n",
            "Requirement already satisfied: cycler>=0.10 in /usr/local/lib/python3.6/dist-packages (from matplotlib<4.0.0,>=3.2.2->funpymodeling) (0.10.0)\n",
            "Requirement already satisfied: pyparsing!=2.0.4,!=2.1.2,!=2.1.6,>=2.0.1 in /usr/local/lib/python3.6/dist-packages (from matplotlib<4.0.0,>=3.2.2->funpymodeling) (2.4.7)\n",
            "Requirement already satisfied: pytz>=2017.2 in /usr/local/lib/python3.6/dist-packages (from pandas<2.0.0,>=1.0.5->funpymodeling) (2018.9)\n",
            "Requirement already satisfied: scipy>=1.0.1 in /usr/local/lib/python3.6/dist-packages (from seaborn<0.11.0,>=0.10.1->funpymodeling) (1.4.1)\n",
            "Requirement already satisfied: joblib>=0.11 in /usr/local/lib/python3.6/dist-packages (from scikit-learn->sklearn<0.1,>=0.0->funpymodeling) (1.0.0)\n",
            "Requirement already satisfied: six>=1.5 in /usr/local/lib/python3.6/dist-packages (from python-dateutil>=2.1->matplotlib<4.0.0,>=3.2.2->funpymodeling) (1.15.0)\n"
          ],
          "name": "stdout"
        }
      ]
    },
    {
      "cell_type": "markdown",
      "metadata": {
        "id": "iisiB4CDW9jE"
      },
      "source": [
        "### Importación de Librerías"
      ]
    },
    {
      "cell_type": "code",
      "metadata": {
        "id": "Sjb2p3ag1u1u"
      },
      "source": [
        "# Importando librerias\n",
        "import pandas as pd\n",
        "#import graphviz\n",
        "import numpy as np\n",
        "from sklearn import tree\n",
        "import matplotlib.pyplot as plt\n",
        "import seaborn as sns; sns.set()\n",
        "from pandas_profiling import ProfileReport\n",
        "from funpymodeling.exploratory import profiling_num, freq_tbl, status, cat_vars, num_vars\n",
        "import pickle\n",
        "from sklearn.model_selection import train_test_split\n",
        "from sklearn.metrics import accuracy_score, f1_score, roc_curve, roc_auc_score\n",
        "from sklearn.model_selection import cross_val_score\n",
        "from sklearn.model_selection import StratifiedKFold\n",
        "from sklearn.metrics import plot_roc_curve\n",
        "from sklearn.metrics import auc\n",
        "from sklearn.model_selection import GridSearchCV\n",
        "from sklearn import metrics\n",
        "from sklearn.metrics import roc_curve, auc\n",
        "from sklearn.model_selection import validation_curve\n",
        "from sklearn.model_selection import learning_curve\n",
        "from pprint import pprint\n",
        "from sklearn.tree import DecisionTreeClassifier\n",
        "from sklearn.naive_bayes import GaussianNB"
      ],
      "execution_count": 82,
      "outputs": []
    },
    {
      "cell_type": "markdown",
      "metadata": {
        "id": "nsQ-EWnSXBrt"
      },
      "source": [
        "## **IMPORTACIÓN DE DATOS** (datasets)"
      ]
    },
    {
      "cell_type": "code",
      "metadata": {
        "id": "DsikYENO6n-N"
      },
      "source": [
        "#from google.colab import files\n",
        "#subido = files.upload()\n",
        "#import io\n",
        "#df = pd.read_excel(io.BytesIO(subido['default_of_credit_card_clients.xls']), header =1)\n",
        "#df = pd.read_excel('default_of_credit_card_clients.xls', header =1)"
      ],
      "execution_count": 83,
      "outputs": []
    },
    {
      "cell_type": "code",
      "metadata": {
        "id": "NLh4BifmXFUT"
      },
      "source": [
        "#Importación del dataset\r\n",
        "df_defcredcard = pd.read_csv('https://raw.githubusercontent.com/PUCP-DA2020-ML/Default-CreditCard/main/default-of-credit-card-clients.csv', sep=';')"
      ],
      "execution_count": 84,
      "outputs": []
    },
    {
      "cell_type": "code",
      "metadata": {
        "colab": {
          "base_uri": "https://localhost:8080/"
        },
        "id": "nq0aUUJAXOzG",
        "outputId": "c2bc3231-00f3-48c4-870f-012773625b8f"
      },
      "source": [
        "#Tamaño del dataset (registros, variables)\r\n",
        "df_defcredcard.shape"
      ],
      "execution_count": 85,
      "outputs": [
        {
          "output_type": "execute_result",
          "data": {
            "text/plain": [
              "(30000, 25)"
            ]
          },
          "metadata": {
            "tags": []
          },
          "execution_count": 85
        }
      ]
    },
    {
      "cell_type": "code",
      "metadata": {
        "colab": {
          "base_uri": "https://localhost:8080/",
          "height": 214
        },
        "id": "n83nTy_VXUuj",
        "outputId": "996482ab-382b-48a8-c161-21640c642184"
      },
      "source": [
        "#Muestra (5 registros) del dataset\r\n",
        "df_defcredcard.head()"
      ],
      "execution_count": 86,
      "outputs": [
        {
          "output_type": "execute_result",
          "data": {
            "text/html": [
              "<div>\n",
              "<style scoped>\n",
              "    .dataframe tbody tr th:only-of-type {\n",
              "        vertical-align: middle;\n",
              "    }\n",
              "\n",
              "    .dataframe tbody tr th {\n",
              "        vertical-align: top;\n",
              "    }\n",
              "\n",
              "    .dataframe thead th {\n",
              "        text-align: right;\n",
              "    }\n",
              "</style>\n",
              "<table border=\"1\" class=\"dataframe\">\n",
              "  <thead>\n",
              "    <tr style=\"text-align: right;\">\n",
              "      <th></th>\n",
              "      <th>ID</th>\n",
              "      <th>LIMIT_BAL</th>\n",
              "      <th>SEX</th>\n",
              "      <th>EDUCATION</th>\n",
              "      <th>MARRIAGE</th>\n",
              "      <th>AGE</th>\n",
              "      <th>PAY_0</th>\n",
              "      <th>PAY_2</th>\n",
              "      <th>PAY_3</th>\n",
              "      <th>PAY_4</th>\n",
              "      <th>PAY_5</th>\n",
              "      <th>PAY_6</th>\n",
              "      <th>BILL_AMT1</th>\n",
              "      <th>BILL_AMT2</th>\n",
              "      <th>BILL_AMT3</th>\n",
              "      <th>BILL_AMT4</th>\n",
              "      <th>BILL_AMT5</th>\n",
              "      <th>BILL_AMT6</th>\n",
              "      <th>PAY_AMT1</th>\n",
              "      <th>PAY_AMT2</th>\n",
              "      <th>PAY_AMT3</th>\n",
              "      <th>PAY_AMT4</th>\n",
              "      <th>PAY_AMT5</th>\n",
              "      <th>PAY_AMT6</th>\n",
              "      <th>default_payment_next_month</th>\n",
              "    </tr>\n",
              "  </thead>\n",
              "  <tbody>\n",
              "    <tr>\n",
              "      <th>0</th>\n",
              "      <td>1</td>\n",
              "      <td>20000</td>\n",
              "      <td>2</td>\n",
              "      <td>2</td>\n",
              "      <td>1</td>\n",
              "      <td>24</td>\n",
              "      <td>2</td>\n",
              "      <td>2</td>\n",
              "      <td>-1</td>\n",
              "      <td>-1</td>\n",
              "      <td>-2</td>\n",
              "      <td>-2</td>\n",
              "      <td>3913</td>\n",
              "      <td>3102</td>\n",
              "      <td>689</td>\n",
              "      <td>0</td>\n",
              "      <td>0</td>\n",
              "      <td>0</td>\n",
              "      <td>0</td>\n",
              "      <td>689</td>\n",
              "      <td>0</td>\n",
              "      <td>0</td>\n",
              "      <td>0</td>\n",
              "      <td>0</td>\n",
              "      <td>1</td>\n",
              "    </tr>\n",
              "    <tr>\n",
              "      <th>1</th>\n",
              "      <td>2</td>\n",
              "      <td>120000</td>\n",
              "      <td>2</td>\n",
              "      <td>2</td>\n",
              "      <td>2</td>\n",
              "      <td>26</td>\n",
              "      <td>-1</td>\n",
              "      <td>2</td>\n",
              "      <td>0</td>\n",
              "      <td>0</td>\n",
              "      <td>0</td>\n",
              "      <td>2</td>\n",
              "      <td>2682</td>\n",
              "      <td>1725</td>\n",
              "      <td>2682</td>\n",
              "      <td>3272</td>\n",
              "      <td>3455</td>\n",
              "      <td>3261</td>\n",
              "      <td>0</td>\n",
              "      <td>1000</td>\n",
              "      <td>1000</td>\n",
              "      <td>1000</td>\n",
              "      <td>0</td>\n",
              "      <td>2000</td>\n",
              "      <td>1</td>\n",
              "    </tr>\n",
              "    <tr>\n",
              "      <th>2</th>\n",
              "      <td>3</td>\n",
              "      <td>90000</td>\n",
              "      <td>2</td>\n",
              "      <td>2</td>\n",
              "      <td>2</td>\n",
              "      <td>34</td>\n",
              "      <td>0</td>\n",
              "      <td>0</td>\n",
              "      <td>0</td>\n",
              "      <td>0</td>\n",
              "      <td>0</td>\n",
              "      <td>0</td>\n",
              "      <td>29239</td>\n",
              "      <td>14027</td>\n",
              "      <td>13559</td>\n",
              "      <td>14331</td>\n",
              "      <td>14948</td>\n",
              "      <td>15549</td>\n",
              "      <td>1518</td>\n",
              "      <td>1500</td>\n",
              "      <td>1000</td>\n",
              "      <td>1000</td>\n",
              "      <td>1000</td>\n",
              "      <td>5000</td>\n",
              "      <td>0</td>\n",
              "    </tr>\n",
              "    <tr>\n",
              "      <th>3</th>\n",
              "      <td>4</td>\n",
              "      <td>50000</td>\n",
              "      <td>2</td>\n",
              "      <td>2</td>\n",
              "      <td>1</td>\n",
              "      <td>37</td>\n",
              "      <td>0</td>\n",
              "      <td>0</td>\n",
              "      <td>0</td>\n",
              "      <td>0</td>\n",
              "      <td>0</td>\n",
              "      <td>0</td>\n",
              "      <td>46990</td>\n",
              "      <td>48233</td>\n",
              "      <td>49291</td>\n",
              "      <td>28314</td>\n",
              "      <td>28959</td>\n",
              "      <td>29547</td>\n",
              "      <td>2000</td>\n",
              "      <td>2019</td>\n",
              "      <td>1200</td>\n",
              "      <td>1100</td>\n",
              "      <td>1069</td>\n",
              "      <td>1000</td>\n",
              "      <td>0</td>\n",
              "    </tr>\n",
              "    <tr>\n",
              "      <th>4</th>\n",
              "      <td>5</td>\n",
              "      <td>50000</td>\n",
              "      <td>1</td>\n",
              "      <td>2</td>\n",
              "      <td>1</td>\n",
              "      <td>57</td>\n",
              "      <td>-1</td>\n",
              "      <td>0</td>\n",
              "      <td>-1</td>\n",
              "      <td>0</td>\n",
              "      <td>0</td>\n",
              "      <td>0</td>\n",
              "      <td>8617</td>\n",
              "      <td>5670</td>\n",
              "      <td>35835</td>\n",
              "      <td>20940</td>\n",
              "      <td>19146</td>\n",
              "      <td>19131</td>\n",
              "      <td>2000</td>\n",
              "      <td>36681</td>\n",
              "      <td>10000</td>\n",
              "      <td>9000</td>\n",
              "      <td>689</td>\n",
              "      <td>679</td>\n",
              "      <td>0</td>\n",
              "    </tr>\n",
              "  </tbody>\n",
              "</table>\n",
              "</div>"
            ],
            "text/plain": [
              "   ID  LIMIT_BAL  SEX  ...  PAY_AMT5  PAY_AMT6  default_payment_next_month\n",
              "0   1      20000    2  ...         0         0                           1\n",
              "1   2     120000    2  ...         0      2000                           1\n",
              "2   3      90000    2  ...      1000      5000                           0\n",
              "3   4      50000    2  ...      1069      1000                           0\n",
              "4   5      50000    1  ...       689       679                           0\n",
              "\n",
              "[5 rows x 25 columns]"
            ]
          },
          "metadata": {
            "tags": []
          },
          "execution_count": 86
        }
      ]
    },
    {
      "cell_type": "code",
      "metadata": {
        "id": "DWo20VaH4RJB"
      },
      "source": [
        "# Eliminar columna de correlativo\r\n",
        "df_defcredcard.drop(['ID'], axis=1, inplace=True)"
      ],
      "execution_count": 87,
      "outputs": []
    },
    {
      "cell_type": "markdown",
      "metadata": {
        "id": "Rf2qLTN6YonR"
      },
      "source": [
        "## **ANÁLISIS EXPLORATORIO DE DATOS (AED)**"
      ]
    },
    {
      "cell_type": "code",
      "metadata": {
        "id": "pcQPeJCPBBnt"
      },
      "source": [
        "target = 'default_payment_next_month'\n",
        "predictors = ['LIMIT_BAL', 'SEX', 'EDUCATION', 'MARRIAGE', 'AGE', \n",
        "                'PAY_0', 'PAY_2', 'PAY_3', 'PAY_4', 'PAY_5', 'PAY_6', \n",
        "                'BILL_AMT1','BILL_AMT2', 'BILL_AMT3', 'BILL_AMT4', 'BILL_AMT5', 'BILL_AMT6',\n",
        "                'PAY_AMT1', 'PAY_AMT2', 'PAY_AMT3', 'PAY_AMT4', 'PAY_AMT5', 'PAY_AMT6']"
      ],
      "execution_count": 88,
      "outputs": []
    },
    {
      "cell_type": "code",
      "metadata": {
        "id": "dgtjzUo1nld1"
      },
      "source": [
        "df_defcredcard[\"SEX\"] = df_defcredcard[\"SEX\"].astype(str)\r\n",
        "df_defcredcard[\"EDUCATION\"] = df_defcredcard[\"EDUCATION\"].astype(str)\r\n",
        "df_defcredcard[\"MARRIAGE\"] = df_defcredcard[\"MARRIAGE\"].astype(str)\r\n",
        "df_defcredcard[\"PAY_0\"] = df_defcredcard[\"PAY_0\"].astype(str)\r\n",
        "df_defcredcard[\"PAY_2\"] = df_defcredcard[\"PAY_2\"].astype(str)\r\n",
        "df_defcredcard[\"PAY_3\"] = df_defcredcard[\"PAY_3\"].astype(str)\r\n",
        "df_defcredcard[\"PAY_4\"] = df_defcredcard[\"PAY_4\"].astype(str)\r\n",
        "df_defcredcard[\"PAY_5\"] = df_defcredcard[\"PAY_5\"].astype(str)\r\n",
        "df_defcredcard[\"PAY_6\"] = df_defcredcard[\"PAY_6\"].astype(str)\r\n",
        "df_defcredcard[\"default_payment_next_month\"] = df_defcredcard[\"default_payment_next_month\"].astype(str)"
      ],
      "execution_count": 89,
      "outputs": []
    },
    {
      "cell_type": "markdown",
      "metadata": {
        "id": "UGibJ9h4Db84"
      },
      "source": [
        "### ***Resumen Descriptivo***"
      ]
    },
    {
      "cell_type": "code",
      "metadata": {
        "id": "JhWPOBUGRbb2"
      },
      "source": [
        "#------------------------------------------------\r\n",
        "# ANÁLISIS DE EXPLORACIÓN RÁPIDA O INICIAL\r\n",
        "#------------------------------------------------\r\n",
        "#from pandas_profiling import ProfileReport\r\n",
        "#ProfileReport(df_defcredcard, minimal=True)"
      ],
      "execution_count": 90,
      "outputs": []
    },
    {
      "cell_type": "code",
      "metadata": {
        "colab": {
          "base_uri": "https://localhost:8080/"
        },
        "id": "toNqeRL9bNsQ",
        "outputId": "fb70eea4-35d8-4f8a-aa18-84ca4e49e35b"
      },
      "source": [
        "#------------------------------------------------\r\n",
        "# TIPOS DE DATOS\r\n",
        "#------------------------------------------------\r\n",
        "df_defcredcard.info()"
      ],
      "execution_count": 91,
      "outputs": [
        {
          "output_type": "stream",
          "text": [
            "<class 'pandas.core.frame.DataFrame'>\n",
            "RangeIndex: 30000 entries, 0 to 29999\n",
            "Data columns (total 24 columns):\n",
            " #   Column                      Non-Null Count  Dtype \n",
            "---  ------                      --------------  ----- \n",
            " 0   LIMIT_BAL                   30000 non-null  int64 \n",
            " 1   SEX                         30000 non-null  object\n",
            " 2   EDUCATION                   30000 non-null  object\n",
            " 3   MARRIAGE                    30000 non-null  object\n",
            " 4   AGE                         30000 non-null  int64 \n",
            " 5   PAY_0                       30000 non-null  object\n",
            " 6   PAY_2                       30000 non-null  object\n",
            " 7   PAY_3                       30000 non-null  object\n",
            " 8   PAY_4                       30000 non-null  object\n",
            " 9   PAY_5                       30000 non-null  object\n",
            " 10  PAY_6                       30000 non-null  object\n",
            " 11  BILL_AMT1                   30000 non-null  int64 \n",
            " 12  BILL_AMT2                   30000 non-null  int64 \n",
            " 13  BILL_AMT3                   30000 non-null  int64 \n",
            " 14  BILL_AMT4                   30000 non-null  int64 \n",
            " 15  BILL_AMT5                   30000 non-null  int64 \n",
            " 16  BILL_AMT6                   30000 non-null  int64 \n",
            " 17  PAY_AMT1                    30000 non-null  int64 \n",
            " 18  PAY_AMT2                    30000 non-null  int64 \n",
            " 19  PAY_AMT3                    30000 non-null  int64 \n",
            " 20  PAY_AMT4                    30000 non-null  int64 \n",
            " 21  PAY_AMT5                    30000 non-null  int64 \n",
            " 22  PAY_AMT6                    30000 non-null  int64 \n",
            " 23  default_payment_next_month  30000 non-null  object\n",
            "dtypes: int64(14), object(10)\n",
            "memory usage: 5.5+ MB\n"
          ],
          "name": "stdout"
        }
      ]
    },
    {
      "cell_type": "code",
      "metadata": {
        "colab": {
          "base_uri": "https://localhost:8080/",
          "height": 458
        },
        "id": "CKtOv4vzbFAK",
        "outputId": "674ea7d8-bf19-4403-a2e2-7e0c2332a5de"
      },
      "source": [
        "#--------------------------------------------------------------\r\n",
        "# RESUMEN DESCRIPTIVO\r\n",
        "#--------------------------------------------------------------\r\n",
        "#df_defcredcard.describe(include='all').T\r\n",
        "profiling_num(df_defcredcard)"
      ],
      "execution_count": 92,
      "outputs": [
        {
          "output_type": "execute_result",
          "data": {
            "text/html": [
              "<div>\n",
              "<style scoped>\n",
              "    .dataframe tbody tr th:only-of-type {\n",
              "        vertical-align: middle;\n",
              "    }\n",
              "\n",
              "    .dataframe tbody tr th {\n",
              "        vertical-align: top;\n",
              "    }\n",
              "\n",
              "    .dataframe thead th {\n",
              "        text-align: right;\n",
              "    }\n",
              "</style>\n",
              "<table border=\"1\" class=\"dataframe\">\n",
              "  <thead>\n",
              "    <tr style=\"text-align: right;\">\n",
              "      <th></th>\n",
              "      <th>variable</th>\n",
              "      <th>mean</th>\n",
              "      <th>std_dev</th>\n",
              "      <th>variation_coef</th>\n",
              "      <th>p_0.01</th>\n",
              "      <th>p_0.05</th>\n",
              "      <th>p_0.25</th>\n",
              "      <th>p_0.5</th>\n",
              "      <th>p_0.75</th>\n",
              "      <th>p_0.95</th>\n",
              "      <th>p_0.99</th>\n",
              "    </tr>\n",
              "  </thead>\n",
              "  <tbody>\n",
              "    <tr>\n",
              "      <th>0</th>\n",
              "      <td>LIMIT_BAL</td>\n",
              "      <td>167484.322667</td>\n",
              "      <td>129747.661567</td>\n",
              "      <td>0.774685</td>\n",
              "      <td>10000.00</td>\n",
              "      <td>20000.0</td>\n",
              "      <td>50000.00</td>\n",
              "      <td>140000.0</td>\n",
              "      <td>240000.00</td>\n",
              "      <td>430000.00</td>\n",
              "      <td>500000.00</td>\n",
              "    </tr>\n",
              "    <tr>\n",
              "      <th>1</th>\n",
              "      <td>AGE</td>\n",
              "      <td>35.485500</td>\n",
              "      <td>9.217904</td>\n",
              "      <td>0.259765</td>\n",
              "      <td>22.00</td>\n",
              "      <td>23.0</td>\n",
              "      <td>28.00</td>\n",
              "      <td>34.0</td>\n",
              "      <td>41.00</td>\n",
              "      <td>53.00</td>\n",
              "      <td>60.00</td>\n",
              "    </tr>\n",
              "    <tr>\n",
              "      <th>2</th>\n",
              "      <td>BILL_AMT1</td>\n",
              "      <td>51223.330900</td>\n",
              "      <td>73635.860576</td>\n",
              "      <td>1.437545</td>\n",
              "      <td>-81.00</td>\n",
              "      <td>0.0</td>\n",
              "      <td>3558.75</td>\n",
              "      <td>22381.5</td>\n",
              "      <td>67091.00</td>\n",
              "      <td>201203.05</td>\n",
              "      <td>350110.68</td>\n",
              "    </tr>\n",
              "    <tr>\n",
              "      <th>3</th>\n",
              "      <td>BILL_AMT2</td>\n",
              "      <td>49179.075167</td>\n",
              "      <td>71173.768783</td>\n",
              "      <td>1.447237</td>\n",
              "      <td>-200.00</td>\n",
              "      <td>0.0</td>\n",
              "      <td>2984.75</td>\n",
              "      <td>21200.0</td>\n",
              "      <td>64006.25</td>\n",
              "      <td>194792.20</td>\n",
              "      <td>337495.28</td>\n",
              "    </tr>\n",
              "    <tr>\n",
              "      <th>4</th>\n",
              "      <td>BILL_AMT3</td>\n",
              "      <td>47013.154800</td>\n",
              "      <td>69349.387427</td>\n",
              "      <td>1.475106</td>\n",
              "      <td>-200.00</td>\n",
              "      <td>0.0</td>\n",
              "      <td>2666.25</td>\n",
              "      <td>20088.5</td>\n",
              "      <td>60164.75</td>\n",
              "      <td>187821.05</td>\n",
              "      <td>325030.39</td>\n",
              "    </tr>\n",
              "    <tr>\n",
              "      <th>5</th>\n",
              "      <td>BILL_AMT4</td>\n",
              "      <td>43262.948967</td>\n",
              "      <td>64332.856134</td>\n",
              "      <td>1.487020</td>\n",
              "      <td>-212.02</td>\n",
              "      <td>0.0</td>\n",
              "      <td>2326.75</td>\n",
              "      <td>19052.0</td>\n",
              "      <td>54506.00</td>\n",
              "      <td>174333.35</td>\n",
              "      <td>304997.27</td>\n",
              "    </tr>\n",
              "    <tr>\n",
              "      <th>6</th>\n",
              "      <td>BILL_AMT5</td>\n",
              "      <td>40311.400967</td>\n",
              "      <td>60797.155770</td>\n",
              "      <td>1.508188</td>\n",
              "      <td>-232.01</td>\n",
              "      <td>0.0</td>\n",
              "      <td>1763.00</td>\n",
              "      <td>18104.5</td>\n",
              "      <td>50190.50</td>\n",
              "      <td>165794.30</td>\n",
              "      <td>285868.33</td>\n",
              "    </tr>\n",
              "    <tr>\n",
              "      <th>7</th>\n",
              "      <td>BILL_AMT6</td>\n",
              "      <td>38871.760400</td>\n",
              "      <td>59554.107537</td>\n",
              "      <td>1.532066</td>\n",
              "      <td>-331.03</td>\n",
              "      <td>0.0</td>\n",
              "      <td>1256.00</td>\n",
              "      <td>17071.0</td>\n",
              "      <td>49198.25</td>\n",
              "      <td>161912.00</td>\n",
              "      <td>279505.06</td>\n",
              "    </tr>\n",
              "    <tr>\n",
              "      <th>8</th>\n",
              "      <td>PAY_AMT1</td>\n",
              "      <td>5663.580500</td>\n",
              "      <td>16563.280354</td>\n",
              "      <td>2.924525</td>\n",
              "      <td>0.00</td>\n",
              "      <td>0.0</td>\n",
              "      <td>1000.00</td>\n",
              "      <td>2100.0</td>\n",
              "      <td>5006.00</td>\n",
              "      <td>18428.20</td>\n",
              "      <td>66522.18</td>\n",
              "    </tr>\n",
              "    <tr>\n",
              "      <th>9</th>\n",
              "      <td>PAY_AMT2</td>\n",
              "      <td>5921.163500</td>\n",
              "      <td>23040.870402</td>\n",
              "      <td>3.891274</td>\n",
              "      <td>0.00</td>\n",
              "      <td>0.0</td>\n",
              "      <td>833.00</td>\n",
              "      <td>2009.0</td>\n",
              "      <td>5000.00</td>\n",
              "      <td>19004.35</td>\n",
              "      <td>76651.02</td>\n",
              "    </tr>\n",
              "    <tr>\n",
              "      <th>10</th>\n",
              "      <td>PAY_AMT3</td>\n",
              "      <td>5225.681500</td>\n",
              "      <td>17606.961470</td>\n",
              "      <td>3.369314</td>\n",
              "      <td>0.00</td>\n",
              "      <td>0.0</td>\n",
              "      <td>390.00</td>\n",
              "      <td>1800.0</td>\n",
              "      <td>4505.00</td>\n",
              "      <td>17589.40</td>\n",
              "      <td>70000.00</td>\n",
              "    </tr>\n",
              "    <tr>\n",
              "      <th>11</th>\n",
              "      <td>PAY_AMT4</td>\n",
              "      <td>4826.076867</td>\n",
              "      <td>15666.159744</td>\n",
              "      <td>3.246148</td>\n",
              "      <td>0.00</td>\n",
              "      <td>0.0</td>\n",
              "      <td>296.00</td>\n",
              "      <td>1500.0</td>\n",
              "      <td>4013.25</td>\n",
              "      <td>16014.95</td>\n",
              "      <td>67054.44</td>\n",
              "    </tr>\n",
              "    <tr>\n",
              "      <th>12</th>\n",
              "      <td>PAY_AMT5</td>\n",
              "      <td>4799.387633</td>\n",
              "      <td>15278.305679</td>\n",
              "      <td>3.183386</td>\n",
              "      <td>0.00</td>\n",
              "      <td>0.0</td>\n",
              "      <td>252.50</td>\n",
              "      <td>1500.0</td>\n",
              "      <td>4031.50</td>\n",
              "      <td>16000.00</td>\n",
              "      <td>65607.56</td>\n",
              "    </tr>\n",
              "    <tr>\n",
              "      <th>13</th>\n",
              "      <td>PAY_AMT6</td>\n",
              "      <td>5215.502567</td>\n",
              "      <td>17777.465775</td>\n",
              "      <td>3.408582</td>\n",
              "      <td>0.00</td>\n",
              "      <td>0.0</td>\n",
              "      <td>117.75</td>\n",
              "      <td>1500.0</td>\n",
              "      <td>4000.00</td>\n",
              "      <td>17343.80</td>\n",
              "      <td>82619.05</td>\n",
              "    </tr>\n",
              "  </tbody>\n",
              "</table>\n",
              "</div>"
            ],
            "text/plain": [
              "     variable           mean        std_dev  ...     p_0.75     p_0.95     p_0.99\n",
              "0   LIMIT_BAL  167484.322667  129747.661567  ...  240000.00  430000.00  500000.00\n",
              "1         AGE      35.485500       9.217904  ...      41.00      53.00      60.00\n",
              "2   BILL_AMT1   51223.330900   73635.860576  ...   67091.00  201203.05  350110.68\n",
              "3   BILL_AMT2   49179.075167   71173.768783  ...   64006.25  194792.20  337495.28\n",
              "4   BILL_AMT3   47013.154800   69349.387427  ...   60164.75  187821.05  325030.39\n",
              "5   BILL_AMT4   43262.948967   64332.856134  ...   54506.00  174333.35  304997.27\n",
              "6   BILL_AMT5   40311.400967   60797.155770  ...   50190.50  165794.30  285868.33\n",
              "7   BILL_AMT6   38871.760400   59554.107537  ...   49198.25  161912.00  279505.06\n",
              "8    PAY_AMT1    5663.580500   16563.280354  ...    5006.00   18428.20   66522.18\n",
              "9    PAY_AMT2    5921.163500   23040.870402  ...    5000.00   19004.35   76651.02\n",
              "10   PAY_AMT3    5225.681500   17606.961470  ...    4505.00   17589.40   70000.00\n",
              "11   PAY_AMT4    4826.076867   15666.159744  ...    4013.25   16014.95   67054.44\n",
              "12   PAY_AMT5    4799.387633   15278.305679  ...    4031.50   16000.00   65607.56\n",
              "13   PAY_AMT6    5215.502567   17777.465775  ...    4000.00   17343.80   82619.05\n",
              "\n",
              "[14 rows x 11 columns]"
            ]
          },
          "metadata": {
            "tags": []
          },
          "execution_count": 92
        }
      ]
    },
    {
      "cell_type": "markdown",
      "metadata": {
        "id": "1ZaTtIWf1YIR"
      },
      "source": [
        "Comentario:\r\n",
        "- Hay variables con rangos mas grandes que otras, por lo que se debe escalar los valores para que el grado en el que afectarán a la variable objetivo podría ser igual y evitar sesgos hacia variables con un rango mayor."
      ]
    },
    {
      "cell_type": "markdown",
      "metadata": {
        "id": "tsm2XHKOo1PL"
      },
      "source": [
        "#### Revisión de Valores Únicos y Valores Perdidos (Missings Values)"
      ]
    },
    {
      "cell_type": "code",
      "metadata": {
        "colab": {
          "base_uri": "https://localhost:8080/",
          "height": 751
        },
        "id": "ziNczlL0K4AY",
        "outputId": "5f697815-063c-42b8-a3fc-fb9dea3fe22f"
      },
      "source": [
        "#--------------------------------------------------------------------------------------------------\r\n",
        "# TABLA DE ESTADO DE LAS VARIABLES (Valores Nulos / Valores Únicos / Valores Perdidos / Ceros )\r\n",
        "#--------------------------------------------------------------------------------------------------\r\n",
        "status(df_defcredcard)"
      ],
      "execution_count": 93,
      "outputs": [
        {
          "output_type": "execute_result",
          "data": {
            "text/html": [
              "<div>\n",
              "<style scoped>\n",
              "    .dataframe tbody tr th:only-of-type {\n",
              "        vertical-align: middle;\n",
              "    }\n",
              "\n",
              "    .dataframe tbody tr th {\n",
              "        vertical-align: top;\n",
              "    }\n",
              "\n",
              "    .dataframe thead th {\n",
              "        text-align: right;\n",
              "    }\n",
              "</style>\n",
              "<table border=\"1\" class=\"dataframe\">\n",
              "  <thead>\n",
              "    <tr style=\"text-align: right;\">\n",
              "      <th></th>\n",
              "      <th>variable</th>\n",
              "      <th>q_nan</th>\n",
              "      <th>p_nan</th>\n",
              "      <th>q_zeros</th>\n",
              "      <th>p_zeros</th>\n",
              "      <th>unique</th>\n",
              "      <th>type</th>\n",
              "    </tr>\n",
              "  </thead>\n",
              "  <tbody>\n",
              "    <tr>\n",
              "      <th>0</th>\n",
              "      <td>LIMIT_BAL</td>\n",
              "      <td>0</td>\n",
              "      <td>0.0</td>\n",
              "      <td>0</td>\n",
              "      <td>0.000000</td>\n",
              "      <td>81</td>\n",
              "      <td>int64</td>\n",
              "    </tr>\n",
              "    <tr>\n",
              "      <th>1</th>\n",
              "      <td>SEX</td>\n",
              "      <td>0</td>\n",
              "      <td>0.0</td>\n",
              "      <td>0</td>\n",
              "      <td>0.000000</td>\n",
              "      <td>2</td>\n",
              "      <td>object</td>\n",
              "    </tr>\n",
              "    <tr>\n",
              "      <th>2</th>\n",
              "      <td>EDUCATION</td>\n",
              "      <td>0</td>\n",
              "      <td>0.0</td>\n",
              "      <td>0</td>\n",
              "      <td>0.000000</td>\n",
              "      <td>7</td>\n",
              "      <td>object</td>\n",
              "    </tr>\n",
              "    <tr>\n",
              "      <th>3</th>\n",
              "      <td>MARRIAGE</td>\n",
              "      <td>0</td>\n",
              "      <td>0.0</td>\n",
              "      <td>0</td>\n",
              "      <td>0.000000</td>\n",
              "      <td>4</td>\n",
              "      <td>object</td>\n",
              "    </tr>\n",
              "    <tr>\n",
              "      <th>4</th>\n",
              "      <td>AGE</td>\n",
              "      <td>0</td>\n",
              "      <td>0.0</td>\n",
              "      <td>0</td>\n",
              "      <td>0.000000</td>\n",
              "      <td>56</td>\n",
              "      <td>int64</td>\n",
              "    </tr>\n",
              "    <tr>\n",
              "      <th>5</th>\n",
              "      <td>PAY_0</td>\n",
              "      <td>0</td>\n",
              "      <td>0.0</td>\n",
              "      <td>0</td>\n",
              "      <td>0.000000</td>\n",
              "      <td>11</td>\n",
              "      <td>object</td>\n",
              "    </tr>\n",
              "    <tr>\n",
              "      <th>6</th>\n",
              "      <td>PAY_2</td>\n",
              "      <td>0</td>\n",
              "      <td>0.0</td>\n",
              "      <td>0</td>\n",
              "      <td>0.000000</td>\n",
              "      <td>11</td>\n",
              "      <td>object</td>\n",
              "    </tr>\n",
              "    <tr>\n",
              "      <th>7</th>\n",
              "      <td>PAY_3</td>\n",
              "      <td>0</td>\n",
              "      <td>0.0</td>\n",
              "      <td>0</td>\n",
              "      <td>0.000000</td>\n",
              "      <td>11</td>\n",
              "      <td>object</td>\n",
              "    </tr>\n",
              "    <tr>\n",
              "      <th>8</th>\n",
              "      <td>PAY_4</td>\n",
              "      <td>0</td>\n",
              "      <td>0.0</td>\n",
              "      <td>0</td>\n",
              "      <td>0.000000</td>\n",
              "      <td>11</td>\n",
              "      <td>object</td>\n",
              "    </tr>\n",
              "    <tr>\n",
              "      <th>9</th>\n",
              "      <td>PAY_5</td>\n",
              "      <td>0</td>\n",
              "      <td>0.0</td>\n",
              "      <td>0</td>\n",
              "      <td>0.000000</td>\n",
              "      <td>10</td>\n",
              "      <td>object</td>\n",
              "    </tr>\n",
              "    <tr>\n",
              "      <th>10</th>\n",
              "      <td>PAY_6</td>\n",
              "      <td>0</td>\n",
              "      <td>0.0</td>\n",
              "      <td>0</td>\n",
              "      <td>0.000000</td>\n",
              "      <td>10</td>\n",
              "      <td>object</td>\n",
              "    </tr>\n",
              "    <tr>\n",
              "      <th>11</th>\n",
              "      <td>BILL_AMT1</td>\n",
              "      <td>0</td>\n",
              "      <td>0.0</td>\n",
              "      <td>2008</td>\n",
              "      <td>0.066933</td>\n",
              "      <td>22723</td>\n",
              "      <td>int64</td>\n",
              "    </tr>\n",
              "    <tr>\n",
              "      <th>12</th>\n",
              "      <td>BILL_AMT2</td>\n",
              "      <td>0</td>\n",
              "      <td>0.0</td>\n",
              "      <td>2506</td>\n",
              "      <td>0.083533</td>\n",
              "      <td>22346</td>\n",
              "      <td>int64</td>\n",
              "    </tr>\n",
              "    <tr>\n",
              "      <th>13</th>\n",
              "      <td>BILL_AMT3</td>\n",
              "      <td>0</td>\n",
              "      <td>0.0</td>\n",
              "      <td>2870</td>\n",
              "      <td>0.095667</td>\n",
              "      <td>22026</td>\n",
              "      <td>int64</td>\n",
              "    </tr>\n",
              "    <tr>\n",
              "      <th>14</th>\n",
              "      <td>BILL_AMT4</td>\n",
              "      <td>0</td>\n",
              "      <td>0.0</td>\n",
              "      <td>3195</td>\n",
              "      <td>0.106500</td>\n",
              "      <td>21548</td>\n",
              "      <td>int64</td>\n",
              "    </tr>\n",
              "    <tr>\n",
              "      <th>15</th>\n",
              "      <td>BILL_AMT5</td>\n",
              "      <td>0</td>\n",
              "      <td>0.0</td>\n",
              "      <td>3506</td>\n",
              "      <td>0.116867</td>\n",
              "      <td>21010</td>\n",
              "      <td>int64</td>\n",
              "    </tr>\n",
              "    <tr>\n",
              "      <th>16</th>\n",
              "      <td>BILL_AMT6</td>\n",
              "      <td>0</td>\n",
              "      <td>0.0</td>\n",
              "      <td>4020</td>\n",
              "      <td>0.134000</td>\n",
              "      <td>20604</td>\n",
              "      <td>int64</td>\n",
              "    </tr>\n",
              "    <tr>\n",
              "      <th>17</th>\n",
              "      <td>PAY_AMT1</td>\n",
              "      <td>0</td>\n",
              "      <td>0.0</td>\n",
              "      <td>5249</td>\n",
              "      <td>0.174967</td>\n",
              "      <td>7943</td>\n",
              "      <td>int64</td>\n",
              "    </tr>\n",
              "    <tr>\n",
              "      <th>18</th>\n",
              "      <td>PAY_AMT2</td>\n",
              "      <td>0</td>\n",
              "      <td>0.0</td>\n",
              "      <td>5396</td>\n",
              "      <td>0.179867</td>\n",
              "      <td>7899</td>\n",
              "      <td>int64</td>\n",
              "    </tr>\n",
              "    <tr>\n",
              "      <th>19</th>\n",
              "      <td>PAY_AMT3</td>\n",
              "      <td>0</td>\n",
              "      <td>0.0</td>\n",
              "      <td>5968</td>\n",
              "      <td>0.198933</td>\n",
              "      <td>7518</td>\n",
              "      <td>int64</td>\n",
              "    </tr>\n",
              "    <tr>\n",
              "      <th>20</th>\n",
              "      <td>PAY_AMT4</td>\n",
              "      <td>0</td>\n",
              "      <td>0.0</td>\n",
              "      <td>6408</td>\n",
              "      <td>0.213600</td>\n",
              "      <td>6937</td>\n",
              "      <td>int64</td>\n",
              "    </tr>\n",
              "    <tr>\n",
              "      <th>21</th>\n",
              "      <td>PAY_AMT5</td>\n",
              "      <td>0</td>\n",
              "      <td>0.0</td>\n",
              "      <td>6703</td>\n",
              "      <td>0.223433</td>\n",
              "      <td>6897</td>\n",
              "      <td>int64</td>\n",
              "    </tr>\n",
              "    <tr>\n",
              "      <th>22</th>\n",
              "      <td>PAY_AMT6</td>\n",
              "      <td>0</td>\n",
              "      <td>0.0</td>\n",
              "      <td>7173</td>\n",
              "      <td>0.239100</td>\n",
              "      <td>6939</td>\n",
              "      <td>int64</td>\n",
              "    </tr>\n",
              "    <tr>\n",
              "      <th>23</th>\n",
              "      <td>default_payment_next_month</td>\n",
              "      <td>0</td>\n",
              "      <td>0.0</td>\n",
              "      <td>0</td>\n",
              "      <td>0.000000</td>\n",
              "      <td>2</td>\n",
              "      <td>object</td>\n",
              "    </tr>\n",
              "  </tbody>\n",
              "</table>\n",
              "</div>"
            ],
            "text/plain": [
              "                      variable  q_nan  p_nan  q_zeros   p_zeros  unique    type\n",
              "0                    LIMIT_BAL      0    0.0        0  0.000000      81   int64\n",
              "1                          SEX      0    0.0        0  0.000000       2  object\n",
              "2                    EDUCATION      0    0.0        0  0.000000       7  object\n",
              "3                     MARRIAGE      0    0.0        0  0.000000       4  object\n",
              "4                          AGE      0    0.0        0  0.000000      56   int64\n",
              "5                        PAY_0      0    0.0        0  0.000000      11  object\n",
              "6                        PAY_2      0    0.0        0  0.000000      11  object\n",
              "7                        PAY_3      0    0.0        0  0.000000      11  object\n",
              "8                        PAY_4      0    0.0        0  0.000000      11  object\n",
              "9                        PAY_5      0    0.0        0  0.000000      10  object\n",
              "10                       PAY_6      0    0.0        0  0.000000      10  object\n",
              "11                   BILL_AMT1      0    0.0     2008  0.066933   22723   int64\n",
              "12                   BILL_AMT2      0    0.0     2506  0.083533   22346   int64\n",
              "13                   BILL_AMT3      0    0.0     2870  0.095667   22026   int64\n",
              "14                   BILL_AMT4      0    0.0     3195  0.106500   21548   int64\n",
              "15                   BILL_AMT5      0    0.0     3506  0.116867   21010   int64\n",
              "16                   BILL_AMT6      0    0.0     4020  0.134000   20604   int64\n",
              "17                    PAY_AMT1      0    0.0     5249  0.174967    7943   int64\n",
              "18                    PAY_AMT2      0    0.0     5396  0.179867    7899   int64\n",
              "19                    PAY_AMT3      0    0.0     5968  0.198933    7518   int64\n",
              "20                    PAY_AMT4      0    0.0     6408  0.213600    6937   int64\n",
              "21                    PAY_AMT5      0    0.0     6703  0.223433    6897   int64\n",
              "22                    PAY_AMT6      0    0.0     7173  0.239100    6939   int64\n",
              "23  default_payment_next_month      0    0.0        0  0.000000       2  object"
            ]
          },
          "metadata": {
            "tags": []
          },
          "execution_count": 93
        }
      ]
    },
    {
      "cell_type": "markdown",
      "metadata": {
        "id": "uvu-Lab8Mgrb"
      },
      "source": [
        "##### Valores Únicos"
      ]
    },
    {
      "cell_type": "code",
      "metadata": {
        "id": "SFKthrNko0rj"
      },
      "source": [
        "#--------------------------------------------------\r\n",
        "# Cantidad de Valores Únicos\r\n",
        "#--------------------------------------------------\r\n",
        "# df_defcredcard.nunique()"
      ],
      "execution_count": 94,
      "outputs": []
    },
    {
      "cell_type": "code",
      "metadata": {
        "colab": {
          "base_uri": "https://localhost:8080/"
        },
        "id": "Mfbw8gnbpex5",
        "outputId": "5822c6f2-930a-4dbe-d184-13dec7083c9c"
      },
      "source": [
        "#--------------------------------------------------\r\n",
        "# Valores Únicos por Columnas\r\n",
        "#--------------------------------------------------\r\n",
        "for columna in df_defcredcard.columns:\r\n",
        "    print(f'Valores únicos de la columna {columna}: {(df_defcredcard[columna].unique())}')"
      ],
      "execution_count": 95,
      "outputs": [
        {
          "output_type": "stream",
          "text": [
            "Valores únicos de la columna LIMIT_BAL: [  20000  120000   90000   50000  500000  100000  140000  200000  260000\n",
            "  630000   70000  250000  320000  360000  180000  130000  450000   60000\n",
            "  230000  160000  280000   10000   40000  210000  150000  380000  310000\n",
            "  400000   80000  290000  340000  300000   30000  240000  470000  480000\n",
            "  350000  330000  110000  420000  170000  370000  270000  220000  190000\n",
            "  510000  460000  440000  410000  490000  390000  580000  600000  620000\n",
            "  610000  700000  670000  680000  430000  550000  540000 1000000  530000\n",
            "  710000  560000  520000  750000  640000   16000  570000  590000  660000\n",
            "  720000  327680  740000  800000  760000  690000  650000  780000  730000]\n",
            "Valores únicos de la columna SEX: ['2' '1']\n",
            "Valores únicos de la columna EDUCATION: ['2' '1' '3' '5' '4' '6' '0']\n",
            "Valores únicos de la columna MARRIAGE: ['1' '2' '3' '0']\n",
            "Valores únicos de la columna AGE: [24 26 34 37 57 29 23 28 35 51 41 30 49 39 40 27 47 33 32 54 58 22 25 31\n",
            " 46 42 43 45 56 44 53 38 63 36 52 48 55 60 50 75 61 73 59 21 67 66 62 70\n",
            " 72 64 65 71 69 68 79 74]\n",
            "Valores únicos de la columna PAY_0: ['2' '-1' '0' '-2' '1' '3' '4' '8' '7' '5' '6']\n",
            "Valores únicos de la columna PAY_2: ['2' '0' '-1' '-2' '3' '5' '7' '4' '1' '6' '8']\n",
            "Valores únicos de la columna PAY_3: ['-1' '0' '2' '-2' '3' '4' '6' '7' '1' '5' '8']\n",
            "Valores únicos de la columna PAY_4: ['-1' '0' '-2' '2' '3' '4' '5' '7' '6' '1' '8']\n",
            "Valores únicos de la columna PAY_5: ['-2' '0' '-1' '2' '3' '5' '4' '7' '8' '6']\n",
            "Valores únicos de la columna PAY_6: ['-2' '2' '0' '-1' '3' '6' '4' '7' '8' '5']\n",
            "Valores únicos de la columna BILL_AMT1: [ 3913  2682 29239 ...  1683 -1645 47929]\n",
            "Valores únicos de la columna BILL_AMT2: [ 3102  1725 14027 ...  3356 78379 48905]\n",
            "Valores únicos de la columna BILL_AMT3: [  689  2682 13559 ...  2758 76304 49764]\n",
            "Valores únicos de la columna BILL_AMT4: [    0  3272 14331 ... 20878 52774 36535]\n",
            "Valores únicos de la columna BILL_AMT5: [    0  3455 14948 ... 31237  5190 32428]\n",
            "Valores únicos de la columna BILL_AMT6: [    0  3261 15549 ... 19357 48944 15313]\n",
            "Valores únicos de la columna PAY_AMT1: [    0  1518  2000 ... 10029  9054 85900]\n",
            "Valores únicos de la columna PAY_AMT2: [   689   1000   1500 ...   2977 111784   3526]\n",
            "Valores únicos de la columna PAY_AMT3: [     0   1000   1200 ... 349395   8907  25128]\n",
            "Valores únicos de la columna PAY_AMT4: [    0  1000  1100 ...  2556 10115  8049]\n",
            "Valores únicos de la columna PAY_AMT5: [    0  1000  1069 ...  8040  3319 52964]\n",
            "Valores únicos de la columna PAY_AMT6: [     0   2000   5000 ...  70052 220076  16080]\n",
            "Valores únicos de la columna default_payment_next_month: ['1' '0']\n"
          ],
          "name": "stdout"
        }
      ]
    },
    {
      "cell_type": "markdown",
      "metadata": {
        "id": "p1-1PRaFN-tU"
      },
      "source": [
        "Comentario: \r\n",
        "- La variable EDUCATION tienen categorías adicionales a lo definido en el diccionario (0, 5, 6)\r\n",
        "- La variable MARRIAGE tiene una categoría adicional a lo definido en el diccionario (0)\r\n",
        "- Las variables de historial de pago pasado (PAY_0, PAY_2, PAY_3, PAY_4, PAY_5, PAY_6) tienen valores adicionales a lo definido en el el diccionario ('0' y'-2'), que son ambiguos. Quizás '0' y '-2' se refieren también al pago al día o incluso pago antes de la fecha límite."
      ]
    },
    {
      "cell_type": "code",
      "metadata": {
        "colab": {
          "base_uri": "https://localhost:8080/"
        },
        "id": "UV0VZulPqHK4",
        "outputId": "b1888db3-a422-4049-d33c-ce31dd8f559b"
      },
      "source": [
        "#--------------------------------------------------\r\n",
        "# % de Valores Únicos\r\n",
        "#--------------------------------------------------\r\n",
        "(df_defcredcard.nunique()/len(df_defcredcard))*100"
      ],
      "execution_count": 96,
      "outputs": [
        {
          "output_type": "execute_result",
          "data": {
            "text/plain": [
              "LIMIT_BAL                      0.270000\n",
              "SEX                            0.006667\n",
              "EDUCATION                      0.023333\n",
              "MARRIAGE                       0.013333\n",
              "AGE                            0.186667\n",
              "PAY_0                          0.036667\n",
              "PAY_2                          0.036667\n",
              "PAY_3                          0.036667\n",
              "PAY_4                          0.036667\n",
              "PAY_5                          0.033333\n",
              "PAY_6                          0.033333\n",
              "BILL_AMT1                     75.743333\n",
              "BILL_AMT2                     74.486667\n",
              "BILL_AMT3                     73.420000\n",
              "BILL_AMT4                     71.826667\n",
              "BILL_AMT5                     70.033333\n",
              "BILL_AMT6                     68.680000\n",
              "PAY_AMT1                      26.476667\n",
              "PAY_AMT2                      26.330000\n",
              "PAY_AMT3                      25.060000\n",
              "PAY_AMT4                      23.123333\n",
              "PAY_AMT5                      22.990000\n",
              "PAY_AMT6                      23.130000\n",
              "default_payment_next_month     0.006667\n",
              "dtype: float64"
            ]
          },
          "metadata": {
            "tags": []
          },
          "execution_count": 96
        }
      ]
    },
    {
      "cell_type": "markdown",
      "metadata": {
        "id": "qt7frqcO555A"
      },
      "source": [
        "Comentario:\r\n",
        "\r\n",
        "No hay variables que tengan un alto porcentaje de valores únicos (referencia: 70-80%)"
      ]
    },
    {
      "cell_type": "code",
      "metadata": {
        "colab": {
          "base_uri": "https://localhost:8080/"
        },
        "id": "0fWeUaro53gN",
        "outputId": "765697f8-6591-4b01-b869-12e62c7af998"
      },
      "source": [
        "por_val_unicos = pd.DataFrame(data = df_defcredcard.nunique()/len(df_defcredcard), columns=['Por_Val_Unico'])\r\n",
        "por_val_unicos[por_val_unicos['Por_Val_Unico'] > 0.80].count()"
      ],
      "execution_count": 97,
      "outputs": [
        {
          "output_type": "execute_result",
          "data": {
            "text/plain": [
              "Por_Val_Unico    0\n",
              "dtype: int64"
            ]
          },
          "metadata": {
            "tags": []
          },
          "execution_count": 97
        }
      ]
    },
    {
      "cell_type": "markdown",
      "metadata": {
        "id": "mwObHk8jqrz4"
      },
      "source": [
        "##### Valores Perdidos (Missings Values)"
      ]
    },
    {
      "cell_type": "code",
      "metadata": {
        "id": "hl-9i5FKqsRL"
      },
      "source": [
        "#--------------------------------------------\r\n",
        "# Cantidad de Valores Nulos\r\n",
        "#--------------------------------------------\r\n",
        "# df_defcredcard.isna().sum()"
      ],
      "execution_count": 98,
      "outputs": []
    },
    {
      "cell_type": "code",
      "metadata": {
        "id": "a4HSduERq2PQ"
      },
      "source": [
        "#--------------------------------------------\r\n",
        "# % de Valores Nulos\r\n",
        "#--------------------------------------------\r\n",
        "# (df_defcredcard.isna().sum()/len(df_defcredcard))*100"
      ],
      "execution_count": 99,
      "outputs": []
    },
    {
      "cell_type": "markdown",
      "metadata": {
        "id": "JmM7bAYCPseb"
      },
      "source": [
        "Comentario:\r\n",
        "- No hay registros (filas) ni variables (columnas) que tengan valores nulos"
      ]
    },
    {
      "cell_type": "markdown",
      "metadata": {
        "id": "2n74milnYrkH"
      },
      "source": [
        "### ***Análisis Univariado***"
      ]
    },
    {
      "cell_type": "code",
      "metadata": {
        "colab": {
          "base_uri": "https://localhost:8080/"
        },
        "id": "3jIUGRNOPYmV",
        "outputId": "58e89d25-6ed3-470b-ab73-d560648dc13e"
      },
      "source": [
        "#--------------------------------------------\r\n",
        "# TIPO DE VARIABLES\r\n",
        "#--------------------------------------------\r\n",
        "#from funpymodeling.exploratory import cat_vars, num_vars\r\n",
        "print(\"Variables Categóricas: \", cat_vars(df_defcredcard))\r\n",
        "print(\"Variables Numéricas: \", num_vars(df_defcredcard))"
      ],
      "execution_count": 100,
      "outputs": [
        {
          "output_type": "stream",
          "text": [
            "Variables Categóricas:  Index(['SEX', 'EDUCATION', 'MARRIAGE', 'PAY_0', 'PAY_2', 'PAY_3', 'PAY_4',\n",
            "       'PAY_5', 'PAY_6', 'default_payment_next_month'],\n",
            "      dtype='object')\n",
            "Variables Numéricas:  Index(['LIMIT_BAL', 'AGE', 'BILL_AMT1', 'BILL_AMT2', 'BILL_AMT3', 'BILL_AMT4',\n",
            "       'BILL_AMT5', 'BILL_AMT6', 'PAY_AMT1', 'PAY_AMT2', 'PAY_AMT3',\n",
            "       'PAY_AMT4', 'PAY_AMT5', 'PAY_AMT6'],\n",
            "      dtype='object')\n"
          ],
          "name": "stdout"
        }
      ]
    },
    {
      "cell_type": "markdown",
      "metadata": {
        "id": "R-ZFd6w4uM9Q"
      },
      "source": [
        "#### Análisis de Variables Categóricas"
      ]
    },
    {
      "cell_type": "code",
      "metadata": {
        "colab": {
          "base_uri": "https://localhost:8080/"
        },
        "id": "4rPzKZdHOF9b",
        "outputId": "c4587bd5-4e27-4124-e0f2-167c2223c42b"
      },
      "source": [
        "#--------------------------------------------\r\n",
        "# TABLAS DE FRECUENCIAS\r\n",
        "#--------------------------------------------\r\n",
        "freq_tbl(df_defcredcard)\r\n",
        "#freq_tbl(df_defcredcard['default_payment_next_month'])"
      ],
      "execution_count": 101,
      "outputs": [
        {
          "output_type": "stream",
          "text": [
            "  SEX  frequency  percentage  cumulative_perc\n",
            "0   2      18112    0.603733         0.603733\n",
            "1   1      11888    0.396267         1.000000\n",
            "\n",
            "----------------------------------------------------------------\n",
            "\n",
            "  EDUCATION  frequency  percentage  cumulative_perc\n",
            "0         2      14030    0.467667         0.467667\n",
            "1         1      10585    0.352833         0.820500\n",
            "2         3       4917    0.163900         0.984400\n",
            "3         5        280    0.009333         0.993733\n",
            "4         4        123    0.004100         0.997833\n",
            "5         6         51    0.001700         0.999533\n",
            "6         0         14    0.000467         1.000000\n",
            "\n",
            "----------------------------------------------------------------\n",
            "\n",
            "  MARRIAGE  frequency  percentage  cumulative_perc\n",
            "0        2      15964    0.532133         0.532133\n",
            "1        1      13659    0.455300         0.987433\n",
            "2        3        323    0.010767         0.998200\n",
            "3        0         54    0.001800         1.000000\n",
            "\n",
            "----------------------------------------------------------------\n",
            "\n",
            "   PAY_0  frequency  percentage  cumulative_perc\n",
            "0      0      14737    0.491233         0.491233\n",
            "1     -1       5686    0.189533         0.680767\n",
            "2      1       3688    0.122933         0.803700\n",
            "3     -2       2759    0.091967         0.895667\n",
            "4      2       2667    0.088900         0.984567\n",
            "5      3        322    0.010733         0.995300\n",
            "6      4         76    0.002533         0.997833\n",
            "7      5         26    0.000867         0.998700\n",
            "8      8         19    0.000633         0.999333\n",
            "9      6         11    0.000367         0.999700\n",
            "10     7          9    0.000300         1.000000\n",
            "\n",
            "----------------------------------------------------------------\n",
            "\n",
            "   PAY_2  frequency  percentage  cumulative_perc\n",
            "0      0      15730    0.524333         0.524333\n",
            "1     -1       6050    0.201667         0.726000\n",
            "2      2       3927    0.130900         0.856900\n",
            "3     -2       3782    0.126067         0.982967\n",
            "4      3        326    0.010867         0.993833\n",
            "5      4         99    0.003300         0.997133\n",
            "6      1         28    0.000933         0.998067\n",
            "7      5         25    0.000833         0.998900\n",
            "8      7         20    0.000667         0.999567\n",
            "9      6         12    0.000400         0.999967\n",
            "10     8          1    0.000033         1.000000\n",
            "\n",
            "----------------------------------------------------------------\n",
            "\n",
            "   PAY_3  frequency  percentage  cumulative_perc\n",
            "0      0      15764    0.525467         0.525467\n",
            "1     -1       5938    0.197933         0.723400\n",
            "2     -2       4085    0.136167         0.859567\n",
            "3      2       3819    0.127300         0.986867\n",
            "4      3        240    0.008000         0.994867\n",
            "5      4         76    0.002533         0.997400\n",
            "6      7         27    0.000900         0.998300\n",
            "7      6         23    0.000767         0.999067\n",
            "8      5         21    0.000700         0.999767\n",
            "9      1          4    0.000133         0.999900\n",
            "10     8          3    0.000100         1.000000\n",
            "\n",
            "----------------------------------------------------------------\n",
            "\n",
            "   PAY_4  frequency  percentage  cumulative_perc\n",
            "0      0      16455    0.548500         0.548500\n",
            "1     -1       5687    0.189567         0.738067\n",
            "2     -2       4348    0.144933         0.883000\n",
            "3      2       3159    0.105300         0.988300\n",
            "4      3        180    0.006000         0.994300\n",
            "5      4         69    0.002300         0.996600\n",
            "6      7         58    0.001933         0.998533\n",
            "7      5         35    0.001167         0.999700\n",
            "8      6          5    0.000167         0.999867\n",
            "9      1          2    0.000067         0.999933\n",
            "10     8          2    0.000067         1.000000\n",
            "\n",
            "----------------------------------------------------------------\n",
            "\n",
            "  PAY_5  frequency  percentage  cumulative_perc\n",
            "0     0      16947    0.564900         0.564900\n",
            "1    -1       5539    0.184633         0.749533\n",
            "2    -2       4546    0.151533         0.901067\n",
            "3     2       2626    0.087533         0.988600\n",
            "4     3        178    0.005933         0.994533\n",
            "5     4         84    0.002800         0.997333\n",
            "6     7         58    0.001933         0.999267\n",
            "7     5         17    0.000567         0.999833\n",
            "8     6          4    0.000133         0.999967\n",
            "9     8          1    0.000033         1.000000\n",
            "\n",
            "----------------------------------------------------------------\n",
            "\n",
            "  PAY_6  frequency  percentage  cumulative_perc\n",
            "0     0      16286    0.542867         0.542867\n",
            "1    -1       5740    0.191333         0.734200\n",
            "2    -2       4895    0.163167         0.897367\n",
            "3     2       2766    0.092200         0.989567\n",
            "4     3        184    0.006133         0.995700\n",
            "5     4         49    0.001633         0.997333\n",
            "6     7         46    0.001533         0.998867\n",
            "7     6         19    0.000633         0.999500\n",
            "8     5         13    0.000433         0.999933\n",
            "9     8          2    0.000067         1.000000\n",
            "\n",
            "----------------------------------------------------------------\n",
            "\n",
            "  default_payment_next_month  frequency  percentage  cumulative_perc\n",
            "0                          0      23364      0.7788           0.7788\n",
            "1                          1       6636      0.2212           1.0000\n",
            "\n",
            "----------------------------------------------------------------\n",
            "\n"
          ],
          "name": "stdout"
        }
      ]
    },
    {
      "cell_type": "code",
      "metadata": {
        "id": "I8Y09FGXq-3P"
      },
      "source": [
        "#---------------------------------------------------------------------------------\r\n",
        "# Tabla de Contingencia de Variable SEX\r\n",
        "#---------------------------------------------------------------------------------\r\n",
        "#pd.DataFrame({'Cantidad': df_defcredcard['SEX'].value_counts(), '%': df_defcredcard['SEX'].value_counts(normalize=True) * 100})\r\n",
        "\r\n",
        "#---------------------------------------------------------------------------------\r\n",
        "# Tabla de Contingencia de Variable EDUCATION\r\n",
        "#---------------------------------------------------------------------------------\r\n",
        "# pd.DataFrame({'Cantidad': df_defcredcard['EDUCATION'].value_counts(), '%': df_defcredcard['EDUCATION'].value_counts(normalize=True) * 100})\r\n",
        "\r\n",
        "#---------------------------------------------------------------------------------\r\n",
        "# Tabla de Contingencia de Variable MARRIAGE\r\n",
        "#---------------------------------------------------------------------------------\r\n",
        "# pd.DataFrame({'Cantidad': df_defcredcard['MARRIAGE'].value_counts(), '%': df_defcredcard['MARRIAGE'].value_counts(normalize=True) * 100})\r\n",
        "\r\n",
        "#---------------------------------------------------------------------------------\r\n",
        "# Tabla de Contingencia de Variable PAY_0\r\n",
        "#---------------------------------------------------------------------------------\r\n",
        "# pd.DataFrame({'Cantidad': df_defcredcard['PAY_0'].value_counts(), '%': df_defcredcard['PAY_0'].value_counts(normalize=True) * 100})\r\n",
        "\r\n",
        "#---------------------------------------------------------------------------------\r\n",
        "# Tabla de Contingencia de Variable PAY_2\r\n",
        "#---------------------------------------------------------------------------------\r\n",
        "# pd.DataFrame({'Cantidad': df_defcredcard['PAY_2'].value_counts(), '%': df_defcredcard['PAY_2'].value_counts(normalize=True) * 100})\r\n",
        "\r\n",
        "#---------------------------------------------------------------------------------\r\n",
        "# Tabla de Contingencia de Variable PAY_3\r\n",
        "#---------------------------------------------------------------------------------\r\n",
        "# pd.DataFrame({'Cantidad': df_defcredcard['PAY_3'].value_counts(), '%': df_defcredcard['PAY_3'].value_counts(normalize=True) * 100})\r\n",
        "\r\n",
        "#---------------------------------------------------------------------------------\r\n",
        "# Tabla de Contingencia de Variable PAY_4\r\n",
        "#---------------------------------------------------------------------------------\r\n",
        "# pd.DataFrame({'Cantidad': df_defcredcard['PAY_4'].value_counts(), '%': df_defcredcard['PAY_4'].value_counts(normalize=True) * 100})\r\n",
        "\r\n",
        "#---------------------------------------------------------------------------------\r\n",
        "# Tabla de Contingencia de Variable PAY_5\r\n",
        "#---------------------------------------------------------------------------------\r\n",
        "# pd.DataFrame({'Cantidad': df_defcredcard['PAY_5'].value_counts(), '%': df_defcredcard['PAY_5'].value_counts(normalize=True) * 100})\r\n",
        "\r\n",
        "#---------------------------------------------------------------------------------\r\n",
        "# Tabla de Contingencia de Variable PAY_6\r\n",
        "#---------------------------------------------------------------------------------\r\n",
        "# pd.DataFrame({'Cantidad': df_defcredcard['PAY_6'].value_counts(), '%': df_defcredcard['PAY_6'].value_counts(normalize=True) * 100})"
      ],
      "execution_count": 102,
      "outputs": []
    },
    {
      "cell_type": "code",
      "metadata": {
        "id": "D_7WVFCvO-un"
      },
      "source": [
        "#--------------------------------------------------\r\n",
        "# GRÁFICOS DE BARRA\r\n",
        "#--------------------------------------------------\r\n",
        "# Esta función estara en funpymodeling como freq() o plot_freq()\r\n",
        "# NOTA: antes de usar este script, saquen las variables que tienen mas de 100 categorias distintas\r\n",
        "import matplotlib.pyplot as plt\r\n",
        "import seaborn as sns\r\n",
        "\r\n",
        "d_plot = df_defcredcard\r\n",
        "fig, ax = plt.subplots(5, 2, figsize=(20, 20))\r\n",
        "for variable, subplot in zip(cat_vars(d_plot), ax.flatten()):\r\n",
        "    sns.countplot(y=d_plot[variable], ax=subplot, order = d_plot[variable].value_counts().index)\r\n",
        "    for label in subplot.get_xticklabels():\r\n",
        "        label.set_rotation(90)"
      ],
      "execution_count": 103,
      "outputs": []
    },
    {
      "cell_type": "code",
      "metadata": {
        "id": "Avr_NuXktX73"
      },
      "source": [
        "#plt.figure(figsize = (15, 15))\r\n",
        "#plt.subplot(3, 3, 1)\r\n",
        "#sns.countplot(data=df_defcredcard, x='SEX')\r\n",
        "#plt.subplot(3, 3, 2)\r\n",
        "#sns.countplot(data=df_defcredcard, x='EDUCATION')\r\n",
        "#plt.subplot(3, 3, 3)\r\n",
        "#sns.countplot(data=df_defcredcard, x='MARRIAGE')\r\n",
        "#plt.subplot(3, 3, 4)\r\n",
        "#sns.countplot(data=df_defcredcard, x='PAY_0')\r\n",
        "#plt.subplot(3, 3, 5)\r\n",
        "#sns.countplot(data=df_defcredcard, x='PAY_2')\r\n",
        "#plt.subplot(3, 3, 6)\r\n",
        "#sns.countplot(data=df_defcredcard, x='PAY_3')\r\n",
        "#plt.subplot(3, 3, 7)\r\n",
        "#sns.countplot(data=df_defcredcard, x='PAY_4')\r\n",
        "#plt.subplot(3, 3, 8)\r\n",
        "#sns.countplot(data=df_defcredcard, x='PAY_5')\r\n",
        "#plt.subplot(3, 3, 9)\r\n",
        "#sns.countplot(data=df_defcredcard, x='PAY_6')\r\n",
        "#plt.tight_layout()\r\n",
        "#plt.show()"
      ],
      "execution_count": 104,
      "outputs": []
    },
    {
      "cell_type": "markdown",
      "metadata": {
        "id": "uUWeF-ha9sU5"
      },
      "source": [
        "Comentario:\n",
        "- La variable objetivo default_payment_next_month no tiene una proporción balanceada de sus clases:\n",
        "\n",
        "0 : 77.88 %\n",
        "\n",
        "1 : 22.12 %"
      ]
    },
    {
      "cell_type": "markdown",
      "metadata": {
        "id": "Z6Z89n-EuWU6"
      },
      "source": [
        "#### Análisis de Variables Numéricas"
      ]
    },
    {
      "cell_type": "code",
      "metadata": {
        "colab": {
          "base_uri": "https://localhost:8080/"
        },
        "id": "NO_7WNYjQpZM",
        "outputId": "2bb086e5-5e6a-4792-97a8-ab110380dd14"
      },
      "source": [
        "#----------------------------------------------\r\n",
        "# HISTOGRAMAS\r\n",
        "#----------------------------------------------\r\n",
        "df_defcredcard.hist(figsize = (20,20))"
      ],
      "execution_count": 105,
      "outputs": [
        {
          "output_type": "execute_result",
          "data": {
            "text/plain": [
              "array([[<matplotlib.axes._subplots.AxesSubplot object at 0x7fb32119e6a0>,\n",
              "        <matplotlib.axes._subplots.AxesSubplot object at 0x7fb31fd44cc0>,\n",
              "        <matplotlib.axes._subplots.AxesSubplot object at 0x7fb31fcf5be0>,\n",
              "        <matplotlib.axes._subplots.AxesSubplot object at 0x7fb31fcb0390>],\n",
              "       [<matplotlib.axes._subplots.AxesSubplot object at 0x7fb31fc5db00>,\n",
              "        <matplotlib.axes._subplots.AxesSubplot object at 0x7fb31fc1b2b0>,\n",
              "        <matplotlib.axes._subplots.AxesSubplot object at 0x7fb31fc4ba20>,\n",
              "        <matplotlib.axes._subplots.AxesSubplot object at 0x7fb31fc04198>],\n",
              "       [<matplotlib.axes._subplots.AxesSubplot object at 0x7fb31fc04208>,\n",
              "        <matplotlib.axes._subplots.AxesSubplot object at 0x7fb31fb6d0f0>,\n",
              "        <matplotlib.axes._subplots.AxesSubplot object at 0x7fb31fb1d860>,\n",
              "        <matplotlib.axes._subplots.AxesSubplot object at 0x7fb31fb4dfd0>],\n",
              "       [<matplotlib.axes._subplots.AxesSubplot object at 0x7fb31fb06780>,\n",
              "        <matplotlib.axes._subplots.AxesSubplot object at 0x7fb31fab8ef0>,\n",
              "        <matplotlib.axes._subplots.AxesSubplot object at 0x7fb31fa716a0>,\n",
              "        <matplotlib.axes._subplots.AxesSubplot object at 0x7fb31fa20e10>]],\n",
              "      dtype=object)"
            ]
          },
          "metadata": {
            "tags": []
          },
          "execution_count": 105
        }
      ]
    },
    {
      "cell_type": "code",
      "metadata": {
        "id": "fOhd3rgsuZGF"
      },
      "source": [
        "#---------------------------------------------\r\n",
        "# DIAGRAMAS DE CAJA\r\n",
        "#---------------------------------------------\r\n",
        "#df.boxplot(figsize=(20,10))\r\n",
        "\r\n",
        "# create figure and axes\r\n",
        "fig, axes = plt.subplots(5,3, figsize=(20, 20))\r\n",
        "\r\n",
        "for i, el in enumerate(list(df_defcredcard.select_dtypes(exclude='object').columns.values)):\r\n",
        "    a = df_defcredcard.boxplot(el, ax=axes.flatten()[i])\r\n",
        "\r\n",
        "plt.tight_layout() \r\n",
        "plt.show()"
      ],
      "execution_count": 106,
      "outputs": []
    },
    {
      "cell_type": "code",
      "metadata": {
        "id": "4njeksyx1ryr"
      },
      "source": [
        "#sns.pairplot(df_defcredcard, hue=\"default_payment_next_month\", height=5, diag_kind=\"hist\")"
      ],
      "execution_count": 107,
      "outputs": []
    },
    {
      "cell_type": "markdown",
      "metadata": {
        "id": "1S8sPwfXxA4W"
      },
      "source": [
        "### ***Análisis Bivariado***"
      ]
    },
    {
      "cell_type": "code",
      "metadata": {
        "colab": {
          "base_uri": "https://localhost:8080/"
        },
        "id": "dBsYBn0vW3iU",
        "outputId": "ceb89fb7-548c-4526-e7e0-36bcee8b0f7f"
      },
      "source": [
        "#from funpymodeling.exploratory import cat_vars, num_vars\r\n",
        "print(\"Variables Categóricas: \", cat_vars(df_defcredcard))"
      ],
      "execution_count": 108,
      "outputs": [
        {
          "output_type": "stream",
          "text": [
            "Variables Categóricas:  Index(['SEX', 'EDUCATION', 'MARRIAGE', 'PAY_0', 'PAY_2', 'PAY_3', 'PAY_4',\n",
            "       'PAY_5', 'PAY_6', 'default_payment_next_month'],\n",
            "      dtype='object')\n"
          ],
          "name": "stdout"
        }
      ]
    },
    {
      "cell_type": "markdown",
      "metadata": {
        "id": "CHBm3pxZxBte"
      },
      "source": [
        "#### Análisis de Var. Categórica vs Categórica"
      ]
    },
    {
      "cell_type": "code",
      "metadata": {
        "colab": {
          "base_uri": "https://localhost:8080/",
          "height": 164
        },
        "id": "ydwKvrWLV6f2",
        "outputId": "1f69124e-491c-484c-d432-0b918293f1a7"
      },
      "source": [
        "#---------------------------------------------------------------\r\n",
        "# TABLAS DE CONTINGENCIA BIVARIADA\r\n",
        "#---------------------------------------------------------------\r\n",
        "\r\n",
        "#...............................................................\r\n",
        "# Análisis: INCUMPLIMIENTO DE PAGO vs GÉNERO\r\n",
        "#...............................................................\r\n",
        "# Porcentages totales (suma de celdas 100%)\r\n",
        "#pd.crosstab(df_defcredcard['SEX'], df_defcredcard['default_payment_next_month'], margins=True, normalize=True)\r\n",
        "\r\n",
        "#df_target_vs_sex = df_defcredcard.groupby(['SEX',target])[target].count().unstack()\r\n",
        "#df_target_vs_sex['percentage'] = round((df_target_vs_sex[1]/(df_target_vs_sex[0]+df_target_vs_sex[1]))*100,2)\r\n",
        "#df_target_vs_sex\r\n",
        "\r\n",
        "# Cantidades Totales (suma de celdas 100%) \r\n",
        "#pd.crosstab(df_defcredcard['SEX'], df_defcredcard['default_payment_next_month'], margins=True)\r\n",
        "\r\n",
        "# Porcentages por registro (útil para selección de variables)\r\n",
        "# pd.crosstab(df_defcredcard['SEX'], df_defcredcard['default_payment_next_month'], normalize='index', margins=True)\r\n",
        "\r\n",
        "# Cantidades por registro \r\n",
        "pd.crosstab(df_defcredcard['SEX'], df_defcredcard['default_payment_next_month'], margins='index')"
      ],
      "execution_count": 109,
      "outputs": [
        {
          "output_type": "execute_result",
          "data": {
            "text/html": [
              "<div>\n",
              "<style scoped>\n",
              "    .dataframe tbody tr th:only-of-type {\n",
              "        vertical-align: middle;\n",
              "    }\n",
              "\n",
              "    .dataframe tbody tr th {\n",
              "        vertical-align: top;\n",
              "    }\n",
              "\n",
              "    .dataframe thead th {\n",
              "        text-align: right;\n",
              "    }\n",
              "</style>\n",
              "<table border=\"1\" class=\"dataframe\">\n",
              "  <thead>\n",
              "    <tr style=\"text-align: right;\">\n",
              "      <th>default_payment_next_month</th>\n",
              "      <th>0</th>\n",
              "      <th>1</th>\n",
              "      <th>All</th>\n",
              "    </tr>\n",
              "    <tr>\n",
              "      <th>SEX</th>\n",
              "      <th></th>\n",
              "      <th></th>\n",
              "      <th></th>\n",
              "    </tr>\n",
              "  </thead>\n",
              "  <tbody>\n",
              "    <tr>\n",
              "      <th>1</th>\n",
              "      <td>9015</td>\n",
              "      <td>2873</td>\n",
              "      <td>11888</td>\n",
              "    </tr>\n",
              "    <tr>\n",
              "      <th>2</th>\n",
              "      <td>14349</td>\n",
              "      <td>3763</td>\n",
              "      <td>18112</td>\n",
              "    </tr>\n",
              "    <tr>\n",
              "      <th>All</th>\n",
              "      <td>23364</td>\n",
              "      <td>6636</td>\n",
              "      <td>30000</td>\n",
              "    </tr>\n",
              "  </tbody>\n",
              "</table>\n",
              "</div>"
            ],
            "text/plain": [
              "default_payment_next_month      0     1    All\n",
              "SEX                                           \n",
              "1                            9015  2873  11888\n",
              "2                           14349  3763  18112\n",
              "All                         23364  6636  30000"
            ]
          },
          "metadata": {
            "tags": []
          },
          "execution_count": 109
        }
      ]
    },
    {
      "cell_type": "code",
      "metadata": {
        "colab": {
          "base_uri": "https://localhost:8080/",
          "height": 311
        },
        "id": "lzNse2_gZU-Y",
        "outputId": "2c9dc8ff-a153-41f6-f505-3bba95606b2d"
      },
      "source": [
        "#...............................................................\r\n",
        "# Análisis: INCUMPLIMIENTO DE PAGO vs EDUCACIÓN\r\n",
        "#...............................................................\r\n",
        "# Porcentages totales (suma de celdas 100%)\r\n",
        "#pd.crosstab(df_defcredcard['EDUCATION'], df_defcredcard['default_payment_next_month'], margins=True, normalize=True)\r\n",
        "\r\n",
        "#df_target_vs_educ = df_defcredcard.groupby(['EDUCATION',target])[target].count().unstack()\r\n",
        "#df_target_vs_educ['percentage'] = round((df_target_vs_educ[1]/(df_target_vs_educ[0]+df_target_vs_educ[1]))*100,2)\r\n",
        "#df_target_vs_educ\r\n",
        "\r\n",
        "# Cantidades Totales (suma de celdas 100%) \r\n",
        "#pd.crosstab(df_defcredcard['EDUCATION'], df_defcredcard['default_payment_next_month'], margins=True)\r\n",
        "\r\n",
        "# Porcentages por registro (útil para selección de variables)\r\n",
        "# pd.crosstab(df_defcredcard['EDUCATION'], df_defcredcard['default_payment_next_month'], normalize='index', margins=True)\r\n",
        "\r\n",
        "# Cantidades por registro \r\n",
        "pd.crosstab(df_defcredcard['EDUCATION'], df_defcredcard['default_payment_next_month'], margins='index')"
      ],
      "execution_count": 110,
      "outputs": [
        {
          "output_type": "execute_result",
          "data": {
            "text/html": [
              "<div>\n",
              "<style scoped>\n",
              "    .dataframe tbody tr th:only-of-type {\n",
              "        vertical-align: middle;\n",
              "    }\n",
              "\n",
              "    .dataframe tbody tr th {\n",
              "        vertical-align: top;\n",
              "    }\n",
              "\n",
              "    .dataframe thead th {\n",
              "        text-align: right;\n",
              "    }\n",
              "</style>\n",
              "<table border=\"1\" class=\"dataframe\">\n",
              "  <thead>\n",
              "    <tr style=\"text-align: right;\">\n",
              "      <th>default_payment_next_month</th>\n",
              "      <th>0</th>\n",
              "      <th>1</th>\n",
              "      <th>All</th>\n",
              "    </tr>\n",
              "    <tr>\n",
              "      <th>EDUCATION</th>\n",
              "      <th></th>\n",
              "      <th></th>\n",
              "      <th></th>\n",
              "    </tr>\n",
              "  </thead>\n",
              "  <tbody>\n",
              "    <tr>\n",
              "      <th>0</th>\n",
              "      <td>14</td>\n",
              "      <td>0</td>\n",
              "      <td>14</td>\n",
              "    </tr>\n",
              "    <tr>\n",
              "      <th>1</th>\n",
              "      <td>8549</td>\n",
              "      <td>2036</td>\n",
              "      <td>10585</td>\n",
              "    </tr>\n",
              "    <tr>\n",
              "      <th>2</th>\n",
              "      <td>10700</td>\n",
              "      <td>3330</td>\n",
              "      <td>14030</td>\n",
              "    </tr>\n",
              "    <tr>\n",
              "      <th>3</th>\n",
              "      <td>3680</td>\n",
              "      <td>1237</td>\n",
              "      <td>4917</td>\n",
              "    </tr>\n",
              "    <tr>\n",
              "      <th>4</th>\n",
              "      <td>116</td>\n",
              "      <td>7</td>\n",
              "      <td>123</td>\n",
              "    </tr>\n",
              "    <tr>\n",
              "      <th>5</th>\n",
              "      <td>262</td>\n",
              "      <td>18</td>\n",
              "      <td>280</td>\n",
              "    </tr>\n",
              "    <tr>\n",
              "      <th>6</th>\n",
              "      <td>43</td>\n",
              "      <td>8</td>\n",
              "      <td>51</td>\n",
              "    </tr>\n",
              "    <tr>\n",
              "      <th>All</th>\n",
              "      <td>23364</td>\n",
              "      <td>6636</td>\n",
              "      <td>30000</td>\n",
              "    </tr>\n",
              "  </tbody>\n",
              "</table>\n",
              "</div>"
            ],
            "text/plain": [
              "default_payment_next_month      0     1    All\n",
              "EDUCATION                                     \n",
              "0                              14     0     14\n",
              "1                            8549  2036  10585\n",
              "2                           10700  3330  14030\n",
              "3                            3680  1237   4917\n",
              "4                             116     7    123\n",
              "5                             262    18    280\n",
              "6                              43     8     51\n",
              "All                         23364  6636  30000"
            ]
          },
          "metadata": {
            "tags": []
          },
          "execution_count": 110
        }
      ]
    },
    {
      "cell_type": "code",
      "metadata": {
        "colab": {
          "base_uri": "https://localhost:8080/",
          "height": 223
        },
        "id": "kParmSMqZkR1",
        "outputId": "a64d96ec-f51e-408e-e6d1-02b63e3722ba"
      },
      "source": [
        "#...............................................................\r\n",
        "# Análisis: INCUMPLIMIENTO DE PAGO vs ESTADO CIVIL\r\n",
        "#...............................................................\r\n",
        "# Porcentages totales (suma de celdas 100%)\r\n",
        "#pd.crosstab(df_defcredcard['MARRIAGE'], df_defcredcard['default_payment_next_month'], margins=True, normalize=True)\r\n",
        "\r\n",
        "#df_target_vs_marriage = df_defcredcard.groupby(['MARRIAGE',target])[target].count().unstack()\r\n",
        "#df_target_vs_marriage['percentage'] = round((df_target_vs_marriage[1]/(df_target_vs_marriage[0]+df_target_vs_marriage[1]))*100,2)\r\n",
        "#df_target_vs_marriage\r\n",
        "\r\n",
        "# Cantidades Totales (suma de celdas 100%) \r\n",
        "#pd.crosstab(df_defcredcard['MARRIAGE'], df_defcredcard['default_payment_next_month'], margins=True)\r\n",
        "\r\n",
        "# Porcentages por registro (útil para selección de variables)\r\n",
        "# pd.crosstab(df_defcredcard['MARRIAGE'], df_defcredcard['default_payment_next_month'], normalize='index', margins=True)\r\n",
        "\r\n",
        "# Cantidades por registro \r\n",
        "pd.crosstab(df_defcredcard['MARRIAGE'], df_defcredcard['default_payment_next_month'], margins='index')"
      ],
      "execution_count": 111,
      "outputs": [
        {
          "output_type": "execute_result",
          "data": {
            "text/html": [
              "<div>\n",
              "<style scoped>\n",
              "    .dataframe tbody tr th:only-of-type {\n",
              "        vertical-align: middle;\n",
              "    }\n",
              "\n",
              "    .dataframe tbody tr th {\n",
              "        vertical-align: top;\n",
              "    }\n",
              "\n",
              "    .dataframe thead th {\n",
              "        text-align: right;\n",
              "    }\n",
              "</style>\n",
              "<table border=\"1\" class=\"dataframe\">\n",
              "  <thead>\n",
              "    <tr style=\"text-align: right;\">\n",
              "      <th>default_payment_next_month</th>\n",
              "      <th>0</th>\n",
              "      <th>1</th>\n",
              "      <th>All</th>\n",
              "    </tr>\n",
              "    <tr>\n",
              "      <th>MARRIAGE</th>\n",
              "      <th></th>\n",
              "      <th></th>\n",
              "      <th></th>\n",
              "    </tr>\n",
              "  </thead>\n",
              "  <tbody>\n",
              "    <tr>\n",
              "      <th>0</th>\n",
              "      <td>49</td>\n",
              "      <td>5</td>\n",
              "      <td>54</td>\n",
              "    </tr>\n",
              "    <tr>\n",
              "      <th>1</th>\n",
              "      <td>10453</td>\n",
              "      <td>3206</td>\n",
              "      <td>13659</td>\n",
              "    </tr>\n",
              "    <tr>\n",
              "      <th>2</th>\n",
              "      <td>12623</td>\n",
              "      <td>3341</td>\n",
              "      <td>15964</td>\n",
              "    </tr>\n",
              "    <tr>\n",
              "      <th>3</th>\n",
              "      <td>239</td>\n",
              "      <td>84</td>\n",
              "      <td>323</td>\n",
              "    </tr>\n",
              "    <tr>\n",
              "      <th>All</th>\n",
              "      <td>23364</td>\n",
              "      <td>6636</td>\n",
              "      <td>30000</td>\n",
              "    </tr>\n",
              "  </tbody>\n",
              "</table>\n",
              "</div>"
            ],
            "text/plain": [
              "default_payment_next_month      0     1    All\n",
              "MARRIAGE                                      \n",
              "0                              49     5     54\n",
              "1                           10453  3206  13659\n",
              "2                           12623  3341  15964\n",
              "3                             239    84    323\n",
              "All                         23364  6636  30000"
            ]
          },
          "metadata": {
            "tags": []
          },
          "execution_count": 111
        }
      ]
    },
    {
      "cell_type": "code",
      "metadata": {
        "id": "tEEZSWKvxEn9"
      },
      "source": [
        "#---------------------------------------------------------------\r\n",
        "# DIAGRAMAS DE BARRA BIVARIADO\r\n",
        "#---------------------------------------------------------------\r\n",
        "\r\n",
        "fig,axes = plt.subplots(5,2,figsize=(15,20))\r\n",
        "for idx, cat_col in enumerate(cat_vars(df_defcredcard)):\r\n",
        "    row,col = idx//2,idx%2\r\n",
        "    sns.countplot(x=cat_col,data=df_defcredcard,hue='default_payment_next_month',ax=axes[row,col])\r\n",
        "\r\n",
        "#g = sns.catplot(x=\"AGE\", col=\"default_payment_next_month\", data = df_defcredcard, kind=\"count\")"
      ],
      "execution_count": 112,
      "outputs": []
    },
    {
      "cell_type": "markdown",
      "metadata": {
        "id": "U8XtT7j6O9-k"
      },
      "source": [
        "Comentario: \r\n",
        "- Los hombres tienen una mayor probabilidad de incumplir que las mujeres, ya que ~ 24% de los hombres incumplen en comparación con ~ 20% de las mujeres. Además, según los datos, un mayor número de mujeres han incumplido (3763) que de hombres (2873) en los meses anteriores.\r\n",
        "- Es visible que una mayor cantidad de educación tiende a reducir la probabilidad de incumplimiento. Esto tiene sentido porque una educación más baja puede significar un salario y un límite más bajos.\r\n",
        "- Los clientes casados ​​tienen una mayor probabilidad de incumplimiento que los clientes solteros\r\n"
      ]
    },
    {
      "cell_type": "markdown",
      "metadata": {
        "id": "VxvVbKBUfh3S"
      },
      "source": [
        "#### Análisis de Var. Numérica vs Categórica"
      ]
    },
    {
      "cell_type": "code",
      "metadata": {
        "id": "ysFe5Nnlfq10"
      },
      "source": [
        "#df_defcredcard.groupby('MARRIAGE')['AGE'].mean().sort_values(ascending=False)\r\n",
        "#df_defcredcard.groupby('MARRIAGE')['AGE'].describe()\r\n",
        "#df_defcredcard.groupby('default_payment_next_month').mean()"
      ],
      "execution_count": 113,
      "outputs": []
    },
    {
      "cell_type": "code",
      "metadata": {
        "id": "KLcHzpeYgRrx"
      },
      "source": [
        "#sns.boxplot(y = 'AGE', x = 'MARRIAGE', data = df_defcredcard)\r\n",
        "#pd.DataFrame(df_defcredcard.groupby('Purpose')['AGE'].median().sort_values(ascending=True))\r\n",
        "\r\n",
        "#grouped = df_defcredcard.loc[:,['AGE', 'MARRIAGE']].groupby(['MARRIAGE']).median().sort_values(by='AGE')\r\n",
        "#grouped['MARRIAGE'] = grouped.index\r\n",
        "#grouped.head()\r\n",
        "\r\n",
        "#fig, ax = plt.subplots(figsize=(8,6))\r\n",
        "#bp = sns.boxplot(y = 'AGE', x = 'MARRIAGE', data = df_defcredcard, order = grouped.index)\r\n",
        "#bp.set_xticklabels(bp.get_xmajorticklabels(), fontsize = 10, rotation=45)\r\n",
        "#plt.show()"
      ],
      "execution_count": 114,
      "outputs": []
    },
    {
      "cell_type": "code",
      "metadata": {
        "id": "9GbUhjGuguQQ"
      },
      "source": [
        "#sns.violinplot(y='AGE', x='MARRIAGE', data = df_defcredcard)"
      ],
      "execution_count": 115,
      "outputs": []
    },
    {
      "cell_type": "markdown",
      "metadata": {
        "id": "RqvGjlOM3Tiz"
      },
      "source": [
        "#### Análisis de Var. Numérica vs Numérica"
      ]
    },
    {
      "cell_type": "code",
      "metadata": {
        "colab": {
          "base_uri": "https://localhost:8080/"
        },
        "id": "JjvyTJPvzoW4",
        "outputId": "118c0cf0-3525-4701-a9cf-ee0b42221678"
      },
      "source": [
        "#-------------------------------------\n",
        "# MATRIZ DE CORRELACIÓN\n",
        "#-------------------------------------\n",
        "import seaborn as sns\n",
        "import matplotlib.pyplot as plt\n",
        "plt.figure(figsize = (30,10)) # tamaño de la imagen\n",
        "corr = df_defcredcard.iloc[:,0:].corr()\n",
        "\n",
        "sns.heatmap(corr, annot=True, fmt='.4g',linewidths=0.5,\n",
        "            xticklabels=corr.columns.values,\n",
        "            yticklabels=corr.columns.values)"
      ],
      "execution_count": 116,
      "outputs": [
        {
          "output_type": "execute_result",
          "data": {
            "text/plain": [
              "<matplotlib.axes._subplots.AxesSubplot at 0x7fb31f155080>"
            ]
          },
          "metadata": {
            "tags": []
          },
          "execution_count": 116
        }
      ]
    },
    {
      "cell_type": "markdown",
      "metadata": {
        "id": "MztKlfsf_MvB"
      },
      "source": [
        "Comentario:\n",
        "\n",
        "- Ninguna de las variables predictora tiene una fuerte correlación con la variable objetivo. \n",
        "- La variable 'PAY_6' tienen una pequeña cantidad de correlación positiva con la variable objetivo y una correlación más fuerte entre las variables de historial de pago. Entonces, si ha incumplido o no en los meses anteriores, podría decidir la probabilidad de incumplimiento en el próximo mes. \n",
        "- Las variables de monto de estado de cuenta tienen una fuerte correlación positiva entre ellas. Esto también tiene sentido ya que los patrones de gasto de los clientes tienden a permanecer constantes y las organizaciones de comercio electrónico se aprovechan de esto. \n",
        "- La correlación negativa más fuerte se da entre 'AGE' y 'MARRIAGE', que se espera ya que los clientes más jóvenes tienden a ser solteros y los mayores tienden a estar casados."
      ]
    },
    {
      "cell_type": "code",
      "metadata": {
        "colab": {
          "base_uri": "https://localhost:8080/"
        },
        "id": "IwuinrT4hMN7",
        "outputId": "d9870454-4a20-4a24-9ce7-4b6b1082e6f8"
      },
      "source": [
        "#-----------------------------------------------\r\n",
        "# DIAGRAMA SCATTER PLOT\r\n",
        "#-----------------------------------------------\r\n",
        "sns.pairplot(df_defcredcard)"
      ],
      "execution_count": 117,
      "outputs": [
        {
          "output_type": "execute_result",
          "data": {
            "text/plain": [
              "<seaborn.axisgrid.PairGrid at 0x7fb31f8c9da0>"
            ]
          },
          "metadata": {
            "tags": []
          },
          "execution_count": 117
        }
      ]
    },
    {
      "cell_type": "markdown",
      "metadata": {
        "id": "dXH5MZXD80wb"
      },
      "source": [
        "###############################################################################\r\n",
        "# **3. PREPARACIÓN DE LOS DATOS**\r\n",
        "###############################################################################"
      ]
    },
    {
      "cell_type": "markdown",
      "metadata": {
        "id": "Lp_SeoaclxSi"
      },
      "source": [
        "## **PREPARACIÓN DE LOS DATOS (ENTRENAMIENTO)**"
      ]
    },
    {
      "cell_type": "markdown",
      "metadata": {
        "id": "PWOq-x-vl0IR"
      },
      "source": [
        "#### **PRE-PROCESAMIENTO DE DATOS**"
      ]
    },
    {
      "cell_type": "code",
      "metadata": {
        "id": "vKerEdkcldcv"
      },
      "source": [
        "df_defcredcard_preproc = df_defcredcard.copy()"
      ],
      "execution_count": 118,
      "outputs": []
    },
    {
      "cell_type": "code",
      "metadata": {
        "colab": {
          "base_uri": "https://localhost:8080/"
        },
        "id": "R09hVWJxmTyJ",
        "outputId": "64dc11c4-01a4-439c-8049-b23ce1112466"
      },
      "source": [
        "df_defcredcard.shape"
      ],
      "execution_count": 119,
      "outputs": [
        {
          "output_type": "execute_result",
          "data": {
            "text/plain": [
              "(30000, 24)"
            ]
          },
          "metadata": {
            "tags": []
          },
          "execution_count": 119
        }
      ]
    },
    {
      "cell_type": "code",
      "metadata": {
        "colab": {
          "base_uri": "https://localhost:8080/"
        },
        "id": "w1OxuJ6VmgCq",
        "outputId": "5480d0bf-e23a-4813-ebc4-ec8b639d94c4"
      },
      "source": [
        "df_defcredcard.info()"
      ],
      "execution_count": 120,
      "outputs": [
        {
          "output_type": "stream",
          "text": [
            "<class 'pandas.core.frame.DataFrame'>\n",
            "RangeIndex: 30000 entries, 0 to 29999\n",
            "Data columns (total 24 columns):\n",
            " #   Column                      Non-Null Count  Dtype \n",
            "---  ------                      --------------  ----- \n",
            " 0   LIMIT_BAL                   30000 non-null  int64 \n",
            " 1   SEX                         30000 non-null  object\n",
            " 2   EDUCATION                   30000 non-null  object\n",
            " 3   MARRIAGE                    30000 non-null  object\n",
            " 4   AGE                         30000 non-null  int64 \n",
            " 5   PAY_0                       30000 non-null  object\n",
            " 6   PAY_2                       30000 non-null  object\n",
            " 7   PAY_3                       30000 non-null  object\n",
            " 8   PAY_4                       30000 non-null  object\n",
            " 9   PAY_5                       30000 non-null  object\n",
            " 10  PAY_6                       30000 non-null  object\n",
            " 11  BILL_AMT1                   30000 non-null  int64 \n",
            " 12  BILL_AMT2                   30000 non-null  int64 \n",
            " 13  BILL_AMT3                   30000 non-null  int64 \n",
            " 14  BILL_AMT4                   30000 non-null  int64 \n",
            " 15  BILL_AMT5                   30000 non-null  int64 \n",
            " 16  BILL_AMT6                   30000 non-null  int64 \n",
            " 17  PAY_AMT1                    30000 non-null  int64 \n",
            " 18  PAY_AMT2                    30000 non-null  int64 \n",
            " 19  PAY_AMT3                    30000 non-null  int64 \n",
            " 20  PAY_AMT4                    30000 non-null  int64 \n",
            " 21  PAY_AMT5                    30000 non-null  int64 \n",
            " 22  PAY_AMT6                    30000 non-null  int64 \n",
            " 23  default_payment_next_month  30000 non-null  object\n",
            "dtypes: int64(14), object(10)\n",
            "memory usage: 5.5+ MB\n"
          ],
          "name": "stdout"
        }
      ]
    },
    {
      "cell_type": "markdown",
      "metadata": {
        "id": "Woj0_hBRmDJC"
      },
      "source": [
        "#### Eliminación de Registros Duplicados"
      ]
    },
    {
      "cell_type": "code",
      "metadata": {
        "id": "r1KnQNjEmcXo"
      },
      "source": [
        "df_defcredcard_preproc.drop_duplicates(keep=\"first\", inplace=True)"
      ],
      "execution_count": 121,
      "outputs": []
    },
    {
      "cell_type": "code",
      "metadata": {
        "colab": {
          "base_uri": "https://localhost:8080/"
        },
        "id": "d8JGiEJPmlhM",
        "outputId": "7b7d3ffe-a43a-4a87-d25e-521c55d2e2d6"
      },
      "source": [
        "df_defcredcard_preproc.shape"
      ],
      "execution_count": 122,
      "outputs": [
        {
          "output_type": "execute_result",
          "data": {
            "text/plain": [
              "(29965, 24)"
            ]
          },
          "metadata": {
            "tags": []
          },
          "execution_count": 122
        }
      ]
    },
    {
      "cell_type": "markdown",
      "metadata": {
        "id": "ySh7XUAymtcq"
      },
      "source": [
        "#### Eliminación de Valores Únicos"
      ]
    },
    {
      "cell_type": "code",
      "metadata": {
        "colab": {
          "base_uri": "https://localhost:8080/",
          "height": 47
        },
        "id": "FAiyFafqmuWN",
        "outputId": "df3a6e73-8eff-40c9-beed-8510af551514"
      },
      "source": [
        "#Comentario:\r\n",
        "#No se encontró registros con % altos de valores únicos para eliminación\r\n",
        "pd.DataFrame(df_defcredcard_preproc.nunique()/len(df_defcredcard_preproc))[pd.DataFrame(df_defcredcard_preproc.nunique()/len(df_defcredcard_preproc))[0] > 0.80]"
      ],
      "execution_count": 123,
      "outputs": [
        {
          "output_type": "execute_result",
          "data": {
            "text/html": [
              "<div>\n",
              "<style scoped>\n",
              "    .dataframe tbody tr th:only-of-type {\n",
              "        vertical-align: middle;\n",
              "    }\n",
              "\n",
              "    .dataframe tbody tr th {\n",
              "        vertical-align: top;\n",
              "    }\n",
              "\n",
              "    .dataframe thead th {\n",
              "        text-align: right;\n",
              "    }\n",
              "</style>\n",
              "<table border=\"1\" class=\"dataframe\">\n",
              "  <thead>\n",
              "    <tr style=\"text-align: right;\">\n",
              "      <th></th>\n",
              "      <th>0</th>\n",
              "    </tr>\n",
              "  </thead>\n",
              "  <tbody>\n",
              "  </tbody>\n",
              "</table>\n",
              "</div>"
            ],
            "text/plain": [
              "Empty DataFrame\n",
              "Columns: [0]\n",
              "Index: []"
            ]
          },
          "metadata": {
            "tags": []
          },
          "execution_count": 123
        }
      ]
    },
    {
      "cell_type": "code",
      "metadata": {
        "colab": {
          "base_uri": "https://localhost:8080/"
        },
        "id": "PHzoUANnm8x6",
        "outputId": "3a73e6e9-fdc4-4d41-b936-aceb2e5d4038"
      },
      "source": [
        "df_defcredcard_preproc.shape"
      ],
      "execution_count": 124,
      "outputs": [
        {
          "output_type": "execute_result",
          "data": {
            "text/plain": [
              "(29965, 24)"
            ]
          },
          "metadata": {
            "tags": []
          },
          "execution_count": 124
        }
      ]
    },
    {
      "cell_type": "markdown",
      "metadata": {
        "id": "a65Y8PnKm_ar"
      },
      "source": [
        "#### Eliminación de Variables Correlacionadas"
      ]
    },
    {
      "cell_type": "code",
      "metadata": {
        "id": "CFLhcT-UnEiM"
      },
      "source": [
        "# Comentario:\r\n",
        "# No se eliminará variables correlacionadas\r\n",
        "# Las variables de historial de estado de cuenta tienen un grado de correlación fuerte, \r\n",
        "# sin embargo, cada una de estas variables mide la cantidad de meses que no se paga"
      ],
      "execution_count": 125,
      "outputs": []
    },
    {
      "cell_type": "markdown",
      "metadata": {
        "id": "20-5NiinnIOV"
      },
      "source": [
        "#### Conversión de Variables de Formato Texto a Numérico / División de Variables Numéricas y Categóricas"
      ]
    },
    {
      "cell_type": "code",
      "metadata": {
        "id": "iww97L8-nJ8I"
      },
      "source": [
        "#Comentario:\r\n",
        "#Todas las variables son numéricas, no se requiere conversión ni división"
      ],
      "execution_count": 126,
      "outputs": []
    },
    {
      "cell_type": "code",
      "metadata": {
        "id": "6egUh8iVUnBu"
      },
      "source": [
        "# numeric_columns = list()\r\n",
        "# categorical_columns = list()\r\n",
        "# columns_with_multiple_values = set()\r\n",
        "# dictionary_of_columns_with_index_to_categorical = dict()\r\n",
        "# dictionary_of_columns_with_categorical_to_index = dict()\r\n",
        "\r\n",
        "# for column in df_defcredcard_preproc:\r\n",
        "#   #Determinamos si la variable es numérica o no\r\n",
        "#   if pd.api.types.is_numeric_dtype(df_defcredcard_preproc[column]):\r\n",
        "#     numeric_columns.append(column)\r\n",
        "#   else:\r\n",
        "#     features = set()\r\n",
        "\r\n",
        "#     for row in df_defcredcard_preproc[column]:\r\n",
        "#       if isinstance(row, str):\r\n",
        "#         if (column not in columns_with_multiple_values) and (\";\" in row):\r\n",
        "#           columns_with_multiple_values.add(column)\r\n",
        "        \r\n",
        "#         values = row.split(\";\")\r\n",
        "#       else:\r\n",
        "#         continue\r\n",
        "      \r\n",
        "#       for value in values:\r\n",
        "#         if value not in features:\r\n",
        "#           features.add(value)\r\n",
        "    \r\n",
        "#     dictionary_of_columns_with_index_to_categorical[column] = dict()\r\n",
        "#     dictionary_of_columns_with_categorical_to_index[column] = dict()\r\n",
        "\r\n",
        "#     #Indexamos los valores (categorías), sin tomar en consideración los nulos, de la variable y guardamos esa información en los diccionarios\r\n",
        "#     for index, category in enumerate(features):\r\n",
        "#       dictionary_of_columns_with_index_to_categorical[column][index] = category\r\n",
        "#       dictionary_of_columns_with_categorical_to_index[column][category] = index\r\n",
        "    \r\n",
        "#     categorical_columns.append(column)"
      ],
      "execution_count": 127,
      "outputs": []
    },
    {
      "cell_type": "code",
      "metadata": {
        "colab": {
          "base_uri": "https://localhost:8080/"
        },
        "id": "n4steuOEXwNH",
        "outputId": "a9bcff23-3725-4579-9cfc-4b444f99d1a8"
      },
      "source": [
        "print('Variables Categoricas: ', cat_vars(df_defcredcard_preproc).to_list())"
      ],
      "execution_count": 128,
      "outputs": [
        {
          "output_type": "stream",
          "text": [
            "Variables Categoricas:  ['SEX', 'EDUCATION', 'MARRIAGE', 'PAY_0', 'PAY_2', 'PAY_3', 'PAY_4', 'PAY_5', 'PAY_6', 'default_payment_next_month']\n"
          ],
          "name": "stdout"
        }
      ]
    },
    {
      "cell_type": "code",
      "metadata": {
        "colab": {
          "base_uri": "https://localhost:8080/"
        },
        "id": "JzltqECWVl7i",
        "outputId": "978c7322-e4ed-41ab-bcf1-5bb88566fbcc"
      },
      "source": [
        "print('Categorias de variable SEX: ', set(df_defcredcard_preproc['SEX']))\r\n",
        "print('Categorias de variable EDUCATION: ', set(df_defcredcard_preproc['EDUCATION']))\r\n",
        "print('Categorias de variable MARRIAGE: ', set(df_defcredcard_preproc['MARRIAGE']))\r\n",
        "print('Categorias de variable PAY_0: ', set(df_defcredcard_preproc['PAY_0']))\r\n",
        "print('Categorias de variable PAY_2: ', set(df_defcredcard_preproc['PAY_2']))\r\n",
        "print('Categorias de variable PAY_3: ', set(df_defcredcard_preproc['PAY_3']))\r\n",
        "print('Categorias de variable PAY_4: ', set(df_defcredcard_preproc['PAY_4']))\r\n",
        "print('Categorias de variable PAY_5: ', set(df_defcredcard_preproc['PAY_5']))\r\n",
        "print('Categorias de variable PAY_6: ', set(df_defcredcard_preproc['PAY_6']))\r\n",
        "print('Categorias de variable default_payment_next_month: ', set(df_defcredcard_preproc['default_payment_next_month']))"
      ],
      "execution_count": 129,
      "outputs": [
        {
          "output_type": "stream",
          "text": [
            "Categorias de variable SEX:  {'1', '2'}\n",
            "Categorias de variable EDUCATION:  {'0', '1', '5', '3', '2', '4', '6'}\n",
            "Categorias de variable MARRIAGE:  {'3', '1', '2', '0'}\n",
            "Categorias de variable PAY_0:  {'0', '1', '5', '-1', '6', '8', '2', '3', '-2', '4', '7'}\n",
            "Categorias de variable PAY_2:  {'0', '1', '5', '-1', '6', '8', '3', '2', '-2', '4', '7'}\n",
            "Categorias de variable PAY_3:  {'0', '1', '5', '-1', '8', '3', '2', '-2', '4', '7', '6'}\n",
            "Categorias de variable PAY_4:  {'0', '1', '5', '-1', '6', '8', '3', '2', '-2', '4', '7'}\n",
            "Categorias de variable PAY_5:  {'0', '5', '-1', '6', '8', '3', '2', '-2', '4', '7'}\n",
            "Categorias de variable PAY_6:  {'0', '5', '-1', '8', '3', '2', '-2', '4', '7', '6'}\n",
            "Categorias de variable default_payment_next_month:  {'0', '1'}\n"
          ],
          "name": "stdout"
        }
      ]
    },
    {
      "cell_type": "code",
      "metadata": {
        "id": "2GqRLdCAY1GS"
      },
      "source": [
        "# Nota:\r\n",
        "# No se aplicará este tipo de conversiones de formato texto a formato numérico, \r\n",
        "# en su lugar, se aplicará la conversión One Hot Encoding (que convierte una var. categórica a numérica y a su vez convierte texto a número: 0 o 1)\r\n",
        "#\r\n",
        "# df_defcredcard_preproc['SEX'].replace(to_replace=['1', '2'], value=[1, 2], inplace=True)\r\n",
        "# df_defcredcard_preproc['EDUCATION'].replace(to_replace=['1', '2', '3', '4', '5', '6', '0'], value=[1, 2, 3, 4, 5, 6, 0], inplace=True)\r\n",
        "# df_defcredcard_preproc['MARRIAGE'].replace(to_replace=['1', '2', '3', '0'], value=[1, 2, 3, 0], inplace=True)\r\n",
        "# df_defcredcard_preproc['PAY_0'].replace(to_replace=['-1', '1', '2', '3', '4', '5', '6', '7', '8', '9', '-2', '0'], value=[-1, 1, 2, 3, 4, 5, 6, 7, 8, 9, -2, 0], inplace=True)\r\n",
        "# df_defcredcard_preproc['PAY_2'].replace(to_replace=['-1', '1', '2', '3', '4', '5', '6', '7', '8', '9', '-2', '0'], value=[-1, 1, 2, 3, 4, 5, 6, 7, 8, 9, -2, 0], inplace=True)\r\n",
        "# df_defcredcard_preproc['PAY_3'].replace(to_replace=['-1', '1', '2', '3', '4', '5', '6', '7', '8', '9', '-2', '0'], value=[-1, 1, 2, 3, 4, 5, 6, 7, 8, 9, -2, 0], inplace=True)\r\n",
        "# df_defcredcard_preproc['PAY_4'].replace(to_replace=['-1', '1', '2', '3', '4', '5', '6', '7', '8', '9', '-2', '0'], value=[-1, 1, 2, 3, 4, 5, 6, 7, 8, 9, -2, 0], inplace=True)\r\n",
        "# df_defcredcard_preproc['PAY_5'].replace(to_replace=['-1', '1', '2', '3', '4', '5', '6', '7', '8', '9', '-2', '0'], value=[-1, 1, 2, 3, 4, 5, 6, 7, 8, 9, -2, 0], inplace=True)\r\n",
        "# df_defcredcard_preproc['PAY_6'].replace(to_replace=['-1', '1', '2', '3', '4', '5', '6', '7', '8', '9', '-2', '0'], value=[-1, 1, 2, 3, 4, 5, 6, 7, 8, 9, -2, 0], inplace=True)\r\n",
        "# df_defcredcard_preproc['default_payment_next_month'].replace(to_replace=['0', '1'], value=[0, 1], inplace=True)"
      ],
      "execution_count": 130,
      "outputs": []
    },
    {
      "cell_type": "markdown",
      "metadata": {
        "id": "sSvipTOhWylV"
      },
      "source": [
        "#### Tratamiento de Valores Perdidos"
      ]
    },
    {
      "cell_type": "code",
      "metadata": {
        "id": "3pm2cu5EW1h0"
      },
      "source": [
        "#--------------------------------------------------------------------\r\n",
        "# TRATAMIENTO DE VALORES PERDIDOS PARA VAR. CATEGORICAS\r\n",
        "#--------------------------------------------------------------------\r\n",
        "df_defcredcard_preproc['EDUCATION'].replace(to_replace=['5', '6', '0'], value=['4', '4', '4'], inplace=True)\r\n",
        "df_defcredcard_preproc['MARRIAGE'].replace(to_replace=['0'], value=['3'], inplace=True)\r\n",
        "\r\n",
        "#'-999': Indeterminado\r\n",
        "df_defcredcard_preproc['PAY_0'].replace(to_replace=['-2', '0'], value=['-999', '-999'], inplace=True)\r\n",
        "df_defcredcard_preproc['PAY_2'].replace(to_replace=['-2', '0'], value=['-999', '-999'], inplace=True)\r\n",
        "df_defcredcard_preproc['PAY_3'].replace(to_replace=['-2', '0'], value=['-999', '-999'], inplace=True)\r\n",
        "df_defcredcard_preproc['PAY_4'].replace(to_replace=['-2', '0'], value=['-999', '-999'], inplace=True)\r\n",
        "df_defcredcard_preproc['PAY_5'].replace(to_replace=['-2', '0'], value=['-999', '-999'], inplace=True)\r\n",
        "df_defcredcard_preproc['PAY_6'].replace(to_replace=['-2', '0'], value=['-999', '-999'], inplace=True)"
      ],
      "execution_count": 131,
      "outputs": []
    },
    {
      "cell_type": "code",
      "metadata": {
        "colab": {
          "base_uri": "https://localhost:8080/"
        },
        "id": "FhXX1IrnipiF",
        "outputId": "86e80c97-692a-4768-a5de-861829d0e3b3"
      },
      "source": [
        "print('Categorias de variable SEX: ', set(df_defcredcard_preproc['SEX']))\r\n",
        "print('Categorias de variable EDUCATION: ', set(df_defcredcard_preproc['EDUCATION']))\r\n",
        "print('Categorias de variable MARRIAGE: ', set(df_defcredcard_preproc['MARRIAGE']))\r\n",
        "print('Categorias de variable PAY_0: ', set(df_defcredcard_preproc['PAY_0']))\r\n",
        "print('Categorias de variable PAY_2: ', set(df_defcredcard_preproc['PAY_2']))\r\n",
        "print('Categorias de variable PAY_3: ', set(df_defcredcard_preproc['PAY_3']))\r\n",
        "print('Categorias de variable PAY_4: ', set(df_defcredcard_preproc['PAY_4']))\r\n",
        "print('Categorias de variable PAY_5: ', set(df_defcredcard_preproc['PAY_5']))\r\n",
        "print('Categorias de variable PAY_6: ', set(df_defcredcard_preproc['PAY_6']))\r\n",
        "print('Categorias de variable default_payment_next_month: ', set(df_defcredcard_preproc['default_payment_next_month']))"
      ],
      "execution_count": 132,
      "outputs": [
        {
          "output_type": "stream",
          "text": [
            "Categorias de variable SEX:  {'1', '2'}\n",
            "Categorias de variable EDUCATION:  {'4', '3', '1', '2'}\n",
            "Categorias de variable MARRIAGE:  {'3', '1', '2'}\n",
            "Categorias de variable PAY_0:  {'1', '5', '-999', '-1', '6', '8', '3', '2', '4', '7'}\n",
            "Categorias de variable PAY_2:  {'1', '5', '-999', '-1', '6', '8', '3', '2', '4', '7'}\n",
            "Categorias de variable PAY_3:  {'1', '5', '-999', '-1', '8', '2', '3', '4', '7', '6'}\n",
            "Categorias de variable PAY_4:  {'1', '5', '-999', '-1', '6', '8', '2', '3', '4', '7'}\n",
            "Categorias de variable PAY_5:  {'5', '-999', '-1', '6', '8', '2', '3', '4', '7'}\n",
            "Categorias de variable PAY_6:  {'5', '-999', '-1', '8', '2', '3', '4', '7', '6'}\n",
            "Categorias de variable default_payment_next_month:  {'0', '1'}\n"
          ],
          "name": "stdout"
        }
      ]
    },
    {
      "cell_type": "code",
      "metadata": {
        "colab": {
          "base_uri": "https://localhost:8080/"
        },
        "id": "viz4pgJnaa62",
        "outputId": "7306e0d6-d577-49f1-f19d-5e959f26189d"
      },
      "source": [
        "df_defcredcard_preproc.info()"
      ],
      "execution_count": 133,
      "outputs": [
        {
          "output_type": "stream",
          "text": [
            "<class 'pandas.core.frame.DataFrame'>\n",
            "Int64Index: 29965 entries, 0 to 29999\n",
            "Data columns (total 24 columns):\n",
            " #   Column                      Non-Null Count  Dtype \n",
            "---  ------                      --------------  ----- \n",
            " 0   LIMIT_BAL                   29965 non-null  int64 \n",
            " 1   SEX                         29965 non-null  object\n",
            " 2   EDUCATION                   29965 non-null  object\n",
            " 3   MARRIAGE                    29965 non-null  object\n",
            " 4   AGE                         29965 non-null  int64 \n",
            " 5   PAY_0                       29965 non-null  object\n",
            " 6   PAY_2                       29965 non-null  object\n",
            " 7   PAY_3                       29965 non-null  object\n",
            " 8   PAY_4                       29965 non-null  object\n",
            " 9   PAY_5                       29965 non-null  object\n",
            " 10  PAY_6                       29965 non-null  object\n",
            " 11  BILL_AMT1                   29965 non-null  int64 \n",
            " 12  BILL_AMT2                   29965 non-null  int64 \n",
            " 13  BILL_AMT3                   29965 non-null  int64 \n",
            " 14  BILL_AMT4                   29965 non-null  int64 \n",
            " 15  BILL_AMT5                   29965 non-null  int64 \n",
            " 16  BILL_AMT6                   29965 non-null  int64 \n",
            " 17  PAY_AMT1                    29965 non-null  int64 \n",
            " 18  PAY_AMT2                    29965 non-null  int64 \n",
            " 19  PAY_AMT3                    29965 non-null  int64 \n",
            " 20  PAY_AMT4                    29965 non-null  int64 \n",
            " 21  PAY_AMT5                    29965 non-null  int64 \n",
            " 22  PAY_AMT6                    29965 non-null  int64 \n",
            " 23  default_payment_next_month  29965 non-null  object\n",
            "dtypes: int64(14), object(10)\n",
            "memory usage: 5.7+ MB\n"
          ],
          "name": "stdout"
        }
      ]
    },
    {
      "cell_type": "code",
      "metadata": {
        "id": "D2sRepJykI1W"
      },
      "source": [
        "#--------------------------------------------------------------------\r\n",
        "# TRATAMIENTO DE VALORES PERDIDOS PARA VAR. NUMÉRICAS\r\n",
        "#--------------------------------------------------------------------"
      ],
      "execution_count": 134,
      "outputs": []
    },
    {
      "cell_type": "markdown",
      "metadata": {
        "id": "It2z-VTwnewJ"
      },
      "source": [
        "#### Tratamiento de Valores Nulos"
      ]
    },
    {
      "cell_type": "code",
      "metadata": {
        "colab": {
          "base_uri": "https://localhost:8080/",
          "height": 47
        },
        "id": "XxvM0PQdnfqS",
        "outputId": "88512367-3a55-4656-bc09-3fc7924bc5ec"
      },
      "source": [
        "#Comentario:\r\n",
        "#No se encontró registros con valores nulos\r\n",
        "pd.DataFrame(df_defcredcard_preproc.isna().sum()/len(df_defcredcard_preproc))[pd.DataFrame(df_defcredcard_preproc.isna().sum()/len(df_defcredcard_preproc))[0] > 0]"
      ],
      "execution_count": 135,
      "outputs": [
        {
          "output_type": "execute_result",
          "data": {
            "text/html": [
              "<div>\n",
              "<style scoped>\n",
              "    .dataframe tbody tr th:only-of-type {\n",
              "        vertical-align: middle;\n",
              "    }\n",
              "\n",
              "    .dataframe tbody tr th {\n",
              "        vertical-align: top;\n",
              "    }\n",
              "\n",
              "    .dataframe thead th {\n",
              "        text-align: right;\n",
              "    }\n",
              "</style>\n",
              "<table border=\"1\" class=\"dataframe\">\n",
              "  <thead>\n",
              "    <tr style=\"text-align: right;\">\n",
              "      <th></th>\n",
              "      <th>0</th>\n",
              "    </tr>\n",
              "  </thead>\n",
              "  <tbody>\n",
              "  </tbody>\n",
              "</table>\n",
              "</div>"
            ],
            "text/plain": [
              "Empty DataFrame\n",
              "Columns: [0]\n",
              "Index: []"
            ]
          },
          "metadata": {
            "tags": []
          },
          "execution_count": 135
        }
      ]
    },
    {
      "cell_type": "markdown",
      "metadata": {
        "id": "sSdr1iJPnr4t"
      },
      "source": [
        "##### Eliminación de Valores Nulos"
      ]
    },
    {
      "cell_type": "code",
      "metadata": {
        "id": "-wO5tT5FntoM"
      },
      "source": [
        "#Comentario:\r\n",
        "#No se encontró registros con valores nulos para eliminación:\r\n",
        "#1) Filas con Bajo % de Valores Nulos\r\n",
        "#2) Columnas con Alto % de Valores Nulos"
      ],
      "execution_count": 136,
      "outputs": []
    },
    {
      "cell_type": "markdown",
      "metadata": {
        "id": "3O6FPkyHnwLn"
      },
      "source": [
        "##### Imputación (Estimación) de Valores Nulos"
      ]
    },
    {
      "cell_type": "code",
      "metadata": {
        "id": "Ug4TUDN2nyXA"
      },
      "source": [
        "#Comentario:\r\n",
        "#No se encontró registros con valores nulos para imputación"
      ],
      "execution_count": 137,
      "outputs": []
    },
    {
      "cell_type": "code",
      "metadata": {
        "id": "WUm_r1YAN6C1"
      },
      "source": [
        "#data['df_defcredcard_preproc'] = data['df_defcredcard_preproc'].fillna(value=\"nulo\")"
      ],
      "execution_count": 138,
      "outputs": []
    },
    {
      "cell_type": "markdown",
      "metadata": {
        "id": "0WugSt0dn3qI"
      },
      "source": [
        "#### **CREACIÓN / TRANSFORMACION DE CARACTERÍSTICAS**"
      ]
    },
    {
      "cell_type": "code",
      "metadata": {
        "id": "c78LBr0Bn61M"
      },
      "source": [
        "#Comentario:\r\n",
        "#No se creará nuevas variables"
      ],
      "execution_count": 139,
      "outputs": []
    },
    {
      "cell_type": "code",
      "metadata": {
        "id": "FOSRLgC9l60p"
      },
      "source": [
        "df_defcredcard_preproc_OneHotEnc = pd.get_dummies(\r\n",
        "                                                  df_defcredcard_preproc, \r\n",
        "                                                  drop_first=True, # Eliminar la 1ra categoria para obtener k-1 categorias (para evitar correlación de variables redundantes)\r\n",
        "                                                  #dummy_na=True # Adicionar una columna para indicar NaN\r\n",
        "                                                  )\r\n",
        "# Renombrar variable objetivo\r\n",
        "df_defcredcard_preproc_OneHotEnc.rename(columns={'default_payment_next_month_1': 'default_payment_next_month'}, inplace=True)"
      ],
      "execution_count": 140,
      "outputs": []
    },
    {
      "cell_type": "code",
      "metadata": {
        "colab": {
          "base_uri": "https://localhost:8080/",
          "height": 214
        },
        "id": "-KZxLT2loTQu",
        "outputId": "032979cb-e72a-4b0e-a745-06da873238a3"
      },
      "source": [
        "df_defcredcard_preproc_OneHotEnc.head()"
      ],
      "execution_count": 141,
      "outputs": [
        {
          "output_type": "execute_result",
          "data": {
            "text/html": [
              "<div>\n",
              "<style scoped>\n",
              "    .dataframe tbody tr th:only-of-type {\n",
              "        vertical-align: middle;\n",
              "    }\n",
              "\n",
              "    .dataframe tbody tr th {\n",
              "        vertical-align: top;\n",
              "    }\n",
              "\n",
              "    .dataframe thead th {\n",
              "        text-align: right;\n",
              "    }\n",
              "</style>\n",
              "<table border=\"1\" class=\"dataframe\">\n",
              "  <thead>\n",
              "    <tr style=\"text-align: right;\">\n",
              "      <th></th>\n",
              "      <th>LIMIT_BAL</th>\n",
              "      <th>AGE</th>\n",
              "      <th>BILL_AMT1</th>\n",
              "      <th>BILL_AMT2</th>\n",
              "      <th>BILL_AMT3</th>\n",
              "      <th>BILL_AMT4</th>\n",
              "      <th>BILL_AMT5</th>\n",
              "      <th>BILL_AMT6</th>\n",
              "      <th>PAY_AMT1</th>\n",
              "      <th>PAY_AMT2</th>\n",
              "      <th>PAY_AMT3</th>\n",
              "      <th>PAY_AMT4</th>\n",
              "      <th>PAY_AMT5</th>\n",
              "      <th>PAY_AMT6</th>\n",
              "      <th>SEX_2</th>\n",
              "      <th>EDUCATION_2</th>\n",
              "      <th>EDUCATION_3</th>\n",
              "      <th>EDUCATION_4</th>\n",
              "      <th>MARRIAGE_2</th>\n",
              "      <th>MARRIAGE_3</th>\n",
              "      <th>PAY_0_-999</th>\n",
              "      <th>PAY_0_1</th>\n",
              "      <th>PAY_0_2</th>\n",
              "      <th>PAY_0_3</th>\n",
              "      <th>PAY_0_4</th>\n",
              "      <th>PAY_0_5</th>\n",
              "      <th>PAY_0_6</th>\n",
              "      <th>PAY_0_7</th>\n",
              "      <th>PAY_0_8</th>\n",
              "      <th>PAY_2_-999</th>\n",
              "      <th>PAY_2_1</th>\n",
              "      <th>PAY_2_2</th>\n",
              "      <th>PAY_2_3</th>\n",
              "      <th>PAY_2_4</th>\n",
              "      <th>PAY_2_5</th>\n",
              "      <th>PAY_2_6</th>\n",
              "      <th>PAY_2_7</th>\n",
              "      <th>PAY_2_8</th>\n",
              "      <th>PAY_3_-999</th>\n",
              "      <th>PAY_3_1</th>\n",
              "      <th>PAY_3_2</th>\n",
              "      <th>PAY_3_3</th>\n",
              "      <th>PAY_3_4</th>\n",
              "      <th>PAY_3_5</th>\n",
              "      <th>PAY_3_6</th>\n",
              "      <th>PAY_3_7</th>\n",
              "      <th>PAY_3_8</th>\n",
              "      <th>PAY_4_-999</th>\n",
              "      <th>PAY_4_1</th>\n",
              "      <th>PAY_4_2</th>\n",
              "      <th>PAY_4_3</th>\n",
              "      <th>PAY_4_4</th>\n",
              "      <th>PAY_4_5</th>\n",
              "      <th>PAY_4_6</th>\n",
              "      <th>PAY_4_7</th>\n",
              "      <th>PAY_4_8</th>\n",
              "      <th>PAY_5_-999</th>\n",
              "      <th>PAY_5_2</th>\n",
              "      <th>PAY_5_3</th>\n",
              "      <th>PAY_5_4</th>\n",
              "      <th>PAY_5_5</th>\n",
              "      <th>PAY_5_6</th>\n",
              "      <th>PAY_5_7</th>\n",
              "      <th>PAY_5_8</th>\n",
              "      <th>PAY_6_-999</th>\n",
              "      <th>PAY_6_2</th>\n",
              "      <th>PAY_6_3</th>\n",
              "      <th>PAY_6_4</th>\n",
              "      <th>PAY_6_5</th>\n",
              "      <th>PAY_6_6</th>\n",
              "      <th>PAY_6_7</th>\n",
              "      <th>PAY_6_8</th>\n",
              "      <th>default_payment_next_month</th>\n",
              "    </tr>\n",
              "  </thead>\n",
              "  <tbody>\n",
              "    <tr>\n",
              "      <th>0</th>\n",
              "      <td>20000</td>\n",
              "      <td>24</td>\n",
              "      <td>3913</td>\n",
              "      <td>3102</td>\n",
              "      <td>689</td>\n",
              "      <td>0</td>\n",
              "      <td>0</td>\n",
              "      <td>0</td>\n",
              "      <td>0</td>\n",
              "      <td>689</td>\n",
              "      <td>0</td>\n",
              "      <td>0</td>\n",
              "      <td>0</td>\n",
              "      <td>0</td>\n",
              "      <td>1</td>\n",
              "      <td>1</td>\n",
              "      <td>0</td>\n",
              "      <td>0</td>\n",
              "      <td>0</td>\n",
              "      <td>0</td>\n",
              "      <td>0</td>\n",
              "      <td>0</td>\n",
              "      <td>1</td>\n",
              "      <td>0</td>\n",
              "      <td>0</td>\n",
              "      <td>0</td>\n",
              "      <td>0</td>\n",
              "      <td>0</td>\n",
              "      <td>0</td>\n",
              "      <td>0</td>\n",
              "      <td>0</td>\n",
              "      <td>1</td>\n",
              "      <td>0</td>\n",
              "      <td>0</td>\n",
              "      <td>0</td>\n",
              "      <td>0</td>\n",
              "      <td>0</td>\n",
              "      <td>0</td>\n",
              "      <td>0</td>\n",
              "      <td>0</td>\n",
              "      <td>0</td>\n",
              "      <td>0</td>\n",
              "      <td>0</td>\n",
              "      <td>0</td>\n",
              "      <td>0</td>\n",
              "      <td>0</td>\n",
              "      <td>0</td>\n",
              "      <td>0</td>\n",
              "      <td>0</td>\n",
              "      <td>0</td>\n",
              "      <td>0</td>\n",
              "      <td>0</td>\n",
              "      <td>0</td>\n",
              "      <td>0</td>\n",
              "      <td>0</td>\n",
              "      <td>0</td>\n",
              "      <td>1</td>\n",
              "      <td>0</td>\n",
              "      <td>0</td>\n",
              "      <td>0</td>\n",
              "      <td>0</td>\n",
              "      <td>0</td>\n",
              "      <td>0</td>\n",
              "      <td>0</td>\n",
              "      <td>1</td>\n",
              "      <td>0</td>\n",
              "      <td>0</td>\n",
              "      <td>0</td>\n",
              "      <td>0</td>\n",
              "      <td>0</td>\n",
              "      <td>0</td>\n",
              "      <td>0</td>\n",
              "      <td>1</td>\n",
              "    </tr>\n",
              "    <tr>\n",
              "      <th>1</th>\n",
              "      <td>120000</td>\n",
              "      <td>26</td>\n",
              "      <td>2682</td>\n",
              "      <td>1725</td>\n",
              "      <td>2682</td>\n",
              "      <td>3272</td>\n",
              "      <td>3455</td>\n",
              "      <td>3261</td>\n",
              "      <td>0</td>\n",
              "      <td>1000</td>\n",
              "      <td>1000</td>\n",
              "      <td>1000</td>\n",
              "      <td>0</td>\n",
              "      <td>2000</td>\n",
              "      <td>1</td>\n",
              "      <td>1</td>\n",
              "      <td>0</td>\n",
              "      <td>0</td>\n",
              "      <td>1</td>\n",
              "      <td>0</td>\n",
              "      <td>0</td>\n",
              "      <td>0</td>\n",
              "      <td>0</td>\n",
              "      <td>0</td>\n",
              "      <td>0</td>\n",
              "      <td>0</td>\n",
              "      <td>0</td>\n",
              "      <td>0</td>\n",
              "      <td>0</td>\n",
              "      <td>0</td>\n",
              "      <td>0</td>\n",
              "      <td>1</td>\n",
              "      <td>0</td>\n",
              "      <td>0</td>\n",
              "      <td>0</td>\n",
              "      <td>0</td>\n",
              "      <td>0</td>\n",
              "      <td>0</td>\n",
              "      <td>1</td>\n",
              "      <td>0</td>\n",
              "      <td>0</td>\n",
              "      <td>0</td>\n",
              "      <td>0</td>\n",
              "      <td>0</td>\n",
              "      <td>0</td>\n",
              "      <td>0</td>\n",
              "      <td>0</td>\n",
              "      <td>1</td>\n",
              "      <td>0</td>\n",
              "      <td>0</td>\n",
              "      <td>0</td>\n",
              "      <td>0</td>\n",
              "      <td>0</td>\n",
              "      <td>0</td>\n",
              "      <td>0</td>\n",
              "      <td>0</td>\n",
              "      <td>1</td>\n",
              "      <td>0</td>\n",
              "      <td>0</td>\n",
              "      <td>0</td>\n",
              "      <td>0</td>\n",
              "      <td>0</td>\n",
              "      <td>0</td>\n",
              "      <td>0</td>\n",
              "      <td>0</td>\n",
              "      <td>1</td>\n",
              "      <td>0</td>\n",
              "      <td>0</td>\n",
              "      <td>0</td>\n",
              "      <td>0</td>\n",
              "      <td>0</td>\n",
              "      <td>0</td>\n",
              "      <td>1</td>\n",
              "    </tr>\n",
              "    <tr>\n",
              "      <th>2</th>\n",
              "      <td>90000</td>\n",
              "      <td>34</td>\n",
              "      <td>29239</td>\n",
              "      <td>14027</td>\n",
              "      <td>13559</td>\n",
              "      <td>14331</td>\n",
              "      <td>14948</td>\n",
              "      <td>15549</td>\n",
              "      <td>1518</td>\n",
              "      <td>1500</td>\n",
              "      <td>1000</td>\n",
              "      <td>1000</td>\n",
              "      <td>1000</td>\n",
              "      <td>5000</td>\n",
              "      <td>1</td>\n",
              "      <td>1</td>\n",
              "      <td>0</td>\n",
              "      <td>0</td>\n",
              "      <td>1</td>\n",
              "      <td>0</td>\n",
              "      <td>1</td>\n",
              "      <td>0</td>\n",
              "      <td>0</td>\n",
              "      <td>0</td>\n",
              "      <td>0</td>\n",
              "      <td>0</td>\n",
              "      <td>0</td>\n",
              "      <td>0</td>\n",
              "      <td>0</td>\n",
              "      <td>1</td>\n",
              "      <td>0</td>\n",
              "      <td>0</td>\n",
              "      <td>0</td>\n",
              "      <td>0</td>\n",
              "      <td>0</td>\n",
              "      <td>0</td>\n",
              "      <td>0</td>\n",
              "      <td>0</td>\n",
              "      <td>1</td>\n",
              "      <td>0</td>\n",
              "      <td>0</td>\n",
              "      <td>0</td>\n",
              "      <td>0</td>\n",
              "      <td>0</td>\n",
              "      <td>0</td>\n",
              "      <td>0</td>\n",
              "      <td>0</td>\n",
              "      <td>1</td>\n",
              "      <td>0</td>\n",
              "      <td>0</td>\n",
              "      <td>0</td>\n",
              "      <td>0</td>\n",
              "      <td>0</td>\n",
              "      <td>0</td>\n",
              "      <td>0</td>\n",
              "      <td>0</td>\n",
              "      <td>1</td>\n",
              "      <td>0</td>\n",
              "      <td>0</td>\n",
              "      <td>0</td>\n",
              "      <td>0</td>\n",
              "      <td>0</td>\n",
              "      <td>0</td>\n",
              "      <td>0</td>\n",
              "      <td>1</td>\n",
              "      <td>0</td>\n",
              "      <td>0</td>\n",
              "      <td>0</td>\n",
              "      <td>0</td>\n",
              "      <td>0</td>\n",
              "      <td>0</td>\n",
              "      <td>0</td>\n",
              "      <td>0</td>\n",
              "    </tr>\n",
              "    <tr>\n",
              "      <th>3</th>\n",
              "      <td>50000</td>\n",
              "      <td>37</td>\n",
              "      <td>46990</td>\n",
              "      <td>48233</td>\n",
              "      <td>49291</td>\n",
              "      <td>28314</td>\n",
              "      <td>28959</td>\n",
              "      <td>29547</td>\n",
              "      <td>2000</td>\n",
              "      <td>2019</td>\n",
              "      <td>1200</td>\n",
              "      <td>1100</td>\n",
              "      <td>1069</td>\n",
              "      <td>1000</td>\n",
              "      <td>1</td>\n",
              "      <td>1</td>\n",
              "      <td>0</td>\n",
              "      <td>0</td>\n",
              "      <td>0</td>\n",
              "      <td>0</td>\n",
              "      <td>1</td>\n",
              "      <td>0</td>\n",
              "      <td>0</td>\n",
              "      <td>0</td>\n",
              "      <td>0</td>\n",
              "      <td>0</td>\n",
              "      <td>0</td>\n",
              "      <td>0</td>\n",
              "      <td>0</td>\n",
              "      <td>1</td>\n",
              "      <td>0</td>\n",
              "      <td>0</td>\n",
              "      <td>0</td>\n",
              "      <td>0</td>\n",
              "      <td>0</td>\n",
              "      <td>0</td>\n",
              "      <td>0</td>\n",
              "      <td>0</td>\n",
              "      <td>1</td>\n",
              "      <td>0</td>\n",
              "      <td>0</td>\n",
              "      <td>0</td>\n",
              "      <td>0</td>\n",
              "      <td>0</td>\n",
              "      <td>0</td>\n",
              "      <td>0</td>\n",
              "      <td>0</td>\n",
              "      <td>1</td>\n",
              "      <td>0</td>\n",
              "      <td>0</td>\n",
              "      <td>0</td>\n",
              "      <td>0</td>\n",
              "      <td>0</td>\n",
              "      <td>0</td>\n",
              "      <td>0</td>\n",
              "      <td>0</td>\n",
              "      <td>1</td>\n",
              "      <td>0</td>\n",
              "      <td>0</td>\n",
              "      <td>0</td>\n",
              "      <td>0</td>\n",
              "      <td>0</td>\n",
              "      <td>0</td>\n",
              "      <td>0</td>\n",
              "      <td>1</td>\n",
              "      <td>0</td>\n",
              "      <td>0</td>\n",
              "      <td>0</td>\n",
              "      <td>0</td>\n",
              "      <td>0</td>\n",
              "      <td>0</td>\n",
              "      <td>0</td>\n",
              "      <td>0</td>\n",
              "    </tr>\n",
              "    <tr>\n",
              "      <th>4</th>\n",
              "      <td>50000</td>\n",
              "      <td>57</td>\n",
              "      <td>8617</td>\n",
              "      <td>5670</td>\n",
              "      <td>35835</td>\n",
              "      <td>20940</td>\n",
              "      <td>19146</td>\n",
              "      <td>19131</td>\n",
              "      <td>2000</td>\n",
              "      <td>36681</td>\n",
              "      <td>10000</td>\n",
              "      <td>9000</td>\n",
              "      <td>689</td>\n",
              "      <td>679</td>\n",
              "      <td>0</td>\n",
              "      <td>1</td>\n",
              "      <td>0</td>\n",
              "      <td>0</td>\n",
              "      <td>0</td>\n",
              "      <td>0</td>\n",
              "      <td>0</td>\n",
              "      <td>0</td>\n",
              "      <td>0</td>\n",
              "      <td>0</td>\n",
              "      <td>0</td>\n",
              "      <td>0</td>\n",
              "      <td>0</td>\n",
              "      <td>0</td>\n",
              "      <td>0</td>\n",
              "      <td>1</td>\n",
              "      <td>0</td>\n",
              "      <td>0</td>\n",
              "      <td>0</td>\n",
              "      <td>0</td>\n",
              "      <td>0</td>\n",
              "      <td>0</td>\n",
              "      <td>0</td>\n",
              "      <td>0</td>\n",
              "      <td>0</td>\n",
              "      <td>0</td>\n",
              "      <td>0</td>\n",
              "      <td>0</td>\n",
              "      <td>0</td>\n",
              "      <td>0</td>\n",
              "      <td>0</td>\n",
              "      <td>0</td>\n",
              "      <td>0</td>\n",
              "      <td>1</td>\n",
              "      <td>0</td>\n",
              "      <td>0</td>\n",
              "      <td>0</td>\n",
              "      <td>0</td>\n",
              "      <td>0</td>\n",
              "      <td>0</td>\n",
              "      <td>0</td>\n",
              "      <td>0</td>\n",
              "      <td>1</td>\n",
              "      <td>0</td>\n",
              "      <td>0</td>\n",
              "      <td>0</td>\n",
              "      <td>0</td>\n",
              "      <td>0</td>\n",
              "      <td>0</td>\n",
              "      <td>0</td>\n",
              "      <td>1</td>\n",
              "      <td>0</td>\n",
              "      <td>0</td>\n",
              "      <td>0</td>\n",
              "      <td>0</td>\n",
              "      <td>0</td>\n",
              "      <td>0</td>\n",
              "      <td>0</td>\n",
              "      <td>0</td>\n",
              "    </tr>\n",
              "  </tbody>\n",
              "</table>\n",
              "</div>"
            ],
            "text/plain": [
              "   LIMIT_BAL  AGE  BILL_AMT1  ...  PAY_6_7  PAY_6_8  default_payment_next_month\n",
              "0      20000   24       3913  ...        0        0                           1\n",
              "1     120000   26       2682  ...        0        0                           1\n",
              "2      90000   34      29239  ...        0        0                           0\n",
              "3      50000   37      46990  ...        0        0                           0\n",
              "4      50000   57       8617  ...        0        0                           0\n",
              "\n",
              "[5 rows x 73 columns]"
            ]
          },
          "metadata": {
            "tags": []
          },
          "execution_count": 141
        }
      ]
    },
    {
      "cell_type": "code",
      "metadata": {
        "colab": {
          "base_uri": "https://localhost:8080/"
        },
        "id": "slKqHdtDtChA",
        "outputId": "acd53ec6-ffae-46c6-fd43-58962d2d35bc"
      },
      "source": [
        "df_defcredcard_preproc_OneHotEnc.shape"
      ],
      "execution_count": 142,
      "outputs": [
        {
          "output_type": "execute_result",
          "data": {
            "text/plain": [
              "(29965, 73)"
            ]
          },
          "metadata": {
            "tags": []
          },
          "execution_count": 142
        }
      ]
    },
    {
      "cell_type": "code",
      "metadata": {
        "colab": {
          "base_uri": "https://localhost:8080/"
        },
        "id": "aoizbIkQtQkB",
        "outputId": "fc2b0df6-42a4-4bc9-fd85-33e0490455e7"
      },
      "source": [
        "df_defcredcard_preproc_OneHotEnc.columns"
      ],
      "execution_count": 143,
      "outputs": [
        {
          "output_type": "execute_result",
          "data": {
            "text/plain": [
              "Index(['LIMIT_BAL', 'AGE', 'BILL_AMT1', 'BILL_AMT2', 'BILL_AMT3', 'BILL_AMT4',\n",
              "       'BILL_AMT5', 'BILL_AMT6', 'PAY_AMT1', 'PAY_AMT2', 'PAY_AMT3',\n",
              "       'PAY_AMT4', 'PAY_AMT5', 'PAY_AMT6', 'SEX_2', 'EDUCATION_2',\n",
              "       'EDUCATION_3', 'EDUCATION_4', 'MARRIAGE_2', 'MARRIAGE_3', 'PAY_0_-999',\n",
              "       'PAY_0_1', 'PAY_0_2', 'PAY_0_3', 'PAY_0_4', 'PAY_0_5', 'PAY_0_6',\n",
              "       'PAY_0_7', 'PAY_0_8', 'PAY_2_-999', 'PAY_2_1', 'PAY_2_2', 'PAY_2_3',\n",
              "       'PAY_2_4', 'PAY_2_5', 'PAY_2_6', 'PAY_2_7', 'PAY_2_8', 'PAY_3_-999',\n",
              "       'PAY_3_1', 'PAY_3_2', 'PAY_3_3', 'PAY_3_4', 'PAY_3_5', 'PAY_3_6',\n",
              "       'PAY_3_7', 'PAY_3_8', 'PAY_4_-999', 'PAY_4_1', 'PAY_4_2', 'PAY_4_3',\n",
              "       'PAY_4_4', 'PAY_4_5', 'PAY_4_6', 'PAY_4_7', 'PAY_4_8', 'PAY_5_-999',\n",
              "       'PAY_5_2', 'PAY_5_3', 'PAY_5_4', 'PAY_5_5', 'PAY_5_6', 'PAY_5_7',\n",
              "       'PAY_5_8', 'PAY_6_-999', 'PAY_6_2', 'PAY_6_3', 'PAY_6_4', 'PAY_6_5',\n",
              "       'PAY_6_6', 'PAY_6_7', 'PAY_6_8', 'default_payment_next_month'],\n",
              "      dtype='object')"
            ]
          },
          "metadata": {
            "tags": []
          },
          "execution_count": 143
        }
      ]
    },
    {
      "cell_type": "code",
      "metadata": {
        "id": "63nbHgpvtP7B"
      },
      "source": [
        "#import pickle\r\n",
        "\r\n",
        "# Guardar las columnas del dataset post preprocesamiento y OneHotEncoding en un archivo físico\r\n",
        "with open('cols_preproc_OneHotEnc.pickle', 'wb') as handle:\r\n",
        "    pickle.dump(df_defcredcard_preproc_OneHotEnc.columns, handle, protocol=pickle.HIGHEST_PROTOCOL)"
      ],
      "execution_count": 144,
      "outputs": []
    },
    {
      "cell_type": "code",
      "metadata": {
        "id": "2gvYRxlXturv"
      },
      "source": [
        "# Importar las columnas del dataset post preprocesamiento y OneHotEncoding en un archivo físico\r\n",
        "#with open('cols_preproc_OneHotEnc.pickle', 'rb') as handle:\r\n",
        "#    cols_defcredcar_preproc_ohe = pickle.load(handle)"
      ],
      "execution_count": 145,
      "outputs": []
    },
    {
      "cell_type": "code",
      "metadata": {
        "id": "pj5Ppx8euBwj"
      },
      "source": [
        "#cols_defcredcar_preproc_ohe"
      ],
      "execution_count": 146,
      "outputs": []
    },
    {
      "cell_type": "code",
      "metadata": {
        "id": "_cm6tDU6uYuc"
      },
      "source": [
        "# Reemplazar categorías faltantes en dataset nuevo con categorias de dataset original y \r\n",
        "# reemplazar valores nulos con un valor definido (0)\r\n",
        "#pd.get_dummies(df_defcredcard_preproc_OneHotEnc_test).reindex(columns = cols_defcredcar_preproc_ohe, fill_value=0)"
      ],
      "execution_count": 147,
      "outputs": []
    },
    {
      "cell_type": "code",
      "metadata": {
        "id": "R9yafZVDwdkV"
      },
      "source": [
        "# Guardar dataset post preprocesamiento y OneHotEncoding en un archivo físico\r\n",
        "with open('df_preproc_OneHotEnc.pickle', 'wb') as f:\r\n",
        "    pickle.dump(df_defcredcard_preproc_OneHotEnc, f)"
      ],
      "execution_count": 148,
      "outputs": []
    },
    {
      "cell_type": "code",
      "metadata": {
        "id": "FZ-Flk5xxBQ3"
      },
      "source": [
        "# Importar dataset post preprocesamiento y OneHotEncoding en un archivo físico\r\n",
        "with open('df_preproc_OneHotEnc.pickle', 'rb') as f:\r\n",
        "   df_defcredcard_preproc_ohe = pickle.load(f)"
      ],
      "execution_count": 149,
      "outputs": []
    },
    {
      "cell_type": "code",
      "metadata": {
        "colab": {
          "base_uri": "https://localhost:8080/"
        },
        "id": "Qk4Xf5kKxPYA",
        "outputId": "5e2e5d15-f6ac-45ae-b95c-34208f9eefaf"
      },
      "source": [
        "df_defcredcard_preproc_ohe.shape"
      ],
      "execution_count": 150,
      "outputs": [
        {
          "output_type": "execute_result",
          "data": {
            "text/plain": [
              "(29965, 73)"
            ]
          },
          "metadata": {
            "tags": []
          },
          "execution_count": 150
        }
      ]
    },
    {
      "cell_type": "markdown",
      "metadata": {
        "id": "8wZe2c4MoG-T"
      },
      "source": [
        "#### **REDUCCIÓN DE DIMENSIONALIDAD**"
      ]
    },
    {
      "cell_type": "code",
      "metadata": {
        "id": "_Y0UTQ89n9MJ"
      },
      "source": [
        ""
      ],
      "execution_count": 150,
      "outputs": []
    },
    {
      "cell_type": "markdown",
      "metadata": {
        "id": "uM0hfJOeoflH"
      },
      "source": [
        "## **DIVISIÓN DE LOS DATOS**"
      ]
    },
    {
      "cell_type": "code",
      "metadata": {
        "id": "JU0EMtrgxslk"
      },
      "source": [
        "X = df_defcredcard_preproc_ohe.iloc[:,:-1]\r\n",
        "y = df_defcredcard_preproc_ohe.iloc[:,-1]"
      ],
      "execution_count": 151,
      "outputs": []
    },
    {
      "cell_type": "code",
      "metadata": {
        "id": "15UvViKB1HRD"
      },
      "source": [
        "#from sklearn.model_selection import train_test_split\r\n",
        "X_train, X_test, y_train, y_test = train_test_split(X, y, test_size=0.20, random_state=42, stratify=y)"
      ],
      "execution_count": 152,
      "outputs": []
    },
    {
      "cell_type": "code",
      "metadata": {
        "colab": {
          "base_uri": "https://localhost:8080/"
        },
        "id": "jCYPPjM01JKJ",
        "outputId": "03df293e-a9b9-4941-a1f5-baab3c0c554e"
      },
      "source": [
        "X_train.shape, X_test.shape"
      ],
      "execution_count": 153,
      "outputs": [
        {
          "output_type": "execute_result",
          "data": {
            "text/plain": [
              "((23972, 72), (5993, 72))"
            ]
          },
          "metadata": {
            "tags": []
          },
          "execution_count": 153
        }
      ]
    },
    {
      "cell_type": "code",
      "metadata": {
        "colab": {
          "base_uri": "https://localhost:8080/"
        },
        "id": "F4u6aPol2ab8",
        "outputId": "aca313bb-9323-4097-8ebb-147ceeb8edbf"
      },
      "source": [
        "y_train.shape, y_test.shape"
      ],
      "execution_count": 154,
      "outputs": [
        {
          "output_type": "execute_result",
          "data": {
            "text/plain": [
              "((23972,), (5993,))"
            ]
          },
          "metadata": {
            "tags": []
          },
          "execution_count": 154
        }
      ]
    },
    {
      "cell_type": "markdown",
      "metadata": {
        "id": "N8MxfSUv3QLE"
      },
      "source": [
        "## **BALANCEO DE DATOS**"
      ]
    },
    {
      "cell_type": "markdown",
      "metadata": {
        "id": "92hzBpu85EbR"
      },
      "source": [
        "#### Balanceo de Datos (Dataset de Entrenamiento)"
      ]
    },
    {
      "cell_type": "code",
      "metadata": {
        "colab": {
          "base_uri": "https://localhost:8080/",
          "height": 106
        },
        "id": "Dfwu6ELs3mEa",
        "outputId": "081ccd85-af67-4330-ed77-d255b18dfcf1"
      },
      "source": [
        "#---------------------------------------------------------------------------------\r\n",
        "# Tabla de Contingencia de Variable Objetivo\r\n",
        "#---------------------------------------------------------------------------------\r\n",
        "pd.DataFrame({'Cantidad': y_train.value_counts(), '%': y_train.value_counts(normalize=True) * 100})"
      ],
      "execution_count": 155,
      "outputs": [
        {
          "output_type": "execute_result",
          "data": {
            "text/html": [
              "<div>\n",
              "<style scoped>\n",
              "    .dataframe tbody tr th:only-of-type {\n",
              "        vertical-align: middle;\n",
              "    }\n",
              "\n",
              "    .dataframe tbody tr th {\n",
              "        vertical-align: top;\n",
              "    }\n",
              "\n",
              "    .dataframe thead th {\n",
              "        text-align: right;\n",
              "    }\n",
              "</style>\n",
              "<table border=\"1\" class=\"dataframe\">\n",
              "  <thead>\n",
              "    <tr style=\"text-align: right;\">\n",
              "      <th></th>\n",
              "      <th>Cantidad</th>\n",
              "      <th>%</th>\n",
              "    </tr>\n",
              "  </thead>\n",
              "  <tbody>\n",
              "    <tr>\n",
              "      <th>0</th>\n",
              "      <td>18668</td>\n",
              "      <td>77.874187</td>\n",
              "    </tr>\n",
              "    <tr>\n",
              "      <th>1</th>\n",
              "      <td>5304</td>\n",
              "      <td>22.125813</td>\n",
              "    </tr>\n",
              "  </tbody>\n",
              "</table>\n",
              "</div>"
            ],
            "text/plain": [
              "   Cantidad          %\n",
              "0     18668  77.874187\n",
              "1      5304  22.125813"
            ]
          },
          "metadata": {
            "tags": []
          },
          "execution_count": 155
        }
      ]
    },
    {
      "cell_type": "code",
      "metadata": {
        "id": "cDD7uNv35Foh"
      },
      "source": [
        "from imblearn.over_sampling import SMOTE\r\n",
        "\r\n",
        "smote_train = SMOTE(ratio='minority')\r\n",
        "X_smt_train, y_smt_train = smote_train.fit_sample(X_train, y_train)\r\n",
        "\r\n",
        "columns_x = X_train.columns.to_list()\r\n",
        "columns_y = 'default_payment_next_month'\r\n",
        "\r\n",
        "X_bal_smt_train = pd.DataFrame(data = X_smt_train, columns = columns_x)\r\n",
        "y_bal_smt_train = pd.Series(data = y_smt_train, name=columns_y)"
      ],
      "execution_count": 205,
      "outputs": []
    },
    {
      "cell_type": "code",
      "metadata": {
        "colab": {
          "base_uri": "https://localhost:8080/",
          "height": 106
        },
        "id": "eEMJWATt6GQ6",
        "outputId": "483233f9-7a1c-4719-ea7c-70d62ff17cf7"
      },
      "source": [
        "pd.DataFrame({'Cantidad': y_bal_smt_train.value_counts(), '%': y_bal_smt_train.value_counts(normalize=True) * 100})"
      ],
      "execution_count": 206,
      "outputs": [
        {
          "output_type": "execute_result",
          "data": {
            "text/html": [
              "<div>\n",
              "<style scoped>\n",
              "    .dataframe tbody tr th:only-of-type {\n",
              "        vertical-align: middle;\n",
              "    }\n",
              "\n",
              "    .dataframe tbody tr th {\n",
              "        vertical-align: top;\n",
              "    }\n",
              "\n",
              "    .dataframe thead th {\n",
              "        text-align: right;\n",
              "    }\n",
              "</style>\n",
              "<table border=\"1\" class=\"dataframe\">\n",
              "  <thead>\n",
              "    <tr style=\"text-align: right;\">\n",
              "      <th></th>\n",
              "      <th>Cantidad</th>\n",
              "      <th>%</th>\n",
              "    </tr>\n",
              "  </thead>\n",
              "  <tbody>\n",
              "    <tr>\n",
              "      <th>1</th>\n",
              "      <td>18668</td>\n",
              "      <td>50.0</td>\n",
              "    </tr>\n",
              "    <tr>\n",
              "      <th>0</th>\n",
              "      <td>18668</td>\n",
              "      <td>50.0</td>\n",
              "    </tr>\n",
              "  </tbody>\n",
              "</table>\n",
              "</div>"
            ],
            "text/plain": [
              "   Cantidad     %\n",
              "1     18668  50.0\n",
              "0     18668  50.0"
            ]
          },
          "metadata": {
            "tags": []
          },
          "execution_count": 206
        }
      ]
    },
    {
      "cell_type": "markdown",
      "metadata": {
        "id": "CE0BLNLP6bKW"
      },
      "source": [
        "#### Balanceo de Datos (Dataset de Pruebas)"
      ]
    },
    {
      "cell_type": "code",
      "metadata": {
        "colab": {
          "base_uri": "https://localhost:8080/",
          "height": 106
        },
        "id": "ecjfyxKZ62Sn",
        "outputId": "62034c86-ffca-4a74-9f67-922c78245773"
      },
      "source": [
        "#---------------------------------------------------------------------------------\r\n",
        "# Tabla de Contingencia de Variable Objetivo\r\n",
        "#---------------------------------------------------------------------------------\r\n",
        "pd.DataFrame({'Cantidad': y_test.value_counts(), '%': y_test.value_counts(normalize=True) * 100})"
      ],
      "execution_count": 158,
      "outputs": [
        {
          "output_type": "execute_result",
          "data": {
            "text/html": [
              "<div>\n",
              "<style scoped>\n",
              "    .dataframe tbody tr th:only-of-type {\n",
              "        vertical-align: middle;\n",
              "    }\n",
              "\n",
              "    .dataframe tbody tr th {\n",
              "        vertical-align: top;\n",
              "    }\n",
              "\n",
              "    .dataframe thead th {\n",
              "        text-align: right;\n",
              "    }\n",
              "</style>\n",
              "<table border=\"1\" class=\"dataframe\">\n",
              "  <thead>\n",
              "    <tr style=\"text-align: right;\">\n",
              "      <th></th>\n",
              "      <th>Cantidad</th>\n",
              "      <th>%</th>\n",
              "    </tr>\n",
              "  </thead>\n",
              "  <tbody>\n",
              "    <tr>\n",
              "      <th>0</th>\n",
              "      <td>4667</td>\n",
              "      <td>77.874187</td>\n",
              "    </tr>\n",
              "    <tr>\n",
              "      <th>1</th>\n",
              "      <td>1326</td>\n",
              "      <td>22.125813</td>\n",
              "    </tr>\n",
              "  </tbody>\n",
              "</table>\n",
              "</div>"
            ],
            "text/plain": [
              "   Cantidad          %\n",
              "0      4667  77.874187\n",
              "1      1326  22.125813"
            ]
          },
          "metadata": {
            "tags": []
          },
          "execution_count": 158
        }
      ]
    },
    {
      "cell_type": "code",
      "metadata": {
        "id": "PKzb9SDf6cRn"
      },
      "source": [
        "from imblearn.over_sampling import SMOTE\r\n",
        "\r\n",
        "smote_valid_t = SMOTE(ratio='minority')\r\n",
        "X_smt_test, y_smt_test = smote_valid_t.fit_sample(X_test, y_test)\r\n",
        "\r\n",
        "columns_x = X_test.columns.to_list()\r\n",
        "columns_y = 'default_payment_next_month'\r\n",
        "\r\n",
        "\r\n",
        "X_bal_smt_test = pd.DataFrame(data = X_smt_test, columns = columns_x)\r\n",
        "y_bal_smt_test = pd.Series(data = y_smt_test, name=columns_y)"
      ],
      "execution_count": 207,
      "outputs": []
    },
    {
      "cell_type": "code",
      "metadata": {
        "colab": {
          "base_uri": "https://localhost:8080/",
          "height": 106
        },
        "id": "dhFU6GaM69rP",
        "outputId": "1672dbb1-5d1f-48cf-a2f2-c908993081f6"
      },
      "source": [
        "#---------------------------------------------------------------------------------\r\n",
        "# Tabla de Contingencia de Variable Objetivo\r\n",
        "#---------------------------------------------------------------------------------\r\n",
        "pd.DataFrame({'Cantidad': y_bal_smt_test.value_counts(), '%': y_bal_smt_test.value_counts(normalize=True) * 100})"
      ],
      "execution_count": 208,
      "outputs": [
        {
          "output_type": "execute_result",
          "data": {
            "text/html": [
              "<div>\n",
              "<style scoped>\n",
              "    .dataframe tbody tr th:only-of-type {\n",
              "        vertical-align: middle;\n",
              "    }\n",
              "\n",
              "    .dataframe tbody tr th {\n",
              "        vertical-align: top;\n",
              "    }\n",
              "\n",
              "    .dataframe thead th {\n",
              "        text-align: right;\n",
              "    }\n",
              "</style>\n",
              "<table border=\"1\" class=\"dataframe\">\n",
              "  <thead>\n",
              "    <tr style=\"text-align: right;\">\n",
              "      <th></th>\n",
              "      <th>Cantidad</th>\n",
              "      <th>%</th>\n",
              "    </tr>\n",
              "  </thead>\n",
              "  <tbody>\n",
              "    <tr>\n",
              "      <th>1</th>\n",
              "      <td>4667</td>\n",
              "      <td>50.0</td>\n",
              "    </tr>\n",
              "    <tr>\n",
              "      <th>0</th>\n",
              "      <td>4667</td>\n",
              "      <td>50.0</td>\n",
              "    </tr>\n",
              "  </tbody>\n",
              "</table>\n",
              "</div>"
            ],
            "text/plain": [
              "   Cantidad     %\n",
              "1      4667  50.0\n",
              "0      4667  50.0"
            ]
          },
          "metadata": {
            "tags": []
          },
          "execution_count": 208
        }
      ]
    },
    {
      "cell_type": "markdown",
      "metadata": {
        "id": "tJ34bRRu7M6D"
      },
      "source": [
        "###############################################################################\r\n",
        "# **4. MODELADO**\r\n",
        "###############################################################################"
      ]
    },
    {
      "cell_type": "markdown",
      "metadata": {
        "id": "bs_tx9w6RH_G"
      },
      "source": [
        "## **4.1 REGRESIÓN LOGÍSTICA**"
      ]
    },
    {
      "cell_type": "markdown",
      "metadata": {
        "id": "t3QIJb_TRr6S"
      },
      "source": [
        "### **4.1.1 Usando variables predictoras sin escalar**"
      ]
    },
    {
      "cell_type": "code",
      "metadata": {
        "id": "X2j7UAYZ7PTy"
      },
      "source": [
        "from sklearn.linear_model import LogisticRegression\r\n",
        "\r\n",
        "# Instanciar el modelo\r\n",
        "model_reglog_0 = LogisticRegression()\r\n",
        "\r\n",
        "# Entrenamiento del modelo\r\n",
        "model_reglog_0.fit(X_train, y_train)\r\n",
        "\r\n",
        "# Predicción de la clase\r\n",
        "y_pred_reglog_0_train = model_reglog_0.predict(X_train)\r\n",
        "y_pred_reglog_0_test = model_reglog_0.predict(X_test)\r\n",
        "\r\n",
        "# Predicción de la probabilidad\r\n",
        "y_pred_proba_reglog_0_train = model_reglog_0.predict_proba(X_train)[:,1]\r\n",
        "y_pred_proba_reglog_0_test = model_reglog_0.predict_proba(X_test)[:,1]"
      ],
      "execution_count": 170,
      "outputs": []
    },
    {
      "cell_type": "code",
      "metadata": {
        "colab": {
          "base_uri": "https://localhost:8080/"
        },
        "id": "ecM8G6d1eHSm",
        "outputId": "70212fe4-29ea-43e4-aaf5-b68d300b05ee"
      },
      "source": [
        "from sklearn.metrics import accuracy_score\r\n",
        "\r\n",
        "# Métrica Accuracy / AUC en Hold-Out\r\n",
        "print('Accuracy Train: ', model_reglog_0.score(X_train, y_train))\r\n",
        "print('Accuracy Test: ', accuracy_score(y_test, y_pred_reglog_0_test))\r\n",
        "print('AUC Train: ', roc_auc_score(y_train, y_pred_reglog_0_train))\r\n",
        "print('AUC Test: ', roc_auc_score(y_test, y_pred_reglog_0_test))"
      ],
      "execution_count": 172,
      "outputs": [
        {
          "output_type": "stream",
          "text": [
            "Accuracy Train:  0.7785750041715335\n",
            "Accuracy Test:  0.7785750041715335\n",
            "AUC Train:  0.5001628034972292\n",
            "AUC Test:  0.5001628034972292\n"
          ],
          "name": "stdout"
        }
      ]
    },
    {
      "cell_type": "code",
      "metadata": {
        "colab": {
          "base_uri": "https://localhost:8080/"
        },
        "id": "43iMQ5K5etuq",
        "outputId": "09b0bf70-3f7d-4cee-922a-44dc1127ba4e"
      },
      "source": [
        "from sklearn.model_selection import cross_val_score\r\n",
        "import warnings\r\n",
        "warnings.filterwarnings('ignore')\r\n",
        "\r\n",
        "# Métrica Accuracy / AUC en Cross Validation K-Folds\r\n",
        "n_knnfolds = 5\r\n",
        "print('Accuracy Prom.: ', np.mean(cross_val_score(model_reglog_0, X_train, y_train, scoring='accuracy', cv=n_knnfolds)))\r\n",
        "print('AUC Prom.: ', np.mean(cross_val_score(model_reglog_0, X_train, y_train, scoring='roc_auc', cv=n_knnfolds)))"
      ],
      "execution_count": 175,
      "outputs": [
        {
          "output_type": "stream",
          "text": [
            "Accuracy Prom.:  0.7785332900049289\n",
            "AUC Prom.:  0.65545972578706\n"
          ],
          "name": "stdout"
        }
      ]
    },
    {
      "cell_type": "code",
      "metadata": {
        "colab": {
          "base_uri": "https://localhost:8080/"
        },
        "id": "Zj95VmvuoRHi",
        "outputId": "8e01b9ea-edab-4738-b056-bb4b921a681b"
      },
      "source": [
        "from sklearn.model_selection import GridSearchCV\r\n",
        "\r\n",
        "# Especificando parametros\r\n",
        "hiperparametros = {\r\n",
        "                    'penalty':np.array(['l1','l2']),\r\n",
        "                    #'C':[0.001,.009,0.01,.09,1,5,10,25]\r\n",
        "                    'C': np.logspace(-4, 4, 50)\r\n",
        "                  }\r\n",
        "\r\n",
        "print('Los valores a probar en la búsqueda por grilla son:')\r\n",
        "pprint(hiperparametros)\r\n",
        "\r\n",
        "print()\r\n",
        "print('Si se probara todas las combinaciones se requeriría entrenar', \r\n",
        "      len(hiperparametros['penalty']) *\r\n",
        "      len(hiperparametros['C']), \r\n",
        "      'modelos'\r\n",
        "      )"
      ],
      "execution_count": 185,
      "outputs": [
        {
          "output_type": "stream",
          "text": [
            "Los valores a probar en la búsqueda por grilla son:\n",
            "{'C': array([1.00000000e-04, 1.45634848e-04, 2.12095089e-04, 3.08884360e-04,\n",
            "       4.49843267e-04, 6.55128557e-04, 9.54095476e-04, 1.38949549e-03,\n",
            "       2.02358965e-03, 2.94705170e-03, 4.29193426e-03, 6.25055193e-03,\n",
            "       9.10298178e-03, 1.32571137e-02, 1.93069773e-02, 2.81176870e-02,\n",
            "       4.09491506e-02, 5.96362332e-02, 8.68511374e-02, 1.26485522e-01,\n",
            "       1.84206997e-01, 2.68269580e-01, 3.90693994e-01, 5.68986603e-01,\n",
            "       8.28642773e-01, 1.20679264e+00, 1.75751062e+00, 2.55954792e+00,\n",
            "       3.72759372e+00, 5.42867544e+00, 7.90604321e+00, 1.15139540e+01,\n",
            "       1.67683294e+01, 2.44205309e+01, 3.55648031e+01, 5.17947468e+01,\n",
            "       7.54312006e+01, 1.09854114e+02, 1.59985872e+02, 2.32995181e+02,\n",
            "       3.39322177e+02, 4.94171336e+02, 7.19685673e+02, 1.04811313e+03,\n",
            "       1.52641797e+03, 2.22299648e+03, 3.23745754e+03, 4.71486636e+03,\n",
            "       6.86648845e+03, 1.00000000e+04]),\n",
            " 'penalty': array(['l1', 'l2'], dtype='<U2')}\n",
            "\n",
            "Si se probara todas las combinaciones se requeriría entrenar 100 modelos\n"
          ],
          "name": "stdout"
        }
      ]
    },
    {
      "cell_type": "code",
      "metadata": {
        "colab": {
          "base_uri": "https://localhost:8080/"
        },
        "id": "JF5FbhvWsbtI",
        "outputId": "eacb4c05-67c9-43d1-de27-002b42cf18ea"
      },
      "source": [
        "# Instanciar el modelo\r\n",
        "model_reglog_grid_1 = GridSearchCV(LogisticRegression(), # modelo\r\n",
        "                              hiperparametros, # hiperparametros\r\n",
        "                              verbose=2, # mostrar procesamiento de GridSearchCV\r\n",
        "                              n_jobs=-1, # paralelizar en todos los cores disponibles\r\n",
        "                              cv=5) # numero de k-folds o grupos para validación cruzada\r\n",
        "\r\n",
        "# Entrenamiento del modelo\r\n",
        "model_reglog_grid_1.fit(X_train, y_train)"
      ],
      "execution_count": 186,
      "outputs": [
        {
          "output_type": "stream",
          "text": [
            "Fitting 5 folds for each of 100 candidates, totalling 500 fits\n"
          ],
          "name": "stdout"
        },
        {
          "output_type": "stream",
          "text": [
            "[Parallel(n_jobs=-1)]: Using backend LokyBackend with 2 concurrent workers.\n",
            "[Parallel(n_jobs=-1)]: Done  70 tasks      | elapsed:   14.6s\n",
            "[Parallel(n_jobs=-1)]: Done 311 tasks      | elapsed:  1.1min\n",
            "[Parallel(n_jobs=-1)]: Done 500 out of 500 | elapsed:  1.8min finished\n"
          ],
          "name": "stderr"
        },
        {
          "output_type": "execute_result",
          "data": {
            "text/plain": [
              "GridSearchCV(cv=5, error_score=nan,\n",
              "             estimator=LogisticRegression(C=1.0, class_weight=None, dual=False,\n",
              "                                          fit_intercept=True,\n",
              "                                          intercept_scaling=1, l1_ratio=None,\n",
              "                                          max_iter=100, multi_class='auto',\n",
              "                                          n_jobs=None, penalty='l2',\n",
              "                                          random_state=None, solver='lbfgs',\n",
              "                                          tol=0.0001, verbose=0,\n",
              "                                          warm_start=False),\n",
              "             iid='deprecated', n_jobs=-1,\n",
              "             param_grid={'C': array([1.00000000e-04, 1.456...\n",
              "       1.67683294e+01, 2.44205309e+01, 3.55648031e+01, 5.17947468e+01,\n",
              "       7.54312006e+01, 1.09854114e+02, 1.59985872e+02, 2.32995181e+02,\n",
              "       3.39322177e+02, 4.94171336e+02, 7.19685673e+02, 1.04811313e+03,\n",
              "       1.52641797e+03, 2.22299648e+03, 3.23745754e+03, 4.71486636e+03,\n",
              "       6.86648845e+03, 1.00000000e+04]),\n",
              "                         'penalty': array(['l1', 'l2'], dtype='<U2')},\n",
              "             pre_dispatch='2*n_jobs', refit=True, return_train_score=False,\n",
              "             scoring=None, verbose=2)"
            ]
          },
          "metadata": {
            "tags": []
          },
          "execution_count": 186
        }
      ]
    },
    {
      "cell_type": "code",
      "metadata": {
        "colab": {
          "base_uri": "https://localhost:8080/"
        },
        "id": "c4QvUiYnten1",
        "outputId": "aac67eec-b2e6-4698-ee95-e7de04885d23"
      },
      "source": [
        "model_reglog_grid_1_best = model_reglog_grid_1.best_estimator_\r\n",
        "print('Mejor modelo: ')\r\n",
        "pprint(model_reglog_grid_1_best)\r\n",
        "print()\r\n",
        "\r\n",
        "print('Los hiperparámetros del mejor modelo son:')\r\n",
        "pprint(model_reglog_grid_1.best_params_)\r\n",
        "print()\r\n",
        "\r\n",
        "print('Accuracy luego de búsqueda en grilla en entrenamiento:', model_reglog_grid_1_best.score(X_train, y_train))\r\n",
        "print('Accuracy luego de búsqueda en grilla en pruebas:', model_reglog_grid_1_best.score(X_test, y_test))\r\n",
        "\r\n",
        "y_pred_proba_reglog_grid_1_best_train = model_reglog_grid_1_best.predict_proba(X_train)[::,1]\r\n",
        "y_pred_proba_reglog_grid_1_best_test = model_reglog_grid_1_best.predict_proba(X_test)[::,1]\r\n",
        "\r\n",
        "print(f\"AUC luego de búsqueda en grilla en entrenamiento es: {roc_auc_score(y_train, y_pred_proba_reglog_grid_1_best_train)}\")\r\n",
        "print(f\"AUC luego de búsqueda en grilla en pruebas es: {roc_auc_score(y_test, y_pred_proba_reglog_grid_1_best_test)}\")"
      ],
      "execution_count": 187,
      "outputs": [
        {
          "output_type": "stream",
          "text": [
            "Mejor modelo: \n",
            "LogisticRegression(C=3.727593720314938, class_weight=None, dual=False,\n",
            "                   fit_intercept=True, intercept_scaling=1, l1_ratio=None,\n",
            "                   max_iter=100, multi_class='auto', n_jobs=None, penalty='l2',\n",
            "                   random_state=None, solver='lbfgs', tol=0.0001, verbose=0,\n",
            "                   warm_start=False)\n",
            "\n",
            "Los hiperparámetros del mejor modelo son:\n",
            "{'C': 3.727593720314938, 'penalty': 'l2'}\n",
            "\n",
            "Accuracy luego de búsqueda en grilla en entrenamiento: 0.7785750041715335\n",
            "Accuracy luego de búsqueda en grilla en pruebas: 0.7789087268479893\n",
            "AUC luego de búsqueda en grilla en entrenamiento es: 0.6561257259904836\n",
            "AUC luego de búsqueda en grilla en pruebas es: 0.6493661894221519\n"
          ],
          "name": "stdout"
        }
      ]
    },
    {
      "cell_type": "code",
      "metadata": {
        "colab": {
          "base_uri": "https://localhost:8080/"
        },
        "id": "Dt6a-HDCtt7S",
        "outputId": "e755c555-d4ca-43db-cef8-ec17f27cad64"
      },
      "source": [
        "fpr_regloggridbest1_train, tpr_regloggridbest1_train, thr_regloggridbest1_train = metrics.roc_curve(y_train, y_pred_proba_reglog_grid_1_best_train)\r\n",
        "fpr_regloggridbest1_test, tpr_regloggridbest1_test, thr_regloggridbest1_test = metrics.roc_curve(y_test, y_pred_proba_reglog_grid_1_best_test)\r\n",
        "roc_auc_regloggridbest1_train = auc(fpr_regloggridbest1_train, tpr_regloggridbest1_train)\r\n",
        "roc_auc_regloggridbest1_test = auc(fpr_regloggridbest1_test, tpr_regloggridbest1_test)\r\n",
        "\r\n",
        "print('Training AUC =', roc_auc_regloggridbest1_train)\r\n",
        "print('Validation AUC =', roc_auc_regloggridbest1_test)\r\n",
        "\r\n",
        "label_train = 'AUC Entrenamiento:' + ' {0:.6f}'.format(roc_auc_regloggridbest1_train)\r\n",
        "label_test = 'AUC Pruebas:' + ' {0:.6f}'.format(roc_auc_regloggridbest1_test)\r\n",
        "plt.plot(fpr_regloggridbest1_train, tpr_regloggridbest1_train, c = 'r', label = label_train, linewidth = 2)\r\n",
        "plt.plot(fpr_regloggridbest1_test, tpr_regloggridbest1_test, c = 'b', label = label_test, linewidth = 2)\r\n",
        "plt.plot([0,1], [0,1], color='orange', linestyle='--')\r\n",
        "plt.xlabel('False Positive Rate', fontsize = 16)\r\n",
        "plt.ylabel('True Positive Rate', fontsize = 16)\r\n",
        "plt.title('Curva ROC / Area AUC - Regresion Logistica', fontsize = 16)\r\n",
        "plt.legend(loc = 'lower right', fontsize = 10)\r\n",
        "plt.show()"
      ],
      "execution_count": 203,
      "outputs": [
        {
          "output_type": "stream",
          "text": [
            "Training AUC = 0.6561257259904836\n",
            "Validation AUC = 0.6493661894221519\n"
          ],
          "name": "stdout"
        }
      ]
    },
    {
      "cell_type": "markdown",
      "metadata": {
        "id": "FUV-WRa7RtxT"
      },
      "source": [
        "### **4.1.2 Usando variable objetivo balanceada**"
      ]
    },
    {
      "cell_type": "code",
      "metadata": {
        "id": "UEAlL7nEzrxC"
      },
      "source": [
        "from sklearn.linear_model import LogisticRegression\r\n",
        "\r\n",
        "# Instanciar el modelo\r\n",
        "model_reglog_2 = LogisticRegression()\r\n",
        "\r\n",
        "# Entrenamiento del modelo\r\n",
        "model_reglog_2.fit(X_bal_smt_train, y_bal_smt_train)\r\n",
        "\r\n",
        "# Predicción de la clase\r\n",
        "y_pred_reglog_2_train = model_reglog_2.predict(X_bal_smt_train)\r\n",
        "y_pred_reglog_2_test = model_reglog_2.predict(X_bal_smt_test)\r\n",
        "\r\n",
        "# Predicción de la probabilidad\r\n",
        "y_pred_proba_reglog_2_train = model_reglog_2.predict_proba(X_bal_smt_train)[:,1]\r\n",
        "y_pred_proba_reglog_2_test = model_reglog_2.predict_proba(X_bal_smt_test)[:,1]"
      ],
      "execution_count": 211,
      "outputs": []
    },
    {
      "cell_type": "code",
      "metadata": {
        "colab": {
          "base_uri": "https://localhost:8080/"
        },
        "id": "bZDJkdzRz8wg",
        "outputId": "998d7c44-89b9-450c-9090-56b888e33c99"
      },
      "source": [
        "from sklearn.metrics import accuracy_score\r\n",
        "\r\n",
        "# Métrica Accuracy / AUC en Hold-Out\r\n",
        "print('Accuracy Train: ', model_reglog_2.score(X_bal_smt_train, y_bal_smt_train))\r\n",
        "print('Accuracy Test: ', accuracy_score(y_bal_smt_test, y_pred_reglog_2_test))\r\n",
        "print('AUC Train: ', roc_auc_score(y_bal_smt_train, y_pred_reglog_2_train))\r\n",
        "print('AUC Test: ', roc_auc_score(y_bal_smt_test, y_pred_reglog_2_test))"
      ],
      "execution_count": 214,
      "outputs": [
        {
          "output_type": "stream",
          "text": [
            "Accuracy Train:  0.5982161988429398\n",
            "Accuracy Test:  0.6002785515320335\n",
            "AUC Train:  0.5982161988429398\n",
            "AUC Test:  0.6002785515320335\n"
          ],
          "name": "stdout"
        }
      ]
    },
    {
      "cell_type": "code",
      "metadata": {
        "colab": {
          "base_uri": "https://localhost:8080/"
        },
        "id": "4zH8SyaW1brH",
        "outputId": "abefb6f9-c855-4765-d512-f301b87ce5f9"
      },
      "source": [
        "from sklearn.model_selection import cross_val_score\r\n",
        "import warnings\r\n",
        "warnings.filterwarnings('ignore')\r\n",
        "\r\n",
        "# Métrica Accuracy / AUC en Cross Validation K-Folds\r\n",
        "n_knnfolds = 5\r\n",
        "print('Accuracy Prom.: ', np.mean(cross_val_score(model_reglog_2, X_bal_smt_train, y_bal_smt_train, scoring='accuracy', cv=n_knnfolds)))\r\n",
        "print('AUC Prom.: ', np.mean(cross_val_score(model_reglog_2, X_bal_smt_train, y_bal_smt_train, scoring='roc_auc', cv=n_knnfolds)))"
      ],
      "execution_count": 215,
      "outputs": [
        {
          "output_type": "stream",
          "text": [
            "Accuracy Prom.:  0.5781554246648115\n",
            "AUC Prom.:  0.6547742744930999\n"
          ],
          "name": "stdout"
        }
      ]
    },
    {
      "cell_type": "code",
      "metadata": {
        "colab": {
          "base_uri": "https://localhost:8080/"
        },
        "id": "mRjnkX8q1lwr",
        "outputId": "f93f3049-49d3-4875-e02e-ed06653f9379"
      },
      "source": [
        "from sklearn.model_selection import GridSearchCV\r\n",
        "\r\n",
        "# Especificando parametros\r\n",
        "hiperparametros = {\r\n",
        "                    'penalty': np.array(['l1','l2']),\r\n",
        "                    #'C':[0.001,.009,0.01,.09,1,5,10,25]\r\n",
        "                    'C': np.logspace(-4, 4, 50)\r\n",
        "                  }\r\n",
        "\r\n",
        "print('Los valores a probar en la búsqueda por grilla son:')\r\n",
        "pprint(hiperparametros)\r\n",
        "\r\n",
        "print()\r\n",
        "print('Si se probara todas las combinaciones se requeriría entrenar', \r\n",
        "      len(hiperparametros['penalty']) *\r\n",
        "      len(hiperparametros['C']), \r\n",
        "      'modelos'\r\n",
        "      )"
      ],
      "execution_count": 216,
      "outputs": [
        {
          "output_type": "stream",
          "text": [
            "Los valores a probar en la búsqueda por grilla son:\n",
            "{'C': array([1.00000000e-04, 1.45634848e-04, 2.12095089e-04, 3.08884360e-04,\n",
            "       4.49843267e-04, 6.55128557e-04, 9.54095476e-04, 1.38949549e-03,\n",
            "       2.02358965e-03, 2.94705170e-03, 4.29193426e-03, 6.25055193e-03,\n",
            "       9.10298178e-03, 1.32571137e-02, 1.93069773e-02, 2.81176870e-02,\n",
            "       4.09491506e-02, 5.96362332e-02, 8.68511374e-02, 1.26485522e-01,\n",
            "       1.84206997e-01, 2.68269580e-01, 3.90693994e-01, 5.68986603e-01,\n",
            "       8.28642773e-01, 1.20679264e+00, 1.75751062e+00, 2.55954792e+00,\n",
            "       3.72759372e+00, 5.42867544e+00, 7.90604321e+00, 1.15139540e+01,\n",
            "       1.67683294e+01, 2.44205309e+01, 3.55648031e+01, 5.17947468e+01,\n",
            "       7.54312006e+01, 1.09854114e+02, 1.59985872e+02, 2.32995181e+02,\n",
            "       3.39322177e+02, 4.94171336e+02, 7.19685673e+02, 1.04811313e+03,\n",
            "       1.52641797e+03, 2.22299648e+03, 3.23745754e+03, 4.71486636e+03,\n",
            "       6.86648845e+03, 1.00000000e+04]),\n",
            " 'penalty': array(['l1', 'l2'], dtype='<U2')}\n",
            "\n",
            "Si se probara todas las combinaciones se requeriría entrenar 100 modelos\n"
          ],
          "name": "stdout"
        }
      ]
    },
    {
      "cell_type": "code",
      "metadata": {
        "colab": {
          "base_uri": "https://localhost:8080/"
        },
        "id": "UDx3Nz1h1qjH",
        "outputId": "2827f37c-1685-4707-e5d5-a86085e5c771"
      },
      "source": [
        "# Instanciar el modelo\r\n",
        "model_reglog_grid_3 = GridSearchCV(LogisticRegression(), # modelo\r\n",
        "                                   hiperparametros, # hiperparametros\r\n",
        "                                   verbose=2, # mostrar procesamiento de GridSearchCV\r\n",
        "                                   n_jobs=-1, # paralelizar en todos los cores disponibles\r\n",
        "                                   cv=5) # numero de k-folds o grupos para validación cruzada\r\n",
        "\r\n",
        "# Entrenamiento del modelo\r\n",
        "model_reglog_grid_3.fit(X_bal_smt_train, y_bal_smt_train)"
      ],
      "execution_count": 217,
      "outputs": [
        {
          "output_type": "stream",
          "text": [
            "Fitting 5 folds for each of 100 candidates, totalling 500 fits\n"
          ],
          "name": "stdout"
        },
        {
          "output_type": "stream",
          "text": [
            "[Parallel(n_jobs=-1)]: Using backend LokyBackend with 2 concurrent workers.\n",
            "[Parallel(n_jobs=-1)]: Done  37 tasks      | elapsed:   12.0s\n",
            "[Parallel(n_jobs=-1)]: Done 158 tasks      | elapsed:   48.2s\n",
            "[Parallel(n_jobs=-1)]: Done 361 tasks      | elapsed:  1.8min\n",
            "[Parallel(n_jobs=-1)]: Done 500 out of 500 | elapsed:  2.5min finished\n"
          ],
          "name": "stderr"
        },
        {
          "output_type": "execute_result",
          "data": {
            "text/plain": [
              "GridSearchCV(cv=5, error_score=nan,\n",
              "             estimator=LogisticRegression(C=1.0, class_weight=None, dual=False,\n",
              "                                          fit_intercept=True,\n",
              "                                          intercept_scaling=1, l1_ratio=None,\n",
              "                                          max_iter=100, multi_class='auto',\n",
              "                                          n_jobs=None, penalty='l2',\n",
              "                                          random_state=None, solver='lbfgs',\n",
              "                                          tol=0.0001, verbose=0,\n",
              "                                          warm_start=False),\n",
              "             iid='deprecated', n_jobs=-1,\n",
              "             param_grid={'C': array([1.00000000e-04, 1.456...\n",
              "       1.67683294e+01, 2.44205309e+01, 3.55648031e+01, 5.17947468e+01,\n",
              "       7.54312006e+01, 1.09854114e+02, 1.59985872e+02, 2.32995181e+02,\n",
              "       3.39322177e+02, 4.94171336e+02, 7.19685673e+02, 1.04811313e+03,\n",
              "       1.52641797e+03, 2.22299648e+03, 3.23745754e+03, 4.71486636e+03,\n",
              "       6.86648845e+03, 1.00000000e+04]),\n",
              "                         'penalty': array(['l1', 'l2'], dtype='<U2')},\n",
              "             pre_dispatch='2*n_jobs', refit=True, return_train_score=False,\n",
              "             scoring=None, verbose=2)"
            ]
          },
          "metadata": {
            "tags": []
          },
          "execution_count": 217
        }
      ]
    },
    {
      "cell_type": "code",
      "metadata": {
        "colab": {
          "base_uri": "https://localhost:8080/"
        },
        "id": "AEIy1pDu19Ai",
        "outputId": "0932c315-7015-4db7-ff93-4d5a824edee0"
      },
      "source": [
        "model_reglog_grid_3_best = model_reglog_grid_3.best_estimator_\r\n",
        "print('Mejor modelo: ')\r\n",
        "pprint(model_reglog_grid_3_best)\r\n",
        "print()\r\n",
        "\r\n",
        "print('Los hiperparámetros del mejor modelo son:')\r\n",
        "pprint(model_reglog_grid_3.best_params_)\r\n",
        "print()\r\n",
        "\r\n",
        "print('Accuracy luego de búsqueda en grilla en entrenamiento:', model_reglog_grid_3_best.score(X_bal_smt_train, y_bal_smt_train))\r\n",
        "print('Accuracy luego de búsqueda en grilla en pruebas:', model_reglog_grid_3_best.score(X_bal_smt_test, y_bal_smt_test))\r\n",
        "\r\n",
        "y_pred_proba_reglog_grid_3_best_train = model_reglog_grid_3_best.predict_proba(X_bal_smt_train)[::,1]\r\n",
        "y_pred_proba_reglog_grid_3_best_test = model_reglog_grid_3_best.predict_proba(X_bal_smt_test)[::,1]\r\n",
        "\r\n",
        "print(f\"AUC luego de búsqueda en grilla en entrenamiento es: {roc_auc_score(y_bal_smt_train, y_pred_proba_reglog_grid_3_best_train)}\")\r\n",
        "print(f\"AUC luego de búsqueda en grilla en pruebas es: {roc_auc_score(y_bal_smt_test, y_pred_proba_reglog_grid_3_best_test)}\")"
      ],
      "execution_count": 219,
      "outputs": [
        {
          "output_type": "stream",
          "text": [
            "Mejor modelo: \n",
            "LogisticRegression(C=6866.488450042998, class_weight=None, dual=False,\n",
            "                   fit_intercept=True, intercept_scaling=1, l1_ratio=None,\n",
            "                   max_iter=100, multi_class='auto', n_jobs=None, penalty='l2',\n",
            "                   random_state=None, solver='lbfgs', tol=0.0001, verbose=0,\n",
            "                   warm_start=False)\n",
            "\n",
            "Los hiperparámetros del mejor modelo son:\n",
            "{'C': 6866.488450042998, 'penalty': 'l2'}\n",
            "\n",
            "Accuracy luego de búsqueda en grilla en entrenamiento: 0.5917345189629312\n",
            "Accuracy luego de búsqueda en grilla en pruebas: 0.5955646025283908\n",
            "AUC luego de búsqueda en grilla en entrenamiento es: 0.6563911085080135\n",
            "AUC luego de búsqueda en grilla en pruebas es: 0.6599177609325313\n"
          ],
          "name": "stdout"
        }
      ]
    },
    {
      "cell_type": "code",
      "metadata": {
        "colab": {
          "base_uri": "https://localhost:8080/"
        },
        "id": "GbfacKil3drs",
        "outputId": "5ebcb2d9-278b-4da8-c884-42c6aba61c88"
      },
      "source": [
        "fpr_regloggridbest3_train, tpr_regloggridbest3_train, thr_regloggridbest3_train = metrics.roc_curve(y_bal_smt_train, y_pred_proba_reglog_grid_3_best_train)\r\n",
        "fpr_regloggridbest3_test, tpr_regloggridbest3_test, thr_regloggridbest3_test = metrics.roc_curve(y_bal_smt_test, y_pred_proba_reglog_grid_3_best_test)\r\n",
        "roc_auc_regloggridbest3_train = auc(fpr_regloggridbest3_train, tpr_regloggridbest3_train)\r\n",
        "roc_auc_regloggridbest3_test = auc(fpr_regloggridbest3_test, tpr_regloggridbest3_test)\r\n",
        "\r\n",
        "print('Training AUC =', roc_auc_regloggridbest3_train)\r\n",
        "print('Validation AUC =', roc_auc_regloggridbest3_test)\r\n",
        "\r\n",
        "label_train = 'AUC Entrenamiento:' + ' {0:.6f}'.format(roc_auc_regloggridbest3_train)\r\n",
        "label_test = 'AUC Pruebas:' + ' {0:.6f}'.format(roc_auc_regloggridbest3_test)\r\n",
        "plt.plot(fpr_regloggridbest3_train, tpr_regloggridbest3_train, c = 'r', label = label_train, linewidth = 2)\r\n",
        "plt.plot(fpr_regloggridbest3_test, tpr_regloggridbest3_test, c = 'b', label = label_test, linewidth = 2)\r\n",
        "plt.plot([0,1], [0,1], color='orange', linestyle='--')\r\n",
        "plt.xlabel('False Positive Rate', fontsize = 16)\r\n",
        "plt.ylabel('True Positive Rate', fontsize = 16)\r\n",
        "plt.title('Curva ROC / Area AUC - Regresion Logistica', fontsize = 16)\r\n",
        "plt.legend(loc = 'lower right', fontsize = 10)\r\n",
        "plt.show()"
      ],
      "execution_count": 220,
      "outputs": [
        {
          "output_type": "stream",
          "text": [
            "Training AUC = 0.6563911085080135\n",
            "Validation AUC = 0.6599177609325313\n"
          ],
          "name": "stdout"
        }
      ]
    },
    {
      "cell_type": "markdown",
      "metadata": {
        "id": "ksojBHyQROK-"
      },
      "source": [
        "## **4.2 ÁRBOL DE DECISIÓN**"
      ]
    },
    {
      "cell_type": "code",
      "metadata": {
        "id": "t_bgry17RWyd"
      },
      "source": [
        "model_tree = DecisionTreeClassifier(class_weight='balanced',random_state=0)"
      ],
      "execution_count": 240,
      "outputs": []
    },
    {
      "cell_type": "code",
      "metadata": {
        "colab": {
          "base_uri": "https://localhost:8080/"
        },
        "id": "6fVriMhPKPkS",
        "outputId": "9716f1fc-96f0-43b2-8f79-855c04494dbb"
      },
      "source": [
        "#from pprint import pprint\r\n",
        "n_kfolds = 5\r\n",
        "max_depth = [x for x in range(1, 40, 5)]\r\n",
        "min_samples_leaf = [x for x in range(1, 40, 5)]\r\n",
        "min_samples_split = [x for x in range(2, 80, 5)]\r\n",
        "#n_estimators = [x for x in range(100, 400, 50)]\r\n",
        "max_features = [x for x in range(1, 20, 2)]\r\n",
        "\r\n",
        "grid = {\r\n",
        "        'max_depth': max_depth,\r\n",
        "        'min_samples_leaf': min_samples_leaf,\r\n",
        "        'min_samples_split': min_samples_split,\r\n",
        "         #'n_estimators': n_estimators,\r\n",
        "        'max_features': max_features\r\n",
        "        }\r\n",
        "\r\n",
        "print('Los valores a probar en la búsqueda por grilla son:')\r\n",
        "print(grid)"
      ],
      "execution_count": 241,
      "outputs": [
        {
          "output_type": "stream",
          "text": [
            "Los valores a probar en la búsqueda por grilla son:\n",
            "{'max_depth': [1, 6, 11, 16, 21, 26, 31, 36], 'min_samples_leaf': [1, 6, 11, 16, 21, 26, 31, 36], 'min_samples_split': [2, 7, 12, 17, 22, 27, 32, 37, 42, 47, 52, 57, 62, 67, 72, 77], 'max_features': [1, 3, 5, 7, 9, 11, 13, 15, 17, 19]}\n"
          ],
          "name": "stdout"
        }
      ]
    },
    {
      "cell_type": "code",
      "metadata": {
        "colab": {
          "base_uri": "https://localhost:8080/"
        },
        "id": "-DvqtJXpKS3K",
        "outputId": "37e1f069-c860-414a-a966-f2c7c63a687e"
      },
      "source": [
        "model_dt_grid = GridSearchCV(estimator = model_tree, \r\n",
        "                        param_grid = grid, \r\n",
        "                        cv = n_kfolds,          # Nro Grupos para Validación Cruzada\r\n",
        "                        verbose=2, \r\n",
        "                        n_jobs = -1      # Paralelizar en todos los cores disponibles\r\n",
        "                        )\r\n",
        "model_dt_grid.fit(X_bal_smt_train, y_bal_smt_train)"
      ],
      "execution_count": 242,
      "outputs": [
        {
          "output_type": "stream",
          "text": [
            "Fitting 5 folds for each of 10240 candidates, totalling 51200 fits\n"
          ],
          "name": "stdout"
        },
        {
          "output_type": "stream",
          "text": [
            "[Parallel(n_jobs=-1)]: Using backend LokyBackend with 2 concurrent workers.\n",
            "[Parallel(n_jobs=-1)]: Done 128 tasks      | elapsed:    3.1s\n",
            "[Parallel(n_jobs=-1)]: Done 612 tasks      | elapsed:   13.9s\n",
            "[Parallel(n_jobs=-1)]: Done 1424 tasks      | elapsed:   34.3s\n",
            "[Parallel(n_jobs=-1)]: Done 2556 tasks      | elapsed:  1.1min\n",
            "[Parallel(n_jobs=-1)]: Done 4016 tasks      | elapsed:  1.8min\n",
            "[Parallel(n_jobs=-1)]: Done 5796 tasks      | elapsed:  2.9min\n",
            "[Parallel(n_jobs=-1)]: Done 7904 tasks      | elapsed:  4.1min\n",
            "[Parallel(n_jobs=-1)]: Done 10332 tasks      | elapsed:  6.4min\n",
            "[Parallel(n_jobs=-1)]: Done 13088 tasks      | elapsed: 10.2min\n",
            "[Parallel(n_jobs=-1)]: Done 16164 tasks      | elapsed: 13.2min\n",
            "[Parallel(n_jobs=-1)]: Done 18323 tasks      | elapsed: 17.2min\n",
            "[Parallel(n_jobs=-1)]: Done 19290 tasks      | elapsed: 19.2min\n",
            "[Parallel(n_jobs=-1)]: Done 23186 tasks      | elapsed: 23.7min\n",
            "[Parallel(n_jobs=-1)]: Done 24672 tasks      | elapsed: 26.9min\n",
            "[Parallel(n_jobs=-1)]: Done 26244 tasks      | elapsed: 29.5min\n",
            "[Parallel(n_jobs=-1)]: Done 29932 tasks      | elapsed: 34.6min\n",
            "[Parallel(n_jobs=-1)]: Done 31269 tasks      | elapsed: 37.6min\n",
            "[Parallel(n_jobs=-1)]: Done 34484 tasks      | elapsed: 41.6min\n",
            "[Parallel(n_jobs=-1)]: Done 37039 tasks      | elapsed: 46.2min\n",
            "[Parallel(n_jobs=-1)]: Done 39012 tasks      | elapsed: 49.9min\n",
            "[Parallel(n_jobs=-1)]: Done 43139 tasks      | elapsed: 55.8min\n",
            "[Parallel(n_jobs=-1)]: Done 44880 tasks      | elapsed: 60.0min\n",
            "[Parallel(n_jobs=-1)]: Done 49545 tasks      | elapsed: 66.2min\n",
            "[Parallel(n_jobs=-1)]: Done 51200 out of 51200 | elapsed: 70.2min finished\n"
          ],
          "name": "stderr"
        },
        {
          "output_type": "execute_result",
          "data": {
            "text/plain": [
              "GridSearchCV(cv=5, error_score=nan,\n",
              "             estimator=DecisionTreeClassifier(ccp_alpha=0.0,\n",
              "                                              class_weight='balanced',\n",
              "                                              criterion='gini', max_depth=None,\n",
              "                                              max_features=None,\n",
              "                                              max_leaf_nodes=None,\n",
              "                                              min_impurity_decrease=0.0,\n",
              "                                              min_impurity_split=None,\n",
              "                                              min_samples_leaf=1,\n",
              "                                              min_samples_split=2,\n",
              "                                              min_weight_fraction_leaf=0.0,\n",
              "                                              presort='deprecated',\n",
              "                                              random_state=0, splitter='best'),\n",
              "             iid='deprecated', n_jobs=-1,\n",
              "             param_grid={'max_depth': [1, 6, 11, 16, 21, 26, 31, 36],\n",
              "                         'max_features': [1, 3, 5, 7, 9, 11, 13, 15, 17, 19],\n",
              "                         'min_samples_leaf': [1, 6, 11, 16, 21, 26, 31, 36],\n",
              "                         'min_samples_split': [2, 7, 12, 17, 22, 27, 32, 37, 42,\n",
              "                                               47, 52, 57, 62, 67, 72, 77]},\n",
              "             pre_dispatch='2*n_jobs', refit=True, return_train_score=False,\n",
              "             scoring=None, verbose=2)"
            ]
          },
          "metadata": {
            "tags": []
          },
          "execution_count": 242
        }
      ]
    },
    {
      "cell_type": "code",
      "metadata": {
        "colab": {
          "base_uri": "https://localhost:8080/"
        },
        "id": "BeUu_tsBKZAW",
        "outputId": "53a4c8f8-f587-4934-d422-dc824f717fec"
      },
      "source": [
        "model_dt_grid_best = model_dt_grid.best_estimator_\r\n",
        "print('Mejor modelo: ')\r\n",
        "print(model_dt_grid_best)\r\n",
        "print()\r\n",
        "\r\n",
        "print('Los hiperparámetros del mejor modelo son:')\r\n",
        "print(model_dt_grid.best_params_)\r\n",
        "print()\r\n",
        "\r\n",
        "# mejor parametros\r\n",
        "#max_depth_best = model_dt_grid_best.max_depth\r\n",
        "\r\n",
        "print('Accuracy luego de búsqueda en grilla en entrenamiento:', model_dt_grid_best.score(X_bal_smt_train, y_bal_smt_train))\r\n",
        "print('Accuracy luego de búsqueda en grilla en validación:', model_dt_grid_best.score(X_bal_smt_test, y_bal_smt_test))\r\n",
        "\r\n",
        "y_pred_proba_train_tree_best = model_dt_grid_best.predict_proba(X_bal_smt_train)[::,1]\r\n",
        "y_pred_proba_test_tree_best = model_dt_grid_best.predict_proba(X_bal_smt_test)[::,1]\r\n",
        "\r\n",
        "print(f\"AUC luego de búsqueda en grilla en entrenamiento es: {roc_auc_score(y_bal_smt_train, y_pred_proba_train_tree_best)}\")\r\n",
        "print(f\"AUC luego de búsqueda en grilla en validación es: {roc_auc_score(y_bal_smt_test, y_pred_proba_test_tree_best)}\")"
      ],
      "execution_count": 243,
      "outputs": [
        {
          "output_type": "stream",
          "text": [
            "Mejor modelo: \n",
            "DecisionTreeClassifier(ccp_alpha=0.0, class_weight='balanced', criterion='gini',\n",
            "                       max_depth=11, max_features=19, max_leaf_nodes=None,\n",
            "                       min_impurity_decrease=0.0, min_impurity_split=None,\n",
            "                       min_samples_leaf=1, min_samples_split=2,\n",
            "                       min_weight_fraction_leaf=0.0, presort='deprecated',\n",
            "                       random_state=0, splitter='best')\n",
            "\n",
            "Los hiperparámetros del mejor modelo son:\n",
            "{'max_depth': 11, 'max_features': 19, 'min_samples_leaf': 1, 'min_samples_split': 2}\n",
            "\n",
            "Accuracy luego de búsqueda en grilla en entrenamiento: 0.8303246196700236\n",
            "Accuracy luego de búsqueda en grilla en validación: 0.7611956288836512\n",
            "AUC luego de búsqueda en grilla en entrenamiento es: 0.9110644671689019\n",
            "AUC luego de búsqueda en grilla en validación es: 0.808387825675986\n"
          ],
          "name": "stdout"
        }
      ]
    },
    {
      "cell_type": "code",
      "metadata": {
        "colab": {
          "base_uri": "https://localhost:8080/"
        },
        "id": "7tn5zVvJKtAF",
        "outputId": "76fcf76b-4c3e-4ae1-ae20-f2cc29289edb"
      },
      "source": [
        "# CURVA AUC\r\n",
        "fpr_train_dtbest, tpr_train_dtbest, thr_train_dtbest = metrics.roc_curve(y_bal_smt_train, y_pred_proba_train_tree_best)\r\n",
        "fpr_valid_dtbest, tpr_valid_dtbest, thr_valid_dtbest = metrics.roc_curve(y_bal_smt_test, y_pred_proba_test_tree_best)\r\n",
        "roc_auc_train_dtbest = auc(fpr_train_dtbest, tpr_train_dtbest)\r\n",
        "roc_auc_valid_dtbest = auc(fpr_valid_dtbest, tpr_valid_dtbest)\r\n",
        "\r\n",
        "print('Training AUC =', roc_auc_train_dtbest)\r\n",
        "print('Validation AUC =', roc_auc_valid_dtbest)\r\n",
        "\r\n",
        "label_train = 'AUC Entrenamiento:' + ' {0:.6f}'.format(roc_auc_train_dtbest)\r\n",
        "label_valid = 'AUC Validación:' + ' {0:.6f}'.format(roc_auc_valid_dtbest)\r\n",
        "plt.plot(fpr_train_dtbest, tpr_train_dtbest, c = 'r', label = label_train, linewidth = 2)\r\n",
        "plt.plot(fpr_valid_dtbest, tpr_valid_dtbest, c = 'b', label = label_valid, linewidth = 2)\r\n",
        "plt.plot([0,1], [0,1], color='orange', linestyle='--')\r\n",
        "plt.xlabel('False Positive Rate', fontsize = 16)\r\n",
        "plt.ylabel('True Positive Rate', fontsize = 16)\r\n",
        "plt.title('Curva ROC / Area AUC - Arbol de Decision', fontsize = 16)\r\n",
        "plt.legend(loc = 'lower right', fontsize = 10)"
      ],
      "execution_count": 273,
      "outputs": [
        {
          "output_type": "stream",
          "text": [
            "Training AUC = 0.9110644671689019\n",
            "Validation AUC = 0.808387825675986\n"
          ],
          "name": "stdout"
        },
        {
          "output_type": "execute_result",
          "data": {
            "text/plain": [
              "<matplotlib.legend.Legend at 0x7fb313141b38>"
            ]
          },
          "metadata": {
            "tags": []
          },
          "execution_count": 273
        }
      ]
    },
    {
      "cell_type": "markdown",
      "metadata": {
        "id": "BoU4_DgmRXPI"
      },
      "source": [
        "## **4.3 RANDOM FOREST**"
      ]
    },
    {
      "cell_type": "code",
      "metadata": {
        "id": "Cap6E3BIRZNi"
      },
      "source": [
        "from sklearn.ensemble import RandomForestClassifier\r\n",
        "model_rndForest = RandomForestClassifier(random_state=0)"
      ],
      "execution_count": 245,
      "outputs": []
    },
    {
      "cell_type": "code",
      "metadata": {
        "id": "j1qbm6c1LPg-"
      },
      "source": [
        "grid_forest = { \r\n",
        "    'n_estimators': [4,5,6,7,8],\r\n",
        "    'max_features': ['auto', 'sqrt', 'log2'],\r\n",
        "    'max_depth' : [4,5,6,7,8],\r\n",
        "    'criterion' :['gini', 'entropy']\r\n",
        "}"
      ],
      "execution_count": 246,
      "outputs": []
    },
    {
      "cell_type": "code",
      "metadata": {
        "colab": {
          "base_uri": "https://localhost:8080/"
        },
        "id": "U8z067-DLRyr",
        "outputId": "678b5aad-04ae-4d15-b43b-ada77185df13"
      },
      "source": [
        "model_dt_grid_forest = GridSearchCV(estimator=model_rndForest, \r\n",
        "                                    param_grid=grid_forest, cv= 5,verbose=2, \r\n",
        "                                    n_jobs = -1)\r\n",
        "model_dt_grid_forest.fit(X_bal_smt_train, y_bal_smt_train)"
      ],
      "execution_count": 247,
      "outputs": [
        {
          "output_type": "stream",
          "text": [
            "Fitting 5 folds for each of 150 candidates, totalling 750 fits\n"
          ],
          "name": "stdout"
        },
        {
          "output_type": "stream",
          "text": [
            "[Parallel(n_jobs=-1)]: Using backend LokyBackend with 2 concurrent workers.\n",
            "[Parallel(n_jobs=-1)]: Done  37 tasks      | elapsed:    4.8s\n",
            "[Parallel(n_jobs=-1)]: Done 158 tasks      | elapsed:   22.0s\n",
            "[Parallel(n_jobs=-1)]: Done 361 tasks      | elapsed:   58.1s\n",
            "[Parallel(n_jobs=-1)]: Done 644 tasks      | elapsed:  1.9min\n",
            "[Parallel(n_jobs=-1)]: Done 750 out of 750 | elapsed:  2.3min finished\n"
          ],
          "name": "stderr"
        },
        {
          "output_type": "execute_result",
          "data": {
            "text/plain": [
              "GridSearchCV(cv=5, error_score=nan,\n",
              "             estimator=RandomForestClassifier(bootstrap=True, ccp_alpha=0.0,\n",
              "                                              class_weight=None,\n",
              "                                              criterion='gini', max_depth=None,\n",
              "                                              max_features='auto',\n",
              "                                              max_leaf_nodes=None,\n",
              "                                              max_samples=None,\n",
              "                                              min_impurity_decrease=0.0,\n",
              "                                              min_impurity_split=None,\n",
              "                                              min_samples_leaf=1,\n",
              "                                              min_samples_split=2,\n",
              "                                              min_weight_fraction_leaf=0.0,\n",
              "                                              n_estimators=100, n_jobs=None,\n",
              "                                              oob_score=False, random_state=0,\n",
              "                                              verbose=0, warm_start=False),\n",
              "             iid='deprecated', n_jobs=-1,\n",
              "             param_grid={'criterion': ['gini', 'entropy'],\n",
              "                         'max_depth': [4, 5, 6, 7, 8],\n",
              "                         'max_features': ['auto', 'sqrt', 'log2'],\n",
              "                         'n_estimators': [4, 5, 6, 7, 8]},\n",
              "             pre_dispatch='2*n_jobs', refit=True, return_train_score=False,\n",
              "             scoring=None, verbose=2)"
            ]
          },
          "metadata": {
            "tags": []
          },
          "execution_count": 247
        }
      ]
    },
    {
      "cell_type": "code",
      "metadata": {
        "colab": {
          "base_uri": "https://localhost:8080/"
        },
        "id": "J7PFsZS2LUfb",
        "outputId": "827a72f8-fbdc-4be5-f625-2c8021f11279"
      },
      "source": [
        "model_grid_forest_best = model_dt_grid_forest.best_estimator_\r\n",
        "print('Mejor modelo: ')\r\n",
        "print(model_grid_forest_best)\r\n",
        "print()\r\n",
        "\r\n",
        "print('Los hiperparámetros del mejor modelo son:')\r\n",
        "print(model_grid_forest_best.estimator_params)\r\n",
        "print()\r\n",
        "\r\n",
        "# mejor parametros\r\n",
        "#max_depth_best = model_dt_grid_best.max_depth\r\n",
        "\r\n",
        "print('Accuracy luego de búsqueda en grilla en entrenamiento:', model_grid_forest_best.score(X_bal_smt_train, y_bal_smt_train))\r\n",
        "print('Accuracy luego de búsqueda en grilla en validación:', model_grid_forest_best.score(X_bal_smt_test, y_bal_smt_test))\r\n",
        "\r\n",
        "y_pred_proba_train_forest_best = model_grid_forest_best.predict_proba(X_bal_smt_train)[::,1]\r\n",
        "y_pred_proba_test_forest_best = model_grid_forest_best.predict_proba(X_bal_smt_test)[::,1]\r\n",
        "\r\n",
        "print(f\"AUC luego de búsqueda en grilla en entrenamiento es: {roc_auc_score(y_bal_smt_train, y_pred_proba_train_forest_best)}\")\r\n",
        "print(f\"AUC luego de búsqueda en grilla en validación es: {roc_auc_score(y_bal_smt_test, y_pred_proba_test_forest_best)}\")"
      ],
      "execution_count": 248,
      "outputs": [
        {
          "output_type": "stream",
          "text": [
            "Mejor modelo: \n",
            "RandomForestClassifier(bootstrap=True, ccp_alpha=0.0, class_weight=None,\n",
            "                       criterion='entropy', max_depth=8, max_features='auto',\n",
            "                       max_leaf_nodes=None, max_samples=None,\n",
            "                       min_impurity_decrease=0.0, min_impurity_split=None,\n",
            "                       min_samples_leaf=1, min_samples_split=2,\n",
            "                       min_weight_fraction_leaf=0.0, n_estimators=7,\n",
            "                       n_jobs=None, oob_score=False, random_state=0, verbose=0,\n",
            "                       warm_start=False)\n",
            "\n",
            "Los hiperparámetros del mejor modelo son:\n",
            "('criterion', 'max_depth', 'min_samples_split', 'min_samples_leaf', 'min_weight_fraction_leaf', 'max_features', 'max_leaf_nodes', 'min_impurity_decrease', 'min_impurity_split', 'random_state', 'ccp_alpha')\n",
            "\n",
            "Accuracy luego de búsqueda en grilla en entrenamiento: 0.8028176558817227\n",
            "Accuracy luego de búsqueda en grilla en validación: 0.7831583458324406\n",
            "AUC luego de búsqueda en grilla en entrenamiento es: 0.8808416348386883\n",
            "AUC luego de búsqueda en grilla en validación es: 0.8567334648278131\n"
          ],
          "name": "stdout"
        }
      ]
    },
    {
      "cell_type": "code",
      "metadata": {
        "colab": {
          "base_uri": "https://localhost:8080/"
        },
        "id": "XXW01ElQLYUQ",
        "outputId": "a7409426-2e40-4dc4-8aff-61040a33d8a3"
      },
      "source": [
        "# CURVA AUC\r\n",
        "fpr_train_rfbest, tpr_train_rfbest, thr_train_rfbest = metrics.roc_curve(y_bal_smt_train, y_pred_proba_train_forest_best)\r\n",
        "fpr_valid_rfbest, tpr_valid_rfbest, thr_valid_rfbest = metrics.roc_curve(y_bal_smt_test, y_pred_proba_test_forest_best)\r\n",
        "roc_auc_train_rfbest = auc(fpr_train_rfbest, tpr_train_rfbest)\r\n",
        "roc_auc_valid_rfbest = auc(fpr_valid_rfbest, tpr_valid_rfbest)\r\n",
        "\r\n",
        "print('Training AUC =', roc_auc_train_rfbest)\r\n",
        "print('Validation AUC =', roc_auc_valid_rfbest)\r\n",
        "\r\n",
        "label_train = 'AUC Entrenamiento:' + ' {0:.6f}'.format(roc_auc_train_rfbest)\r\n",
        "label_valid = 'AUC Validación:' + ' {0:.6f}'.format(roc_auc_valid_rfbest)\r\n",
        "plt.plot(fpr_train_rfbest, tpr_train_rfbest, c = 'r', label = label_train, linewidth = 2)\r\n",
        "plt.plot(fpr_valid_rfbest, tpr_valid_rfbest, c = 'b', label = label_valid, linewidth = 2)\r\n",
        "plt.plot([0,1], [0,1], color='orange', linestyle='--')\r\n",
        "plt.xlabel('False Positive Rate', fontsize = 16)\r\n",
        "plt.ylabel('True Positive Rate', fontsize = 16)\r\n",
        "plt.title('Curva ROC / Area AUC - Arbol de Decision', fontsize = 16)\r\n",
        "plt.legend(loc = 'lower right', fontsize = 10)"
      ],
      "execution_count": 256,
      "outputs": [
        {
          "output_type": "stream",
          "text": [
            "Training AUC = 0.8808416348386883\n",
            "Validation AUC = 0.8567334648278131\n"
          ],
          "name": "stdout"
        },
        {
          "output_type": "execute_result",
          "data": {
            "text/plain": [
              "<matplotlib.legend.Legend at 0x7fb31554b710>"
            ]
          },
          "metadata": {
            "tags": []
          },
          "execution_count": 256
        }
      ]
    },
    {
      "cell_type": "markdown",
      "metadata": {
        "id": "LJdBLwJKRZlT"
      },
      "source": [
        "## **4.4 LIGHT GBM**"
      ]
    },
    {
      "cell_type": "markdown",
      "metadata": {
        "id": "BnfkaI1i-YOs"
      },
      "source": [
        "### **4.4.1 Usando variables predictoras sin escalar**"
      ]
    },
    {
      "cell_type": "code",
      "metadata": {
        "id": "IizCQbwvRd89"
      },
      "source": [
        "import lightgbm as lgb\r\n",
        "\r\n",
        "# Instanciar el modelo\r\n",
        "model_lightgbm_0 = lgb.LGBMClassifier()\r\n",
        "\r\n",
        "# Entrenamiento del modelo\r\n",
        "model_lightgbm_0.fit(X_train, y_train)\r\n",
        "\r\n",
        "# Predicción de la clase\r\n",
        "y_pred_lightgbm0_train = model_lightgbm_0.predict(X_train)\r\n",
        "y_pred_lightgbm0_test = model_lightgbm_0.predict(X_test)\r\n",
        "\r\n",
        "# Predicción de la probabilidad\r\n",
        "y_pred_proba_lightgbm0_train = model_lightgbm_0.predict_proba(X_train)[:,1]\r\n",
        "y_pred_proba_lightgbm0_test = model_lightgbm_0.predict_proba(X_test)[:,1]"
      ],
      "execution_count": 221,
      "outputs": []
    },
    {
      "cell_type": "code",
      "metadata": {
        "colab": {
          "base_uri": "https://localhost:8080/"
        },
        "id": "EzOVKV9-9x1R",
        "outputId": "22e2692f-f6a4-483d-dca7-0926cd050da9"
      },
      "source": [
        "from sklearn.metrics import accuracy_score\r\n",
        "\r\n",
        "# Métrica Accuracy / AUC en Hold-Out\r\n",
        "print('Accuracy Train: ', model_lightgbm_0.score(X_train, y_train))\r\n",
        "print('Accuracy Test: ', accuracy_score(y_test, y_pred_lightgbm0_test))\r\n",
        "print('AUC Train: ', roc_auc_score(y_train, y_pred_lightgbm0_train))\r\n",
        "print('AUC Test: ', roc_auc_score(y_test, y_pred_lightgbm0_test))"
      ],
      "execution_count": 222,
      "outputs": [
        {
          "output_type": "stream",
          "text": [
            "Accuracy Train:  0.8452778241281496\n",
            "Accuracy Test:  0.8202903387285166\n",
            "AUC Train:  0.6978674317380692\n",
            "AUC Test:  0.6600263846700026\n"
          ],
          "name": "stdout"
        }
      ]
    },
    {
      "cell_type": "code",
      "metadata": {
        "colab": {
          "base_uri": "https://localhost:8080/"
        },
        "id": "l8FVGAfF-BsG",
        "outputId": "5f872d63-24e4-4dd9-dc90-acbf8a8550e8"
      },
      "source": [
        "from sklearn.model_selection import cross_val_score\r\n",
        "import warnings\r\n",
        "warnings.filterwarnings('ignore')\r\n",
        "\r\n",
        "# Métrica Accuracy / AUC en Cross Validation K-Folds\r\n",
        "n_knnfolds = 5\r\n",
        "print('Accuracy Prom.: ', np.mean(cross_val_score(model_lightgbm_0, X_train, y_train, scoring='accuracy', cv=n_knnfolds)))\r\n",
        "print('AUC Prom.: ', np.mean(cross_val_score(model_lightgbm_0, X_train, y_train, scoring='roc_auc', cv=n_knnfolds)))"
      ],
      "execution_count": 223,
      "outputs": [
        {
          "output_type": "stream",
          "text": [
            "Accuracy Prom.:  0.8204989813909723\n",
            "AUC Prom.:  0.7811178887792678\n"
          ],
          "name": "stdout"
        }
      ]
    },
    {
      "cell_type": "code",
      "metadata": {
        "colab": {
          "base_uri": "https://localhost:8080/"
        },
        "id": "rgiTTy-j-UHi",
        "outputId": "e2eee16f-66e4-45ba-eec4-40331519cae1"
      },
      "source": [
        "from sklearn.model_selection import GridSearchCV\r\n",
        "from scipy.stats import randint as sp_randint\r\n",
        "from scipy.stats import uniform as sp_uniform\r\n",
        "\r\n",
        "# Especificando parametros\r\n",
        "hiperparametros = {\r\n",
        "                'learning_rate': np.logspace(-4, 4, 8),\r\n",
        "                'max_depth': np.array([25, 50 ,100, 500, 1000]),\r\n",
        "                'num_leaves': np.array([8, 16, 32, 64, 128]),\r\n",
        "                'feature_fraction': np.array([0.2, 0.4, 0.6, 0.8])\r\n",
        "                #'subsample': np.array([0.2, 0.4, 0.6, 0.8])\r\n",
        "                  }\r\n",
        "\r\n",
        "print('Los valores a probar en la búsqueda por grilla son:')\r\n",
        "pprint(hiperparametros)\r\n",
        "\r\n",
        "print()\r\n",
        "print('Si se probara todas las combinaciones se requeriría entrenar', \r\n",
        "      len(hiperparametros['learning_rate']) *\r\n",
        "      len(hiperparametros['max_depth']) *\r\n",
        "      len(hiperparametros['num_leaves']) *\r\n",
        "      len(hiperparametros['feature_fraction']),\r\n",
        "      'modelos'\r\n",
        "      )"
      ],
      "execution_count": 231,
      "outputs": [
        {
          "output_type": "stream",
          "text": [
            "Los valores a probar en la búsqueda por grilla son:\n",
            "{'feature_fraction': array([0.2, 0.4, 0.6, 0.8]),\n",
            " 'learning_rate': array([1.00000000e-04, 1.38949549e-03, 1.93069773e-02, 2.68269580e-01,\n",
            "       3.72759372e+00, 5.17947468e+01, 7.19685673e+02, 1.00000000e+04]),\n",
            " 'max_depth': array([  25,   50,  100,  500, 1000]),\n",
            " 'num_leaves': array([  8,  16,  32,  64, 128])}\n",
            "\n",
            "Si se probara todas las combinaciones se requeriría entrenar 800 modelos\n"
          ],
          "name": "stdout"
        }
      ]
    },
    {
      "cell_type": "code",
      "metadata": {
        "colab": {
          "base_uri": "https://localhost:8080/"
        },
        "id": "Ak2TgQJj-dLA",
        "outputId": "73dc2e14-e50a-48d8-fce0-213470f62328"
      },
      "source": [
        "# Instanciar el modelo\r\n",
        "model_lightgbm_grid_1 = GridSearchCV(lgb.LGBMClassifier(), # modelo\r\n",
        "                                   hiperparametros, # hiperparametros\r\n",
        "                                   verbose=2, # mostrar procesamiento de GridSearchCV\r\n",
        "                                   n_jobs=-1, # paralelizar en todos los cores disponibles\r\n",
        "                                   cv=5) # numero de k-folds o grupos para validación cruzada\r\n",
        "\r\n",
        "# Entrenamiento del modelo\r\n",
        "model_lightgbm_grid_1.fit(X_train, y_train)"
      ],
      "execution_count": 232,
      "outputs": [
        {
          "output_type": "stream",
          "text": [
            "Fitting 5 folds for each of 800 candidates, totalling 4000 fits\n"
          ],
          "name": "stdout"
        },
        {
          "output_type": "stream",
          "text": [
            "[Parallel(n_jobs=-1)]: Using backend LokyBackend with 2 concurrent workers.\n",
            "[Parallel(n_jobs=-1)]: Done  37 tasks      | elapsed:   13.7s\n",
            "[Parallel(n_jobs=-1)]: Done 158 tasks      | elapsed:   55.8s\n",
            "[Parallel(n_jobs=-1)]: Done 361 tasks      | elapsed:  2.1min\n",
            "[Parallel(n_jobs=-1)]: Done 644 tasks      | elapsed:  3.2min\n",
            "[Parallel(n_jobs=-1)]: Done 1009 tasks      | elapsed:  4.2min\n",
            "[Parallel(n_jobs=-1)]: Done 1454 tasks      | elapsed:  7.6min\n",
            "[Parallel(n_jobs=-1)]: Done 1981 tasks      | elapsed:  9.3min\n",
            "[Parallel(n_jobs=-1)]: Done 2588 tasks      | elapsed: 14.2min\n",
            "[Parallel(n_jobs=-1)]: Done 3277 tasks      | elapsed: 18.6min\n",
            "[Parallel(n_jobs=-1)]: Done 4000 out of 4000 | elapsed: 22.6min finished\n"
          ],
          "name": "stderr"
        },
        {
          "output_type": "execute_result",
          "data": {
            "text/plain": [
              "GridSearchCV(cv=5, error_score=nan,\n",
              "             estimator=LGBMClassifier(boosting_type='gbdt', class_weight=None,\n",
              "                                      colsample_bytree=1.0,\n",
              "                                      importance_type='split',\n",
              "                                      learning_rate=0.1, max_depth=-1,\n",
              "                                      min_child_samples=20,\n",
              "                                      min_child_weight=0.001,\n",
              "                                      min_split_gain=0.0, n_estimators=100,\n",
              "                                      n_jobs=-1, num_leaves=31, objective=None,\n",
              "                                      random_state=None, reg_alpha=0.0,\n",
              "                                      reg_lambda=0.0, silent=Tru...\n",
              "             param_grid={'feature_fraction': array([0.2, 0.4, 0.6, 0.8]),\n",
              "                         'learning_rate': array([1.00000000e-04, 1.38949549e-03, 1.93069773e-02, 2.68269580e-01,\n",
              "       3.72759372e+00, 5.17947468e+01, 7.19685673e+02, 1.00000000e+04]),\n",
              "                         'max_depth': array([  25,   50,  100,  500, 1000]),\n",
              "                         'num_leaves': array([  8,  16,  32,  64, 128])},\n",
              "             pre_dispatch='2*n_jobs', refit=True, return_train_score=False,\n",
              "             scoring=None, verbose=2)"
            ]
          },
          "metadata": {
            "tags": []
          },
          "execution_count": 232
        }
      ]
    },
    {
      "cell_type": "code",
      "metadata": {
        "colab": {
          "base_uri": "https://localhost:8080/"
        },
        "id": "c2fmw2ZW-gth",
        "outputId": "ad7f299e-62b5-4589-9565-4cb47f152e41"
      },
      "source": [
        "model_lightgbm_grid_1_best = model_lightgbm_grid_1.best_estimator_\r\n",
        "print('Mejor modelo: ')\r\n",
        "pprint(model_lightgbm_grid_1_best)\r\n",
        "print()\r\n",
        "\r\n",
        "print('Los hiperparámetros del mejor modelo son:')\r\n",
        "pprint(model_lightgbm_grid_1.best_params_)\r\n",
        "print()\r\n",
        "\r\n",
        "print('Accuracy luego de búsqueda en grilla en entrenamiento:', model_lightgbm_grid_1_best.score(X_train, y_train))\r\n",
        "print('Accuracy luego de búsqueda en grilla en pruebas:', model_lightgbm_grid_1_best.score(X_test, y_test))\r\n",
        "\r\n",
        "y_pred_proba_lighthbm_grid_1_best_train = model_lightgbm_grid_1_best.predict_proba(X_train)[::,1]\r\n",
        "y_pred_proba_lighthbm_grid_1_best_test = model_lightgbm_grid_1_best.predict_proba(X_test)[::,1]\r\n",
        "\r\n",
        "print(f\"AUC luego de búsqueda en grilla en entrenamiento es: {roc_auc_score(y_train, y_pred_proba_lighthbm_grid_1_best_train)}\")\r\n",
        "print(f\"AUC luego de búsqueda en grilla en pruebas es: {roc_auc_score(y_test, y_pred_proba_lighthbm_grid_1_best_test)}\")"
      ],
      "execution_count": 260,
      "outputs": [
        {
          "output_type": "stream",
          "text": [
            "Mejor modelo: \n",
            "LGBMClassifier(boosting_type='gbdt', class_weight=None, colsample_bytree=1.0,\n",
            "               feature_fraction=0.8, importance_type='split',\n",
            "               learning_rate=0.019306977288832496, max_depth=25,\n",
            "               min_child_samples=20, min_child_weight=0.001, min_split_gain=0.0,\n",
            "               n_estimators=100, n_jobs=-1, num_leaves=64, objective=None,\n",
            "               random_state=None, reg_alpha=0.0, reg_lambda=0.0, silent=True,\n",
            "               subsample=1.0, subsample_for_bin=200000, subsample_freq=0)\n",
            "\n",
            "Los hiperparámetros del mejor modelo son:\n",
            "{'feature_fraction': 0.8,\n",
            " 'learning_rate': 0.019306977288832496,\n",
            " 'max_depth': 25,\n",
            " 'num_leaves': 64}\n",
            "\n",
            "Accuracy luego de búsqueda en grilla en entrenamiento: 0.8295928583347238\n",
            "Accuracy luego de búsqueda en grilla en pruebas: 0.8167862506257301\n",
            "AUC luego de búsqueda en grilla en entrenamiento es: 0.8478253088580292\n",
            "AUC luego de búsqueda en grilla en pruebas es: 0.7754042940048562\n"
          ],
          "name": "stdout"
        }
      ]
    },
    {
      "cell_type": "code",
      "metadata": {
        "colab": {
          "base_uri": "https://localhost:8080/"
        },
        "id": "T_E3PSstk90W",
        "outputId": "6867f286-22e7-4a76-8353-216cee46b77f"
      },
      "source": [
        "fpr_lightgbmgridbest1_train, tpr_lightgbmgridbest1_train, thr_lightgbmgridbest1_train = metrics.roc_curve(y_train, y_pred_proba_lighthbm_grid_1_best_train)\r\n",
        "fpr_lightgbmgridbest1_test, tpr_lightgbmgridbest1_test, thr_lightgbmgridbest1_test = metrics.roc_curve(y_test, y_pred_proba_lighthbm_grid_1_best_test)\r\n",
        "roc_auc_lightgbmgridbest1_train = auc(fpr_lightgbmgridbest1_train, tpr_lightgbmgridbest1_train)\r\n",
        "roc_auc_lightgbmgridbest1_test = auc(fpr_lightgbmgridbest1_test, tpr_lightgbmgridbest1_test)\r\n",
        "\r\n",
        "print('Training AUC =', roc_auc_lightgbmgridbest1_train)\r\n",
        "print('Validation AUC =', roc_auc_lightgbmgridbest1_test)\r\n",
        "\r\n",
        "label_train = 'AUC Entrenamiento:' + ' {0:.6f}'.format(roc_auc_lightgbmgridbest1_train)\r\n",
        "label_test = 'AUC Pruebas:' + ' {0:.6f}'.format(roc_auc_lightgbmgridbest1_test)\r\n",
        "plt.plot(fpr_lightgbmgridbest1_train, tpr_lightgbmgridbest1_train, c = 'r', label = label_train, linewidth = 2)\r\n",
        "plt.plot(fpr_lightgbmgridbest1_test, tpr_lightgbmgridbest1_test, c = 'b', label = label_test, linewidth = 2)\r\n",
        "plt.plot([0,1], [0,1], color='orange', linestyle='--')\r\n",
        "plt.xlabel('False Positive Rate', fontsize = 16)\r\n",
        "plt.ylabel('True Positive Rate', fontsize = 16)\r\n",
        "plt.title('Curva ROC / Area AUC - Regresion Logistica', fontsize = 16)\r\n",
        "plt.legend(loc = 'lower right', fontsize = 10)\r\n",
        "plt.show()"
      ],
      "execution_count": 262,
      "outputs": [
        {
          "output_type": "stream",
          "text": [
            "Training AUC = 0.8478253088580292\n",
            "Validation AUC = 0.7754042940048562\n"
          ],
          "name": "stdout"
        }
      ]
    },
    {
      "cell_type": "markdown",
      "metadata": {
        "id": "_woIC2ZGEZi_"
      },
      "source": [
        "### **4.4.2 Usando variable objetivo balanceada**"
      ]
    },
    {
      "cell_type": "code",
      "metadata": {
        "id": "tJY_p2OVEayS"
      },
      "source": [
        "import lightgbm as lgb\r\n",
        "\r\n",
        "# Instanciar el modelo\r\n",
        "model_lightgbm_2 = lgb.LGBMClassifier()\r\n",
        "\r\n",
        "# Entrenamiento del modelo\r\n",
        "model_lightgbm_2.fit(X_bal_smt_train, y_bal_smt_train)\r\n",
        "\r\n",
        "# Predicción de la clase\r\n",
        "y_pred_lightgbm_2_train = model_lightgbm_2.predict(X_bal_smt_train)\r\n",
        "y_pred_lightgbm_2_test = model_lightgbm_2.predict(X_bal_smt_test)\r\n",
        "\r\n",
        "# Predicción de la probabilidad\r\n",
        "y_pred_proba_lightgbm_2_train = model_lightgbm_2.predict_proba(X_bal_smt_train)[:,1]\r\n",
        "y_pred_proba_lightgbm_2_test = model_lightgbm_2.predict_proba(X_bal_smt_test)[:,1]"
      ],
      "execution_count": 234,
      "outputs": []
    },
    {
      "cell_type": "code",
      "metadata": {
        "colab": {
          "base_uri": "https://localhost:8080/"
        },
        "id": "tM6exXzyE5Vb",
        "outputId": "136ac65b-9df6-444c-ab16-170c1c466d60"
      },
      "source": [
        "from sklearn.metrics import accuracy_score\r\n",
        "\r\n",
        "# Métrica Accuracy / AUC en Hold-Out\r\n",
        "print('Accuracy Train: ', model_lightgbm_2.score(X_bal_smt_train, y_bal_smt_train))\r\n",
        "print('Accuracy Test: ', accuracy_score(y_bal_smt_test, y_pred_lightgbm_2_test))\r\n",
        "print('AUC Train: ', roc_auc_score(y_bal_smt_train, y_pred_lightgbm_2_train))\r\n",
        "print('AUC Test: ', roc_auc_score(y_bal_smt_test, y_pred_lightgbm_2_test))"
      ],
      "execution_count": 235,
      "outputs": [
        {
          "output_type": "stream",
          "text": [
            "Accuracy Train:  0.8536265266766659\n",
            "Accuracy Test:  0.8144418255838869\n",
            "AUC Train:  0.853626526676666\n",
            "AUC Test:  0.8144418255838869\n"
          ],
          "name": "stdout"
        }
      ]
    },
    {
      "cell_type": "code",
      "metadata": {
        "colab": {
          "base_uri": "https://localhost:8080/"
        },
        "id": "4sXbh10LFNFM",
        "outputId": "fdcb9d6e-64b5-4c49-e3f1-961b6d70dc5c"
      },
      "source": [
        "from sklearn.model_selection import cross_val_score\r\n",
        "import warnings\r\n",
        "warnings.filterwarnings('ignore')\r\n",
        "\r\n",
        "# Métrica Accuracy / AUC en Cross Validation K-Folds\r\n",
        "n_knnfolds = 5\r\n",
        "print('Accuracy Prom.: ', np.mean(cross_val_score(model_lightgbm_2, X_bal_smt_train, y_bal_smt_train, scoring='accuracy', cv=n_knnfolds)))\r\n",
        "print('AUC Prom.: ', np.mean(cross_val_score(model_lightgbm_2, X_bal_smt_train, y_bal_smt_train, scoring='roc_auc', cv=n_knnfolds)))"
      ],
      "execution_count": 236,
      "outputs": [
        {
          "output_type": "stream",
          "text": [
            "Accuracy Prom.:  0.8175002397623279\n",
            "AUC Prom.:  0.9007268827123529\n"
          ],
          "name": "stdout"
        }
      ]
    },
    {
      "cell_type": "code",
      "metadata": {
        "colab": {
          "base_uri": "https://localhost:8080/"
        },
        "id": "Ie3E2-1NFVHv",
        "outputId": "d9f47b13-eec6-4864-8e42-d9a1b5cd614f"
      },
      "source": [
        "from sklearn.model_selection import GridSearchCV\r\n",
        "from scipy.stats import randint as sp_randint\r\n",
        "from scipy.stats import uniform as sp_uniform\r\n",
        "\r\n",
        "# Especificando parametros\r\n",
        "hiperparametros = {\r\n",
        "                'learning_rate': np.logspace(-4, 4, 8),\r\n",
        "                'max_depth': np.array([25, 50 ,100, 500, 1000]),\r\n",
        "                'num_leaves': np.array([8, 16, 32, 64, 128]),\r\n",
        "                'feature_fraction': np.array([0.2, 0.4, 0.6, 0.8])\r\n",
        "                #'subsample': np.array([0.2, 0.4, 0.6, 0.8])\r\n",
        "                  }\r\n",
        "\r\n",
        "print('Los valores a probar en la búsqueda por grilla son:')\r\n",
        "pprint(hiperparametros)\r\n",
        "\r\n",
        "print()\r\n",
        "print('Si se probara todas las combinaciones se requeriría entrenar', \r\n",
        "      len(hiperparametros['learning_rate']) *\r\n",
        "      len(hiperparametros['max_depth']) *\r\n",
        "      len(hiperparametros['num_leaves']) *\r\n",
        "      len(hiperparametros['feature_fraction']),\r\n",
        "      'modelos'\r\n",
        "      )"
      ],
      "execution_count": 237,
      "outputs": [
        {
          "output_type": "stream",
          "text": [
            "Los valores a probar en la búsqueda por grilla son:\n",
            "{'feature_fraction': array([0.2, 0.4, 0.6, 0.8]),\n",
            " 'learning_rate': array([1.00000000e-04, 1.38949549e-03, 1.93069773e-02, 2.68269580e-01,\n",
            "       3.72759372e+00, 5.17947468e+01, 7.19685673e+02, 1.00000000e+04]),\n",
            " 'max_depth': array([  25,   50,  100,  500, 1000]),\n",
            " 'num_leaves': array([  8,  16,  32,  64, 128])}\n",
            "\n",
            "Si se probara todas las combinaciones se requeriría entrenar 800 modelos\n"
          ],
          "name": "stdout"
        }
      ]
    },
    {
      "cell_type": "code",
      "metadata": {
        "colab": {
          "base_uri": "https://localhost:8080/"
        },
        "id": "T0S5EnHwFbcy",
        "outputId": "1f3e682a-202f-4f94-e192-31cd2b8299e9"
      },
      "source": [
        "# Instanciar el modelo\r\n",
        "model_lightgbm_grid_3 = GridSearchCV(lgb.LGBMClassifier(), # modelo\r\n",
        "                                   hiperparametros, # hiperparametros\r\n",
        "                                   verbose=2, # mostrar procesamiento de GridSearchCV\r\n",
        "                                   n_jobs=-1, # paralelizar en todos los cores disponibles\r\n",
        "                                   cv=5) # numero de k-folds o grupos para validación cruzada\r\n",
        "\r\n",
        "# Entrenamiento del modelo\r\n",
        "model_lightgbm_grid_3.fit(X_bal_smt_train, y_bal_smt_train)"
      ],
      "execution_count": 238,
      "outputs": [
        {
          "output_type": "stream",
          "text": [
            "Fitting 5 folds for each of 800 candidates, totalling 4000 fits\n"
          ],
          "name": "stdout"
        },
        {
          "output_type": "stream",
          "text": [
            "[Parallel(n_jobs=-1)]: Using backend LokyBackend with 2 concurrent workers.\n",
            "[Parallel(n_jobs=-1)]: Done  37 tasks      | elapsed:   18.5s\n",
            "[Parallel(n_jobs=-1)]: Done 158 tasks      | elapsed:  1.4min\n",
            "[Parallel(n_jobs=-1)]: Done 361 tasks      | elapsed:  3.1min\n",
            "[Parallel(n_jobs=-1)]: Done 644 tasks      | elapsed:  4.8min\n",
            "[Parallel(n_jobs=-1)]: Done 1009 tasks      | elapsed:  6.3min\n",
            "[Parallel(n_jobs=-1)]: Done 1454 tasks      | elapsed: 11.4min\n",
            "[Parallel(n_jobs=-1)]: Done 1981 tasks      | elapsed: 14.0min\n",
            "[Parallel(n_jobs=-1)]: Done 2588 tasks      | elapsed: 21.3min\n",
            "[Parallel(n_jobs=-1)]: Done 3277 tasks      | elapsed: 27.9min\n",
            "[Parallel(n_jobs=-1)]: Done 4000 out of 4000 | elapsed: 33.7min finished\n"
          ],
          "name": "stderr"
        },
        {
          "output_type": "execute_result",
          "data": {
            "text/plain": [
              "GridSearchCV(cv=5, error_score=nan,\n",
              "             estimator=LGBMClassifier(boosting_type='gbdt', class_weight=None,\n",
              "                                      colsample_bytree=1.0,\n",
              "                                      importance_type='split',\n",
              "                                      learning_rate=0.1, max_depth=-1,\n",
              "                                      min_child_samples=20,\n",
              "                                      min_child_weight=0.001,\n",
              "                                      min_split_gain=0.0, n_estimators=100,\n",
              "                                      n_jobs=-1, num_leaves=31, objective=None,\n",
              "                                      random_state=None, reg_alpha=0.0,\n",
              "                                      reg_lambda=0.0, silent=Tru...\n",
              "             param_grid={'feature_fraction': array([0.2, 0.4, 0.6, 0.8]),\n",
              "                         'learning_rate': array([1.00000000e-04, 1.38949549e-03, 1.93069773e-02, 2.68269580e-01,\n",
              "       3.72759372e+00, 5.17947468e+01, 7.19685673e+02, 1.00000000e+04]),\n",
              "                         'max_depth': array([  25,   50,  100,  500, 1000]),\n",
              "                         'num_leaves': array([  8,  16,  32,  64, 128])},\n",
              "             pre_dispatch='2*n_jobs', refit=True, return_train_score=False,\n",
              "             scoring=None, verbose=2)"
            ]
          },
          "metadata": {
            "tags": []
          },
          "execution_count": 238
        }
      ]
    },
    {
      "cell_type": "code",
      "metadata": {
        "colab": {
          "base_uri": "https://localhost:8080/"
        },
        "id": "Xgd6Hy-GFhsA",
        "outputId": "e4b351d0-63bf-41b8-f261-92a4b896943d"
      },
      "source": [
        "model_lightgbm_grid_3_best = model_lightgbm_grid_3.best_estimator_\r\n",
        "print('Mejor modelo: ')\r\n",
        "pprint(model_lightgbm_grid_3_best)\r\n",
        "print()\r\n",
        "\r\n",
        "print('Los hiperparámetros del mejor modelo son:')\r\n",
        "pprint(model_lightgbm_grid_3.best_params_)\r\n",
        "print()\r\n",
        "\r\n",
        "print('Accuracy luego de búsqueda en grilla en entrenamiento:', model_lightgbm_grid_3_best.score(X_bal_smt_train, y_bal_smt_train))\r\n",
        "print('Accuracy luego de búsqueda en grilla en pruebas:', model_lightgbm_grid_3_best.score(X_bal_smt_test, y_bal_smt_test))\r\n",
        "\r\n",
        "y_pred_proba_lighthbm_grid_3_best_train = model_lightgbm_grid_3_best.predict_proba(X_bal_smt_train)[::,1]\r\n",
        "y_pred_proba_lighthbm_grid_3_best_test = model_lightgbm_grid_3_best.predict_proba(X_bal_smt_test)[::,1]\r\n",
        "\r\n",
        "print(f\"AUC luego de búsqueda en grilla en entrenamiento es: {roc_auc_score(y_bal_smt_train, y_pred_proba_lighthbm_grid_3_best_train)}\")\r\n",
        "print(f\"AUC luego de búsqueda en grilla en pruebas es: {roc_auc_score(y_bal_smt_test, y_pred_proba_lighthbm_grid_3_best_test)}\")"
      ],
      "execution_count": 239,
      "outputs": [
        {
          "output_type": "stream",
          "text": [
            "Mejor modelo: \n",
            "LGBMClassifier(boosting_type='gbdt', class_weight=None, colsample_bytree=1.0,\n",
            "               feature_fraction=0.6, importance_type='split',\n",
            "               learning_rate=0.2682695795279725, max_depth=50,\n",
            "               min_child_samples=20, min_child_weight=0.001, min_split_gain=0.0,\n",
            "               n_estimators=100, n_jobs=-1, num_leaves=128, objective=None,\n",
            "               random_state=None, reg_alpha=0.0, reg_lambda=0.0, silent=True,\n",
            "               subsample=1.0, subsample_for_bin=200000, subsample_freq=0)\n",
            "\n",
            "Los hiperparámetros del mejor modelo son:\n",
            "{'feature_fraction': 0.6,\n",
            " 'learning_rate': 0.2682695795279725,\n",
            " 'max_depth': 50,\n",
            " 'num_leaves': 128}\n",
            "\n",
            "Accuracy luego de búsqueda en grilla en entrenamiento: 0.9770998500107135\n",
            "Accuracy luego de búsqueda en grilla en pruebas: 0.8071566316691665\n",
            "AUC luego de búsqueda en grilla en entrenamiento es: 0.9977406684364445\n",
            "AUC luego de búsqueda en grilla en pruebas es: 0.8795075122966745\n"
          ],
          "name": "stdout"
        }
      ]
    },
    {
      "cell_type": "code",
      "metadata": {
        "colab": {
          "base_uri": "https://localhost:8080/"
        },
        "id": "YoUan7v3k6xC",
        "outputId": "57df0fe5-02a9-4ef0-df4b-45ecfdffe70b"
      },
      "source": [
        "fpr_lightgbmgridbest3_train, tpr_lightgbmgridbest3_train, thr_lightgbmgridbest3_train = metrics.roc_curve(y_bal_smt_train, y_pred_proba_lighthbm_grid_3_best_train)\r\n",
        "fpr_lightgbmgridbest3_test, tpr_lightgbmgridbest3_test, thr_lightgbmgridbest3_test = metrics.roc_curve(y_bal_smt_test, y_pred_proba_lighthbm_grid_3_best_test)\r\n",
        "roc_auc_lightgbmgridbest3_train = auc(fpr_lightgbmgridbest3_train, tpr_lightgbmgridbest3_train)\r\n",
        "roc_auc_lightgbmgridbest3_test = auc(fpr_lightgbmgridbest3_test, tpr_lightgbmgridbest3_test)\r\n",
        "\r\n",
        "print('Training AUC =', roc_auc_lightgbmgridbest3_train)\r\n",
        "print('Validation AUC =', roc_auc_lightgbmgridbest3_test)\r\n",
        "\r\n",
        "label_train = 'AUC Entrenamiento:' + ' {0:.6f}'.format(roc_auc_lightgbmgridbest3_train)\r\n",
        "label_test = 'AUC Pruebas:' + ' {0:.6f}'.format(roc_auc_lightgbmgridbest3_test)\r\n",
        "plt.plot(fpr_lightgbmgridbest3_train, tpr_lightgbmgridbest3_train, c = 'r', label = label_train, linewidth = 2)\r\n",
        "plt.plot(fpr_lightgbmgridbest3_test, tpr_lightgbmgridbest3_test, c = 'b', label = label_test, linewidth = 2)\r\n",
        "plt.plot([0,1], [0,1], color='orange', linestyle='--')\r\n",
        "plt.xlabel('False Positive Rate', fontsize = 16)\r\n",
        "plt.ylabel('True Positive Rate', fontsize = 16)\r\n",
        "plt.title('Curva ROC / Area AUC - Regresion Logistica', fontsize = 16)\r\n",
        "plt.legend(loc = 'lower right', fontsize = 10)\r\n",
        "plt.show()"
      ],
      "execution_count": 263,
      "outputs": [
        {
          "output_type": "stream",
          "text": [
            "Training AUC = 0.9977406684364445\n",
            "Validation AUC = 0.8795075122966745\n"
          ],
          "name": "stdout"
        }
      ]
    },
    {
      "cell_type": "markdown",
      "metadata": {
        "id": "4BehOiCSiLqW"
      },
      "source": [
        "###############################################################################\r\n",
        "# **5. EVALUACIÓN**\r\n",
        "###############################################################################"
      ]
    },
    {
      "cell_type": "code",
      "metadata": {
        "id": "27qovDnonr_d"
      },
      "source": [
        "del result_table"
      ],
      "execution_count": 274,
      "outputs": []
    },
    {
      "cell_type": "code",
      "metadata": {
        "id": "75HxZLJfiNzV"
      },
      "source": [
        "result_table = pd.DataFrame(columns=['classifiers', 'fpr','tpr','auc'])"
      ],
      "execution_count": 275,
      "outputs": []
    },
    {
      "cell_type": "code",
      "metadata": {
        "id": "bQl9KwqkiRvW"
      },
      "source": [
        "result_table = result_table.append({'classifiers': model_reglog_grid_3_best.__class__.__name__,\r\n",
        "                                    'fpr': fpr_regloggridbest3_test, \r\n",
        "                                    'tpr': tpr_regloggridbest3_test, \r\n",
        "                                    'auc': roc_auc_regloggridbest3_test}, ignore_index=True)"
      ],
      "execution_count": 276,
      "outputs": []
    },
    {
      "cell_type": "code",
      "metadata": {
        "id": "dAwloNDQjN7c"
      },
      "source": [
        "result_table = result_table.append({'classifiers': model_dt_grid_best.__class__.__name__,\r\n",
        "                                    'fpr': fpr_valid_dtbest, \r\n",
        "                                    'tpr': tpr_valid_dtbest, \r\n",
        "                                    'auc': roc_auc_valid_dtbest}, ignore_index=True)"
      ],
      "execution_count": 277,
      "outputs": []
    },
    {
      "cell_type": "code",
      "metadata": {
        "id": "_ISaDi-gju2I"
      },
      "source": [
        "result_table = result_table.append({'classifiers': model_grid_forest_best.__class__.__name__,\r\n",
        "                                    'fpr': fpr_valid_rfbest, \r\n",
        "                                    'tpr': tpr_valid_rfbest, \r\n",
        "                                    'auc': roc_auc_valid_rfbest}, ignore_index=True)"
      ],
      "execution_count": 278,
      "outputs": []
    },
    {
      "cell_type": "code",
      "metadata": {
        "id": "3VYsO3MFkvyj"
      },
      "source": [
        "result_table = result_table.append({'classifiers': model_lightgbm_grid_3_best.__class__.__name__,\r\n",
        "                                    'fpr': fpr_lightgbmgridbest3_test, \r\n",
        "                                    'tpr': tpr_lightgbmgridbest3_test, \r\n",
        "                                    'auc': roc_auc_lightgbmgridbest3_test}, ignore_index=True)"
      ],
      "execution_count": 279,
      "outputs": []
    },
    {
      "cell_type": "code",
      "metadata": {
        "colab": {
          "base_uri": "https://localhost:8080/",
          "height": 166
        },
        "id": "f6pTxfxvi-px",
        "outputId": "d27b5a1e-ce86-4ec4-e677-953216255bae"
      },
      "source": [
        "result_table"
      ],
      "execution_count": 280,
      "outputs": [
        {
          "output_type": "execute_result",
          "data": {
            "text/html": [
              "<div>\n",
              "<style scoped>\n",
              "    .dataframe tbody tr th:only-of-type {\n",
              "        vertical-align: middle;\n",
              "    }\n",
              "\n",
              "    .dataframe tbody tr th {\n",
              "        vertical-align: top;\n",
              "    }\n",
              "\n",
              "    .dataframe thead th {\n",
              "        text-align: right;\n",
              "    }\n",
              "</style>\n",
              "<table border=\"1\" class=\"dataframe\">\n",
              "  <thead>\n",
              "    <tr style=\"text-align: right;\">\n",
              "      <th></th>\n",
              "      <th>classifiers</th>\n",
              "      <th>fpr</th>\n",
              "      <th>tpr</th>\n",
              "      <th>auc</th>\n",
              "    </tr>\n",
              "  </thead>\n",
              "  <tbody>\n",
              "    <tr>\n",
              "      <th>0</th>\n",
              "      <td>LogisticRegression</td>\n",
              "      <td>[0.0, 0.00021427040925648167, 0.00021427040925...</td>\n",
              "      <td>[0.0, 0.0, 0.00021427040925648167, 0.000214270...</td>\n",
              "      <td>0.659918</td>\n",
              "    </tr>\n",
              "    <tr>\n",
              "      <th>1</th>\n",
              "      <td>DecisionTreeClassifier</td>\n",
              "      <td>[0.0, 0.020998500107135203, 0.0231412041997000...</td>\n",
              "      <td>[0.0, 0.04456824512534819, 0.15384615384615385...</td>\n",
              "      <td>0.808388</td>\n",
              "    </tr>\n",
              "    <tr>\n",
              "      <th>2</th>\n",
              "      <td>RandomForestClassifier</td>\n",
              "      <td>[0.0, 0.0, 0.0, 0.0, 0.0, 0.0, 0.0, 0.0, 0.0, ...</td>\n",
              "      <td>[0.0, 0.00021427040925648167, 0.00128562245553...</td>\n",
              "      <td>0.856733</td>\n",
              "    </tr>\n",
              "    <tr>\n",
              "      <th>3</th>\n",
              "      <td>LGBMClassifier</td>\n",
              "      <td>[0.0, 0.0, 0.0, 0.0, 0.0, 0.0, 0.0, 0.0, 0.0, ...</td>\n",
              "      <td>[0.0, 0.00021427040925648167, 0.01328476537390...</td>\n",
              "      <td>0.879508</td>\n",
              "    </tr>\n",
              "  </tbody>\n",
              "</table>\n",
              "</div>"
            ],
            "text/plain": [
              "              classifiers  ...       auc\n",
              "0      LogisticRegression  ...  0.659918\n",
              "1  DecisionTreeClassifier  ...  0.808388\n",
              "2  RandomForestClassifier  ...  0.856733\n",
              "3          LGBMClassifier  ...  0.879508\n",
              "\n",
              "[4 rows x 4 columns]"
            ]
          },
          "metadata": {
            "tags": []
          },
          "execution_count": 280
        }
      ]
    },
    {
      "cell_type": "code",
      "metadata": {
        "colab": {
          "base_uri": "https://localhost:8080/",
          "height": 195
        },
        "id": "ghx9UIXzofuJ",
        "outputId": "37ba20ba-fc3a-4cb1-a9bb-6379f95bc6ca"
      },
      "source": [
        "result_table.set_index('classifiers', inplace=True)\r\n",
        "result_table"
      ],
      "execution_count": 281,
      "outputs": [
        {
          "output_type": "execute_result",
          "data": {
            "text/html": [
              "<div>\n",
              "<style scoped>\n",
              "    .dataframe tbody tr th:only-of-type {\n",
              "        vertical-align: middle;\n",
              "    }\n",
              "\n",
              "    .dataframe tbody tr th {\n",
              "        vertical-align: top;\n",
              "    }\n",
              "\n",
              "    .dataframe thead th {\n",
              "        text-align: right;\n",
              "    }\n",
              "</style>\n",
              "<table border=\"1\" class=\"dataframe\">\n",
              "  <thead>\n",
              "    <tr style=\"text-align: right;\">\n",
              "      <th></th>\n",
              "      <th>fpr</th>\n",
              "      <th>tpr</th>\n",
              "      <th>auc</th>\n",
              "    </tr>\n",
              "    <tr>\n",
              "      <th>classifiers</th>\n",
              "      <th></th>\n",
              "      <th></th>\n",
              "      <th></th>\n",
              "    </tr>\n",
              "  </thead>\n",
              "  <tbody>\n",
              "    <tr>\n",
              "      <th>LogisticRegression</th>\n",
              "      <td>[0.0, 0.00021427040925648167, 0.00021427040925...</td>\n",
              "      <td>[0.0, 0.0, 0.00021427040925648167, 0.000214270...</td>\n",
              "      <td>0.659918</td>\n",
              "    </tr>\n",
              "    <tr>\n",
              "      <th>DecisionTreeClassifier</th>\n",
              "      <td>[0.0, 0.020998500107135203, 0.0231412041997000...</td>\n",
              "      <td>[0.0, 0.04456824512534819, 0.15384615384615385...</td>\n",
              "      <td>0.808388</td>\n",
              "    </tr>\n",
              "    <tr>\n",
              "      <th>RandomForestClassifier</th>\n",
              "      <td>[0.0, 0.0, 0.0, 0.0, 0.0, 0.0, 0.0, 0.0, 0.0, ...</td>\n",
              "      <td>[0.0, 0.00021427040925648167, 0.00128562245553...</td>\n",
              "      <td>0.856733</td>\n",
              "    </tr>\n",
              "    <tr>\n",
              "      <th>LGBMClassifier</th>\n",
              "      <td>[0.0, 0.0, 0.0, 0.0, 0.0, 0.0, 0.0, 0.0, 0.0, ...</td>\n",
              "      <td>[0.0, 0.00021427040925648167, 0.01328476537390...</td>\n",
              "      <td>0.879508</td>\n",
              "    </tr>\n",
              "  </tbody>\n",
              "</table>\n",
              "</div>"
            ],
            "text/plain": [
              "                                                                      fpr  ...       auc\n",
              "classifiers                                                                ...          \n",
              "LogisticRegression      [0.0, 0.00021427040925648167, 0.00021427040925...  ...  0.659918\n",
              "DecisionTreeClassifier  [0.0, 0.020998500107135203, 0.0231412041997000...  ...  0.808388\n",
              "RandomForestClassifier  [0.0, 0.0, 0.0, 0.0, 0.0, 0.0, 0.0, 0.0, 0.0, ...  ...  0.856733\n",
              "LGBMClassifier          [0.0, 0.0, 0.0, 0.0, 0.0, 0.0, 0.0, 0.0, 0.0, ...  ...  0.879508\n",
              "\n",
              "[4 rows x 3 columns]"
            ]
          },
          "metadata": {
            "tags": []
          },
          "execution_count": 281
        }
      ]
    },
    {
      "cell_type": "code",
      "metadata": {
        "id": "B2KpnAxco2Yu"
      },
      "source": [
        "fig = plt.figure(figsize=(10,12))\r\n",
        "\r\n",
        "for i in result_table.index:\r\n",
        "    plt.plot(result_table.loc[i]['fpr'], \r\n",
        "             result_table.loc[i]['tpr'], \r\n",
        "             label=\"{}, AUC={:.3f}\".format(i, result_table.loc[i]['auc']))\r\n",
        "    \r\n",
        "plt.plot([0,1], [0,1], color='orange', linestyle='--')\r\n",
        "\r\n",
        "plt.xticks(np.arange(0.0, 1.1, step=0.1))\r\n",
        "plt.xlabel(\"Flase Positive Rate\", fontsize=15)\r\n",
        "\r\n",
        "plt.yticks(np.arange(0.0, 1.1, step=0.1))\r\n",
        "plt.ylabel(\"True Positive Rate\", fontsize=15)\r\n",
        "\r\n",
        "plt.title('ROC Curve Analysis', fontweight='bold', fontsize=15)\r\n",
        "plt.legend(prop={'size':13}, loc='lower right')\r\n",
        "\r\n",
        "plt.show()"
      ],
      "execution_count": 1,
      "outputs": []
    }
  ]
}